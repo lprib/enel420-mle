{
 "cells": [
  {
   "cell_type": "code",
   "execution_count": 44,
   "id": "71144f65-cb37-47f9-962e-feb77e39c259",
   "metadata": {},
   "outputs": [],
   "source": [
    "import numpy as np\n",
    "import plotly.express as px\n",
    "import plotly.graph_objects as go\n",
    "from scipy import stats, optimize"
   ]
  },
  {
   "cell_type": "code",
   "execution_count": 45,
   "id": "0b058568-1433-4554-8cb7-5571c5afdd99",
   "metadata": {},
   "outputs": [],
   "source": [
    "objects = [\n",
    "    {\"x\": -12, \"y\": 12, \"r\": 4, \"spin\": 20}\n",
    "]\n",
    "\n",
    "radar_x = 3\n",
    "radar_y = 4"
   ]
  },
  {
   "cell_type": "code",
   "execution_count": 46,
   "id": "526754f1-8f33-4da8-935a-8df571d955ed",
   "metadata": {},
   "outputs": [
    {
     "data": {
      "application/vnd.plotly.v1+json": {
       "config": {
        "plotlyServerURL": "https://plot.ly"
       },
       "data": [
        {
         "hovertemplate": "x=%{x}<br>y=%{y}<br>size=%{marker.size}<extra></extra>",
         "legendgroup": "",
         "marker": {
          "color": "#636efa",
          "size": [
           4
          ],
          "sizemode": "area",
          "sizeref": 0.01,
          "symbol": "circle"
         },
         "mode": "markers",
         "name": "",
         "orientation": "v",
         "showlegend": false,
         "type": "scatter",
         "x": [
          -12
         ],
         "xaxis": "x",
         "y": [
          12
         ],
         "yaxis": "y"
        },
        {
         "mode": "markers",
         "name": "base station",
         "type": "scatter",
         "x": [
          3
         ],
         "y": [
          4
         ]
        }
       ],
       "layout": {
        "autosize": true,
        "legend": {
         "itemsizing": "constant",
         "tracegroupgap": 0
        },
        "margin": {
         "t": 60
        },
        "template": {
         "data": {
          "bar": [
           {
            "error_x": {
             "color": "#2a3f5f"
            },
            "error_y": {
             "color": "#2a3f5f"
            },
            "marker": {
             "line": {
              "color": "#E5ECF6",
              "width": 0.5
             },
             "pattern": {
              "fillmode": "overlay",
              "size": 10,
              "solidity": 0.2
             }
            },
            "type": "bar"
           }
          ],
          "barpolar": [
           {
            "marker": {
             "line": {
              "color": "#E5ECF6",
              "width": 0.5
             },
             "pattern": {
              "fillmode": "overlay",
              "size": 10,
              "solidity": 0.2
             }
            },
            "type": "barpolar"
           }
          ],
          "carpet": [
           {
            "aaxis": {
             "endlinecolor": "#2a3f5f",
             "gridcolor": "white",
             "linecolor": "white",
             "minorgridcolor": "white",
             "startlinecolor": "#2a3f5f"
            },
            "baxis": {
             "endlinecolor": "#2a3f5f",
             "gridcolor": "white",
             "linecolor": "white",
             "minorgridcolor": "white",
             "startlinecolor": "#2a3f5f"
            },
            "type": "carpet"
           }
          ],
          "choropleth": [
           {
            "colorbar": {
             "outlinewidth": 0,
             "ticks": ""
            },
            "type": "choropleth"
           }
          ],
          "contour": [
           {
            "colorbar": {
             "outlinewidth": 0,
             "ticks": ""
            },
            "colorscale": [
             [
              0,
              "#0d0887"
             ],
             [
              0.1111111111111111,
              "#46039f"
             ],
             [
              0.2222222222222222,
              "#7201a8"
             ],
             [
              0.3333333333333333,
              "#9c179e"
             ],
             [
              0.4444444444444444,
              "#bd3786"
             ],
             [
              0.5555555555555556,
              "#d8576b"
             ],
             [
              0.6666666666666666,
              "#ed7953"
             ],
             [
              0.7777777777777778,
              "#fb9f3a"
             ],
             [
              0.8888888888888888,
              "#fdca26"
             ],
             [
              1,
              "#f0f921"
             ]
            ],
            "type": "contour"
           }
          ],
          "contourcarpet": [
           {
            "colorbar": {
             "outlinewidth": 0,
             "ticks": ""
            },
            "type": "contourcarpet"
           }
          ],
          "heatmap": [
           {
            "colorbar": {
             "outlinewidth": 0,
             "ticks": ""
            },
            "colorscale": [
             [
              0,
              "#0d0887"
             ],
             [
              0.1111111111111111,
              "#46039f"
             ],
             [
              0.2222222222222222,
              "#7201a8"
             ],
             [
              0.3333333333333333,
              "#9c179e"
             ],
             [
              0.4444444444444444,
              "#bd3786"
             ],
             [
              0.5555555555555556,
              "#d8576b"
             ],
             [
              0.6666666666666666,
              "#ed7953"
             ],
             [
              0.7777777777777778,
              "#fb9f3a"
             ],
             [
              0.8888888888888888,
              "#fdca26"
             ],
             [
              1,
              "#f0f921"
             ]
            ],
            "type": "heatmap"
           }
          ],
          "heatmapgl": [
           {
            "colorbar": {
             "outlinewidth": 0,
             "ticks": ""
            },
            "colorscale": [
             [
              0,
              "#0d0887"
             ],
             [
              0.1111111111111111,
              "#46039f"
             ],
             [
              0.2222222222222222,
              "#7201a8"
             ],
             [
              0.3333333333333333,
              "#9c179e"
             ],
             [
              0.4444444444444444,
              "#bd3786"
             ],
             [
              0.5555555555555556,
              "#d8576b"
             ],
             [
              0.6666666666666666,
              "#ed7953"
             ],
             [
              0.7777777777777778,
              "#fb9f3a"
             ],
             [
              0.8888888888888888,
              "#fdca26"
             ],
             [
              1,
              "#f0f921"
             ]
            ],
            "type": "heatmapgl"
           }
          ],
          "histogram": [
           {
            "marker": {
             "pattern": {
              "fillmode": "overlay",
              "size": 10,
              "solidity": 0.2
             }
            },
            "type": "histogram"
           }
          ],
          "histogram2d": [
           {
            "colorbar": {
             "outlinewidth": 0,
             "ticks": ""
            },
            "colorscale": [
             [
              0,
              "#0d0887"
             ],
             [
              0.1111111111111111,
              "#46039f"
             ],
             [
              0.2222222222222222,
              "#7201a8"
             ],
             [
              0.3333333333333333,
              "#9c179e"
             ],
             [
              0.4444444444444444,
              "#bd3786"
             ],
             [
              0.5555555555555556,
              "#d8576b"
             ],
             [
              0.6666666666666666,
              "#ed7953"
             ],
             [
              0.7777777777777778,
              "#fb9f3a"
             ],
             [
              0.8888888888888888,
              "#fdca26"
             ],
             [
              1,
              "#f0f921"
             ]
            ],
            "type": "histogram2d"
           }
          ],
          "histogram2dcontour": [
           {
            "colorbar": {
             "outlinewidth": 0,
             "ticks": ""
            },
            "colorscale": [
             [
              0,
              "#0d0887"
             ],
             [
              0.1111111111111111,
              "#46039f"
             ],
             [
              0.2222222222222222,
              "#7201a8"
             ],
             [
              0.3333333333333333,
              "#9c179e"
             ],
             [
              0.4444444444444444,
              "#bd3786"
             ],
             [
              0.5555555555555556,
              "#d8576b"
             ],
             [
              0.6666666666666666,
              "#ed7953"
             ],
             [
              0.7777777777777778,
              "#fb9f3a"
             ],
             [
              0.8888888888888888,
              "#fdca26"
             ],
             [
              1,
              "#f0f921"
             ]
            ],
            "type": "histogram2dcontour"
           }
          ],
          "mesh3d": [
           {
            "colorbar": {
             "outlinewidth": 0,
             "ticks": ""
            },
            "type": "mesh3d"
           }
          ],
          "parcoords": [
           {
            "line": {
             "colorbar": {
              "outlinewidth": 0,
              "ticks": ""
             }
            },
            "type": "parcoords"
           }
          ],
          "pie": [
           {
            "automargin": true,
            "type": "pie"
           }
          ],
          "scatter": [
           {
            "marker": {
             "colorbar": {
              "outlinewidth": 0,
              "ticks": ""
             }
            },
            "type": "scatter"
           }
          ],
          "scatter3d": [
           {
            "line": {
             "colorbar": {
              "outlinewidth": 0,
              "ticks": ""
             }
            },
            "marker": {
             "colorbar": {
              "outlinewidth": 0,
              "ticks": ""
             }
            },
            "type": "scatter3d"
           }
          ],
          "scattercarpet": [
           {
            "marker": {
             "colorbar": {
              "outlinewidth": 0,
              "ticks": ""
             }
            },
            "type": "scattercarpet"
           }
          ],
          "scattergeo": [
           {
            "marker": {
             "colorbar": {
              "outlinewidth": 0,
              "ticks": ""
             }
            },
            "type": "scattergeo"
           }
          ],
          "scattergl": [
           {
            "marker": {
             "colorbar": {
              "outlinewidth": 0,
              "ticks": ""
             }
            },
            "type": "scattergl"
           }
          ],
          "scattermapbox": [
           {
            "marker": {
             "colorbar": {
              "outlinewidth": 0,
              "ticks": ""
             }
            },
            "type": "scattermapbox"
           }
          ],
          "scatterpolar": [
           {
            "marker": {
             "colorbar": {
              "outlinewidth": 0,
              "ticks": ""
             }
            },
            "type": "scatterpolar"
           }
          ],
          "scatterpolargl": [
           {
            "marker": {
             "colorbar": {
              "outlinewidth": 0,
              "ticks": ""
             }
            },
            "type": "scatterpolargl"
           }
          ],
          "scatterternary": [
           {
            "marker": {
             "colorbar": {
              "outlinewidth": 0,
              "ticks": ""
             }
            },
            "type": "scatterternary"
           }
          ],
          "surface": [
           {
            "colorbar": {
             "outlinewidth": 0,
             "ticks": ""
            },
            "colorscale": [
             [
              0,
              "#0d0887"
             ],
             [
              0.1111111111111111,
              "#46039f"
             ],
             [
              0.2222222222222222,
              "#7201a8"
             ],
             [
              0.3333333333333333,
              "#9c179e"
             ],
             [
              0.4444444444444444,
              "#bd3786"
             ],
             [
              0.5555555555555556,
              "#d8576b"
             ],
             [
              0.6666666666666666,
              "#ed7953"
             ],
             [
              0.7777777777777778,
              "#fb9f3a"
             ],
             [
              0.8888888888888888,
              "#fdca26"
             ],
             [
              1,
              "#f0f921"
             ]
            ],
            "type": "surface"
           }
          ],
          "table": [
           {
            "cells": {
             "fill": {
              "color": "#EBF0F8"
             },
             "line": {
              "color": "white"
             }
            },
            "header": {
             "fill": {
              "color": "#C8D4E3"
             },
             "line": {
              "color": "white"
             }
            },
            "type": "table"
           }
          ]
         },
         "layout": {
          "annotationdefaults": {
           "arrowcolor": "#2a3f5f",
           "arrowhead": 0,
           "arrowwidth": 1
          },
          "autotypenumbers": "strict",
          "coloraxis": {
           "colorbar": {
            "outlinewidth": 0,
            "ticks": ""
           }
          },
          "colorscale": {
           "diverging": [
            [
             0,
             "#8e0152"
            ],
            [
             0.1,
             "#c51b7d"
            ],
            [
             0.2,
             "#de77ae"
            ],
            [
             0.3,
             "#f1b6da"
            ],
            [
             0.4,
             "#fde0ef"
            ],
            [
             0.5,
             "#f7f7f7"
            ],
            [
             0.6,
             "#e6f5d0"
            ],
            [
             0.7,
             "#b8e186"
            ],
            [
             0.8,
             "#7fbc41"
            ],
            [
             0.9,
             "#4d9221"
            ],
            [
             1,
             "#276419"
            ]
           ],
           "sequential": [
            [
             0,
             "#0d0887"
            ],
            [
             0.1111111111111111,
             "#46039f"
            ],
            [
             0.2222222222222222,
             "#7201a8"
            ],
            [
             0.3333333333333333,
             "#9c179e"
            ],
            [
             0.4444444444444444,
             "#bd3786"
            ],
            [
             0.5555555555555556,
             "#d8576b"
            ],
            [
             0.6666666666666666,
             "#ed7953"
            ],
            [
             0.7777777777777778,
             "#fb9f3a"
            ],
            [
             0.8888888888888888,
             "#fdca26"
            ],
            [
             1,
             "#f0f921"
            ]
           ],
           "sequentialminus": [
            [
             0,
             "#0d0887"
            ],
            [
             0.1111111111111111,
             "#46039f"
            ],
            [
             0.2222222222222222,
             "#7201a8"
            ],
            [
             0.3333333333333333,
             "#9c179e"
            ],
            [
             0.4444444444444444,
             "#bd3786"
            ],
            [
             0.5555555555555556,
             "#d8576b"
            ],
            [
             0.6666666666666666,
             "#ed7953"
            ],
            [
             0.7777777777777778,
             "#fb9f3a"
            ],
            [
             0.8888888888888888,
             "#fdca26"
            ],
            [
             1,
             "#f0f921"
            ]
           ]
          },
          "colorway": [
           "#636efa",
           "#EF553B",
           "#00cc96",
           "#ab63fa",
           "#FFA15A",
           "#19d3f3",
           "#FF6692",
           "#B6E880",
           "#FF97FF",
           "#FECB52"
          ],
          "font": {
           "color": "#2a3f5f"
          },
          "geo": {
           "bgcolor": "white",
           "lakecolor": "white",
           "landcolor": "#E5ECF6",
           "showlakes": true,
           "showland": true,
           "subunitcolor": "white"
          },
          "hoverlabel": {
           "align": "left"
          },
          "hovermode": "closest",
          "mapbox": {
           "style": "light"
          },
          "paper_bgcolor": "white",
          "plot_bgcolor": "#E5ECF6",
          "polar": {
           "angularaxis": {
            "gridcolor": "white",
            "linecolor": "white",
            "ticks": ""
           },
           "bgcolor": "#E5ECF6",
           "radialaxis": {
            "gridcolor": "white",
            "linecolor": "white",
            "ticks": ""
           }
          },
          "scene": {
           "xaxis": {
            "backgroundcolor": "#E5ECF6",
            "gridcolor": "white",
            "gridwidth": 2,
            "linecolor": "white",
            "showbackground": true,
            "ticks": "",
            "zerolinecolor": "white"
           },
           "yaxis": {
            "backgroundcolor": "#E5ECF6",
            "gridcolor": "white",
            "gridwidth": 2,
            "linecolor": "white",
            "showbackground": true,
            "ticks": "",
            "zerolinecolor": "white"
           },
           "zaxis": {
            "backgroundcolor": "#E5ECF6",
            "gridcolor": "white",
            "gridwidth": 2,
            "linecolor": "white",
            "showbackground": true,
            "ticks": "",
            "zerolinecolor": "white"
           }
          },
          "shapedefaults": {
           "line": {
            "color": "#2a3f5f"
           }
          },
          "ternary": {
           "aaxis": {
            "gridcolor": "white",
            "linecolor": "white",
            "ticks": ""
           },
           "baxis": {
            "gridcolor": "white",
            "linecolor": "white",
            "ticks": ""
           },
           "bgcolor": "#E5ECF6",
           "caxis": {
            "gridcolor": "white",
            "linecolor": "white",
            "ticks": ""
           }
          },
          "title": {
           "x": 0.05
          },
          "xaxis": {
           "automargin": true,
           "gridcolor": "white",
           "linecolor": "white",
           "ticks": "",
           "title": {
            "standoff": 15
           },
           "zerolinecolor": "white",
           "zerolinewidth": 2
          },
          "yaxis": {
           "automargin": true,
           "gridcolor": "white",
           "linecolor": "white",
           "ticks": "",
           "title": {
            "standoff": 15
           },
           "zerolinecolor": "white",
           "zerolinewidth": 2
          }
         }
        },
        "xaxis": {
         "anchor": "y",
         "autorange": true,
         "domain": [
          0,
          1
         ],
         "range": [
          -12.983357712577961,
          3.87627473545045
         ],
         "title": {
          "text": "x"
         },
         "type": "linear"
        },
        "yaxis": {
         "anchor": "x",
         "autorange": true,
         "domain": [
          0,
          1
         ],
         "range": [
          3.338708147993528,
          13.202044245717179
         ],
         "title": {
          "text": "y"
         },
         "type": "linear"
        }
       }
      },
      "image/png": "[encoded data removed]",
      "text/html": [
       "<div>                            <div id=\"3dd05158-ccb6-4510-b847-b7a085230207\" class=\"plotly-graph-div\" style=\"height:525px; width:100%;\"></div>            <script type=\"text/javascript\">                require([\"plotly\"], function(Plotly) {                    window.PLOTLYENV=window.PLOTLYENV || {};                                    if (document.getElementById(\"3dd05158-ccb6-4510-b847-b7a085230207\")) {                    Plotly.newPlot(                        \"3dd05158-ccb6-4510-b847-b7a085230207\",                        [{\"hovertemplate\":\"x=%{x}<br>y=%{y}<br>size=%{marker.size}<extra></extra>\",\"legendgroup\":\"\",\"marker\":{\"color\":\"#636efa\",\"size\":[4],\"sizemode\":\"area\",\"sizeref\":0.01,\"symbol\":\"circle\"},\"mode\":\"markers\",\"name\":\"\",\"orientation\":\"v\",\"showlegend\":false,\"type\":\"scatter\",\"x\":[-12],\"xaxis\":\"x\",\"y\":[12],\"yaxis\":\"y\"},{\"mode\":\"markers\",\"name\":\"base station\",\"type\":\"scatter\",\"x\":[3],\"y\":[4]}],                        {\"legend\":{\"itemsizing\":\"constant\",\"tracegroupgap\":0},\"margin\":{\"t\":60},\"template\":{\"data\":{\"bar\":[{\"error_x\":{\"color\":\"#2a3f5f\"},\"error_y\":{\"color\":\"#2a3f5f\"},\"marker\":{\"line\":{\"color\":\"#E5ECF6\",\"width\":0.5},\"pattern\":{\"fillmode\":\"overlay\",\"size\":10,\"solidity\":0.2}},\"type\":\"bar\"}],\"barpolar\":[{\"marker\":{\"line\":{\"color\":\"#E5ECF6\",\"width\":0.5},\"pattern\":{\"fillmode\":\"overlay\",\"size\":10,\"solidity\":0.2}},\"type\":\"barpolar\"}],\"carpet\":[{\"aaxis\":{\"endlinecolor\":\"#2a3f5f\",\"gridcolor\":\"white\",\"linecolor\":\"white\",\"minorgridcolor\":\"white\",\"startlinecolor\":\"#2a3f5f\"},\"baxis\":{\"endlinecolor\":\"#2a3f5f\",\"gridcolor\":\"white\",\"linecolor\":\"white\",\"minorgridcolor\":\"white\",\"startlinecolor\":\"#2a3f5f\"},\"type\":\"carpet\"}],\"choropleth\":[{\"colorbar\":{\"outlinewidth\":0,\"ticks\":\"\"},\"type\":\"choropleth\"}],\"contour\":[{\"colorbar\":{\"outlinewidth\":0,\"ticks\":\"\"},\"colorscale\":[[0.0,\"#0d0887\"],[0.1111111111111111,\"#46039f\"],[0.2222222222222222,\"#7201a8\"],[0.3333333333333333,\"#9c179e\"],[0.4444444444444444,\"#bd3786\"],[0.5555555555555556,\"#d8576b\"],[0.6666666666666666,\"#ed7953\"],[0.7777777777777778,\"#fb9f3a\"],[0.8888888888888888,\"#fdca26\"],[1.0,\"#f0f921\"]],\"type\":\"contour\"}],\"contourcarpet\":[{\"colorbar\":{\"outlinewidth\":0,\"ticks\":\"\"},\"type\":\"contourcarpet\"}],\"heatmap\":[{\"colorbar\":{\"outlinewidth\":0,\"ticks\":\"\"},\"colorscale\":[[0.0,\"#0d0887\"],[0.1111111111111111,\"#46039f\"],[0.2222222222222222,\"#7201a8\"],[0.3333333333333333,\"#9c179e\"],[0.4444444444444444,\"#bd3786\"],[0.5555555555555556,\"#d8576b\"],[0.6666666666666666,\"#ed7953\"],[0.7777777777777778,\"#fb9f3a\"],[0.8888888888888888,\"#fdca26\"],[1.0,\"#f0f921\"]],\"type\":\"heatmap\"}],\"heatmapgl\":[{\"colorbar\":{\"outlinewidth\":0,\"ticks\":\"\"},\"colorscale\":[[0.0,\"#0d0887\"],[0.1111111111111111,\"#46039f\"],[0.2222222222222222,\"#7201a8\"],[0.3333333333333333,\"#9c179e\"],[0.4444444444444444,\"#bd3786\"],[0.5555555555555556,\"#d8576b\"],[0.6666666666666666,\"#ed7953\"],[0.7777777777777778,\"#fb9f3a\"],[0.8888888888888888,\"#fdca26\"],[1.0,\"#f0f921\"]],\"type\":\"heatmapgl\"}],\"histogram\":[{\"marker\":{\"pattern\":{\"fillmode\":\"overlay\",\"size\":10,\"solidity\":0.2}},\"type\":\"histogram\"}],\"histogram2d\":[{\"colorbar\":{\"outlinewidth\":0,\"ticks\":\"\"},\"colorscale\":[[0.0,\"#0d0887\"],[0.1111111111111111,\"#46039f\"],[0.2222222222222222,\"#7201a8\"],[0.3333333333333333,\"#9c179e\"],[0.4444444444444444,\"#bd3786\"],[0.5555555555555556,\"#d8576b\"],[0.6666666666666666,\"#ed7953\"],[0.7777777777777778,\"#fb9f3a\"],[0.8888888888888888,\"#fdca26\"],[1.0,\"#f0f921\"]],\"type\":\"histogram2d\"}],\"histogram2dcontour\":[{\"colorbar\":{\"outlinewidth\":0,\"ticks\":\"\"},\"colorscale\":[[0.0,\"#0d0887\"],[0.1111111111111111,\"#46039f\"],[0.2222222222222222,\"#7201a8\"],[0.3333333333333333,\"#9c179e\"],[0.4444444444444444,\"#bd3786\"],[0.5555555555555556,\"#d8576b\"],[0.6666666666666666,\"#ed7953\"],[0.7777777777777778,\"#fb9f3a\"],[0.8888888888888888,\"#fdca26\"],[1.0,\"#f0f921\"]],\"type\":\"histogram2dcontour\"}],\"mesh3d\":[{\"colorbar\":{\"outlinewidth\":0,\"ticks\":\"\"},\"type\":\"mesh3d\"}],\"parcoords\":[{\"line\":{\"colorbar\":{\"outlinewidth\":0,\"ticks\":\"\"}},\"type\":\"parcoords\"}],\"pie\":[{\"automargin\":true,\"type\":\"pie\"}],\"scatter\":[{\"marker\":{\"colorbar\":{\"outlinewidth\":0,\"ticks\":\"\"}},\"type\":\"scatter\"}],\"scatter3d\":[{\"line\":{\"colorbar\":{\"outlinewidth\":0,\"ticks\":\"\"}},\"marker\":{\"colorbar\":{\"outlinewidth\":0,\"ticks\":\"\"}},\"type\":\"scatter3d\"}],\"scattercarpet\":[{\"marker\":{\"colorbar\":{\"outlinewidth\":0,\"ticks\":\"\"}},\"type\":\"scattercarpet\"}],\"scattergeo\":[{\"marker\":{\"colorbar\":{\"outlinewidth\":0,\"ticks\":\"\"}},\"type\":\"scattergeo\"}],\"scattergl\":[{\"marker\":{\"colorbar\":{\"outlinewidth\":0,\"ticks\":\"\"}},\"type\":\"scattergl\"}],\"scattermapbox\":[{\"marker\":{\"colorbar\":{\"outlinewidth\":0,\"ticks\":\"\"}},\"type\":\"scattermapbox\"}],\"scatterpolar\":[{\"marker\":{\"colorbar\":{\"outlinewidth\":0,\"ticks\":\"\"}},\"type\":\"scatterpolar\"}],\"scatterpolargl\":[{\"marker\":{\"colorbar\":{\"outlinewidth\":0,\"ticks\":\"\"}},\"type\":\"scatterpolargl\"}],\"scatterternary\":[{\"marker\":{\"colorbar\":{\"outlinewidth\":0,\"ticks\":\"\"}},\"type\":\"scatterternary\"}],\"surface\":[{\"colorbar\":{\"outlinewidth\":0,\"ticks\":\"\"},\"colorscale\":[[0.0,\"#0d0887\"],[0.1111111111111111,\"#46039f\"],[0.2222222222222222,\"#7201a8\"],[0.3333333333333333,\"#9c179e\"],[0.4444444444444444,\"#bd3786\"],[0.5555555555555556,\"#d8576b\"],[0.6666666666666666,\"#ed7953\"],[0.7777777777777778,\"#fb9f3a\"],[0.8888888888888888,\"#fdca26\"],[1.0,\"#f0f921\"]],\"type\":\"surface\"}],\"table\":[{\"cells\":{\"fill\":{\"color\":\"#EBF0F8\"},\"line\":{\"color\":\"white\"}},\"header\":{\"fill\":{\"color\":\"#C8D4E3\"},\"line\":{\"color\":\"white\"}},\"type\":\"table\"}]},\"layout\":{\"annotationdefaults\":{\"arrowcolor\":\"#2a3f5f\",\"arrowhead\":0,\"arrowwidth\":1},\"autotypenumbers\":\"strict\",\"coloraxis\":{\"colorbar\":{\"outlinewidth\":0,\"ticks\":\"\"}},\"colorscale\":{\"diverging\":[[0,\"#8e0152\"],[0.1,\"#c51b7d\"],[0.2,\"#de77ae\"],[0.3,\"#f1b6da\"],[0.4,\"#fde0ef\"],[0.5,\"#f7f7f7\"],[0.6,\"#e6f5d0\"],[0.7,\"#b8e186\"],[0.8,\"#7fbc41\"],[0.9,\"#4d9221\"],[1,\"#276419\"]],\"sequential\":[[0.0,\"#0d0887\"],[0.1111111111111111,\"#46039f\"],[0.2222222222222222,\"#7201a8\"],[0.3333333333333333,\"#9c179e\"],[0.4444444444444444,\"#bd3786\"],[0.5555555555555556,\"#d8576b\"],[0.6666666666666666,\"#ed7953\"],[0.7777777777777778,\"#fb9f3a\"],[0.8888888888888888,\"#fdca26\"],[1.0,\"#f0f921\"]],\"sequentialminus\":[[0.0,\"#0d0887\"],[0.1111111111111111,\"#46039f\"],[0.2222222222222222,\"#7201a8\"],[0.3333333333333333,\"#9c179e\"],[0.4444444444444444,\"#bd3786\"],[0.5555555555555556,\"#d8576b\"],[0.6666666666666666,\"#ed7953\"],[0.7777777777777778,\"#fb9f3a\"],[0.8888888888888888,\"#fdca26\"],[1.0,\"#f0f921\"]]},\"colorway\":[\"#636efa\",\"#EF553B\",\"#00cc96\",\"#ab63fa\",\"#FFA15A\",\"#19d3f3\",\"#FF6692\",\"#B6E880\",\"#FF97FF\",\"#FECB52\"],\"font\":{\"color\":\"#2a3f5f\"},\"geo\":{\"bgcolor\":\"white\",\"lakecolor\":\"white\",\"landcolor\":\"#E5ECF6\",\"showlakes\":true,\"showland\":true,\"subunitcolor\":\"white\"},\"hoverlabel\":{\"align\":\"left\"},\"hovermode\":\"closest\",\"mapbox\":{\"style\":\"light\"},\"paper_bgcolor\":\"white\",\"plot_bgcolor\":\"#E5ECF6\",\"polar\":{\"angularaxis\":{\"gridcolor\":\"white\",\"linecolor\":\"white\",\"ticks\":\"\"},\"bgcolor\":\"#E5ECF6\",\"radialaxis\":{\"gridcolor\":\"white\",\"linecolor\":\"white\",\"ticks\":\"\"}},\"scene\":{\"xaxis\":{\"backgroundcolor\":\"#E5ECF6\",\"gridcolor\":\"white\",\"gridwidth\":2,\"linecolor\":\"white\",\"showbackground\":true,\"ticks\":\"\",\"zerolinecolor\":\"white\"},\"yaxis\":{\"backgroundcolor\":\"#E5ECF6\",\"gridcolor\":\"white\",\"gridwidth\":2,\"linecolor\":\"white\",\"showbackground\":true,\"ticks\":\"\",\"zerolinecolor\":\"white\"},\"zaxis\":{\"backgroundcolor\":\"#E5ECF6\",\"gridcolor\":\"white\",\"gridwidth\":2,\"linecolor\":\"white\",\"showbackground\":true,\"ticks\":\"\",\"zerolinecolor\":\"white\"}},\"shapedefaults\":{\"line\":{\"color\":\"#2a3f5f\"}},\"ternary\":{\"aaxis\":{\"gridcolor\":\"white\",\"linecolor\":\"white\",\"ticks\":\"\"},\"baxis\":{\"gridcolor\":\"white\",\"linecolor\":\"white\",\"ticks\":\"\"},\"bgcolor\":\"#E5ECF6\",\"caxis\":{\"gridcolor\":\"white\",\"linecolor\":\"white\",\"ticks\":\"\"}},\"title\":{\"x\":0.05},\"xaxis\":{\"automargin\":true,\"gridcolor\":\"white\",\"linecolor\":\"white\",\"ticks\":\"\",\"title\":{\"standoff\":15},\"zerolinecolor\":\"white\",\"zerolinewidth\":2},\"yaxis\":{\"automargin\":true,\"gridcolor\":\"white\",\"linecolor\":\"white\",\"ticks\":\"\",\"title\":{\"standoff\":15},\"zerolinecolor\":\"white\",\"zerolinewidth\":2}}},\"xaxis\":{\"anchor\":\"y\",\"domain\":[0.0,1.0],\"title\":{\"text\":\"x\"}},\"yaxis\":{\"anchor\":\"x\",\"domain\":[0.0,1.0],\"title\":{\"text\":\"y\"}}},                        {\"responsive\": true}                    ).then(function(){\n",
       "                            \n",
       "var gd = document.getElementById('3dd05158-ccb6-4510-b847-b7a085230207');\n",
       "var x = new MutationObserver(function (mutations, observer) {{\n",
       "        var display = window.getComputedStyle(gd).display;\n",
       "        if (!display || display === 'none') {{\n",
       "            console.log([gd, 'removed!']);\n",
       "            Plotly.purge(gd);\n",
       "            observer.disconnect();\n",
       "        }}\n",
       "}});\n",
       "\n",
       "// Listen for the removal of the full notebook cells\n",
       "var notebookContainer = gd.closest('#notebook-container');\n",
       "if (notebookContainer) {{\n",
       "    x.observe(notebookContainer, {childList: true});\n",
       "}}\n",
       "\n",
       "// Listen for the clearing of the current output cell\n",
       "var outputEl = gd.closest('.output');\n",
       "if (outputEl) {{\n",
       "    x.observe(outputEl, {childList: true});\n",
       "}}\n",
       "\n",
       "                        })                };                });            </script>        </div>"
      ]
     },
     "metadata": {},
     "output_type": "display_data"
    }
   ],
   "source": [
    "fig = px.scatter(\n",
    "    x = [o[\"x\"] for o in objects],\n",
    "    y = [o[\"y\"] for o in objects],\n",
    "    size = [o[\"r\"] for o in objects],\n",
    ")\n",
    "fig.add_scatter(x=[radar_x], y=[radar_y], mode=\"markers\", name=\"base station\")\n",
    "fig.show()"
   ]
  },
  {
   "cell_type": "code",
   "execution_count": 47,
   "id": "7646e0b9-3745-4cf7-a865-bc8ff4008c21",
   "metadata": {},
   "outputs": [
    {
     "name": "stderr",
     "output_type": "stream",
     "text": [
      "/home/dippie/.local/lib/python3.6/site-packages/ipykernel_launcher.py:21: RuntimeWarning:\n",
      "\n",
      "invalid value encountered in sqrt\n",
      "\n"
     ]
    }
   ],
   "source": [
    "num_angles = 2000\n",
    "point_xs = []\n",
    "point_ys = []\n",
    "point_vs = []\n",
    "point_angles = []\n",
    "\n",
    "for angle in np.linspace(0, 2*np.pi, num_angles):\n",
    "    Dx = np.cos(angle)\n",
    "    Dy = np.sin(angle)\n",
    "    hit = None\n",
    "    min_t = float(\"inf\")\n",
    "    for obj in objects:\n",
    "        # Look ray from radar to object\n",
    "        Lx = obj[\"x\"] - radar_x\n",
    "        Ly = obj[\"y\"] - radar_y\n",
    "        tca = Dx*Lx + Dy*Ly\n",
    "        if tca < 0:\n",
    "            continue\n",
    "        try:\n",
    "            d = np.sqrt(Lx*Lx+Ly*Ly - tca*tca)\n",
    "            thc = np.sqrt(obj[\"r\"]*obj[\"r\"] - d*d)\n",
    "        except:\n",
    "            # imaginary root\n",
    "            continue\n",
    "        \n",
    "        # ray hit distance\n",
    "        t = min(tca+thc, tca-thc)\n",
    "        \n",
    "        # if hit distance is the smallest so far (ie. forward object shadows rear object)\n",
    "        if t < min_t:\n",
    "            # hit pos\n",
    "            hx = radar_x + Dx * t\n",
    "            hy = radar_y + Dy * t\n",
    "            \n",
    "            # Calculate velocity in the direction of the radar (TODO maybe wrong)\n",
    "            hit_angle = np.arctan2(hx - obj[\"x\"], hy-obj[\"y\"])\n",
    "            incident_angle = np.arctan2(radar_x - obj[\"x\"], radar_y - obj[\"y\"])\n",
    "            # Find difference between incident angle and hit angle (without wrapping artifacts)\n",
    "            # functionally same as d_angle = hit_angle - incident_angle\n",
    "            d_angle = np.arctan2(\n",
    "                np.sin(hit_angle - incident_angle), \n",
    "                np.cos(hit_angle - incident_angle)\n",
    "            )\n",
    "            velo = obj[\"spin\"] * np.sin(d_angle)\n",
    "            \n",
    "            # add noise to hit pos\n",
    "            hx_noise = hx + np.random.normal(scale=0.2)\n",
    "            hy_noise = hy + np.random.normal(scale=0.2)\n",
    "            # store hit\n",
    "            hit = (hx_noise, hy_noise, velo, angle)\n",
    "            # store min hit distance at this angle\n",
    "            min_t = t\n",
    "    if hit is not None:\n",
    "        point_xs.append(hit[0])\n",
    "        point_ys.append(hit[1])\n",
    "        point_vs.append(hit[2])\n",
    "        point_angles.append(hit[3])\n",
    "\n",
    "# x pos\n",
    "point_xs = np.array(point_xs)\n",
    "# y pos\n",
    "point_ys = np.array(point_ys)\n",
    "# velocity in direction of radar (proportional to doppler shift)\n",
    "point_vs = np.array(point_vs)\n",
    "# angle that the radar is facing when it collected this point\n",
    "point_angles = np.array(point_angles)"
   ]
  },
  {
   "cell_type": "code",
   "execution_count": 48,
   "id": "31e33fb4-b914-4471-8fdd-f7c1c3f00956",
   "metadata": {
    "slideshow": {
     "slide_type": "skip"
    },
    "tags": []
   },
   "outputs": [
    {
     "data": {
      "application/vnd.plotly.v1+json": {
       "config": {
        "plotlyServerURL": "https://plot.ly"
       },
       "data": [
        {
         "hovertemplate": "x=%{x}<br>y=%{y}<extra></extra>",
         "legendgroup": "",
         "line": {
          "color": "#636efa",
          "dash": "solid"
         },
         "marker": {
          "symbol": "circle"
         },
         "mode": "lines",
         "name": "",
         "orientation": "v",
         "showlegend": false,
         "type": "scatter",
         "x": [
          2.4170932972591803,
          2.420236461494888,
          2.423379625730596,
          2.4265227899663033,
          2.429665954202011,
          2.4328091184377185,
          2.4359522826734263,
          2.439095446909134,
          2.4422386111448415,
          2.4453817753805493,
          2.448524939616257,
          2.4516681038519645,
          2.4548112680876724,
          2.4579544323233797,
          2.4610975965590876,
          2.4642407607947954,
          2.4673839250305027,
          2.4705270892662106,
          2.473670253501918,
          2.4768134177376258,
          2.4799565819733336,
          2.483099746209041,
          2.4862429104447488,
          2.489386074680456,
          2.492529238916164,
          2.4956724031518718,
          2.498815567387579,
          2.501958731623287,
          2.505101895858995,
          2.508245060094702,
          2.51138822433041,
          2.5145313885661174,
          2.517674552801825,
          2.520817717037533,
          2.5239608812732404,
          2.527104045508948,
          2.5302472097446556,
          2.5333903739803634,
          2.536533538216071,
          2.5396767024517786,
          2.5428198666874864,
          2.545963030923194,
          2.5491061951589016,
          2.5522493593946094,
          2.5553925236303168,
          2.5585356878660246,
          2.5616788521017324,
          2.56482201633744,
          2.5679651805731476,
          2.571108344808855,
          2.574251509044563,
          2.5773946732802706,
          2.580537837515978,
          2.583681001751686,
          2.5868241659873936,
          2.589967330223101,
          2.593110494458809,
          2.596253658694516,
          2.599396822930224,
          2.602539987165932,
          2.605683151401639,
          2.608826315637347,
          2.6119694798730544,
          2.615112644108762,
          2.61825580834447,
          2.6213989725801774,
          2.624542136815885,
          2.627685301051593,
          2.6308284652873004,
          2.6339716295230082,
          2.6371147937587156,
          2.6402579579944234,
          2.6434011222301312,
          2.6465442864658386,
          2.6496874507015464,
          2.652830614937254,
          2.6559737791729616,
          2.6591169434086694,
          2.662260107644377,
          2.6654032718800846,
          2.6685464361157925,
          2.6716896003515,
          2.6748327645872076,
          2.677975928822915,
          2.681119093058623,
          2.6842622572943307,
          2.687405421530038,
          2.690548585765746,
          2.6936917500014532,
          2.696834914237161,
          2.699978078472869,
          2.7031212427085762,
          2.706264406944284,
          2.7094075711799914,
          2.7125507354156992,
          2.715693899651407,
          2.7188370638871144,
          2.7219802281228223,
          2.72512339235853,
          2.7282665565942374,
          2.7314097208299453,
          2.7345528850656526,
          2.7376960493013605,
          2.7408392135370683,
          2.7439823777727756,
          2.7471255420084835,
          2.750268706244191,
          2.7534118704798987,
          2.7565550347156065,
          2.759698198951314,
          2.7628413631870217,
          2.7659845274227295,
          2.769127691658437,
          2.7722708558941447,
          2.775414020129852,
          2.77855718436556,
          2.7817003486012677,
          2.784843512836975,
          2.787986677072683,
          2.7911298413083903,
          2.794273005544098,
          2.797416169779806,
          2.8005593340155133,
          2.803702498251221,
          2.806845662486929,
          2.8099888267226363,
          2.813131990958344,
          2.8162751551940515,
          2.8194183194297593,
          2.822561483665467,
          2.8257046479011745,
          2.8288478121368823,
          2.8319909763725897,
          2.8351341406082975,
          2.8382773048440053,
          2.8414204690797127,
          2.8445636333154205,
          2.8477067975511283,
          2.8508499617868357,
          2.8539931260225435,
          2.857136290258251,
          2.8602794544939587,
          2.8634226187296665,
          2.866565782965374,
          2.8697089472010817,
          2.872852111436789,
          2.875995275672497,
          2.8791384399082047,
          2.882281604143912,
          2.88542476837962,
          2.8885679326153277
         ],
         "xaxis": "x",
         "y": [
          -18.485892950935654,
          -17.948881969963242,
          -17.494108146655265,
          -17.082704417173396,
          -16.699692394038493,
          -16.3373422531103,
          -15.991016092154887,
          -15.65765651769551,
          -15.335112917415803,
          -15.021798751172454,
          -14.716500103219833,
          -14.418260940202074,
          -14.12631045819007,
          -13.84001500174297,
          -13.558845066446871,
          -13.282351952656906,
          -13.010150814053345,
          -12.741908071611032,
          -12.477331885424407,
          -12.216164817240774,
          -11.958178093897098,
          -11.703167061435597,
          -11.450947538845003,
          -11.201352861216197,
          -10.954231458028891,
          -10.709444851677235,
          -10.466865989533359,
          -10.226377843325396,
          -9.987872224681619,
          -9.75124877693063,
          -9.51641411171648,
          -9.283281065446774,
          -9.051768055554364,
          -8.821798520415383,
          -8.593300429782131,
          -8.366205854976975,
          -8.140450589990076,
          -7.915973816140227,
          -7.69271780418611,
          -7.470627648765793,
          -7.249651030855368,
          -7.029738004601417,
          -6.810840805430858,
          -6.592913676797325,
          -6.375912713301863,
          -6.159795718241783,
          -5.944522073909052,
          -5.730052623183531,
          -5.516349561156757,
          -5.303376335683621,
          -5.091097555897225,
          -4.879478907840374,
          -4.668487076467475,
          -4.458089673359296,
          -4.2482551695671145,
          -4.038952833067963,
          -3.8301526703697784,
          -3.6218253718541478,
          -3.4139422604861345,
          -3.206475243560071,
          -2.999396767180345,
          -2.792679773206741,
          -2.5862976584180393,
          -2.380224235668978,
          -2.1744336968363336,
          -1.9689005773650738,
          -1.7635997222410535,
          -1.5585062532299199,
          -1.3535955372320265,
          -1.1488431556134944,
          -0.944224874382167,
          -0.739716615083136,
          -0.53529442629609,
          -0.3309344556200686,
          -0.1266129220362217,
          0.07769391145789185,
          0.282009765047473,
          0.4863583692358397,
          0.6907634920188634,
          0.8952489662015782,
          1.099838716960548,
          1.3045567897587675,
          1.5094273787216825,
          1.7144748555865408,
          1.919723799343522,
          2.125199026690232,
          2.330925623430903,
          2.5369289769570553,
          2.743234809957316,
          2.9498692155144464,
          3.1568586937595633,
          3.364230190268759,
          3.5720111364027223,
          3.7802294918085106,
          3.988913789325067,
          4.198093182556424,
          4.407797496405841,
          4.6180572808949,
          4.828903868627533,
          5.040369436300939,
          5.252487070712545,
          5.465290839766663,
          5.678815869047712,
          5.893098424598964,
          6.108176002630781,
          6.3240874269791325,
          6.540872955249294,
          6.75857439471232,
          6.977235229177414,
          7.196900758246601,
          7.417618250573193,
          7.63943711300146,
          7.862409077769464,
          8.086588410318583,
          8.31203214068949,
          8.538800322008587,
          8.766956320202908,
          8.99656713985649,
          9.227703792064414,
          9.460441711306473,
          9.694861229804618,
          9.931048119623874,
          10.169094215034368,
          10.409098130503107,
          10.651166093319206,
          10.895412914529203,
          11.14196312791474,
          11.390952334675779,
          11.642528801975464,
          11.896855377536724,
          12.15411180148818,
          12.41449752273912,
          12.678235163467397,
          12.945574826653129,
          13.216799515478073,
          13.492232041801426,
          13.772243963363236,
          14.057267338694484,
          14.347810481895456,
          14.644479538740846,
          14.948008782306845,
          15.259304415294924,
          15.579510142997638,
          15.910109557098576,
          16.253094531048834,
          16.61126111081591,
          16.988776738182448,
          17.392407266192023,
          17.834699619545464,
          18.34530373164345,
          19.06682367528187
         ],
         "yaxis": "y"
        }
       ],
       "layout": {
        "autosize": true,
        "legend": {
         "tracegroupgap": 0
        },
        "margin": {
         "t": 60
        },
        "template": {
         "data": {
          "bar": [
           {
            "error_x": {
             "color": "#2a3f5f"
            },
            "error_y": {
             "color": "#2a3f5f"
            },
            "marker": {
             "line": {
              "color": "#E5ECF6",
              "width": 0.5
             },
             "pattern": {
              "fillmode": "overlay",
              "size": 10,
              "solidity": 0.2
             }
            },
            "type": "bar"
           }
          ],
          "barpolar": [
           {
            "marker": {
             "line": {
              "color": "#E5ECF6",
              "width": 0.5
             },
             "pattern": {
              "fillmode": "overlay",
              "size": 10,
              "solidity": 0.2
             }
            },
            "type": "barpolar"
           }
          ],
          "carpet": [
           {
            "aaxis": {
             "endlinecolor": "#2a3f5f",
             "gridcolor": "white",
             "linecolor": "white",
             "minorgridcolor": "white",
             "startlinecolor": "#2a3f5f"
            },
            "baxis": {
             "endlinecolor": "#2a3f5f",
             "gridcolor": "white",
             "linecolor": "white",
             "minorgridcolor": "white",
             "startlinecolor": "#2a3f5f"
            },
            "type": "carpet"
           }
          ],
          "choropleth": [
           {
            "colorbar": {
             "outlinewidth": 0,
             "ticks": ""
            },
            "type": "choropleth"
           }
          ],
          "contour": [
           {
            "colorbar": {
             "outlinewidth": 0,
             "ticks": ""
            },
            "colorscale": [
             [
              0,
              "#0d0887"
             ],
             [
              0.1111111111111111,
              "#46039f"
             ],
             [
              0.2222222222222222,
              "#7201a8"
             ],
             [
              0.3333333333333333,
              "#9c179e"
             ],
             [
              0.4444444444444444,
              "#bd3786"
             ],
             [
              0.5555555555555556,
              "#d8576b"
             ],
             [
              0.6666666666666666,
              "#ed7953"
             ],
             [
              0.7777777777777778,
              "#fb9f3a"
             ],
             [
              0.8888888888888888,
              "#fdca26"
             ],
             [
              1,
              "#f0f921"
             ]
            ],
            "type": "contour"
           }
          ],
          "contourcarpet": [
           {
            "colorbar": {
             "outlinewidth": 0,
             "ticks": ""
            },
            "type": "contourcarpet"
           }
          ],
          "heatmap": [
           {
            "colorbar": {
             "outlinewidth": 0,
             "ticks": ""
            },
            "colorscale": [
             [
              0,
              "#0d0887"
             ],
             [
              0.1111111111111111,
              "#46039f"
             ],
             [
              0.2222222222222222,
              "#7201a8"
             ],
             [
              0.3333333333333333,
              "#9c179e"
             ],
             [
              0.4444444444444444,
              "#bd3786"
             ],
             [
              0.5555555555555556,
              "#d8576b"
             ],
             [
              0.6666666666666666,
              "#ed7953"
             ],
             [
              0.7777777777777778,
              "#fb9f3a"
             ],
             [
              0.8888888888888888,
              "#fdca26"
             ],
             [
              1,
              "#f0f921"
             ]
            ],
            "type": "heatmap"
           }
          ],
          "heatmapgl": [
           {
            "colorbar": {
             "outlinewidth": 0,
             "ticks": ""
            },
            "colorscale": [
             [
              0,
              "#0d0887"
             ],
             [
              0.1111111111111111,
              "#46039f"
             ],
             [
              0.2222222222222222,
              "#7201a8"
             ],
             [
              0.3333333333333333,
              "#9c179e"
             ],
             [
              0.4444444444444444,
              "#bd3786"
             ],
             [
              0.5555555555555556,
              "#d8576b"
             ],
             [
              0.6666666666666666,
              "#ed7953"
             ],
             [
              0.7777777777777778,
              "#fb9f3a"
             ],
             [
              0.8888888888888888,
              "#fdca26"
             ],
             [
              1,
              "#f0f921"
             ]
            ],
            "type": "heatmapgl"
           }
          ],
          "histogram": [
           {
            "marker": {
             "pattern": {
              "fillmode": "overlay",
              "size": 10,
              "solidity": 0.2
             }
            },
            "type": "histogram"
           }
          ],
          "histogram2d": [
           {
            "colorbar": {
             "outlinewidth": 0,
             "ticks": ""
            },
            "colorscale": [
             [
              0,
              "#0d0887"
             ],
             [
              0.1111111111111111,
              "#46039f"
             ],
             [
              0.2222222222222222,
              "#7201a8"
             ],
             [
              0.3333333333333333,
              "#9c179e"
             ],
             [
              0.4444444444444444,
              "#bd3786"
             ],
             [
              0.5555555555555556,
              "#d8576b"
             ],
             [
              0.6666666666666666,
              "#ed7953"
             ],
             [
              0.7777777777777778,
              "#fb9f3a"
             ],
             [
              0.8888888888888888,
              "#fdca26"
             ],
             [
              1,
              "#f0f921"
             ]
            ],
            "type": "histogram2d"
           }
          ],
          "histogram2dcontour": [
           {
            "colorbar": {
             "outlinewidth": 0,
             "ticks": ""
            },
            "colorscale": [
             [
              0,
              "#0d0887"
             ],
             [
              0.1111111111111111,
              "#46039f"
             ],
             [
              0.2222222222222222,
              "#7201a8"
             ],
             [
              0.3333333333333333,
              "#9c179e"
             ],
             [
              0.4444444444444444,
              "#bd3786"
             ],
             [
              0.5555555555555556,
              "#d8576b"
             ],
             [
              0.6666666666666666,
              "#ed7953"
             ],
             [
              0.7777777777777778,
              "#fb9f3a"
             ],
             [
              0.8888888888888888,
              "#fdca26"
             ],
             [
              1,
              "#f0f921"
             ]
            ],
            "type": "histogram2dcontour"
           }
          ],
          "mesh3d": [
           {
            "colorbar": {
             "outlinewidth": 0,
             "ticks": ""
            },
            "type": "mesh3d"
           }
          ],
          "parcoords": [
           {
            "line": {
             "colorbar": {
              "outlinewidth": 0,
              "ticks": ""
             }
            },
            "type": "parcoords"
           }
          ],
          "pie": [
           {
            "automargin": true,
            "type": "pie"
           }
          ],
          "scatter": [
           {
            "marker": {
             "colorbar": {
              "outlinewidth": 0,
              "ticks": ""
             }
            },
            "type": "scatter"
           }
          ],
          "scatter3d": [
           {
            "line": {
             "colorbar": {
              "outlinewidth": 0,
              "ticks": ""
             }
            },
            "marker": {
             "colorbar": {
              "outlinewidth": 0,
              "ticks": ""
             }
            },
            "type": "scatter3d"
           }
          ],
          "scattercarpet": [
           {
            "marker": {
             "colorbar": {
              "outlinewidth": 0,
              "ticks": ""
             }
            },
            "type": "scattercarpet"
           }
          ],
          "scattergeo": [
           {
            "marker": {
             "colorbar": {
              "outlinewidth": 0,
              "ticks": ""
             }
            },
            "type": "scattergeo"
           }
          ],
          "scattergl": [
           {
            "marker": {
             "colorbar": {
              "outlinewidth": 0,
              "ticks": ""
             }
            },
            "type": "scattergl"
           }
          ],
          "scattermapbox": [
           {
            "marker": {
             "colorbar": {
              "outlinewidth": 0,
              "ticks": ""
             }
            },
            "type": "scattermapbox"
           }
          ],
          "scatterpolar": [
           {
            "marker": {
             "colorbar": {
              "outlinewidth": 0,
              "ticks": ""
             }
            },
            "type": "scatterpolar"
           }
          ],
          "scatterpolargl": [
           {
            "marker": {
             "colorbar": {
              "outlinewidth": 0,
              "ticks": ""
             }
            },
            "type": "scatterpolargl"
           }
          ],
          "scatterternary": [
           {
            "marker": {
             "colorbar": {
              "outlinewidth": 0,
              "ticks": ""
             }
            },
            "type": "scatterternary"
           }
          ],
          "surface": [
           {
            "colorbar": {
             "outlinewidth": 0,
             "ticks": ""
            },
            "colorscale": [
             [
              0,
              "#0d0887"
             ],
             [
              0.1111111111111111,
              "#46039f"
             ],
             [
              0.2222222222222222,
              "#7201a8"
             ],
             [
              0.3333333333333333,
              "#9c179e"
             ],
             [
              0.4444444444444444,
              "#bd3786"
             ],
             [
              0.5555555555555556,
              "#d8576b"
             ],
             [
              0.6666666666666666,
              "#ed7953"
             ],
             [
              0.7777777777777778,
              "#fb9f3a"
             ],
             [
              0.8888888888888888,
              "#fdca26"
             ],
             [
              1,
              "#f0f921"
             ]
            ],
            "type": "surface"
           }
          ],
          "table": [
           {
            "cells": {
             "fill": {
              "color": "#EBF0F8"
             },
             "line": {
              "color": "white"
             }
            },
            "header": {
             "fill": {
              "color": "#C8D4E3"
             },
             "line": {
              "color": "white"
             }
            },
            "type": "table"
           }
          ]
         },
         "layout": {
          "annotationdefaults": {
           "arrowcolor": "#2a3f5f",
           "arrowhead": 0,
           "arrowwidth": 1
          },
          "autotypenumbers": "strict",
          "coloraxis": {
           "colorbar": {
            "outlinewidth": 0,
            "ticks": ""
           }
          },
          "colorscale": {
           "diverging": [
            [
             0,
             "#8e0152"
            ],
            [
             0.1,
             "#c51b7d"
            ],
            [
             0.2,
             "#de77ae"
            ],
            [
             0.3,
             "#f1b6da"
            ],
            [
             0.4,
             "#fde0ef"
            ],
            [
             0.5,
             "#f7f7f7"
            ],
            [
             0.6,
             "#e6f5d0"
            ],
            [
             0.7,
             "#b8e186"
            ],
            [
             0.8,
             "#7fbc41"
            ],
            [
             0.9,
             "#4d9221"
            ],
            [
             1,
             "#276419"
            ]
           ],
           "sequential": [
            [
             0,
             "#0d0887"
            ],
            [
             0.1111111111111111,
             "#46039f"
            ],
            [
             0.2222222222222222,
             "#7201a8"
            ],
            [
             0.3333333333333333,
             "#9c179e"
            ],
            [
             0.4444444444444444,
             "#bd3786"
            ],
            [
             0.5555555555555556,
             "#d8576b"
            ],
            [
             0.6666666666666666,
             "#ed7953"
            ],
            [
             0.7777777777777778,
             "#fb9f3a"
            ],
            [
             0.8888888888888888,
             "#fdca26"
            ],
            [
             1,
             "#f0f921"
            ]
           ],
           "sequentialminus": [
            [
             0,
             "#0d0887"
            ],
            [
             0.1111111111111111,
             "#46039f"
            ],
            [
             0.2222222222222222,
             "#7201a8"
            ],
            [
             0.3333333333333333,
             "#9c179e"
            ],
            [
             0.4444444444444444,
             "#bd3786"
            ],
            [
             0.5555555555555556,
             "#d8576b"
            ],
            [
             0.6666666666666666,
             "#ed7953"
            ],
            [
             0.7777777777777778,
             "#fb9f3a"
            ],
            [
             0.8888888888888888,
             "#fdca26"
            ],
            [
             1,
             "#f0f921"
            ]
           ]
          },
          "colorway": [
           "#636efa",
           "#EF553B",
           "#00cc96",
           "#ab63fa",
           "#FFA15A",
           "#19d3f3",
           "#FF6692",
           "#B6E880",
           "#FF97FF",
           "#FECB52"
          ],
          "font": {
           "color": "#2a3f5f"
          },
          "geo": {
           "bgcolor": "white",
           "lakecolor": "white",
           "landcolor": "#E5ECF6",
           "showlakes": true,
           "showland": true,
           "subunitcolor": "white"
          },
          "hoverlabel": {
           "align": "left"
          },
          "hovermode": "closest",
          "mapbox": {
           "style": "light"
          },
          "paper_bgcolor": "white",
          "plot_bgcolor": "#E5ECF6",
          "polar": {
           "angularaxis": {
            "gridcolor": "white",
            "linecolor": "white",
            "ticks": ""
           },
           "bgcolor": "#E5ECF6",
           "radialaxis": {
            "gridcolor": "white",
            "linecolor": "white",
            "ticks": ""
           }
          },
          "scene": {
           "xaxis": {
            "backgroundcolor": "#E5ECF6",
            "gridcolor": "white",
            "gridwidth": 2,
            "linecolor": "white",
            "showbackground": true,
            "ticks": "",
            "zerolinecolor": "white"
           },
           "yaxis": {
            "backgroundcolor": "#E5ECF6",
            "gridcolor": "white",
            "gridwidth": 2,
            "linecolor": "white",
            "showbackground": true,
            "ticks": "",
            "zerolinecolor": "white"
           },
           "zaxis": {
            "backgroundcolor": "#E5ECF6",
            "gridcolor": "white",
            "gridwidth": 2,
            "linecolor": "white",
            "showbackground": true,
            "ticks": "",
            "zerolinecolor": "white"
           }
          },
          "shapedefaults": {
           "line": {
            "color": "#2a3f5f"
           }
          },
          "ternary": {
           "aaxis": {
            "gridcolor": "white",
            "linecolor": "white",
            "ticks": ""
           },
           "baxis": {
            "gridcolor": "white",
            "linecolor": "white",
            "ticks": ""
           },
           "bgcolor": "#E5ECF6",
           "caxis": {
            "gridcolor": "white",
            "linecolor": "white",
            "ticks": ""
           }
          },
          "title": {
           "x": 0.05
          },
          "xaxis": {
           "automargin": true,
           "gridcolor": "white",
           "linecolor": "white",
           "ticks": "",
           "title": {
            "standoff": 15
           },
           "zerolinecolor": "white",
           "zerolinewidth": 2
          },
          "yaxis": {
           "automargin": true,
           "gridcolor": "white",
           "linecolor": "white",
           "ticks": "",
           "title": {
            "standoff": 15
           },
           "zerolinecolor": "white",
           "zerolinewidth": 2
          }
         }
        },
        "xaxis": {
         "anchor": "y",
         "autorange": false,
         "domain": [
          0,
          1
         ],
         "range": [
          2.4170932972591803,
          2.8931244016243647
         ],
         "title": {
          "text": "x"
         },
         "type": "linear"
        },
        "yaxis": {
         "anchor": "x",
         "autorange": false,
         "domain": [
          0,
          1
         ],
         "range": [
          -20.572154985725515,
          23.988781679689016
         ],
         "title": {
          "text": "y"
         },
         "type": "linear"
        }
       }
      },
      "image/png": "[encoded data removed]",
      "text/html": [
       "<div>                            <div id=\"75dd43ff-b435-487c-bae6-b8eddb56c64b\" class=\"plotly-graph-div\" style=\"height:525px; width:100%;\"></div>            <script type=\"text/javascript\">                require([\"plotly\"], function(Plotly) {                    window.PLOTLYENV=window.PLOTLYENV || {};                                    if (document.getElementById(\"75dd43ff-b435-487c-bae6-b8eddb56c64b\")) {                    Plotly.newPlot(                        \"75dd43ff-b435-487c-bae6-b8eddb56c64b\",                        [{\"hovertemplate\":\"x=%{x}<br>y=%{y}<extra></extra>\",\"legendgroup\":\"\",\"line\":{\"color\":\"#636efa\",\"dash\":\"solid\"},\"marker\":{\"symbol\":\"circle\"},\"mode\":\"lines\",\"name\":\"\",\"orientation\":\"v\",\"showlegend\":false,\"type\":\"scatter\",\"x\":[2.4170932972591803,2.420236461494888,2.423379625730596,2.4265227899663033,2.429665954202011,2.4328091184377185,2.4359522826734263,2.439095446909134,2.4422386111448415,2.4453817753805493,2.448524939616257,2.4516681038519645,2.4548112680876724,2.4579544323233797,2.4610975965590876,2.4642407607947954,2.4673839250305027,2.4705270892662106,2.473670253501918,2.4768134177376258,2.4799565819733336,2.483099746209041,2.4862429104447488,2.489386074680456,2.492529238916164,2.4956724031518718,2.498815567387579,2.501958731623287,2.505101895858995,2.508245060094702,2.51138822433041,2.5145313885661174,2.517674552801825,2.520817717037533,2.5239608812732404,2.527104045508948,2.5302472097446556,2.5333903739803634,2.536533538216071,2.5396767024517786,2.5428198666874864,2.545963030923194,2.5491061951589016,2.5522493593946094,2.5553925236303168,2.5585356878660246,2.5616788521017324,2.56482201633744,2.5679651805731476,2.571108344808855,2.574251509044563,2.5773946732802706,2.580537837515978,2.583681001751686,2.5868241659873936,2.589967330223101,2.593110494458809,2.596253658694516,2.599396822930224,2.602539987165932,2.605683151401639,2.608826315637347,2.6119694798730544,2.615112644108762,2.61825580834447,2.6213989725801774,2.624542136815885,2.627685301051593,2.6308284652873004,2.6339716295230082,2.6371147937587156,2.6402579579944234,2.6434011222301312,2.6465442864658386,2.6496874507015464,2.652830614937254,2.6559737791729616,2.6591169434086694,2.662260107644377,2.6654032718800846,2.6685464361157925,2.6716896003515,2.6748327645872076,2.677975928822915,2.681119093058623,2.6842622572943307,2.687405421530038,2.690548585765746,2.6936917500014532,2.696834914237161,2.699978078472869,2.7031212427085762,2.706264406944284,2.7094075711799914,2.7125507354156992,2.715693899651407,2.7188370638871144,2.7219802281228223,2.72512339235853,2.7282665565942374,2.7314097208299453,2.7345528850656526,2.7376960493013605,2.7408392135370683,2.7439823777727756,2.7471255420084835,2.750268706244191,2.7534118704798987,2.7565550347156065,2.759698198951314,2.7628413631870217,2.7659845274227295,2.769127691658437,2.7722708558941447,2.775414020129852,2.77855718436556,2.7817003486012677,2.784843512836975,2.787986677072683,2.7911298413083903,2.794273005544098,2.797416169779806,2.8005593340155133,2.803702498251221,2.806845662486929,2.8099888267226363,2.813131990958344,2.8162751551940515,2.8194183194297593,2.822561483665467,2.8257046479011745,2.8288478121368823,2.8319909763725897,2.8351341406082975,2.8382773048440053,2.8414204690797127,2.8445636333154205,2.8477067975511283,2.8508499617868357,2.8539931260225435,2.857136290258251,2.8602794544939587,2.8634226187296665,2.866565782965374,2.8697089472010817,2.872852111436789,2.875995275672497,2.8791384399082047,2.882281604143912,2.88542476837962,2.8885679326153277],\"xaxis\":\"x\",\"y\":[-18.485892950935654,-17.948881969963242,-17.494108146655265,-17.082704417173396,-16.699692394038493,-16.3373422531103,-15.991016092154887,-15.65765651769551,-15.335112917415803,-15.021798751172454,-14.716500103219833,-14.418260940202074,-14.12631045819007,-13.84001500174297,-13.558845066446871,-13.282351952656906,-13.010150814053345,-12.741908071611032,-12.477331885424407,-12.216164817240774,-11.958178093897098,-11.703167061435597,-11.450947538845003,-11.201352861216197,-10.954231458028891,-10.709444851677235,-10.466865989533359,-10.226377843325396,-9.987872224681619,-9.75124877693063,-9.51641411171648,-9.283281065446774,-9.051768055554364,-8.821798520415383,-8.593300429782131,-8.366205854976975,-8.140450589990076,-7.915973816140227,-7.69271780418611,-7.470627648765793,-7.249651030855368,-7.029738004601417,-6.810840805430858,-6.592913676797325,-6.375912713301863,-6.159795718241783,-5.944522073909052,-5.730052623183531,-5.516349561156757,-5.303376335683621,-5.091097555897225,-4.879478907840374,-4.668487076467475,-4.458089673359296,-4.2482551695671145,-4.038952833067963,-3.8301526703697784,-3.6218253718541478,-3.4139422604861345,-3.206475243560071,-2.999396767180345,-2.792679773206741,-2.5862976584180393,-2.380224235668978,-2.1744336968363336,-1.9689005773650738,-1.7635997222410535,-1.5585062532299199,-1.3535955372320265,-1.1488431556134944,-0.944224874382167,-0.739716615083136,-0.53529442629609,-0.3309344556200686,-0.1266129220362217,0.07769391145789185,0.282009765047473,0.4863583692358397,0.6907634920188634,0.8952489662015782,1.099838716960548,1.3045567897587675,1.5094273787216825,1.7144748555865408,1.919723799343522,2.125199026690232,2.330925623430903,2.5369289769570553,2.743234809957316,2.9498692155144464,3.1568586937595633,3.364230190268759,3.5720111364027223,3.7802294918085106,3.988913789325067,4.198093182556424,4.407797496405841,4.6180572808949,4.828903868627533,5.040369436300939,5.252487070712545,5.465290839766663,5.678815869047712,5.893098424598964,6.108176002630781,6.3240874269791325,6.540872955249294,6.75857439471232,6.977235229177414,7.196900758246601,7.417618250573193,7.63943711300146,7.862409077769464,8.086588410318583,8.31203214068949,8.538800322008587,8.766956320202908,8.99656713985649,9.227703792064414,9.460441711306473,9.694861229804618,9.931048119623874,10.169094215034368,10.409098130503107,10.651166093319206,10.895412914529203,11.14196312791474,11.390952334675779,11.642528801975464,11.896855377536724,12.15411180148818,12.41449752273912,12.678235163467397,12.945574826653129,13.216799515478073,13.492232041801426,13.772243963363236,14.057267338694484,14.347810481895456,14.644479538740846,14.948008782306845,15.259304415294924,15.579510142997638,15.910109557098576,16.253094531048834,16.61126111081591,16.988776738182448,17.392407266192023,17.834699619545464,18.34530373164345,19.06682367528187],\"yaxis\":\"y\"}],                        {\"legend\":{\"tracegroupgap\":0},\"margin\":{\"t\":60},\"template\":{\"data\":{\"bar\":[{\"error_x\":{\"color\":\"#2a3f5f\"},\"error_y\":{\"color\":\"#2a3f5f\"},\"marker\":{\"line\":{\"color\":\"#E5ECF6\",\"width\":0.5},\"pattern\":{\"fillmode\":\"overlay\",\"size\":10,\"solidity\":0.2}},\"type\":\"bar\"}],\"barpolar\":[{\"marker\":{\"line\":{\"color\":\"#E5ECF6\",\"width\":0.5},\"pattern\":{\"fillmode\":\"overlay\",\"size\":10,\"solidity\":0.2}},\"type\":\"barpolar\"}],\"carpet\":[{\"aaxis\":{\"endlinecolor\":\"#2a3f5f\",\"gridcolor\":\"white\",\"linecolor\":\"white\",\"minorgridcolor\":\"white\",\"startlinecolor\":\"#2a3f5f\"},\"baxis\":{\"endlinecolor\":\"#2a3f5f\",\"gridcolor\":\"white\",\"linecolor\":\"white\",\"minorgridcolor\":\"white\",\"startlinecolor\":\"#2a3f5f\"},\"type\":\"carpet\"}],\"choropleth\":[{\"colorbar\":{\"outlinewidth\":0,\"ticks\":\"\"},\"type\":\"choropleth\"}],\"contour\":[{\"colorbar\":{\"outlinewidth\":0,\"ticks\":\"\"},\"colorscale\":[[0.0,\"#0d0887\"],[0.1111111111111111,\"#46039f\"],[0.2222222222222222,\"#7201a8\"],[0.3333333333333333,\"#9c179e\"],[0.4444444444444444,\"#bd3786\"],[0.5555555555555556,\"#d8576b\"],[0.6666666666666666,\"#ed7953\"],[0.7777777777777778,\"#fb9f3a\"],[0.8888888888888888,\"#fdca26\"],[1.0,\"#f0f921\"]],\"type\":\"contour\"}],\"contourcarpet\":[{\"colorbar\":{\"outlinewidth\":0,\"ticks\":\"\"},\"type\":\"contourcarpet\"}],\"heatmap\":[{\"colorbar\":{\"outlinewidth\":0,\"ticks\":\"\"},\"colorscale\":[[0.0,\"#0d0887\"],[0.1111111111111111,\"#46039f\"],[0.2222222222222222,\"#7201a8\"],[0.3333333333333333,\"#9c179e\"],[0.4444444444444444,\"#bd3786\"],[0.5555555555555556,\"#d8576b\"],[0.6666666666666666,\"#ed7953\"],[0.7777777777777778,\"#fb9f3a\"],[0.8888888888888888,\"#fdca26\"],[1.0,\"#f0f921\"]],\"type\":\"heatmap\"}],\"heatmapgl\":[{\"colorbar\":{\"outlinewidth\":0,\"ticks\":\"\"},\"colorscale\":[[0.0,\"#0d0887\"],[0.1111111111111111,\"#46039f\"],[0.2222222222222222,\"#7201a8\"],[0.3333333333333333,\"#9c179e\"],[0.4444444444444444,\"#bd3786\"],[0.5555555555555556,\"#d8576b\"],[0.6666666666666666,\"#ed7953\"],[0.7777777777777778,\"#fb9f3a\"],[0.8888888888888888,\"#fdca26\"],[1.0,\"#f0f921\"]],\"type\":\"heatmapgl\"}],\"histogram\":[{\"marker\":{\"pattern\":{\"fillmode\":\"overlay\",\"size\":10,\"solidity\":0.2}},\"type\":\"histogram\"}],\"histogram2d\":[{\"colorbar\":{\"outlinewidth\":0,\"ticks\":\"\"},\"colorscale\":[[0.0,\"#0d0887\"],[0.1111111111111111,\"#46039f\"],[0.2222222222222222,\"#7201a8\"],[0.3333333333333333,\"#9c179e\"],[0.4444444444444444,\"#bd3786\"],[0.5555555555555556,\"#d8576b\"],[0.6666666666666666,\"#ed7953\"],[0.7777777777777778,\"#fb9f3a\"],[0.8888888888888888,\"#fdca26\"],[1.0,\"#f0f921\"]],\"type\":\"histogram2d\"}],\"histogram2dcontour\":[{\"colorbar\":{\"outlinewidth\":0,\"ticks\":\"\"},\"colorscale\":[[0.0,\"#0d0887\"],[0.1111111111111111,\"#46039f\"],[0.2222222222222222,\"#7201a8\"],[0.3333333333333333,\"#9c179e\"],[0.4444444444444444,\"#bd3786\"],[0.5555555555555556,\"#d8576b\"],[0.6666666666666666,\"#ed7953\"],[0.7777777777777778,\"#fb9f3a\"],[0.8888888888888888,\"#fdca26\"],[1.0,\"#f0f921\"]],\"type\":\"histogram2dcontour\"}],\"mesh3d\":[{\"colorbar\":{\"outlinewidth\":0,\"ticks\":\"\"},\"type\":\"mesh3d\"}],\"parcoords\":[{\"line\":{\"colorbar\":{\"outlinewidth\":0,\"ticks\":\"\"}},\"type\":\"parcoords\"}],\"pie\":[{\"automargin\":true,\"type\":\"pie\"}],\"scatter\":[{\"marker\":{\"colorbar\":{\"outlinewidth\":0,\"ticks\":\"\"}},\"type\":\"scatter\"}],\"scatter3d\":[{\"line\":{\"colorbar\":{\"outlinewidth\":0,\"ticks\":\"\"}},\"marker\":{\"colorbar\":{\"outlinewidth\":0,\"ticks\":\"\"}},\"type\":\"scatter3d\"}],\"scattercarpet\":[{\"marker\":{\"colorbar\":{\"outlinewidth\":0,\"ticks\":\"\"}},\"type\":\"scattercarpet\"}],\"scattergeo\":[{\"marker\":{\"colorbar\":{\"outlinewidth\":0,\"ticks\":\"\"}},\"type\":\"scattergeo\"}],\"scattergl\":[{\"marker\":{\"colorbar\":{\"outlinewidth\":0,\"ticks\":\"\"}},\"type\":\"scattergl\"}],\"scattermapbox\":[{\"marker\":{\"colorbar\":{\"outlinewidth\":0,\"ticks\":\"\"}},\"type\":\"scattermapbox\"}],\"scatterpolar\":[{\"marker\":{\"colorbar\":{\"outlinewidth\":0,\"ticks\":\"\"}},\"type\":\"scatterpolar\"}],\"scatterpolargl\":[{\"marker\":{\"colorbar\":{\"outlinewidth\":0,\"ticks\":\"\"}},\"type\":\"scatterpolargl\"}],\"scatterternary\":[{\"marker\":{\"colorbar\":{\"outlinewidth\":0,\"ticks\":\"\"}},\"type\":\"scatterternary\"}],\"surface\":[{\"colorbar\":{\"outlinewidth\":0,\"ticks\":\"\"},\"colorscale\":[[0.0,\"#0d0887\"],[0.1111111111111111,\"#46039f\"],[0.2222222222222222,\"#7201a8\"],[0.3333333333333333,\"#9c179e\"],[0.4444444444444444,\"#bd3786\"],[0.5555555555555556,\"#d8576b\"],[0.6666666666666666,\"#ed7953\"],[0.7777777777777778,\"#fb9f3a\"],[0.8888888888888888,\"#fdca26\"],[1.0,\"#f0f921\"]],\"type\":\"surface\"}],\"table\":[{\"cells\":{\"fill\":{\"color\":\"#EBF0F8\"},\"line\":{\"color\":\"white\"}},\"header\":{\"fill\":{\"color\":\"#C8D4E3\"},\"line\":{\"color\":\"white\"}},\"type\":\"table\"}]},\"layout\":{\"annotationdefaults\":{\"arrowcolor\":\"#2a3f5f\",\"arrowhead\":0,\"arrowwidth\":1},\"autotypenumbers\":\"strict\",\"coloraxis\":{\"colorbar\":{\"outlinewidth\":0,\"ticks\":\"\"}},\"colorscale\":{\"diverging\":[[0,\"#8e0152\"],[0.1,\"#c51b7d\"],[0.2,\"#de77ae\"],[0.3,\"#f1b6da\"],[0.4,\"#fde0ef\"],[0.5,\"#f7f7f7\"],[0.6,\"#e6f5d0\"],[0.7,\"#b8e186\"],[0.8,\"#7fbc41\"],[0.9,\"#4d9221\"],[1,\"#276419\"]],\"sequential\":[[0.0,\"#0d0887\"],[0.1111111111111111,\"#46039f\"],[0.2222222222222222,\"#7201a8\"],[0.3333333333333333,\"#9c179e\"],[0.4444444444444444,\"#bd3786\"],[0.5555555555555556,\"#d8576b\"],[0.6666666666666666,\"#ed7953\"],[0.7777777777777778,\"#fb9f3a\"],[0.8888888888888888,\"#fdca26\"],[1.0,\"#f0f921\"]],\"sequentialminus\":[[0.0,\"#0d0887\"],[0.1111111111111111,\"#46039f\"],[0.2222222222222222,\"#7201a8\"],[0.3333333333333333,\"#9c179e\"],[0.4444444444444444,\"#bd3786\"],[0.5555555555555556,\"#d8576b\"],[0.6666666666666666,\"#ed7953\"],[0.7777777777777778,\"#fb9f3a\"],[0.8888888888888888,\"#fdca26\"],[1.0,\"#f0f921\"]]},\"colorway\":[\"#636efa\",\"#EF553B\",\"#00cc96\",\"#ab63fa\",\"#FFA15A\",\"#19d3f3\",\"#FF6692\",\"#B6E880\",\"#FF97FF\",\"#FECB52\"],\"font\":{\"color\":\"#2a3f5f\"},\"geo\":{\"bgcolor\":\"white\",\"lakecolor\":\"white\",\"landcolor\":\"#E5ECF6\",\"showlakes\":true,\"showland\":true,\"subunitcolor\":\"white\"},\"hoverlabel\":{\"align\":\"left\"},\"hovermode\":\"closest\",\"mapbox\":{\"style\":\"light\"},\"paper_bgcolor\":\"white\",\"plot_bgcolor\":\"#E5ECF6\",\"polar\":{\"angularaxis\":{\"gridcolor\":\"white\",\"linecolor\":\"white\",\"ticks\":\"\"},\"bgcolor\":\"#E5ECF6\",\"radialaxis\":{\"gridcolor\":\"white\",\"linecolor\":\"white\",\"ticks\":\"\"}},\"scene\":{\"xaxis\":{\"backgroundcolor\":\"#E5ECF6\",\"gridcolor\":\"white\",\"gridwidth\":2,\"linecolor\":\"white\",\"showbackground\":true,\"ticks\":\"\",\"zerolinecolor\":\"white\"},\"yaxis\":{\"backgroundcolor\":\"#E5ECF6\",\"gridcolor\":\"white\",\"gridwidth\":2,\"linecolor\":\"white\",\"showbackground\":true,\"ticks\":\"\",\"zerolinecolor\":\"white\"},\"zaxis\":{\"backgroundcolor\":\"#E5ECF6\",\"gridcolor\":\"white\",\"gridwidth\":2,\"linecolor\":\"white\",\"showbackground\":true,\"ticks\":\"\",\"zerolinecolor\":\"white\"}},\"shapedefaults\":{\"line\":{\"color\":\"#2a3f5f\"}},\"ternary\":{\"aaxis\":{\"gridcolor\":\"white\",\"linecolor\":\"white\",\"ticks\":\"\"},\"baxis\":{\"gridcolor\":\"white\",\"linecolor\":\"white\",\"ticks\":\"\"},\"bgcolor\":\"#E5ECF6\",\"caxis\":{\"gridcolor\":\"white\",\"linecolor\":\"white\",\"ticks\":\"\"}},\"title\":{\"x\":0.05},\"xaxis\":{\"automargin\":true,\"gridcolor\":\"white\",\"linecolor\":\"white\",\"ticks\":\"\",\"title\":{\"standoff\":15},\"zerolinecolor\":\"white\",\"zerolinewidth\":2},\"yaxis\":{\"automargin\":true,\"gridcolor\":\"white\",\"linecolor\":\"white\",\"ticks\":\"\",\"title\":{\"standoff\":15},\"zerolinecolor\":\"white\",\"zerolinewidth\":2}}},\"xaxis\":{\"anchor\":\"y\",\"domain\":[0.0,1.0],\"title\":{\"text\":\"x\"}},\"yaxis\":{\"anchor\":\"x\",\"domain\":[0.0,1.0],\"title\":{\"text\":\"y\"}}},                        {\"responsive\": true}                    ).then(function(){\n",
       "                            \n",
       "var gd = document.getElementById('75dd43ff-b435-487c-bae6-b8eddb56c64b');\n",
       "var x = new MutationObserver(function (mutations, observer) {{\n",
       "        var display = window.getComputedStyle(gd).display;\n",
       "        if (!display || display === 'none') {{\n",
       "            console.log([gd, 'removed!']);\n",
       "            Plotly.purge(gd);\n",
       "            observer.disconnect();\n",
       "        }}\n",
       "}});\n",
       "\n",
       "// Listen for the removal of the full notebook cells\n",
       "var notebookContainer = gd.closest('#notebook-container');\n",
       "if (notebookContainer) {{\n",
       "    x.observe(notebookContainer, {childList: true});\n",
       "}}\n",
       "\n",
       "// Listen for the clearing of the current output cell\n",
       "var outputEl = gd.closest('.output');\n",
       "if (outputEl) {{\n",
       "    x.observe(outputEl, {childList: true});\n",
       "}}\n",
       "\n",
       "                        })                };                });            </script>        </div>"
      ]
     },
     "metadata": {},
     "output_type": "display_data"
    }
   ],
   "source": [
    "fig = px.line(x=point_angles, y=point_vs)\n",
    "fig.show()"
   ]
  },
  {
   "cell_type": "code",
   "execution_count": 49,
   "id": "39538f54-29f1-42c1-be88-2a89e04aa950",
   "metadata": {},
   "outputs": [
    {
     "data": {
      "application/vnd.plotly.v1+json": {
       "config": {
        "plotlyServerURL": "https://plot.ly"
       },
       "data": [
        {
         "hovertemplate": "x=%{x}<br>y=%{y}<br>color=%{marker.color}<extra></extra>",
         "legendgroup": "",
         "marker": {
          "color": [
           -18.485892950935654,
           -17.948881969963242,
           -17.494108146655265,
           -17.082704417173396,
           -16.699692394038493,
           -16.3373422531103,
           -15.991016092154887,
           -15.65765651769551,
           -15.335112917415803,
           -15.021798751172454,
           -14.716500103219833,
           -14.418260940202074,
           -14.12631045819007,
           -13.84001500174297,
           -13.558845066446871,
           -13.282351952656906,
           -13.010150814053345,
           -12.741908071611032,
           -12.477331885424407,
           -12.216164817240774,
           -11.958178093897098,
           -11.703167061435597,
           -11.450947538845003,
           -11.201352861216197,
           -10.954231458028891,
           -10.709444851677235,
           -10.466865989533359,
           -10.226377843325396,
           -9.987872224681619,
           -9.75124877693063,
           -9.51641411171648,
           -9.283281065446774,
           -9.051768055554364,
           -8.821798520415383,
           -8.593300429782131,
           -8.366205854976975,
           -8.140450589990076,
           -7.915973816140227,
           -7.69271780418611,
           -7.470627648765793,
           -7.249651030855368,
           -7.029738004601417,
           -6.810840805430858,
           -6.592913676797325,
           -6.375912713301863,
           -6.159795718241783,
           -5.944522073909052,
           -5.730052623183531,
           -5.516349561156757,
           -5.303376335683621,
           -5.091097555897225,
           -4.879478907840374,
           -4.668487076467475,
           -4.458089673359296,
           -4.2482551695671145,
           -4.038952833067963,
           -3.8301526703697784,
           -3.6218253718541478,
           -3.4139422604861345,
           -3.206475243560071,
           -2.999396767180345,
           -2.792679773206741,
           -2.5862976584180393,
           -2.380224235668978,
           -2.1744336968363336,
           -1.9689005773650738,
           -1.7635997222410535,
           -1.5585062532299199,
           -1.3535955372320265,
           -1.1488431556134944,
           -0.944224874382167,
           -0.739716615083136,
           -0.53529442629609,
           -0.3309344556200686,
           -0.1266129220362217,
           0.07769391145789185,
           0.282009765047473,
           0.4863583692358397,
           0.6907634920188634,
           0.8952489662015782,
           1.099838716960548,
           1.3045567897587675,
           1.5094273787216825,
           1.7144748555865408,
           1.919723799343522,
           2.125199026690232,
           2.330925623430903,
           2.5369289769570553,
           2.743234809957316,
           2.9498692155144464,
           3.1568586937595633,
           3.364230190268759,
           3.5720111364027223,
           3.7802294918085106,
           3.988913789325067,
           4.198093182556424,
           4.407797496405841,
           4.6180572808949,
           4.828903868627533,
           5.040369436300939,
           5.252487070712545,
           5.465290839766663,
           5.678815869047712,
           5.893098424598964,
           6.108176002630781,
           6.3240874269791325,
           6.540872955249294,
           6.75857439471232,
           6.977235229177414,
           7.196900758246601,
           7.417618250573193,
           7.63943711300146,
           7.862409077769464,
           8.086588410318583,
           8.31203214068949,
           8.538800322008587,
           8.766956320202908,
           8.99656713985649,
           9.227703792064414,
           9.460441711306473,
           9.694861229804618,
           9.931048119623874,
           10.169094215034368,
           10.409098130503107,
           10.651166093319206,
           10.895412914529203,
           11.14196312791474,
           11.390952334675779,
           11.642528801975464,
           11.896855377536724,
           12.15411180148818,
           12.41449752273912,
           12.678235163467397,
           12.945574826653129,
           13.216799515478073,
           13.492232041801426,
           13.772243963363236,
           14.057267338694484,
           14.347810481895456,
           14.644479538740846,
           14.948008782306845,
           15.259304415294924,
           15.579510142997638,
           15.910109557098576,
           16.253094531048834,
           16.61126111081591,
           16.988776738182448,
           17.392407266192023,
           17.834699619545464,
           18.34530373164345,
           19.06682367528187
          ],
          "coloraxis": "coloraxis",
          "symbol": "circle"
         },
         "mode": "markers",
         "name": "",
         "orientation": "v",
         "showlegend": false,
         "type": "scatter",
         "x": [
          -8.672545344809174,
          -8.59938412515558,
          -8.546636031993309,
          -8.352408962879828,
          -8.759265249047244,
          -8.005300836248681,
          -8.103668306907533,
          -8.35976478833963,
          -8.125868446672506,
          -7.9762100084212,
          -8.193255529273987,
          -8.739020569211736,
          -8.09014973976345,
          -8.26800830095537,
          -8.34551185757951,
          -8.243385380667277,
          -8.004090442171842,
          -8.318773958141568,
          -8.046976322954256,
          -8.152233267422588,
          -7.849362766905476,
          -7.899321783452018,
          -8.450028770507412,
          -7.897491397709344,
          -8.091818890571275,
          -8.135120277995966,
          -7.932205414958964,
          -8.158205866278262,
          -7.974612529300854,
          -8.283074554497803,
          -7.986343376288986,
          -7.454868989048293,
          -8.082499410666776,
          -8.17102404670637,
          -8.122212916484441,
          -7.685762306951251,
          -8.214222703289987,
          -7.99832038697695,
          -8.0974812761468,
          -7.582475075291023,
          -7.887336178514457,
          -7.816835776149144,
          -8.409785241341453,
          -8.077787804872884,
          -8.292597893114541,
          -7.797549676843999,
          -8.140667581991433,
          -8.359850162746937,
          -7.63512364549334,
          -8.406019898490488,
          -8.000352021643554,
          -8.026544315335117,
          -8.110787233342611,
          -8.116684453797127,
          -7.991690498503375,
          -8.017302912680563,
          -8.365664170999196,
          -8.351015937147684,
          -8.440294530925549,
          -8.117043784090727,
          -8.357241609895294,
          -8.655252663906916,
          -8.251905683285909,
          -8.480499243451307,
          -8.52685242160077,
          -8.338614212269553,
          -8.142686909972138,
          -8.367445465384254,
          -8.150986296365053,
          -8.315092551377141,
          -8.45276976268715,
          -8.37893822349337,
          -8.364580805167744,
          -8.385895132702176,
          -8.655850283507197,
          -8.296473568544435,
          -8.46553093386261,
          -8.667360577669948,
          -8.536152502812577,
          -8.451846578463698,
          -8.619718898124555,
          -8.667948728322774,
          -8.33012826372085,
          -8.803256766144541,
          -8.730688012975197,
          -8.613730776410364,
          -8.783861740603637,
          -8.68628256896255,
          -8.442496286309275,
          -8.904211374125952,
          -8.867731195732365,
          -8.907214379547847,
          -9.18665800641629,
          -8.85395610794837,
          -9.164366208415853,
          -8.476684653700207,
          -8.939555776161436,
          -9.25359663060484,
          -9.043004569272712,
          -8.973653866432342,
          -8.91799609055028,
          -8.999991575188213,
          -8.8041760499607,
          -9.370335308348919,
          -9.34908678314556,
          -9.76069766002539,
          -8.8347283098149,
          -9.575488810478832,
          -9.836652948643723,
          -9.16341101093888,
          -9.673069733039524,
          -8.932817157393625,
          -9.719052206238505,
          -9.363872297705985,
          -9.619580023541742,
          -9.46681376702993,
          -9.539204978588085,
          -9.605086069890085,
          -9.631913748664818,
          -9.88511238343871,
          -9.915807543805347,
          -10.028259561616128,
          -10.013122390770953,
          -10.013233935022342,
          -10.033390610387883,
          -10.273953764539144,
          -10.257657981029489,
          -9.780020449530511,
          -10.095324647578947,
          -10.201281563841881,
          -10.45171394700883,
          -10.387574593941034,
          -10.434735472146627,
          -10.663096107523634,
          -10.185975491792576,
          -10.742529084405783,
          -10.674692499611183,
          -11.107226719580064,
          -11.010864142949263,
          -11.018634917509845,
          -10.933284532918487,
          -10.968095336635612,
          -11.257638277974419,
          -11.326405336354949,
          -11.723745930284634,
          -11.987372965705395,
          -11.57191554625674,
          -11.866068974982415,
          -12.208788206250803,
          -12.564796720349326,
          -12.857005703915137
         ],
         "xaxis": "x",
         "y": [
          14.462307645459463,
          13.832017518680363,
          14.116295351773159,
          13.593566380477883,
          13.887666488346582,
          13.657014145295916,
          13.492402374229892,
          13.505004451974097,
          13.502266774807,
          13.790031633792871,
          13.625638424909472,
          13.192410217595885,
          13.354227873910645,
          12.998525202532386,
          13.071791810936434,
          12.923803825806385,
          12.974179744493062,
          12.894987673570258,
          12.475668254884742,
          12.644653171928338,
          12.145180038267315,
          12.464384562677226,
          12.492001383063768,
          12.40648676714316,
          12.456703924382907,
          12.30320994929726,
          12.26788301955319,
          12.509938264340654,
          12.131335641557818,
          12.115087192090803,
          11.885330155152712,
          11.94457087150837,
          12.176658054585019,
          11.916650992585735,
          11.810292086975098,
          11.414393262713558,
          11.660566851665958,
          11.679374212120951,
          11.519275342508985,
          11.722505612482367,
          11.854833792369448,
          11.298046005870539,
          11.304522215460487,
          11.04731707208192,
          11.170833341732287,
          11.45908803245687,
          11.277859221976142,
          11.002257324122471,
          11.476841326823754,
          10.900936496332537,
          10.866555266149385,
          10.882357806835783,
          11.093293879689398,
          10.816312139787229,
          10.861780640157331,
          10.675564948398206,
          10.852230876775419,
          10.955172685665739,
          10.820880799699612,
          10.813428051244257,
          10.462969522866965,
          10.95053834803786,
          10.88983340465184,
          10.15461408326212,
          10.239608886420424,
          10.365217546305235,
          10.417126505025431,
          10.565155375006718,
          10.28511710203804,
          10.375304839254994,
          10.38233998351453,
          10.395572939583436,
          10.138994961196437,
          10.419289833974084,
          10.171213025516682,
          10.557977312441295,
          10.147889108321229,
          10.00120197356912,
          9.604195936009862,
          9.98069508955077,
          9.900289665926628,
          9.825832532105228,
          9.983770250680205,
          9.698982609682316,
          9.868148689318598,
          9.838446250297205,
          9.570610213795554,
          9.387582961052992,
          9.481027364455734,
          9.514443498414144,
          9.353533691899827,
          9.657839058808458,
          9.649518422059117,
          9.682075147517278,
          9.23061563380288,
          8.891856637057211,
          9.250897747161257,
          9.108971842393172,
          9.750800350546939,
          9.173295548224992,
          9.188872270375306,
          9.498720147990392,
          9.514152395128347,
          9.264786776564584,
          9.14533911585619,
          9.511960310067995,
          8.808888232404122,
          9.078176802429828,
          9.255803684198089,
          8.771607610941302,
          9.003268221701749,
          9.19385348973895,
          8.618093769781975,
          8.74937356402895,
          8.649435142370237,
          9.143345941934948,
          8.890346197860891,
          8.542453629922933,
          8.632090681887467,
          8.663059238059802,
          8.548644299030096,
          8.97944002540392,
          8.809446221454175,
          8.748901705801167,
          8.5633589068832,
          8.638983140957352,
          7.946978620868954,
          8.428798879375769,
          8.451124607041105,
          8.255815745127336,
          8.427970287934938,
          8.315214453451759,
          8.372192417075027,
          8.4893817489858,
          8.512927186802933,
          8.118387879618373,
          8.334068591650155,
          8.266622257799053,
          8.008304650612585,
          7.89811353071297,
          8.079440056966513,
          8.27671938040557,
          7.733694622794701,
          7.830437585190913,
          7.857557164609003,
          8.384258065431256,
          8.212859515642005,
          8.160753383803884,
          8.278654310925194,
          7.855747734209837,
          8.434222627850636
         ],
         "yaxis": "y"
        },
        {
         "mode": "markers",
         "name": "base station",
         "type": "scatter",
         "x": [
          3
         ],
         "y": [
          4
         ]
        }
       ],
       "layout": {
        "autosize": true,
        "coloraxis": {
         "colorbar": {
          "title": {
           "text": "color"
          }
         },
         "colorscale": [
          [
           0,
           "rgb(0,0,131)"
          ],
          [
           0.2,
           "rgb(0,60,170)"
          ],
          [
           0.4,
           "rgb(5,255,255)"
          ],
          [
           0.6,
           "rgb(255,255,0)"
          ],
          [
           0.8,
           "rgb(250,0,0)"
          ],
          [
           1,
           "rgb(128,0,0)"
          ]
         ]
        },
        "legend": {
         "tracegroupgap": 0
        },
        "margin": {
         "t": 60
        },
        "template": {
         "data": {
          "bar": [
           {
            "error_x": {
             "color": "#2a3f5f"
            },
            "error_y": {
             "color": "#2a3f5f"
            },
            "marker": {
             "line": {
              "color": "#E5ECF6",
              "width": 0.5
             },
             "pattern": {
              "fillmode": "overlay",
              "size": 10,
              "solidity": 0.2
             }
            },
            "type": "bar"
           }
          ],
          "barpolar": [
           {
            "marker": {
             "line": {
              "color": "#E5ECF6",
              "width": 0.5
             },
             "pattern": {
              "fillmode": "overlay",
              "size": 10,
              "solidity": 0.2
             }
            },
            "type": "barpolar"
           }
          ],
          "carpet": [
           {
            "aaxis": {
             "endlinecolor": "#2a3f5f",
             "gridcolor": "white",
             "linecolor": "white",
             "minorgridcolor": "white",
             "startlinecolor": "#2a3f5f"
            },
            "baxis": {
             "endlinecolor": "#2a3f5f",
             "gridcolor": "white",
             "linecolor": "white",
             "minorgridcolor": "white",
             "startlinecolor": "#2a3f5f"
            },
            "type": "carpet"
           }
          ],
          "choropleth": [
           {
            "colorbar": {
             "outlinewidth": 0,
             "ticks": ""
            },
            "type": "choropleth"
           }
          ],
          "contour": [
           {
            "colorbar": {
             "outlinewidth": 0,
             "ticks": ""
            },
            "colorscale": [
             [
              0,
              "#0d0887"
             ],
             [
              0.1111111111111111,
              "#46039f"
             ],
             [
              0.2222222222222222,
              "#7201a8"
             ],
             [
              0.3333333333333333,
              "#9c179e"
             ],
             [
              0.4444444444444444,
              "#bd3786"
             ],
             [
              0.5555555555555556,
              "#d8576b"
             ],
             [
              0.6666666666666666,
              "#ed7953"
             ],
             [
              0.7777777777777778,
              "#fb9f3a"
             ],
             [
              0.8888888888888888,
              "#fdca26"
             ],
             [
              1,
              "#f0f921"
             ]
            ],
            "type": "contour"
           }
          ],
          "contourcarpet": [
           {
            "colorbar": {
             "outlinewidth": 0,
             "ticks": ""
            },
            "type": "contourcarpet"
           }
          ],
          "heatmap": [
           {
            "colorbar": {
             "outlinewidth": 0,
             "ticks": ""
            },
            "colorscale": [
             [
              0,
              "#0d0887"
             ],
             [
              0.1111111111111111,
              "#46039f"
             ],
             [
              0.2222222222222222,
              "#7201a8"
             ],
             [
              0.3333333333333333,
              "#9c179e"
             ],
             [
              0.4444444444444444,
              "#bd3786"
             ],
             [
              0.5555555555555556,
              "#d8576b"
             ],
             [
              0.6666666666666666,
              "#ed7953"
             ],
             [
              0.7777777777777778,
              "#fb9f3a"
             ],
             [
              0.8888888888888888,
              "#fdca26"
             ],
             [
              1,
              "#f0f921"
             ]
            ],
            "type": "heatmap"
           }
          ],
          "heatmapgl": [
           {
            "colorbar": {
             "outlinewidth": 0,
             "ticks": ""
            },
            "colorscale": [
             [
              0,
              "#0d0887"
             ],
             [
              0.1111111111111111,
              "#46039f"
             ],
             [
              0.2222222222222222,
              "#7201a8"
             ],
             [
              0.3333333333333333,
              "#9c179e"
             ],
             [
              0.4444444444444444,
              "#bd3786"
             ],
             [
              0.5555555555555556,
              "#d8576b"
             ],
             [
              0.6666666666666666,
              "#ed7953"
             ],
             [
              0.7777777777777778,
              "#fb9f3a"
             ],
             [
              0.8888888888888888,
              "#fdca26"
             ],
             [
              1,
              "#f0f921"
             ]
            ],
            "type": "heatmapgl"
           }
          ],
          "histogram": [
           {
            "marker": {
             "pattern": {
              "fillmode": "overlay",
              "size": 10,
              "solidity": 0.2
             }
            },
            "type": "histogram"
           }
          ],
          "histogram2d": [
           {
            "colorbar": {
             "outlinewidth": 0,
             "ticks": ""
            },
            "colorscale": [
             [
              0,
              "#0d0887"
             ],
             [
              0.1111111111111111,
              "#46039f"
             ],
             [
              0.2222222222222222,
              "#7201a8"
             ],
             [
              0.3333333333333333,
              "#9c179e"
             ],
             [
              0.4444444444444444,
              "#bd3786"
             ],
             [
              0.5555555555555556,
              "#d8576b"
             ],
             [
              0.6666666666666666,
              "#ed7953"
             ],
             [
              0.7777777777777778,
              "#fb9f3a"
             ],
             [
              0.8888888888888888,
              "#fdca26"
             ],
             [
              1,
              "#f0f921"
             ]
            ],
            "type": "histogram2d"
           }
          ],
          "histogram2dcontour": [
           {
            "colorbar": {
             "outlinewidth": 0,
             "ticks": ""
            },
            "colorscale": [
             [
              0,
              "#0d0887"
             ],
             [
              0.1111111111111111,
              "#46039f"
             ],
             [
              0.2222222222222222,
              "#7201a8"
             ],
             [
              0.3333333333333333,
              "#9c179e"
             ],
             [
              0.4444444444444444,
              "#bd3786"
             ],
             [
              0.5555555555555556,
              "#d8576b"
             ],
             [
              0.6666666666666666,
              "#ed7953"
             ],
             [
              0.7777777777777778,
              "#fb9f3a"
             ],
             [
              0.8888888888888888,
              "#fdca26"
             ],
             [
              1,
              "#f0f921"
             ]
            ],
            "type": "histogram2dcontour"
           }
          ],
          "mesh3d": [
           {
            "colorbar": {
             "outlinewidth": 0,
             "ticks": ""
            },
            "type": "mesh3d"
           }
          ],
          "parcoords": [
           {
            "line": {
             "colorbar": {
              "outlinewidth": 0,
              "ticks": ""
             }
            },
            "type": "parcoords"
           }
          ],
          "pie": [
           {
            "automargin": true,
            "type": "pie"
           }
          ],
          "scatter": [
           {
            "marker": {
             "colorbar": {
              "outlinewidth": 0,
              "ticks": ""
             }
            },
            "type": "scatter"
           }
          ],
          "scatter3d": [
           {
            "line": {
             "colorbar": {
              "outlinewidth": 0,
              "ticks": ""
             }
            },
            "marker": {
             "colorbar": {
              "outlinewidth": 0,
              "ticks": ""
             }
            },
            "type": "scatter3d"
           }
          ],
          "scattercarpet": [
           {
            "marker": {
             "colorbar": {
              "outlinewidth": 0,
              "ticks": ""
             }
            },
            "type": "scattercarpet"
           }
          ],
          "scattergeo": [
           {
            "marker": {
             "colorbar": {
              "outlinewidth": 0,
              "ticks": ""
             }
            },
            "type": "scattergeo"
           }
          ],
          "scattergl": [
           {
            "marker": {
             "colorbar": {
              "outlinewidth": 0,
              "ticks": ""
             }
            },
            "type": "scattergl"
           }
          ],
          "scattermapbox": [
           {
            "marker": {
             "colorbar": {
              "outlinewidth": 0,
              "ticks": ""
             }
            },
            "type": "scattermapbox"
           }
          ],
          "scatterpolar": [
           {
            "marker": {
             "colorbar": {
              "outlinewidth": 0,
              "ticks": ""
             }
            },
            "type": "scatterpolar"
           }
          ],
          "scatterpolargl": [
           {
            "marker": {
             "colorbar": {
              "outlinewidth": 0,
              "ticks": ""
             }
            },
            "type": "scatterpolargl"
           }
          ],
          "scatterternary": [
           {
            "marker": {
             "colorbar": {
              "outlinewidth": 0,
              "ticks": ""
             }
            },
            "type": "scatterternary"
           }
          ],
          "surface": [
           {
            "colorbar": {
             "outlinewidth": 0,
             "ticks": ""
            },
            "colorscale": [
             [
              0,
              "#0d0887"
             ],
             [
              0.1111111111111111,
              "#46039f"
             ],
             [
              0.2222222222222222,
              "#7201a8"
             ],
             [
              0.3333333333333333,
              "#9c179e"
             ],
             [
              0.4444444444444444,
              "#bd3786"
             ],
             [
              0.5555555555555556,
              "#d8576b"
             ],
             [
              0.6666666666666666,
              "#ed7953"
             ],
             [
              0.7777777777777778,
              "#fb9f3a"
             ],
             [
              0.8888888888888888,
              "#fdca26"
             ],
             [
              1,
              "#f0f921"
             ]
            ],
            "type": "surface"
           }
          ],
          "table": [
           {
            "cells": {
             "fill": {
              "color": "#EBF0F8"
             },
             "line": {
              "color": "white"
             }
            },
            "header": {
             "fill": {
              "color": "#C8D4E3"
             },
             "line": {
              "color": "white"
             }
            },
            "type": "table"
           }
          ]
         },
         "layout": {
          "annotationdefaults": {
           "arrowcolor": "#2a3f5f",
           "arrowhead": 0,
           "arrowwidth": 1
          },
          "autotypenumbers": "strict",
          "coloraxis": {
           "colorbar": {
            "outlinewidth": 0,
            "ticks": ""
           }
          },
          "colorscale": {
           "diverging": [
            [
             0,
             "#8e0152"
            ],
            [
             0.1,
             "#c51b7d"
            ],
            [
             0.2,
             "#de77ae"
            ],
            [
             0.3,
             "#f1b6da"
            ],
            [
             0.4,
             "#fde0ef"
            ],
            [
             0.5,
             "#f7f7f7"
            ],
            [
             0.6,
             "#e6f5d0"
            ],
            [
             0.7,
             "#b8e186"
            ],
            [
             0.8,
             "#7fbc41"
            ],
            [
             0.9,
             "#4d9221"
            ],
            [
             1,
             "#276419"
            ]
           ],
           "sequential": [
            [
             0,
             "#0d0887"
            ],
            [
             0.1111111111111111,
             "#46039f"
            ],
            [
             0.2222222222222222,
             "#7201a8"
            ],
            [
             0.3333333333333333,
             "#9c179e"
            ],
            [
             0.4444444444444444,
             "#bd3786"
            ],
            [
             0.5555555555555556,
             "#d8576b"
            ],
            [
             0.6666666666666666,
             "#ed7953"
            ],
            [
             0.7777777777777778,
             "#fb9f3a"
            ],
            [
             0.8888888888888888,
             "#fdca26"
            ],
            [
             1,
             "#f0f921"
            ]
           ],
           "sequentialminus": [
            [
             0,
             "#0d0887"
            ],
            [
             0.1111111111111111,
             "#46039f"
            ],
            [
             0.2222222222222222,
             "#7201a8"
            ],
            [
             0.3333333333333333,
             "#9c179e"
            ],
            [
             0.4444444444444444,
             "#bd3786"
            ],
            [
             0.5555555555555556,
             "#d8576b"
            ],
            [
             0.6666666666666666,
             "#ed7953"
            ],
            [
             0.7777777777777778,
             "#fb9f3a"
            ],
            [
             0.8888888888888888,
             "#fdca26"
            ],
            [
             1,
             "#f0f921"
            ]
           ]
          },
          "colorway": [
           "#636efa",
           "#EF553B",
           "#00cc96",
           "#ab63fa",
           "#FFA15A",
           "#19d3f3",
           "#FF6692",
           "#B6E880",
           "#FF97FF",
           "#FECB52"
          ],
          "font": {
           "color": "#2a3f5f"
          },
          "geo": {
           "bgcolor": "white",
           "lakecolor": "white",
           "landcolor": "#E5ECF6",
           "showlakes": true,
           "showland": true,
           "subunitcolor": "white"
          },
          "hoverlabel": {
           "align": "left"
          },
          "hovermode": "closest",
          "mapbox": {
           "style": "light"
          },
          "paper_bgcolor": "white",
          "plot_bgcolor": "#E5ECF6",
          "polar": {
           "angularaxis": {
            "gridcolor": "white",
            "linecolor": "white",
            "ticks": ""
           },
           "bgcolor": "#E5ECF6",
           "radialaxis": {
            "gridcolor": "white",
            "linecolor": "white",
            "ticks": ""
           }
          },
          "scene": {
           "xaxis": {
            "backgroundcolor": "#E5ECF6",
            "gridcolor": "white",
            "gridwidth": 2,
            "linecolor": "white",
            "showbackground": true,
            "ticks": "",
            "zerolinecolor": "white"
           },
           "yaxis": {
            "backgroundcolor": "#E5ECF6",
            "gridcolor": "white",
            "gridwidth": 2,
            "linecolor": "white",
            "showbackground": true,
            "ticks": "",
            "zerolinecolor": "white"
           },
           "zaxis": {
            "backgroundcolor": "#E5ECF6",
            "gridcolor": "white",
            "gridwidth": 2,
            "linecolor": "white",
            "showbackground": true,
            "ticks": "",
            "zerolinecolor": "white"
           }
          },
          "shapedefaults": {
           "line": {
            "color": "#2a3f5f"
           }
          },
          "ternary": {
           "aaxis": {
            "gridcolor": "white",
            "linecolor": "white",
            "ticks": ""
           },
           "baxis": {
            "gridcolor": "white",
            "linecolor": "white",
            "ticks": ""
           },
           "bgcolor": "#E5ECF6",
           "caxis": {
            "gridcolor": "white",
            "linecolor": "white",
            "ticks": ""
           }
          },
          "title": {
           "x": 0.05
          },
          "xaxis": {
           "automargin": true,
           "gridcolor": "white",
           "linecolor": "white",
           "ticks": "",
           "title": {
            "standoff": 15
           },
           "zerolinecolor": "white",
           "zerolinewidth": 2
          },
          "yaxis": {
           "automargin": true,
           "gridcolor": "white",
           "linecolor": "white",
           "ticks": "",
           "title": {
            "standoff": 15
           },
           "zerolinecolor": "white",
           "zerolinewidth": 2
          }
         }
        },
        "xaxis": {
         "anchor": "y",
         "autorange": true,
         "domain": [
          0,
          1
         ],
         "range": [
          -13.776779130676083,
          3.919773426760945
         ],
         "title": {
          "text": "x"
         },
         "type": "linear"
        },
        "yaxis": {
         "anchor": "x",
         "autorange": true,
         "domain": [
          0,
          1
         ],
         "range": [
          3.1899263109158684,
          15.272381334543594
         ],
         "title": {
          "text": "y"
         },
         "type": "linear"
        }
       }
      },
      "image/png": "[encoded data removed]",
      "text/html": [
       "<div>                            <div id=\"94442efe-df4c-48c6-9b6d-9d759e3721e6\" class=\"plotly-graph-div\" style=\"height:525px; width:100%;\"></div>            <script type=\"text/javascript\">                require([\"plotly\"], function(Plotly) {                    window.PLOTLYENV=window.PLOTLYENV || {};                                    if (document.getElementById(\"94442efe-df4c-48c6-9b6d-9d759e3721e6\")) {                    Plotly.newPlot(                        \"94442efe-df4c-48c6-9b6d-9d759e3721e6\",                        [{\"hovertemplate\":\"x=%{x}<br>y=%{y}<br>color=%{marker.color}<extra></extra>\",\"legendgroup\":\"\",\"marker\":{\"color\":[-18.485892950935654,-17.948881969963242,-17.494108146655265,-17.082704417173396,-16.699692394038493,-16.3373422531103,-15.991016092154887,-15.65765651769551,-15.335112917415803,-15.021798751172454,-14.716500103219833,-14.418260940202074,-14.12631045819007,-13.84001500174297,-13.558845066446871,-13.282351952656906,-13.010150814053345,-12.741908071611032,-12.477331885424407,-12.216164817240774,-11.958178093897098,-11.703167061435597,-11.450947538845003,-11.201352861216197,-10.954231458028891,-10.709444851677235,-10.466865989533359,-10.226377843325396,-9.987872224681619,-9.75124877693063,-9.51641411171648,-9.283281065446774,-9.051768055554364,-8.821798520415383,-8.593300429782131,-8.366205854976975,-8.140450589990076,-7.915973816140227,-7.69271780418611,-7.470627648765793,-7.249651030855368,-7.029738004601417,-6.810840805430858,-6.592913676797325,-6.375912713301863,-6.159795718241783,-5.944522073909052,-5.730052623183531,-5.516349561156757,-5.303376335683621,-5.091097555897225,-4.879478907840374,-4.668487076467475,-4.458089673359296,-4.2482551695671145,-4.038952833067963,-3.8301526703697784,-3.6218253718541478,-3.4139422604861345,-3.206475243560071,-2.999396767180345,-2.792679773206741,-2.5862976584180393,-2.380224235668978,-2.1744336968363336,-1.9689005773650738,-1.7635997222410535,-1.5585062532299199,-1.3535955372320265,-1.1488431556134944,-0.944224874382167,-0.739716615083136,-0.53529442629609,-0.3309344556200686,-0.1266129220362217,0.07769391145789185,0.282009765047473,0.4863583692358397,0.6907634920188634,0.8952489662015782,1.099838716960548,1.3045567897587675,1.5094273787216825,1.7144748555865408,1.919723799343522,2.125199026690232,2.330925623430903,2.5369289769570553,2.743234809957316,2.9498692155144464,3.1568586937595633,3.364230190268759,3.5720111364027223,3.7802294918085106,3.988913789325067,4.198093182556424,4.407797496405841,4.6180572808949,4.828903868627533,5.040369436300939,5.252487070712545,5.465290839766663,5.678815869047712,5.893098424598964,6.108176002630781,6.3240874269791325,6.540872955249294,6.75857439471232,6.977235229177414,7.196900758246601,7.417618250573193,7.63943711300146,7.862409077769464,8.086588410318583,8.31203214068949,8.538800322008587,8.766956320202908,8.99656713985649,9.227703792064414,9.460441711306473,9.694861229804618,9.931048119623874,10.169094215034368,10.409098130503107,10.651166093319206,10.895412914529203,11.14196312791474,11.390952334675779,11.642528801975464,11.896855377536724,12.15411180148818,12.41449752273912,12.678235163467397,12.945574826653129,13.216799515478073,13.492232041801426,13.772243963363236,14.057267338694484,14.347810481895456,14.644479538740846,14.948008782306845,15.259304415294924,15.579510142997638,15.910109557098576,16.253094531048834,16.61126111081591,16.988776738182448,17.392407266192023,17.834699619545464,18.34530373164345,19.06682367528187],\"coloraxis\":\"coloraxis\",\"symbol\":\"circle\"},\"mode\":\"markers\",\"name\":\"\",\"orientation\":\"v\",\"showlegend\":false,\"type\":\"scatter\",\"x\":[-8.672545344809174,-8.59938412515558,-8.546636031993309,-8.352408962879828,-8.759265249047244,-8.005300836248681,-8.103668306907533,-8.35976478833963,-8.125868446672506,-7.9762100084212,-8.193255529273987,-8.739020569211736,-8.09014973976345,-8.26800830095537,-8.34551185757951,-8.243385380667277,-8.004090442171842,-8.318773958141568,-8.046976322954256,-8.152233267422588,-7.849362766905476,-7.899321783452018,-8.450028770507412,-7.897491397709344,-8.091818890571275,-8.135120277995966,-7.932205414958964,-8.158205866278262,-7.974612529300854,-8.283074554497803,-7.986343376288986,-7.454868989048293,-8.082499410666776,-8.17102404670637,-8.122212916484441,-7.685762306951251,-8.214222703289987,-7.99832038697695,-8.0974812761468,-7.582475075291023,-7.887336178514457,-7.816835776149144,-8.409785241341453,-8.077787804872884,-8.292597893114541,-7.797549676843999,-8.140667581991433,-8.359850162746937,-7.63512364549334,-8.406019898490488,-8.000352021643554,-8.026544315335117,-8.110787233342611,-8.116684453797127,-7.991690498503375,-8.017302912680563,-8.365664170999196,-8.351015937147684,-8.440294530925549,-8.117043784090727,-8.357241609895294,-8.655252663906916,-8.251905683285909,-8.480499243451307,-8.52685242160077,-8.338614212269553,-8.142686909972138,-8.367445465384254,-8.150986296365053,-8.315092551377141,-8.45276976268715,-8.37893822349337,-8.364580805167744,-8.385895132702176,-8.655850283507197,-8.296473568544435,-8.46553093386261,-8.667360577669948,-8.536152502812577,-8.451846578463698,-8.619718898124555,-8.667948728322774,-8.33012826372085,-8.803256766144541,-8.730688012975197,-8.613730776410364,-8.783861740603637,-8.68628256896255,-8.442496286309275,-8.904211374125952,-8.867731195732365,-8.907214379547847,-9.18665800641629,-8.85395610794837,-9.164366208415853,-8.476684653700207,-8.939555776161436,-9.25359663060484,-9.043004569272712,-8.973653866432342,-8.91799609055028,-8.999991575188213,-8.8041760499607,-9.370335308348919,-9.34908678314556,-9.76069766002539,-8.8347283098149,-9.575488810478832,-9.836652948643723,-9.16341101093888,-9.673069733039524,-8.932817157393625,-9.719052206238505,-9.363872297705985,-9.619580023541742,-9.46681376702993,-9.539204978588085,-9.605086069890085,-9.631913748664818,-9.88511238343871,-9.915807543805347,-10.028259561616128,-10.013122390770953,-10.013233935022342,-10.033390610387883,-10.273953764539144,-10.257657981029489,-9.780020449530511,-10.095324647578947,-10.201281563841881,-10.45171394700883,-10.387574593941034,-10.434735472146627,-10.663096107523634,-10.185975491792576,-10.742529084405783,-10.674692499611183,-11.107226719580064,-11.010864142949263,-11.018634917509845,-10.933284532918487,-10.968095336635612,-11.257638277974419,-11.326405336354949,-11.723745930284634,-11.987372965705395,-11.57191554625674,-11.866068974982415,-12.208788206250803,-12.564796720349326,-12.857005703915137],\"xaxis\":\"x\",\"y\":[14.462307645459463,13.832017518680363,14.116295351773159,13.593566380477883,13.887666488346582,13.657014145295916,13.492402374229892,13.505004451974097,13.502266774807,13.790031633792871,13.625638424909472,13.192410217595885,13.354227873910645,12.998525202532386,13.071791810936434,12.923803825806385,12.974179744493062,12.894987673570258,12.475668254884742,12.644653171928338,12.145180038267315,12.464384562677226,12.492001383063768,12.40648676714316,12.456703924382907,12.30320994929726,12.26788301955319,12.509938264340654,12.131335641557818,12.115087192090803,11.885330155152712,11.94457087150837,12.176658054585019,11.916650992585735,11.810292086975098,11.414393262713558,11.660566851665958,11.679374212120951,11.519275342508985,11.722505612482367,11.854833792369448,11.298046005870539,11.304522215460487,11.04731707208192,11.170833341732287,11.45908803245687,11.277859221976142,11.002257324122471,11.476841326823754,10.900936496332537,10.866555266149385,10.882357806835783,11.093293879689398,10.816312139787229,10.861780640157331,10.675564948398206,10.852230876775419,10.955172685665739,10.820880799699612,10.813428051244257,10.462969522866965,10.95053834803786,10.88983340465184,10.15461408326212,10.239608886420424,10.365217546305235,10.417126505025431,10.565155375006718,10.28511710203804,10.375304839254994,10.38233998351453,10.395572939583436,10.138994961196437,10.419289833974084,10.171213025516682,10.557977312441295,10.147889108321229,10.00120197356912,9.604195936009862,9.98069508955077,9.900289665926628,9.825832532105228,9.983770250680205,9.698982609682316,9.868148689318598,9.838446250297205,9.570610213795554,9.387582961052992,9.481027364455734,9.514443498414144,9.353533691899827,9.657839058808458,9.649518422059117,9.682075147517278,9.23061563380288,8.891856637057211,9.250897747161257,9.108971842393172,9.750800350546939,9.173295548224992,9.188872270375306,9.498720147990392,9.514152395128347,9.264786776564584,9.14533911585619,9.511960310067995,8.808888232404122,9.078176802429828,9.255803684198089,8.771607610941302,9.003268221701749,9.19385348973895,8.618093769781975,8.74937356402895,8.649435142370237,9.143345941934948,8.890346197860891,8.542453629922933,8.632090681887467,8.663059238059802,8.548644299030096,8.97944002540392,8.809446221454175,8.748901705801167,8.5633589068832,8.638983140957352,7.946978620868954,8.428798879375769,8.451124607041105,8.255815745127336,8.427970287934938,8.315214453451759,8.372192417075027,8.4893817489858,8.512927186802933,8.118387879618373,8.334068591650155,8.266622257799053,8.008304650612585,7.89811353071297,8.079440056966513,8.27671938040557,7.733694622794701,7.830437585190913,7.857557164609003,8.384258065431256,8.212859515642005,8.160753383803884,8.278654310925194,7.855747734209837,8.434222627850636],\"yaxis\":\"y\"},{\"mode\":\"markers\",\"name\":\"base station\",\"type\":\"scatter\",\"x\":[3],\"y\":[4]}],                        {\"coloraxis\":{\"colorbar\":{\"title\":{\"text\":\"color\"}},\"colorscale\":[[0.0,\"rgb(0,0,131)\"],[0.2,\"rgb(0,60,170)\"],[0.4,\"rgb(5,255,255)\"],[0.6,\"rgb(255,255,0)\"],[0.8,\"rgb(250,0,0)\"],[1.0,\"rgb(128,0,0)\"]]},\"legend\":{\"tracegroupgap\":0},\"margin\":{\"t\":60},\"template\":{\"data\":{\"bar\":[{\"error_x\":{\"color\":\"#2a3f5f\"},\"error_y\":{\"color\":\"#2a3f5f\"},\"marker\":{\"line\":{\"color\":\"#E5ECF6\",\"width\":0.5},\"pattern\":{\"fillmode\":\"overlay\",\"size\":10,\"solidity\":0.2}},\"type\":\"bar\"}],\"barpolar\":[{\"marker\":{\"line\":{\"color\":\"#E5ECF6\",\"width\":0.5},\"pattern\":{\"fillmode\":\"overlay\",\"size\":10,\"solidity\":0.2}},\"type\":\"barpolar\"}],\"carpet\":[{\"aaxis\":{\"endlinecolor\":\"#2a3f5f\",\"gridcolor\":\"white\",\"linecolor\":\"white\",\"minorgridcolor\":\"white\",\"startlinecolor\":\"#2a3f5f\"},\"baxis\":{\"endlinecolor\":\"#2a3f5f\",\"gridcolor\":\"white\",\"linecolor\":\"white\",\"minorgridcolor\":\"white\",\"startlinecolor\":\"#2a3f5f\"},\"type\":\"carpet\"}],\"choropleth\":[{\"colorbar\":{\"outlinewidth\":0,\"ticks\":\"\"},\"type\":\"choropleth\"}],\"contour\":[{\"colorbar\":{\"outlinewidth\":0,\"ticks\":\"\"},\"colorscale\":[[0.0,\"#0d0887\"],[0.1111111111111111,\"#46039f\"],[0.2222222222222222,\"#7201a8\"],[0.3333333333333333,\"#9c179e\"],[0.4444444444444444,\"#bd3786\"],[0.5555555555555556,\"#d8576b\"],[0.6666666666666666,\"#ed7953\"],[0.7777777777777778,\"#fb9f3a\"],[0.8888888888888888,\"#fdca26\"],[1.0,\"#f0f921\"]],\"type\":\"contour\"}],\"contourcarpet\":[{\"colorbar\":{\"outlinewidth\":0,\"ticks\":\"\"},\"type\":\"contourcarpet\"}],\"heatmap\":[{\"colorbar\":{\"outlinewidth\":0,\"ticks\":\"\"},\"colorscale\":[[0.0,\"#0d0887\"],[0.1111111111111111,\"#46039f\"],[0.2222222222222222,\"#7201a8\"],[0.3333333333333333,\"#9c179e\"],[0.4444444444444444,\"#bd3786\"],[0.5555555555555556,\"#d8576b\"],[0.6666666666666666,\"#ed7953\"],[0.7777777777777778,\"#fb9f3a\"],[0.8888888888888888,\"#fdca26\"],[1.0,\"#f0f921\"]],\"type\":\"heatmap\"}],\"heatmapgl\":[{\"colorbar\":{\"outlinewidth\":0,\"ticks\":\"\"},\"colorscale\":[[0.0,\"#0d0887\"],[0.1111111111111111,\"#46039f\"],[0.2222222222222222,\"#7201a8\"],[0.3333333333333333,\"#9c179e\"],[0.4444444444444444,\"#bd3786\"],[0.5555555555555556,\"#d8576b\"],[0.6666666666666666,\"#ed7953\"],[0.7777777777777778,\"#fb9f3a\"],[0.8888888888888888,\"#fdca26\"],[1.0,\"#f0f921\"]],\"type\":\"heatmapgl\"}],\"histogram\":[{\"marker\":{\"pattern\":{\"fillmode\":\"overlay\",\"size\":10,\"solidity\":0.2}},\"type\":\"histogram\"}],\"histogram2d\":[{\"colorbar\":{\"outlinewidth\":0,\"ticks\":\"\"},\"colorscale\":[[0.0,\"#0d0887\"],[0.1111111111111111,\"#46039f\"],[0.2222222222222222,\"#7201a8\"],[0.3333333333333333,\"#9c179e\"],[0.4444444444444444,\"#bd3786\"],[0.5555555555555556,\"#d8576b\"],[0.6666666666666666,\"#ed7953\"],[0.7777777777777778,\"#fb9f3a\"],[0.8888888888888888,\"#fdca26\"],[1.0,\"#f0f921\"]],\"type\":\"histogram2d\"}],\"histogram2dcontour\":[{\"colorbar\":{\"outlinewidth\":0,\"ticks\":\"\"},\"colorscale\":[[0.0,\"#0d0887\"],[0.1111111111111111,\"#46039f\"],[0.2222222222222222,\"#7201a8\"],[0.3333333333333333,\"#9c179e\"],[0.4444444444444444,\"#bd3786\"],[0.5555555555555556,\"#d8576b\"],[0.6666666666666666,\"#ed7953\"],[0.7777777777777778,\"#fb9f3a\"],[0.8888888888888888,\"#fdca26\"],[1.0,\"#f0f921\"]],\"type\":\"histogram2dcontour\"}],\"mesh3d\":[{\"colorbar\":{\"outlinewidth\":0,\"ticks\":\"\"},\"type\":\"mesh3d\"}],\"parcoords\":[{\"line\":{\"colorbar\":{\"outlinewidth\":0,\"ticks\":\"\"}},\"type\":\"parcoords\"}],\"pie\":[{\"automargin\":true,\"type\":\"pie\"}],\"scatter\":[{\"marker\":{\"colorbar\":{\"outlinewidth\":0,\"ticks\":\"\"}},\"type\":\"scatter\"}],\"scatter3d\":[{\"line\":{\"colorbar\":{\"outlinewidth\":0,\"ticks\":\"\"}},\"marker\":{\"colorbar\":{\"outlinewidth\":0,\"ticks\":\"\"}},\"type\":\"scatter3d\"}],\"scattercarpet\":[{\"marker\":{\"colorbar\":{\"outlinewidth\":0,\"ticks\":\"\"}},\"type\":\"scattercarpet\"}],\"scattergeo\":[{\"marker\":{\"colorbar\":{\"outlinewidth\":0,\"ticks\":\"\"}},\"type\":\"scattergeo\"}],\"scattergl\":[{\"marker\":{\"colorbar\":{\"outlinewidth\":0,\"ticks\":\"\"}},\"type\":\"scattergl\"}],\"scattermapbox\":[{\"marker\":{\"colorbar\":{\"outlinewidth\":0,\"ticks\":\"\"}},\"type\":\"scattermapbox\"}],\"scatterpolar\":[{\"marker\":{\"colorbar\":{\"outlinewidth\":0,\"ticks\":\"\"}},\"type\":\"scatterpolar\"}],\"scatterpolargl\":[{\"marker\":{\"colorbar\":{\"outlinewidth\":0,\"ticks\":\"\"}},\"type\":\"scatterpolargl\"}],\"scatterternary\":[{\"marker\":{\"colorbar\":{\"outlinewidth\":0,\"ticks\":\"\"}},\"type\":\"scatterternary\"}],\"surface\":[{\"colorbar\":{\"outlinewidth\":0,\"ticks\":\"\"},\"colorscale\":[[0.0,\"#0d0887\"],[0.1111111111111111,\"#46039f\"],[0.2222222222222222,\"#7201a8\"],[0.3333333333333333,\"#9c179e\"],[0.4444444444444444,\"#bd3786\"],[0.5555555555555556,\"#d8576b\"],[0.6666666666666666,\"#ed7953\"],[0.7777777777777778,\"#fb9f3a\"],[0.8888888888888888,\"#fdca26\"],[1.0,\"#f0f921\"]],\"type\":\"surface\"}],\"table\":[{\"cells\":{\"fill\":{\"color\":\"#EBF0F8\"},\"line\":{\"color\":\"white\"}},\"header\":{\"fill\":{\"color\":\"#C8D4E3\"},\"line\":{\"color\":\"white\"}},\"type\":\"table\"}]},\"layout\":{\"annotationdefaults\":{\"arrowcolor\":\"#2a3f5f\",\"arrowhead\":0,\"arrowwidth\":1},\"autotypenumbers\":\"strict\",\"coloraxis\":{\"colorbar\":{\"outlinewidth\":0,\"ticks\":\"\"}},\"colorscale\":{\"diverging\":[[0,\"#8e0152\"],[0.1,\"#c51b7d\"],[0.2,\"#de77ae\"],[0.3,\"#f1b6da\"],[0.4,\"#fde0ef\"],[0.5,\"#f7f7f7\"],[0.6,\"#e6f5d0\"],[0.7,\"#b8e186\"],[0.8,\"#7fbc41\"],[0.9,\"#4d9221\"],[1,\"#276419\"]],\"sequential\":[[0.0,\"#0d0887\"],[0.1111111111111111,\"#46039f\"],[0.2222222222222222,\"#7201a8\"],[0.3333333333333333,\"#9c179e\"],[0.4444444444444444,\"#bd3786\"],[0.5555555555555556,\"#d8576b\"],[0.6666666666666666,\"#ed7953\"],[0.7777777777777778,\"#fb9f3a\"],[0.8888888888888888,\"#fdca26\"],[1.0,\"#f0f921\"]],\"sequentialminus\":[[0.0,\"#0d0887\"],[0.1111111111111111,\"#46039f\"],[0.2222222222222222,\"#7201a8\"],[0.3333333333333333,\"#9c179e\"],[0.4444444444444444,\"#bd3786\"],[0.5555555555555556,\"#d8576b\"],[0.6666666666666666,\"#ed7953\"],[0.7777777777777778,\"#fb9f3a\"],[0.8888888888888888,\"#fdca26\"],[1.0,\"#f0f921\"]]},\"colorway\":[\"#636efa\",\"#EF553B\",\"#00cc96\",\"#ab63fa\",\"#FFA15A\",\"#19d3f3\",\"#FF6692\",\"#B6E880\",\"#FF97FF\",\"#FECB52\"],\"font\":{\"color\":\"#2a3f5f\"},\"geo\":{\"bgcolor\":\"white\",\"lakecolor\":\"white\",\"landcolor\":\"#E5ECF6\",\"showlakes\":true,\"showland\":true,\"subunitcolor\":\"white\"},\"hoverlabel\":{\"align\":\"left\"},\"hovermode\":\"closest\",\"mapbox\":{\"style\":\"light\"},\"paper_bgcolor\":\"white\",\"plot_bgcolor\":\"#E5ECF6\",\"polar\":{\"angularaxis\":{\"gridcolor\":\"white\",\"linecolor\":\"white\",\"ticks\":\"\"},\"bgcolor\":\"#E5ECF6\",\"radialaxis\":{\"gridcolor\":\"white\",\"linecolor\":\"white\",\"ticks\":\"\"}},\"scene\":{\"xaxis\":{\"backgroundcolor\":\"#E5ECF6\",\"gridcolor\":\"white\",\"gridwidth\":2,\"linecolor\":\"white\",\"showbackground\":true,\"ticks\":\"\",\"zerolinecolor\":\"white\"},\"yaxis\":{\"backgroundcolor\":\"#E5ECF6\",\"gridcolor\":\"white\",\"gridwidth\":2,\"linecolor\":\"white\",\"showbackground\":true,\"ticks\":\"\",\"zerolinecolor\":\"white\"},\"zaxis\":{\"backgroundcolor\":\"#E5ECF6\",\"gridcolor\":\"white\",\"gridwidth\":2,\"linecolor\":\"white\",\"showbackground\":true,\"ticks\":\"\",\"zerolinecolor\":\"white\"}},\"shapedefaults\":{\"line\":{\"color\":\"#2a3f5f\"}},\"ternary\":{\"aaxis\":{\"gridcolor\":\"white\",\"linecolor\":\"white\",\"ticks\":\"\"},\"baxis\":{\"gridcolor\":\"white\",\"linecolor\":\"white\",\"ticks\":\"\"},\"bgcolor\":\"#E5ECF6\",\"caxis\":{\"gridcolor\":\"white\",\"linecolor\":\"white\",\"ticks\":\"\"}},\"title\":{\"x\":0.05},\"xaxis\":{\"automargin\":true,\"gridcolor\":\"white\",\"linecolor\":\"white\",\"ticks\":\"\",\"title\":{\"standoff\":15},\"zerolinecolor\":\"white\",\"zerolinewidth\":2},\"yaxis\":{\"automargin\":true,\"gridcolor\":\"white\",\"linecolor\":\"white\",\"ticks\":\"\",\"title\":{\"standoff\":15},\"zerolinecolor\":\"white\",\"zerolinewidth\":2}}},\"xaxis\":{\"anchor\":\"y\",\"domain\":[0.0,1.0],\"title\":{\"text\":\"x\"}},\"yaxis\":{\"anchor\":\"x\",\"domain\":[0.0,1.0],\"title\":{\"text\":\"y\"}}},                        {\"responsive\": true}                    ).then(function(){\n",
       "                            \n",
       "var gd = document.getElementById('94442efe-df4c-48c6-9b6d-9d759e3721e6');\n",
       "var x = new MutationObserver(function (mutations, observer) {{\n",
       "        var display = window.getComputedStyle(gd).display;\n",
       "        if (!display || display === 'none') {{\n",
       "            console.log([gd, 'removed!']);\n",
       "            Plotly.purge(gd);\n",
       "            observer.disconnect();\n",
       "        }}\n",
       "}});\n",
       "\n",
       "// Listen for the removal of the full notebook cells\n",
       "var notebookContainer = gd.closest('#notebook-container');\n",
       "if (notebookContainer) {{\n",
       "    x.observe(notebookContainer, {childList: true});\n",
       "}}\n",
       "\n",
       "// Listen for the clearing of the current output cell\n",
       "var outputEl = gd.closest('.output');\n",
       "if (outputEl) {{\n",
       "    x.observe(outputEl, {childList: true});\n",
       "}}\n",
       "\n",
       "                        })                };                });            </script>        </div>"
      ]
     },
     "metadata": {},
     "output_type": "display_data"
    }
   ],
   "source": [
    "fig = px.scatter(x=point_xs, y=point_ys, color=point_vs, color_continuous_scale=\"Jet\")\n",
    "fig.add_scatter(x=[radar_x], y=[radar_y], mode=\"markers\", name=\"base station\")\n",
    "\n",
    "fig.show()"
   ]
  },
  {
   "cell_type": "markdown",
   "id": "12d97ab2-c30d-44d6-a9cd-e2b3c56bd22e",
   "metadata": {},
   "source": [
    "## estimation of circle parameters\n",
    "See: [construction shit](https://www.iaarc.org/publications/fulltext/S17-2.pdf)\n",
    "\n",
    "it converges for suitably close initial guesses, but fucks out with other ones (local minimum?)"
   ]
  },
  {
   "cell_type": "code",
   "execution_count": 50,
   "id": "52a6a1f5-f35b-4dfa-a841-953f0924f160",
   "metadata": {},
   "outputs": [],
   "source": [
    "def generate_likelihood_fn_1(xs, ys):\n",
    "    def likelihood_fn(params):\n",
    "        a, b = params[0], params[1]\n",
    "        r = 1\n",
    "        \n",
    "        s = 0\n",
    "        for xa, ya in zip(xs, ys):\n",
    "            num = np.square(xa*xa + ya*ya - 2*a*xa - 2*b*ya + a*a + b*b - r*r)\n",
    "            den = xa*xa + ya*ya - 2*a*xa - 2*b*ya + a*a + b*b\n",
    "            s += num / den\n",
    "        return s\n",
    "    return likelihood_fn"
   ]
  },
  {
   "cell_type": "code",
   "execution_count": 51,
   "id": "81666660-64e7-4f5e-91ff-0c93eb126111",
   "metadata": {},
   "outputs": [
    {
     "name": "stdout",
     "output_type": "stream",
     "text": [
      "Warning: Desired error not necessarily achieved due to precision loss.\n",
      "         Current function value: 432.599711\n",
      "         Iterations: 7\n",
      "         Function evaluations: 188\n",
      "         Gradient evaluations: 44\n"
     ]
    }
   ],
   "source": [
    "# guess = np.array([0, 0])\n",
    "opt_res = optimize.minimize(\n",
    "    generate_likelihood_fn_1(point_xs, point_ys),\n",
    "    guess,\n",
    "    options={\"disp\": True, \"maxiter\": 100}\n",
    ")"
   ]
  },
  {
   "cell_type": "code",
   "execution_count": 52,
   "id": "a07ef4d6-3e11-42ed-9342-16ce83fa6eea",
   "metadata": {},
   "outputs": [
    {
     "data": {
      "text/plain": [
       "      fun: 432.59971078869114\n",
       " hess_inv: array([[ 1.40865305e-03, -2.40610967e-05,  0.00000000e+00],\n",
       "       [-2.40610967e-05,  3.13367340e-03,  0.00000000e+00],\n",
       "       [ 0.00000000e+00,  0.00000000e+00,  1.00000000e+00]])\n",
       "      jac: array([6.10351562e-05, 3.05175781e-05, 0.00000000e+00])\n",
       "  message: 'Desired error not necessarily achieved due to precision loss.'\n",
       "     nfev: 188\n",
       "      nit: 7\n",
       "     njev: 44\n",
       "   status: 2\n",
       "  success: False\n",
       "        x: array([-9.28387556, 10.51038852,  1.        ])"
      ]
     },
     "execution_count": 52,
     "metadata": {},
     "output_type": "execute_result"
    }
   ],
   "source": [
    "opt_res"
   ]
  },
  {
   "cell_type": "markdown",
   "id": "e15e76f7-c791-4ca0-9c66-2c9c05c78f0a",
   "metadata": {},
   "source": [
    "## Circle parameter estimation v2\n",
    "See [deep state paper](https://ieeexplore-ieee-org.ezproxy.canterbury.ac.nz/stamp/stamp.jsp?tp=&arnumber=1608136)"
   ]
  },
  {
   "cell_type": "markdown",
   "id": "8db3f57c-a02c-4a3d-bd3c-a5fac160a663",
   "metadata": {},
   "source": [
    "### Why cirlce parameter estimation is bad\n",
    "- Log-liklihood function contains many local minima\n",
    "- LL function contains plateaus of low gradient -> slow conergence\n",
    "- See [Least squares fitting of circles and lines](https://people.cas.uab.edu/~mosya/papers/cl1.pdf) for why its hard"
   ]
  },
  {
   "cell_type": "code",
   "execution_count": 53,
   "id": "c69d2069-22a7-410b-b597-1dea48a53021",
   "metadata": {},
   "outputs": [],
   "source": [
    "def gen_log_likelihood(x_values, y_values):\n",
    "    def likelihood_fn(params):\n",
    "        cx, cy, r = params[0], params[1], params[2]\n",
    "        \n",
    "        norm = np.sqrt(np.square(x_values - cx) + np.square(y_values - cy))\n",
    "        return np.sum(np.square(norm - r))\n",
    "    return likelihood_fn"
   ]
  },
  {
   "cell_type": "code",
   "execution_count": 54,
   "id": "cf1f1ec2-a2a6-4780-b36d-47aee19f392c",
   "metadata": {},
   "outputs": [],
   "source": [
    "closest_idx = np.argmin(\n",
    "    np.sqrt(\n",
    "        np.square(point_xs - radar_x) +\n",
    "        np.square(point_ys - radar_y)\n",
    "    )\n",
    ")\n",
    "guess = np.array([point_xs[closest_idx], point_ys[closest_idx], 1.0])"
   ]
  },
  {
   "cell_type": "code",
   "execution_count": 55,
   "id": "b71fc7ed-ff58-48b1-9b94-8ca2ea1df87e",
   "metadata": {},
   "outputs": [
    {
     "data": {
      "text/plain": [
       "array([-8.98956201, 10.36498304,  1.        ])"
      ]
     },
     "execution_count": 55,
     "metadata": {},
     "output_type": "execute_result"
    }
   ],
   "source": [
    "guess_x = np.mean(point_xs)\n",
    "guess_y = np.mean(point_ys)\n",
    "guess = np.array([guess_x, guess_y, 1.0])\n",
    "guess"
   ]
  },
  {
   "cell_type": "code",
   "execution_count": 56,
   "id": "9d036a17-d9a2-4d50-8b64-537c42dda569",
   "metadata": {},
   "outputs": [
    {
     "name": "stdout",
     "output_type": "stream",
     "text": [
      "Optimization terminated successfully.\n",
      "         Current function value: 6.870848\n",
      "         Iterations: 17\n",
      "         Function evaluations: 84\n",
      "         Gradient evaluations: 21\n"
     ]
    },
    {
     "data": {
      "text/plain": [
       "      fun: 6.870847708998116\n",
       " hess_inv: array([[ 0.10235521, -0.05152261, -0.09796354],\n",
       "       [-0.05152261,  0.04337096,  0.05660786],\n",
       "       [-0.09796354,  0.05660786,  0.10019236]])\n",
       "      jac: array([-8.94069672e-07,  4.17232513e-07, -1.25169754e-06])\n",
       "  message: 'Optimization terminated successfully.'\n",
       "     nfev: 84\n",
       "      nit: 17\n",
       "     njev: 21\n",
       "   status: 0\n",
       "  success: True\n",
       "        x: array([-11.93557154,  11.98616333,   3.93832042])"
      ]
     },
     "execution_count": 56,
     "metadata": {},
     "output_type": "execute_result"
    }
   ],
   "source": [
    "opt_res = optimize.minimize(\n",
    "    gen_log_likelihood(point_xs, point_ys),\n",
    "    guess,\n",
    "    options={\"disp\": True}\n",
    ")\n",
    "opt_res"
   ]
  },
  {
   "cell_type": "code",
   "execution_count": 58,
   "id": "bf3b4a8b-6339-4199-bcc6-e05c49d33d81",
   "metadata": {},
   "outputs": [
    {
     "data": {
      "application/vnd.plotly.v1+json": {
       "config": {
        "plotlyServerURL": "https://plot.ly"
       },
       "data": [
        {
         "hovertemplate": "x=%{x}<br>y=%{y}<br>color=%{marker.color}<extra></extra>",
         "legendgroup": "",
         "marker": {
          "color": [
           -18.485892950935654,
           -17.948881969963242,
           -17.494108146655265,
           -17.082704417173396,
           -16.699692394038493,
           -16.3373422531103,
           -15.991016092154887,
           -15.65765651769551,
           -15.335112917415803,
           -15.021798751172454,
           -14.716500103219833,
           -14.418260940202074,
           -14.12631045819007,
           -13.84001500174297,
           -13.558845066446871,
           -13.282351952656906,
           -13.010150814053345,
           -12.741908071611032,
           -12.477331885424407,
           -12.216164817240774,
           -11.958178093897098,
           -11.703167061435597,
           -11.450947538845003,
           -11.201352861216197,
           -10.954231458028891,
           -10.709444851677235,
           -10.466865989533359,
           -10.226377843325396,
           -9.987872224681619,
           -9.75124877693063,
           -9.51641411171648,
           -9.283281065446774,
           -9.051768055554364,
           -8.821798520415383,
           -8.593300429782131,
           -8.366205854976975,
           -8.140450589990076,
           -7.915973816140227,
           -7.69271780418611,
           -7.470627648765793,
           -7.249651030855368,
           -7.029738004601417,
           -6.810840805430858,
           -6.592913676797325,
           -6.375912713301863,
           -6.159795718241783,
           -5.944522073909052,
           -5.730052623183531,
           -5.516349561156757,
           -5.303376335683621,
           -5.091097555897225,
           -4.879478907840374,
           -4.668487076467475,
           -4.458089673359296,
           -4.2482551695671145,
           -4.038952833067963,
           -3.8301526703697784,
           -3.6218253718541478,
           -3.4139422604861345,
           -3.206475243560071,
           -2.999396767180345,
           -2.792679773206741,
           -2.5862976584180393,
           -2.380224235668978,
           -2.1744336968363336,
           -1.9689005773650738,
           -1.7635997222410535,
           -1.5585062532299199,
           -1.3535955372320265,
           -1.1488431556134944,
           -0.944224874382167,
           -0.739716615083136,
           -0.53529442629609,
           -0.3309344556200686,
           -0.1266129220362217,
           0.07769391145789185,
           0.282009765047473,
           0.4863583692358397,
           0.6907634920188634,
           0.8952489662015782,
           1.099838716960548,
           1.3045567897587675,
           1.5094273787216825,
           1.7144748555865408,
           1.919723799343522,
           2.125199026690232,
           2.330925623430903,
           2.5369289769570553,
           2.743234809957316,
           2.9498692155144464,
           3.1568586937595633,
           3.364230190268759,
           3.5720111364027223,
           3.7802294918085106,
           3.988913789325067,
           4.198093182556424,
           4.407797496405841,
           4.6180572808949,
           4.828903868627533,
           5.040369436300939,
           5.252487070712545,
           5.465290839766663,
           5.678815869047712,
           5.893098424598964,
           6.108176002630781,
           6.3240874269791325,
           6.540872955249294,
           6.75857439471232,
           6.977235229177414,
           7.196900758246601,
           7.417618250573193,
           7.63943711300146,
           7.862409077769464,
           8.086588410318583,
           8.31203214068949,
           8.538800322008587,
           8.766956320202908,
           8.99656713985649,
           9.227703792064414,
           9.460441711306473,
           9.694861229804618,
           9.931048119623874,
           10.169094215034368,
           10.409098130503107,
           10.651166093319206,
           10.895412914529203,
           11.14196312791474,
           11.390952334675779,
           11.642528801975464,
           11.896855377536724,
           12.15411180148818,
           12.41449752273912,
           12.678235163467397,
           12.945574826653129,
           13.216799515478073,
           13.492232041801426,
           13.772243963363236,
           14.057267338694484,
           14.347810481895456,
           14.644479538740846,
           14.948008782306845,
           15.259304415294924,
           15.579510142997638,
           15.910109557098576,
           16.253094531048834,
           16.61126111081591,
           16.988776738182448,
           17.392407266192023,
           17.834699619545464,
           18.34530373164345,
           19.06682367528187
          ],
          "coloraxis": "coloraxis",
          "symbol": "circle"
         },
         "mode": "markers",
         "name": "",
         "orientation": "v",
         "showlegend": false,
         "type": "scatter",
         "x": [
          -8.672545344809174,
          -8.59938412515558,
          -8.546636031993309,
          -8.352408962879828,
          -8.759265249047244,
          -8.005300836248681,
          -8.103668306907533,
          -8.35976478833963,
          -8.125868446672506,
          -7.9762100084212,
          -8.193255529273987,
          -8.739020569211736,
          -8.09014973976345,
          -8.26800830095537,
          -8.34551185757951,
          -8.243385380667277,
          -8.004090442171842,
          -8.318773958141568,
          -8.046976322954256,
          -8.152233267422588,
          -7.849362766905476,
          -7.899321783452018,
          -8.450028770507412,
          -7.897491397709344,
          -8.091818890571275,
          -8.135120277995966,
          -7.932205414958964,
          -8.158205866278262,
          -7.974612529300854,
          -8.283074554497803,
          -7.986343376288986,
          -7.454868989048293,
          -8.082499410666776,
          -8.17102404670637,
          -8.122212916484441,
          -7.685762306951251,
          -8.214222703289987,
          -7.99832038697695,
          -8.0974812761468,
          -7.582475075291023,
          -7.887336178514457,
          -7.816835776149144,
          -8.409785241341453,
          -8.077787804872884,
          -8.292597893114541,
          -7.797549676843999,
          -8.140667581991433,
          -8.359850162746937,
          -7.63512364549334,
          -8.406019898490488,
          -8.000352021643554,
          -8.026544315335117,
          -8.110787233342611,
          -8.116684453797127,
          -7.991690498503375,
          -8.017302912680563,
          -8.365664170999196,
          -8.351015937147684,
          -8.440294530925549,
          -8.117043784090727,
          -8.357241609895294,
          -8.655252663906916,
          -8.251905683285909,
          -8.480499243451307,
          -8.52685242160077,
          -8.338614212269553,
          -8.142686909972138,
          -8.367445465384254,
          -8.150986296365053,
          -8.315092551377141,
          -8.45276976268715,
          -8.37893822349337,
          -8.364580805167744,
          -8.385895132702176,
          -8.655850283507197,
          -8.296473568544435,
          -8.46553093386261,
          -8.667360577669948,
          -8.536152502812577,
          -8.451846578463698,
          -8.619718898124555,
          -8.667948728322774,
          -8.33012826372085,
          -8.803256766144541,
          -8.730688012975197,
          -8.613730776410364,
          -8.783861740603637,
          -8.68628256896255,
          -8.442496286309275,
          -8.904211374125952,
          -8.867731195732365,
          -8.907214379547847,
          -9.18665800641629,
          -8.85395610794837,
          -9.164366208415853,
          -8.476684653700207,
          -8.939555776161436,
          -9.25359663060484,
          -9.043004569272712,
          -8.973653866432342,
          -8.91799609055028,
          -8.999991575188213,
          -8.8041760499607,
          -9.370335308348919,
          -9.34908678314556,
          -9.76069766002539,
          -8.8347283098149,
          -9.575488810478832,
          -9.836652948643723,
          -9.16341101093888,
          -9.673069733039524,
          -8.932817157393625,
          -9.719052206238505,
          -9.363872297705985,
          -9.619580023541742,
          -9.46681376702993,
          -9.539204978588085,
          -9.605086069890085,
          -9.631913748664818,
          -9.88511238343871,
          -9.915807543805347,
          -10.028259561616128,
          -10.013122390770953,
          -10.013233935022342,
          -10.033390610387883,
          -10.273953764539144,
          -10.257657981029489,
          -9.780020449530511,
          -10.095324647578947,
          -10.201281563841881,
          -10.45171394700883,
          -10.387574593941034,
          -10.434735472146627,
          -10.663096107523634,
          -10.185975491792576,
          -10.742529084405783,
          -10.674692499611183,
          -11.107226719580064,
          -11.010864142949263,
          -11.018634917509845,
          -10.933284532918487,
          -10.968095336635612,
          -11.257638277974419,
          -11.326405336354949,
          -11.723745930284634,
          -11.987372965705395,
          -11.57191554625674,
          -11.866068974982415,
          -12.208788206250803,
          -12.564796720349326,
          -12.857005703915137
         ],
         "xaxis": "x",
         "y": [
          14.462307645459463,
          13.832017518680363,
          14.116295351773159,
          13.593566380477883,
          13.887666488346582,
          13.657014145295916,
          13.492402374229892,
          13.505004451974097,
          13.502266774807,
          13.790031633792871,
          13.625638424909472,
          13.192410217595885,
          13.354227873910645,
          12.998525202532386,
          13.071791810936434,
          12.923803825806385,
          12.974179744493062,
          12.894987673570258,
          12.475668254884742,
          12.644653171928338,
          12.145180038267315,
          12.464384562677226,
          12.492001383063768,
          12.40648676714316,
          12.456703924382907,
          12.30320994929726,
          12.26788301955319,
          12.509938264340654,
          12.131335641557818,
          12.115087192090803,
          11.885330155152712,
          11.94457087150837,
          12.176658054585019,
          11.916650992585735,
          11.810292086975098,
          11.414393262713558,
          11.660566851665958,
          11.679374212120951,
          11.519275342508985,
          11.722505612482367,
          11.854833792369448,
          11.298046005870539,
          11.304522215460487,
          11.04731707208192,
          11.170833341732287,
          11.45908803245687,
          11.277859221976142,
          11.002257324122471,
          11.476841326823754,
          10.900936496332537,
          10.866555266149385,
          10.882357806835783,
          11.093293879689398,
          10.816312139787229,
          10.861780640157331,
          10.675564948398206,
          10.852230876775419,
          10.955172685665739,
          10.820880799699612,
          10.813428051244257,
          10.462969522866965,
          10.95053834803786,
          10.88983340465184,
          10.15461408326212,
          10.239608886420424,
          10.365217546305235,
          10.417126505025431,
          10.565155375006718,
          10.28511710203804,
          10.375304839254994,
          10.38233998351453,
          10.395572939583436,
          10.138994961196437,
          10.419289833974084,
          10.171213025516682,
          10.557977312441295,
          10.147889108321229,
          10.00120197356912,
          9.604195936009862,
          9.98069508955077,
          9.900289665926628,
          9.825832532105228,
          9.983770250680205,
          9.698982609682316,
          9.868148689318598,
          9.838446250297205,
          9.570610213795554,
          9.387582961052992,
          9.481027364455734,
          9.514443498414144,
          9.353533691899827,
          9.657839058808458,
          9.649518422059117,
          9.682075147517278,
          9.23061563380288,
          8.891856637057211,
          9.250897747161257,
          9.108971842393172,
          9.750800350546939,
          9.173295548224992,
          9.188872270375306,
          9.498720147990392,
          9.514152395128347,
          9.264786776564584,
          9.14533911585619,
          9.511960310067995,
          8.808888232404122,
          9.078176802429828,
          9.255803684198089,
          8.771607610941302,
          9.003268221701749,
          9.19385348973895,
          8.618093769781975,
          8.74937356402895,
          8.649435142370237,
          9.143345941934948,
          8.890346197860891,
          8.542453629922933,
          8.632090681887467,
          8.663059238059802,
          8.548644299030096,
          8.97944002540392,
          8.809446221454175,
          8.748901705801167,
          8.5633589068832,
          8.638983140957352,
          7.946978620868954,
          8.428798879375769,
          8.451124607041105,
          8.255815745127336,
          8.427970287934938,
          8.315214453451759,
          8.372192417075027,
          8.4893817489858,
          8.512927186802933,
          8.118387879618373,
          8.334068591650155,
          8.266622257799053,
          8.008304650612585,
          7.89811353071297,
          8.079440056966513,
          8.27671938040557,
          7.733694622794701,
          7.830437585190913,
          7.857557164609003,
          8.384258065431256,
          8.212859515642005,
          8.160753383803884,
          8.278654310925194,
          7.855747734209837,
          8.434222627850636
         ],
         "yaxis": "y"
        },
        {
         "mode": "markers",
         "name": "base station",
         "type": "scatter",
         "x": [
          3
         ],
         "y": [
          4
         ]
        }
       ],
       "layout": {
        "autosize": true,
        "coloraxis": {
         "colorbar": {
          "title": {
           "text": "color"
          }
         },
         "colorscale": [
          [
           0,
           "rgb(0,0,131)"
          ],
          [
           0.2,
           "rgb(0,60,170)"
          ],
          [
           0.4,
           "rgb(5,255,255)"
          ],
          [
           0.6,
           "rgb(255,255,0)"
          ],
          [
           0.8,
           "rgb(250,0,0)"
          ],
          [
           1,
           "rgb(128,0,0)"
          ]
         ]
        },
        "legend": {
         "tracegroupgap": 0
        },
        "margin": {
         "t": 60
        },
        "shapes": [
         {
          "line": {
           "color": "LightSeaGreen"
          },
          "type": "circle",
          "x0": -15.873891959877643,
          "x1": -7.99725112410455,
          "xref": "x",
          "y0": 8.047842917012915,
          "y1": 15.92448375278601,
          "yref": "y"
         },
         {
          "line": {
           "color": "LightSeaGreen"
          },
          "type": "circle",
          "x0": -15.873891959877643,
          "x1": -7.99725112410455,
          "xref": "x",
          "y0": 8.047842917012915,
          "y1": 15.92448375278601,
          "yref": "y"
         },
         {
          "line": {
           "color": "Red"
          },
          "type": "circle",
          "x0": -16,
          "x1": -8,
          "xref": "x",
          "y0": 8,
          "y1": 16,
          "yref": "y"
         }
        ],
        "template": {
         "data": {
          "bar": [
           {
            "error_x": {
             "color": "#2a3f5f"
            },
            "error_y": {
             "color": "#2a3f5f"
            },
            "marker": {
             "line": {
              "color": "#E5ECF6",
              "width": 0.5
             },
             "pattern": {
              "fillmode": "overlay",
              "size": 10,
              "solidity": 0.2
             }
            },
            "type": "bar"
           }
          ],
          "barpolar": [
           {
            "marker": {
             "line": {
              "color": "#E5ECF6",
              "width": 0.5
             },
             "pattern": {
              "fillmode": "overlay",
              "size": 10,
              "solidity": 0.2
             }
            },
            "type": "barpolar"
           }
          ],
          "carpet": [
           {
            "aaxis": {
             "endlinecolor": "#2a3f5f",
             "gridcolor": "white",
             "linecolor": "white",
             "minorgridcolor": "white",
             "startlinecolor": "#2a3f5f"
            },
            "baxis": {
             "endlinecolor": "#2a3f5f",
             "gridcolor": "white",
             "linecolor": "white",
             "minorgridcolor": "white",
             "startlinecolor": "#2a3f5f"
            },
            "type": "carpet"
           }
          ],
          "choropleth": [
           {
            "colorbar": {
             "outlinewidth": 0,
             "ticks": ""
            },
            "type": "choropleth"
           }
          ],
          "contour": [
           {
            "colorbar": {
             "outlinewidth": 0,
             "ticks": ""
            },
            "colorscale": [
             [
              0,
              "#0d0887"
             ],
             [
              0.1111111111111111,
              "#46039f"
             ],
             [
              0.2222222222222222,
              "#7201a8"
             ],
             [
              0.3333333333333333,
              "#9c179e"
             ],
             [
              0.4444444444444444,
              "#bd3786"
             ],
             [
              0.5555555555555556,
              "#d8576b"
             ],
             [
              0.6666666666666666,
              "#ed7953"
             ],
             [
              0.7777777777777778,
              "#fb9f3a"
             ],
             [
              0.8888888888888888,
              "#fdca26"
             ],
             [
              1,
              "#f0f921"
             ]
            ],
            "type": "contour"
           }
          ],
          "contourcarpet": [
           {
            "colorbar": {
             "outlinewidth": 0,
             "ticks": ""
            },
            "type": "contourcarpet"
           }
          ],
          "heatmap": [
           {
            "colorbar": {
             "outlinewidth": 0,
             "ticks": ""
            },
            "colorscale": [
             [
              0,
              "#0d0887"
             ],
             [
              0.1111111111111111,
              "#46039f"
             ],
             [
              0.2222222222222222,
              "#7201a8"
             ],
             [
              0.3333333333333333,
              "#9c179e"
             ],
             [
              0.4444444444444444,
              "#bd3786"
             ],
             [
              0.5555555555555556,
              "#d8576b"
             ],
             [
              0.6666666666666666,
              "#ed7953"
             ],
             [
              0.7777777777777778,
              "#fb9f3a"
             ],
             [
              0.8888888888888888,
              "#fdca26"
             ],
             [
              1,
              "#f0f921"
             ]
            ],
            "type": "heatmap"
           }
          ],
          "heatmapgl": [
           {
            "colorbar": {
             "outlinewidth": 0,
             "ticks": ""
            },
            "colorscale": [
             [
              0,
              "#0d0887"
             ],
             [
              0.1111111111111111,
              "#46039f"
             ],
             [
              0.2222222222222222,
              "#7201a8"
             ],
             [
              0.3333333333333333,
              "#9c179e"
             ],
             [
              0.4444444444444444,
              "#bd3786"
             ],
             [
              0.5555555555555556,
              "#d8576b"
             ],
             [
              0.6666666666666666,
              "#ed7953"
             ],
             [
              0.7777777777777778,
              "#fb9f3a"
             ],
             [
              0.8888888888888888,
              "#fdca26"
             ],
             [
              1,
              "#f0f921"
             ]
            ],
            "type": "heatmapgl"
           }
          ],
          "histogram": [
           {
            "marker": {
             "pattern": {
              "fillmode": "overlay",
              "size": 10,
              "solidity": 0.2
             }
            },
            "type": "histogram"
           }
          ],
          "histogram2d": [
           {
            "colorbar": {
             "outlinewidth": 0,
             "ticks": ""
            },
            "colorscale": [
             [
              0,
              "#0d0887"
             ],
             [
              0.1111111111111111,
              "#46039f"
             ],
             [
              0.2222222222222222,
              "#7201a8"
             ],
             [
              0.3333333333333333,
              "#9c179e"
             ],
             [
              0.4444444444444444,
              "#bd3786"
             ],
             [
              0.5555555555555556,
              "#d8576b"
             ],
             [
              0.6666666666666666,
              "#ed7953"
             ],
             [
              0.7777777777777778,
              "#fb9f3a"
             ],
             [
              0.8888888888888888,
              "#fdca26"
             ],
             [
              1,
              "#f0f921"
             ]
            ],
            "type": "histogram2d"
           }
          ],
          "histogram2dcontour": [
           {
            "colorbar": {
             "outlinewidth": 0,
             "ticks": ""
            },
            "colorscale": [
             [
              0,
              "#0d0887"
             ],
             [
              0.1111111111111111,
              "#46039f"
             ],
             [
              0.2222222222222222,
              "#7201a8"
             ],
             [
              0.3333333333333333,
              "#9c179e"
             ],
             [
              0.4444444444444444,
              "#bd3786"
             ],
             [
              0.5555555555555556,
              "#d8576b"
             ],
             [
              0.6666666666666666,
              "#ed7953"
             ],
             [
              0.7777777777777778,
              "#fb9f3a"
             ],
             [
              0.8888888888888888,
              "#fdca26"
             ],
             [
              1,
              "#f0f921"
             ]
            ],
            "type": "histogram2dcontour"
           }
          ],
          "mesh3d": [
           {
            "colorbar": {
             "outlinewidth": 0,
             "ticks": ""
            },
            "type": "mesh3d"
           }
          ],
          "parcoords": [
           {
            "line": {
             "colorbar": {
              "outlinewidth": 0,
              "ticks": ""
             }
            },
            "type": "parcoords"
           }
          ],
          "pie": [
           {
            "automargin": true,
            "type": "pie"
           }
          ],
          "scatter": [
           {
            "marker": {
             "colorbar": {
              "outlinewidth": 0,
              "ticks": ""
             }
            },
            "type": "scatter"
           }
          ],
          "scatter3d": [
           {
            "line": {
             "colorbar": {
              "outlinewidth": 0,
              "ticks": ""
             }
            },
            "marker": {
             "colorbar": {
              "outlinewidth": 0,
              "ticks": ""
             }
            },
            "type": "scatter3d"
           }
          ],
          "scattercarpet": [
           {
            "marker": {
             "colorbar": {
              "outlinewidth": 0,
              "ticks": ""
             }
            },
            "type": "scattercarpet"
           }
          ],
          "scattergeo": [
           {
            "marker": {
             "colorbar": {
              "outlinewidth": 0,
              "ticks": ""
             }
            },
            "type": "scattergeo"
           }
          ],
          "scattergl": [
           {
            "marker": {
             "colorbar": {
              "outlinewidth": 0,
              "ticks": ""
             }
            },
            "type": "scattergl"
           }
          ],
          "scattermapbox": [
           {
            "marker": {
             "colorbar": {
              "outlinewidth": 0,
              "ticks": ""
             }
            },
            "type": "scattermapbox"
           }
          ],
          "scatterpolar": [
           {
            "marker": {
             "colorbar": {
              "outlinewidth": 0,
              "ticks": ""
             }
            },
            "type": "scatterpolar"
           }
          ],
          "scatterpolargl": [
           {
            "marker": {
             "colorbar": {
              "outlinewidth": 0,
              "ticks": ""
             }
            },
            "type": "scatterpolargl"
           }
          ],
          "scatterternary": [
           {
            "marker": {
             "colorbar": {
              "outlinewidth": 0,
              "ticks": ""
             }
            },
            "type": "scatterternary"
           }
          ],
          "surface": [
           {
            "colorbar": {
             "outlinewidth": 0,
             "ticks": ""
            },
            "colorscale": [
             [
              0,
              "#0d0887"
             ],
             [
              0.1111111111111111,
              "#46039f"
             ],
             [
              0.2222222222222222,
              "#7201a8"
             ],
             [
              0.3333333333333333,
              "#9c179e"
             ],
             [
              0.4444444444444444,
              "#bd3786"
             ],
             [
              0.5555555555555556,
              "#d8576b"
             ],
             [
              0.6666666666666666,
              "#ed7953"
             ],
             [
              0.7777777777777778,
              "#fb9f3a"
             ],
             [
              0.8888888888888888,
              "#fdca26"
             ],
             [
              1,
              "#f0f921"
             ]
            ],
            "type": "surface"
           }
          ],
          "table": [
           {
            "cells": {
             "fill": {
              "color": "#EBF0F8"
             },
             "line": {
              "color": "white"
             }
            },
            "header": {
             "fill": {
              "color": "#C8D4E3"
             },
             "line": {
              "color": "white"
             }
            },
            "type": "table"
           }
          ]
         },
         "layout": {
          "annotationdefaults": {
           "arrowcolor": "#2a3f5f",
           "arrowhead": 0,
           "arrowwidth": 1
          },
          "autotypenumbers": "strict",
          "coloraxis": {
           "colorbar": {
            "outlinewidth": 0,
            "ticks": ""
           }
          },
          "colorscale": {
           "diverging": [
            [
             0,
             "#8e0152"
            ],
            [
             0.1,
             "#c51b7d"
            ],
            [
             0.2,
             "#de77ae"
            ],
            [
             0.3,
             "#f1b6da"
            ],
            [
             0.4,
             "#fde0ef"
            ],
            [
             0.5,
             "#f7f7f7"
            ],
            [
             0.6,
             "#e6f5d0"
            ],
            [
             0.7,
             "#b8e186"
            ],
            [
             0.8,
             "#7fbc41"
            ],
            [
             0.9,
             "#4d9221"
            ],
            [
             1,
             "#276419"
            ]
           ],
           "sequential": [
            [
             0,
             "#0d0887"
            ],
            [
             0.1111111111111111,
             "#46039f"
            ],
            [
             0.2222222222222222,
             "#7201a8"
            ],
            [
             0.3333333333333333,
             "#9c179e"
            ],
            [
             0.4444444444444444,
             "#bd3786"
            ],
            [
             0.5555555555555556,
             "#d8576b"
            ],
            [
             0.6666666666666666,
             "#ed7953"
            ],
            [
             0.7777777777777778,
             "#fb9f3a"
            ],
            [
             0.8888888888888888,
             "#fdca26"
            ],
            [
             1,
             "#f0f921"
            ]
           ],
           "sequentialminus": [
            [
             0,
             "#0d0887"
            ],
            [
             0.1111111111111111,
             "#46039f"
            ],
            [
             0.2222222222222222,
             "#7201a8"
            ],
            [
             0.3333333333333333,
             "#9c179e"
            ],
            [
             0.4444444444444444,
             "#bd3786"
            ],
            [
             0.5555555555555556,
             "#d8576b"
            ],
            [
             0.6666666666666666,
             "#ed7953"
            ],
            [
             0.7777777777777778,
             "#fb9f3a"
            ],
            [
             0.8888888888888888,
             "#fdca26"
            ],
            [
             1,
             "#f0f921"
            ]
           ]
          },
          "colorway": [
           "#636efa",
           "#EF553B",
           "#00cc96",
           "#ab63fa",
           "#FFA15A",
           "#19d3f3",
           "#FF6692",
           "#B6E880",
           "#FF97FF",
           "#FECB52"
          ],
          "font": {
           "color": "#2a3f5f"
          },
          "geo": {
           "bgcolor": "white",
           "lakecolor": "white",
           "landcolor": "#E5ECF6",
           "showlakes": true,
           "showland": true,
           "subunitcolor": "white"
          },
          "hoverlabel": {
           "align": "left"
          },
          "hovermode": "closest",
          "mapbox": {
           "style": "light"
          },
          "paper_bgcolor": "white",
          "plot_bgcolor": "#E5ECF6",
          "polar": {
           "angularaxis": {
            "gridcolor": "white",
            "linecolor": "white",
            "ticks": ""
           },
           "bgcolor": "#E5ECF6",
           "radialaxis": {
            "gridcolor": "white",
            "linecolor": "white",
            "ticks": ""
           }
          },
          "scene": {
           "xaxis": {
            "backgroundcolor": "#E5ECF6",
            "gridcolor": "white",
            "gridwidth": 2,
            "linecolor": "white",
            "showbackground": true,
            "ticks": "",
            "zerolinecolor": "white"
           },
           "yaxis": {
            "backgroundcolor": "#E5ECF6",
            "gridcolor": "white",
            "gridwidth": 2,
            "linecolor": "white",
            "showbackground": true,
            "ticks": "",
            "zerolinecolor": "white"
           },
           "zaxis": {
            "backgroundcolor": "#E5ECF6",
            "gridcolor": "white",
            "gridwidth": 2,
            "linecolor": "white",
            "showbackground": true,
            "ticks": "",
            "zerolinecolor": "white"
           }
          },
          "shapedefaults": {
           "line": {
            "color": "#2a3f5f"
           }
          },
          "ternary": {
           "aaxis": {
            "gridcolor": "white",
            "linecolor": "white",
            "ticks": ""
           },
           "baxis": {
            "gridcolor": "white",
            "linecolor": "white",
            "ticks": ""
           },
           "bgcolor": "#E5ECF6",
           "caxis": {
            "gridcolor": "white",
            "linecolor": "white",
            "ticks": ""
           }
          },
          "title": {
           "x": 0.05
          },
          "xaxis": {
           "automargin": true,
           "gridcolor": "white",
           "linecolor": "white",
           "ticks": "",
           "title": {
            "standoff": 15
           },
           "zerolinecolor": "white",
           "zerolinewidth": 2
          },
          "yaxis": {
           "automargin": true,
           "gridcolor": "white",
           "linecolor": "white",
           "ticks": "",
           "title": {
            "standoff": 15
           },
           "zerolinecolor": "white",
           "zerolinewidth": 2
          }
         }
        },
        "xaxis": {
         "anchor": "y",
         "autorange": true,
         "domain": [
          0,
          1
         ],
         "range": [
          -16.010559662090813,
          4.042238648363252
         ],
         "title": {
          "text": "x"
         },
         "type": "linear"
        },
        "yaxis": {
         "anchor": "x",
         "autorange": true,
         "domain": [
          0,
          1
         ],
         "range": [
          3.1334149326805383,
          16.05875152998776
         ],
         "title": {
          "text": "y"
         },
         "type": "linear"
        }
       }
      },
      "image/png": "[encoded data removed]",
      "text/html": [
       "<div>                            <div id=\"b6d271da-6d96-42b5-99bb-96dfbeb26328\" class=\"plotly-graph-div\" style=\"height:525px; width:100%;\"></div>            <script type=\"text/javascript\">                require([\"plotly\"], function(Plotly) {                    window.PLOTLYENV=window.PLOTLYENV || {};                                    if (document.getElementById(\"b6d271da-6d96-42b5-99bb-96dfbeb26328\")) {                    Plotly.newPlot(                        \"b6d271da-6d96-42b5-99bb-96dfbeb26328\",                        [{\"hovertemplate\":\"x=%{x}<br>y=%{y}<br>color=%{marker.color}<extra></extra>\",\"legendgroup\":\"\",\"marker\":{\"color\":[-18.485892950935654,-17.948881969963242,-17.494108146655265,-17.082704417173396,-16.699692394038493,-16.3373422531103,-15.991016092154887,-15.65765651769551,-15.335112917415803,-15.021798751172454,-14.716500103219833,-14.418260940202074,-14.12631045819007,-13.84001500174297,-13.558845066446871,-13.282351952656906,-13.010150814053345,-12.741908071611032,-12.477331885424407,-12.216164817240774,-11.958178093897098,-11.703167061435597,-11.450947538845003,-11.201352861216197,-10.954231458028891,-10.709444851677235,-10.466865989533359,-10.226377843325396,-9.987872224681619,-9.75124877693063,-9.51641411171648,-9.283281065446774,-9.051768055554364,-8.821798520415383,-8.593300429782131,-8.366205854976975,-8.140450589990076,-7.915973816140227,-7.69271780418611,-7.470627648765793,-7.249651030855368,-7.029738004601417,-6.810840805430858,-6.592913676797325,-6.375912713301863,-6.159795718241783,-5.944522073909052,-5.730052623183531,-5.516349561156757,-5.303376335683621,-5.091097555897225,-4.879478907840374,-4.668487076467475,-4.458089673359296,-4.2482551695671145,-4.038952833067963,-3.8301526703697784,-3.6218253718541478,-3.4139422604861345,-3.206475243560071,-2.999396767180345,-2.792679773206741,-2.5862976584180393,-2.380224235668978,-2.1744336968363336,-1.9689005773650738,-1.7635997222410535,-1.5585062532299199,-1.3535955372320265,-1.1488431556134944,-0.944224874382167,-0.739716615083136,-0.53529442629609,-0.3309344556200686,-0.1266129220362217,0.07769391145789185,0.282009765047473,0.4863583692358397,0.6907634920188634,0.8952489662015782,1.099838716960548,1.3045567897587675,1.5094273787216825,1.7144748555865408,1.919723799343522,2.125199026690232,2.330925623430903,2.5369289769570553,2.743234809957316,2.9498692155144464,3.1568586937595633,3.364230190268759,3.5720111364027223,3.7802294918085106,3.988913789325067,4.198093182556424,4.407797496405841,4.6180572808949,4.828903868627533,5.040369436300939,5.252487070712545,5.465290839766663,5.678815869047712,5.893098424598964,6.108176002630781,6.3240874269791325,6.540872955249294,6.75857439471232,6.977235229177414,7.196900758246601,7.417618250573193,7.63943711300146,7.862409077769464,8.086588410318583,8.31203214068949,8.538800322008587,8.766956320202908,8.99656713985649,9.227703792064414,9.460441711306473,9.694861229804618,9.931048119623874,10.169094215034368,10.409098130503107,10.651166093319206,10.895412914529203,11.14196312791474,11.390952334675779,11.642528801975464,11.896855377536724,12.15411180148818,12.41449752273912,12.678235163467397,12.945574826653129,13.216799515478073,13.492232041801426,13.772243963363236,14.057267338694484,14.347810481895456,14.644479538740846,14.948008782306845,15.259304415294924,15.579510142997638,15.910109557098576,16.253094531048834,16.61126111081591,16.988776738182448,17.392407266192023,17.834699619545464,18.34530373164345,19.06682367528187],\"coloraxis\":\"coloraxis\",\"symbol\":\"circle\"},\"mode\":\"markers\",\"name\":\"\",\"orientation\":\"v\",\"showlegend\":false,\"type\":\"scatter\",\"x\":[-8.672545344809174,-8.59938412515558,-8.546636031993309,-8.352408962879828,-8.759265249047244,-8.005300836248681,-8.103668306907533,-8.35976478833963,-8.125868446672506,-7.9762100084212,-8.193255529273987,-8.739020569211736,-8.09014973976345,-8.26800830095537,-8.34551185757951,-8.243385380667277,-8.004090442171842,-8.318773958141568,-8.046976322954256,-8.152233267422588,-7.849362766905476,-7.899321783452018,-8.450028770507412,-7.897491397709344,-8.091818890571275,-8.135120277995966,-7.932205414958964,-8.158205866278262,-7.974612529300854,-8.283074554497803,-7.986343376288986,-7.454868989048293,-8.082499410666776,-8.17102404670637,-8.122212916484441,-7.685762306951251,-8.214222703289987,-7.99832038697695,-8.0974812761468,-7.582475075291023,-7.887336178514457,-7.816835776149144,-8.409785241341453,-8.077787804872884,-8.292597893114541,-7.797549676843999,-8.140667581991433,-8.359850162746937,-7.63512364549334,-8.406019898490488,-8.000352021643554,-8.026544315335117,-8.110787233342611,-8.116684453797127,-7.991690498503375,-8.017302912680563,-8.365664170999196,-8.351015937147684,-8.440294530925549,-8.117043784090727,-8.357241609895294,-8.655252663906916,-8.251905683285909,-8.480499243451307,-8.52685242160077,-8.338614212269553,-8.142686909972138,-8.367445465384254,-8.150986296365053,-8.315092551377141,-8.45276976268715,-8.37893822349337,-8.364580805167744,-8.385895132702176,-8.655850283507197,-8.296473568544435,-8.46553093386261,-8.667360577669948,-8.536152502812577,-8.451846578463698,-8.619718898124555,-8.667948728322774,-8.33012826372085,-8.803256766144541,-8.730688012975197,-8.613730776410364,-8.783861740603637,-8.68628256896255,-8.442496286309275,-8.904211374125952,-8.867731195732365,-8.907214379547847,-9.18665800641629,-8.85395610794837,-9.164366208415853,-8.476684653700207,-8.939555776161436,-9.25359663060484,-9.043004569272712,-8.973653866432342,-8.91799609055028,-8.999991575188213,-8.8041760499607,-9.370335308348919,-9.34908678314556,-9.76069766002539,-8.8347283098149,-9.575488810478832,-9.836652948643723,-9.16341101093888,-9.673069733039524,-8.932817157393625,-9.719052206238505,-9.363872297705985,-9.619580023541742,-9.46681376702993,-9.539204978588085,-9.605086069890085,-9.631913748664818,-9.88511238343871,-9.915807543805347,-10.028259561616128,-10.013122390770953,-10.013233935022342,-10.033390610387883,-10.273953764539144,-10.257657981029489,-9.780020449530511,-10.095324647578947,-10.201281563841881,-10.45171394700883,-10.387574593941034,-10.434735472146627,-10.663096107523634,-10.185975491792576,-10.742529084405783,-10.674692499611183,-11.107226719580064,-11.010864142949263,-11.018634917509845,-10.933284532918487,-10.968095336635612,-11.257638277974419,-11.326405336354949,-11.723745930284634,-11.987372965705395,-11.57191554625674,-11.866068974982415,-12.208788206250803,-12.564796720349326,-12.857005703915137],\"xaxis\":\"x\",\"y\":[14.462307645459463,13.832017518680363,14.116295351773159,13.593566380477883,13.887666488346582,13.657014145295916,13.492402374229892,13.505004451974097,13.502266774807,13.790031633792871,13.625638424909472,13.192410217595885,13.354227873910645,12.998525202532386,13.071791810936434,12.923803825806385,12.974179744493062,12.894987673570258,12.475668254884742,12.644653171928338,12.145180038267315,12.464384562677226,12.492001383063768,12.40648676714316,12.456703924382907,12.30320994929726,12.26788301955319,12.509938264340654,12.131335641557818,12.115087192090803,11.885330155152712,11.94457087150837,12.176658054585019,11.916650992585735,11.810292086975098,11.414393262713558,11.660566851665958,11.679374212120951,11.519275342508985,11.722505612482367,11.854833792369448,11.298046005870539,11.304522215460487,11.04731707208192,11.170833341732287,11.45908803245687,11.277859221976142,11.002257324122471,11.476841326823754,10.900936496332537,10.866555266149385,10.882357806835783,11.093293879689398,10.816312139787229,10.861780640157331,10.675564948398206,10.852230876775419,10.955172685665739,10.820880799699612,10.813428051244257,10.462969522866965,10.95053834803786,10.88983340465184,10.15461408326212,10.239608886420424,10.365217546305235,10.417126505025431,10.565155375006718,10.28511710203804,10.375304839254994,10.38233998351453,10.395572939583436,10.138994961196437,10.419289833974084,10.171213025516682,10.557977312441295,10.147889108321229,10.00120197356912,9.604195936009862,9.98069508955077,9.900289665926628,9.825832532105228,9.983770250680205,9.698982609682316,9.868148689318598,9.838446250297205,9.570610213795554,9.387582961052992,9.481027364455734,9.514443498414144,9.353533691899827,9.657839058808458,9.649518422059117,9.682075147517278,9.23061563380288,8.891856637057211,9.250897747161257,9.108971842393172,9.750800350546939,9.173295548224992,9.188872270375306,9.498720147990392,9.514152395128347,9.264786776564584,9.14533911585619,9.511960310067995,8.808888232404122,9.078176802429828,9.255803684198089,8.771607610941302,9.003268221701749,9.19385348973895,8.618093769781975,8.74937356402895,8.649435142370237,9.143345941934948,8.890346197860891,8.542453629922933,8.632090681887467,8.663059238059802,8.548644299030096,8.97944002540392,8.809446221454175,8.748901705801167,8.5633589068832,8.638983140957352,7.946978620868954,8.428798879375769,8.451124607041105,8.255815745127336,8.427970287934938,8.315214453451759,8.372192417075027,8.4893817489858,8.512927186802933,8.118387879618373,8.334068591650155,8.266622257799053,8.008304650612585,7.89811353071297,8.079440056966513,8.27671938040557,7.733694622794701,7.830437585190913,7.857557164609003,8.384258065431256,8.212859515642005,8.160753383803884,8.278654310925194,7.855747734209837,8.434222627850636],\"yaxis\":\"y\"},{\"mode\":\"markers\",\"name\":\"base station\",\"type\":\"scatter\",\"x\":[3],\"y\":[4]}],                        {\"coloraxis\":{\"colorbar\":{\"title\":{\"text\":\"color\"}},\"colorscale\":[[0.0,\"rgb(0,0,131)\"],[0.2,\"rgb(0,60,170)\"],[0.4,\"rgb(5,255,255)\"],[0.6,\"rgb(255,255,0)\"],[0.8,\"rgb(250,0,0)\"],[1.0,\"rgb(128,0,0)\"]]},\"legend\":{\"tracegroupgap\":0},\"margin\":{\"t\":60},\"shapes\":[{\"line\":{\"color\":\"LightSeaGreen\"},\"type\":\"circle\",\"x0\":-15.873891959877643,\"x1\":-7.99725112410455,\"xref\":\"x\",\"y0\":8.047842917012915,\"y1\":15.92448375278601,\"yref\":\"y\"},{\"line\":{\"color\":\"LightSeaGreen\"},\"type\":\"circle\",\"x0\":-15.873891959877643,\"x1\":-7.99725112410455,\"xref\":\"x\",\"y0\":8.047842917012915,\"y1\":15.92448375278601,\"yref\":\"y\"},{\"line\":{\"color\":\"Red\"},\"type\":\"circle\",\"x0\":-16,\"x1\":-8,\"xref\":\"x\",\"y0\":8,\"y1\":16,\"yref\":\"y\"}],\"template\":{\"data\":{\"bar\":[{\"error_x\":{\"color\":\"#2a3f5f\"},\"error_y\":{\"color\":\"#2a3f5f\"},\"marker\":{\"line\":{\"color\":\"#E5ECF6\",\"width\":0.5},\"pattern\":{\"fillmode\":\"overlay\",\"size\":10,\"solidity\":0.2}},\"type\":\"bar\"}],\"barpolar\":[{\"marker\":{\"line\":{\"color\":\"#E5ECF6\",\"width\":0.5},\"pattern\":{\"fillmode\":\"overlay\",\"size\":10,\"solidity\":0.2}},\"type\":\"barpolar\"}],\"carpet\":[{\"aaxis\":{\"endlinecolor\":\"#2a3f5f\",\"gridcolor\":\"white\",\"linecolor\":\"white\",\"minorgridcolor\":\"white\",\"startlinecolor\":\"#2a3f5f\"},\"baxis\":{\"endlinecolor\":\"#2a3f5f\",\"gridcolor\":\"white\",\"linecolor\":\"white\",\"minorgridcolor\":\"white\",\"startlinecolor\":\"#2a3f5f\"},\"type\":\"carpet\"}],\"choropleth\":[{\"colorbar\":{\"outlinewidth\":0,\"ticks\":\"\"},\"type\":\"choropleth\"}],\"contour\":[{\"colorbar\":{\"outlinewidth\":0,\"ticks\":\"\"},\"colorscale\":[[0.0,\"#0d0887\"],[0.1111111111111111,\"#46039f\"],[0.2222222222222222,\"#7201a8\"],[0.3333333333333333,\"#9c179e\"],[0.4444444444444444,\"#bd3786\"],[0.5555555555555556,\"#d8576b\"],[0.6666666666666666,\"#ed7953\"],[0.7777777777777778,\"#fb9f3a\"],[0.8888888888888888,\"#fdca26\"],[1.0,\"#f0f921\"]],\"type\":\"contour\"}],\"contourcarpet\":[{\"colorbar\":{\"outlinewidth\":0,\"ticks\":\"\"},\"type\":\"contourcarpet\"}],\"heatmap\":[{\"colorbar\":{\"outlinewidth\":0,\"ticks\":\"\"},\"colorscale\":[[0.0,\"#0d0887\"],[0.1111111111111111,\"#46039f\"],[0.2222222222222222,\"#7201a8\"],[0.3333333333333333,\"#9c179e\"],[0.4444444444444444,\"#bd3786\"],[0.5555555555555556,\"#d8576b\"],[0.6666666666666666,\"#ed7953\"],[0.7777777777777778,\"#fb9f3a\"],[0.8888888888888888,\"#fdca26\"],[1.0,\"#f0f921\"]],\"type\":\"heatmap\"}],\"heatmapgl\":[{\"colorbar\":{\"outlinewidth\":0,\"ticks\":\"\"},\"colorscale\":[[0.0,\"#0d0887\"],[0.1111111111111111,\"#46039f\"],[0.2222222222222222,\"#7201a8\"],[0.3333333333333333,\"#9c179e\"],[0.4444444444444444,\"#bd3786\"],[0.5555555555555556,\"#d8576b\"],[0.6666666666666666,\"#ed7953\"],[0.7777777777777778,\"#fb9f3a\"],[0.8888888888888888,\"#fdca26\"],[1.0,\"#f0f921\"]],\"type\":\"heatmapgl\"}],\"histogram\":[{\"marker\":{\"pattern\":{\"fillmode\":\"overlay\",\"size\":10,\"solidity\":0.2}},\"type\":\"histogram\"}],\"histogram2d\":[{\"colorbar\":{\"outlinewidth\":0,\"ticks\":\"\"},\"colorscale\":[[0.0,\"#0d0887\"],[0.1111111111111111,\"#46039f\"],[0.2222222222222222,\"#7201a8\"],[0.3333333333333333,\"#9c179e\"],[0.4444444444444444,\"#bd3786\"],[0.5555555555555556,\"#d8576b\"],[0.6666666666666666,\"#ed7953\"],[0.7777777777777778,\"#fb9f3a\"],[0.8888888888888888,\"#fdca26\"],[1.0,\"#f0f921\"]],\"type\":\"histogram2d\"}],\"histogram2dcontour\":[{\"colorbar\":{\"outlinewidth\":0,\"ticks\":\"\"},\"colorscale\":[[0.0,\"#0d0887\"],[0.1111111111111111,\"#46039f\"],[0.2222222222222222,\"#7201a8\"],[0.3333333333333333,\"#9c179e\"],[0.4444444444444444,\"#bd3786\"],[0.5555555555555556,\"#d8576b\"],[0.6666666666666666,\"#ed7953\"],[0.7777777777777778,\"#fb9f3a\"],[0.8888888888888888,\"#fdca26\"],[1.0,\"#f0f921\"]],\"type\":\"histogram2dcontour\"}],\"mesh3d\":[{\"colorbar\":{\"outlinewidth\":0,\"ticks\":\"\"},\"type\":\"mesh3d\"}],\"parcoords\":[{\"line\":{\"colorbar\":{\"outlinewidth\":0,\"ticks\":\"\"}},\"type\":\"parcoords\"}],\"pie\":[{\"automargin\":true,\"type\":\"pie\"}],\"scatter\":[{\"marker\":{\"colorbar\":{\"outlinewidth\":0,\"ticks\":\"\"}},\"type\":\"scatter\"}],\"scatter3d\":[{\"line\":{\"colorbar\":{\"outlinewidth\":0,\"ticks\":\"\"}},\"marker\":{\"colorbar\":{\"outlinewidth\":0,\"ticks\":\"\"}},\"type\":\"scatter3d\"}],\"scattercarpet\":[{\"marker\":{\"colorbar\":{\"outlinewidth\":0,\"ticks\":\"\"}},\"type\":\"scattercarpet\"}],\"scattergeo\":[{\"marker\":{\"colorbar\":{\"outlinewidth\":0,\"ticks\":\"\"}},\"type\":\"scattergeo\"}],\"scattergl\":[{\"marker\":{\"colorbar\":{\"outlinewidth\":0,\"ticks\":\"\"}},\"type\":\"scattergl\"}],\"scattermapbox\":[{\"marker\":{\"colorbar\":{\"outlinewidth\":0,\"ticks\":\"\"}},\"type\":\"scattermapbox\"}],\"scatterpolar\":[{\"marker\":{\"colorbar\":{\"outlinewidth\":0,\"ticks\":\"\"}},\"type\":\"scatterpolar\"}],\"scatterpolargl\":[{\"marker\":{\"colorbar\":{\"outlinewidth\":0,\"ticks\":\"\"}},\"type\":\"scatterpolargl\"}],\"scatterternary\":[{\"marker\":{\"colorbar\":{\"outlinewidth\":0,\"ticks\":\"\"}},\"type\":\"scatterternary\"}],\"surface\":[{\"colorbar\":{\"outlinewidth\":0,\"ticks\":\"\"},\"colorscale\":[[0.0,\"#0d0887\"],[0.1111111111111111,\"#46039f\"],[0.2222222222222222,\"#7201a8\"],[0.3333333333333333,\"#9c179e\"],[0.4444444444444444,\"#bd3786\"],[0.5555555555555556,\"#d8576b\"],[0.6666666666666666,\"#ed7953\"],[0.7777777777777778,\"#fb9f3a\"],[0.8888888888888888,\"#fdca26\"],[1.0,\"#f0f921\"]],\"type\":\"surface\"}],\"table\":[{\"cells\":{\"fill\":{\"color\":\"#EBF0F8\"},\"line\":{\"color\":\"white\"}},\"header\":{\"fill\":{\"color\":\"#C8D4E3\"},\"line\":{\"color\":\"white\"}},\"type\":\"table\"}]},\"layout\":{\"annotationdefaults\":{\"arrowcolor\":\"#2a3f5f\",\"arrowhead\":0,\"arrowwidth\":1},\"autotypenumbers\":\"strict\",\"coloraxis\":{\"colorbar\":{\"outlinewidth\":0,\"ticks\":\"\"}},\"colorscale\":{\"diverging\":[[0,\"#8e0152\"],[0.1,\"#c51b7d\"],[0.2,\"#de77ae\"],[0.3,\"#f1b6da\"],[0.4,\"#fde0ef\"],[0.5,\"#f7f7f7\"],[0.6,\"#e6f5d0\"],[0.7,\"#b8e186\"],[0.8,\"#7fbc41\"],[0.9,\"#4d9221\"],[1,\"#276419\"]],\"sequential\":[[0.0,\"#0d0887\"],[0.1111111111111111,\"#46039f\"],[0.2222222222222222,\"#7201a8\"],[0.3333333333333333,\"#9c179e\"],[0.4444444444444444,\"#bd3786\"],[0.5555555555555556,\"#d8576b\"],[0.6666666666666666,\"#ed7953\"],[0.7777777777777778,\"#fb9f3a\"],[0.8888888888888888,\"#fdca26\"],[1.0,\"#f0f921\"]],\"sequentialminus\":[[0.0,\"#0d0887\"],[0.1111111111111111,\"#46039f\"],[0.2222222222222222,\"#7201a8\"],[0.3333333333333333,\"#9c179e\"],[0.4444444444444444,\"#bd3786\"],[0.5555555555555556,\"#d8576b\"],[0.6666666666666666,\"#ed7953\"],[0.7777777777777778,\"#fb9f3a\"],[0.8888888888888888,\"#fdca26\"],[1.0,\"#f0f921\"]]},\"colorway\":[\"#636efa\",\"#EF553B\",\"#00cc96\",\"#ab63fa\",\"#FFA15A\",\"#19d3f3\",\"#FF6692\",\"#B6E880\",\"#FF97FF\",\"#FECB52\"],\"font\":{\"color\":\"#2a3f5f\"},\"geo\":{\"bgcolor\":\"white\",\"lakecolor\":\"white\",\"landcolor\":\"#E5ECF6\",\"showlakes\":true,\"showland\":true,\"subunitcolor\":\"white\"},\"hoverlabel\":{\"align\":\"left\"},\"hovermode\":\"closest\",\"mapbox\":{\"style\":\"light\"},\"paper_bgcolor\":\"white\",\"plot_bgcolor\":\"#E5ECF6\",\"polar\":{\"angularaxis\":{\"gridcolor\":\"white\",\"linecolor\":\"white\",\"ticks\":\"\"},\"bgcolor\":\"#E5ECF6\",\"radialaxis\":{\"gridcolor\":\"white\",\"linecolor\":\"white\",\"ticks\":\"\"}},\"scene\":{\"xaxis\":{\"backgroundcolor\":\"#E5ECF6\",\"gridcolor\":\"white\",\"gridwidth\":2,\"linecolor\":\"white\",\"showbackground\":true,\"ticks\":\"\",\"zerolinecolor\":\"white\"},\"yaxis\":{\"backgroundcolor\":\"#E5ECF6\",\"gridcolor\":\"white\",\"gridwidth\":2,\"linecolor\":\"white\",\"showbackground\":true,\"ticks\":\"\",\"zerolinecolor\":\"white\"},\"zaxis\":{\"backgroundcolor\":\"#E5ECF6\",\"gridcolor\":\"white\",\"gridwidth\":2,\"linecolor\":\"white\",\"showbackground\":true,\"ticks\":\"\",\"zerolinecolor\":\"white\"}},\"shapedefaults\":{\"line\":{\"color\":\"#2a3f5f\"}},\"ternary\":{\"aaxis\":{\"gridcolor\":\"white\",\"linecolor\":\"white\",\"ticks\":\"\"},\"baxis\":{\"gridcolor\":\"white\",\"linecolor\":\"white\",\"ticks\":\"\"},\"bgcolor\":\"#E5ECF6\",\"caxis\":{\"gridcolor\":\"white\",\"linecolor\":\"white\",\"ticks\":\"\"}},\"title\":{\"x\":0.05},\"xaxis\":{\"automargin\":true,\"gridcolor\":\"white\",\"linecolor\":\"white\",\"ticks\":\"\",\"title\":{\"standoff\":15},\"zerolinecolor\":\"white\",\"zerolinewidth\":2},\"yaxis\":{\"automargin\":true,\"gridcolor\":\"white\",\"linecolor\":\"white\",\"ticks\":\"\",\"title\":{\"standoff\":15},\"zerolinecolor\":\"white\",\"zerolinewidth\":2}}},\"xaxis\":{\"anchor\":\"y\",\"domain\":[0.0,1.0],\"title\":{\"text\":\"x\"}},\"yaxis\":{\"anchor\":\"x\",\"domain\":[0.0,1.0],\"title\":{\"text\":\"y\"}}},                        {\"responsive\": true}                    ).then(function(){\n",
       "                            \n",
       "var gd = document.getElementById('b6d271da-6d96-42b5-99bb-96dfbeb26328');\n",
       "var x = new MutationObserver(function (mutations, observer) {{\n",
       "        var display = window.getComputedStyle(gd).display;\n",
       "        if (!display || display === 'none') {{\n",
       "            console.log([gd, 'removed!']);\n",
       "            Plotly.purge(gd);\n",
       "            observer.disconnect();\n",
       "        }}\n",
       "}});\n",
       "\n",
       "// Listen for the removal of the full notebook cells\n",
       "var notebookContainer = gd.closest('#notebook-container');\n",
       "if (notebookContainer) {{\n",
       "    x.observe(notebookContainer, {childList: true});\n",
       "}}\n",
       "\n",
       "// Listen for the clearing of the current output cell\n",
       "var outputEl = gd.closest('.output');\n",
       "if (outputEl) {{\n",
       "    x.observe(outputEl, {childList: true});\n",
       "}}\n",
       "\n",
       "                        })                };                });            </script>        </div>"
      ]
     },
     "metadata": {},
     "output_type": "display_data"
    }
   ],
   "source": [
    "px, py, r = opt_res.x\n",
    "\n",
    "fig.add_shape(type=\"circle\",\n",
    "    xref=\"x\", yref=\"y\",\n",
    "    x0=px-r, y0=py-r, x1=px+r, y1=py+r,\n",
    "    line_color=\"LightSeaGreen\",\n",
    ")\n",
    "\n",
    "o = objects[0]\n",
    "fig.add_shape(type=\"circle\",\n",
    "    xref=\"x\", yref=\"y\",\n",
    "    x0=o[\"x\"]-o[\"r\"], y0=o[\"y\"]-o[\"r\"], x1=o[\"x\"]+o[\"r\"], y1=o[\"y\"]+o[\"r\"],\n",
    "    line_color=\"Red\",\n",
    ")\n",
    "\n",
    "fig.show()\n"
   ]
  },
  {
   "cell_type": "markdown",
   "id": "33e74e0a-d4f5-47c8-9399-00dba8efb7ee",
   "metadata": {},
   "source": [
    "## Better circle fitting algos\n",
    "[paper](https://people.cas.uab.edu/~mosya/papers/cl1.pdf)"
   ]
  },
  {
   "cell_type": "code",
   "execution_count": null,
   "id": "4239f0c2-cae7-406d-b2b0-bad65f0f44a2",
   "metadata": {},
   "outputs": [],
   "source": []
  },
  {
   "cell_type": "code",
   "execution_count": null,
   "id": "0c4fe3e2-b4d1-4540-bd08-d6ac63524805",
   "metadata": {},
   "outputs": [],
   "source": []
  },
  {
   "cell_type": "code",
   "execution_count": null,
   "id": "4cf3bb0e-5d7c-4f65-8a45-ff60cf1597f0",
   "metadata": {},
   "outputs": [],
   "source": []
  },
  {
   "cell_type": "code",
   "execution_count": null,
   "id": "f33522ef-c68a-47cc-8ed2-22b77460cdab",
   "metadata": {},
   "outputs": [],
   "source": []
  },
  {
   "cell_type": "code",
   "execution_count": null,
   "id": "69e08494-2030-42de-868f-0cb72afa7b8f",
   "metadata": {},
   "outputs": [],
   "source": []
  }
 ],
 "metadata": {
  "kernelspec": {
   "display_name": "Python 3",
   "language": "python",
   "name": "python3"
  },
  "language_info": {
   "codemirror_mode": {
    "name": "ipython",
    "version": 3
   },
   "file_extension": ".py",
   "mimetype": "text/x-python",
   "name": "python",
   "nbconvert_exporter": "python",
   "pygments_lexer": "ipython3",
   "version": "3.6.9"
  }
 },
 "nbformat": 4,
 "nbformat_minor": 5
}
