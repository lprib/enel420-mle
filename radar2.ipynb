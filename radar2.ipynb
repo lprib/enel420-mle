{
 "cells": [
  {
   "cell_type": "code",
   "execution_count": 2,
   "id": "71144f65-cb37-47f9-962e-feb77e39c259",
   "metadata": {},
   "outputs": [],
   "source": [
    "import numpy as np\n",
    "import plotly.express as px\n",
    "from scipy import stats, optimize"
   ]
  },
  {
   "cell_type": "code",
   "execution_count": 14,
   "id": "0b058568-1433-4554-8cb7-5571c5afdd99",
   "metadata": {},
   "outputs": [],
   "source": [
    "objects = [\n",
    "    {\"x\": -12, \"y\": 12, \"r\": 4, \"spin\": 8}\n",
    "]\n",
    "\n",
    "radar_x = 3\n",
    "radar_y = 4"
   ]
  },
  {
   "cell_type": "code",
   "execution_count": 15,
   "id": "526754f1-8f33-4da8-935a-8df571d955ed",
   "metadata": {},
   "outputs": [
    {
     "data": {
      "application/vnd.plotly.v1+json": {
       "config": {
        "plotlyServerURL": "https://plot.ly"
       },
       "data": [
        {
         "hovertemplate": "x=%{x}<br>y=%{y}<br>size=%{marker.size}<extra></extra>",
         "legendgroup": "",
         "marker": {
          "color": "#636efa",
          "size": [
           4
          ],
          "sizemode": "area",
          "sizeref": 0.01,
          "symbol": "circle"
         },
         "mode": "markers",
         "name": "",
         "orientation": "v",
         "showlegend": false,
         "type": "scatter",
         "x": [
          -12
         ],
         "xaxis": "x",
         "y": [
          12
         ],
         "yaxis": "y"
        },
        {
         "mode": "markers",
         "name": "base station",
         "type": "scatter",
         "x": [
          3
         ],
         "y": [
          4
         ]
        }
       ],
       "layout": {
        "autosize": true,
        "legend": {
         "itemsizing": "constant",
         "tracegroupgap": 0
        },
        "margin": {
         "t": 60
        },
        "template": {
         "data": {
          "bar": [
           {
            "error_x": {
             "color": "#2a3f5f"
            },
            "error_y": {
             "color": "#2a3f5f"
            },
            "marker": {
             "line": {
              "color": "#E5ECF6",
              "width": 0.5
             },
             "pattern": {
              "fillmode": "overlay",
              "size": 10,
              "solidity": 0.2
             }
            },
            "type": "bar"
           }
          ],
          "barpolar": [
           {
            "marker": {
             "line": {
              "color": "#E5ECF6",
              "width": 0.5
             },
             "pattern": {
              "fillmode": "overlay",
              "size": 10,
              "solidity": 0.2
             }
            },
            "type": "barpolar"
           }
          ],
          "carpet": [
           {
            "aaxis": {
             "endlinecolor": "#2a3f5f",
             "gridcolor": "white",
             "linecolor": "white",
             "minorgridcolor": "white",
             "startlinecolor": "#2a3f5f"
            },
            "baxis": {
             "endlinecolor": "#2a3f5f",
             "gridcolor": "white",
             "linecolor": "white",
             "minorgridcolor": "white",
             "startlinecolor": "#2a3f5f"
            },
            "type": "carpet"
           }
          ],
          "choropleth": [
           {
            "colorbar": {
             "outlinewidth": 0,
             "ticks": ""
            },
            "type": "choropleth"
           }
          ],
          "contour": [
           {
            "colorbar": {
             "outlinewidth": 0,
             "ticks": ""
            },
            "colorscale": [
             [
              0,
              "#0d0887"
             ],
             [
              0.1111111111111111,
              "#46039f"
             ],
             [
              0.2222222222222222,
              "#7201a8"
             ],
             [
              0.3333333333333333,
              "#9c179e"
             ],
             [
              0.4444444444444444,
              "#bd3786"
             ],
             [
              0.5555555555555556,
              "#d8576b"
             ],
             [
              0.6666666666666666,
              "#ed7953"
             ],
             [
              0.7777777777777778,
              "#fb9f3a"
             ],
             [
              0.8888888888888888,
              "#fdca26"
             ],
             [
              1,
              "#f0f921"
             ]
            ],
            "type": "contour"
           }
          ],
          "contourcarpet": [
           {
            "colorbar": {
             "outlinewidth": 0,
             "ticks": ""
            },
            "type": "contourcarpet"
           }
          ],
          "heatmap": [
           {
            "colorbar": {
             "outlinewidth": 0,
             "ticks": ""
            },
            "colorscale": [
             [
              0,
              "#0d0887"
             ],
             [
              0.1111111111111111,
              "#46039f"
             ],
             [
              0.2222222222222222,
              "#7201a8"
             ],
             [
              0.3333333333333333,
              "#9c179e"
             ],
             [
              0.4444444444444444,
              "#bd3786"
             ],
             [
              0.5555555555555556,
              "#d8576b"
             ],
             [
              0.6666666666666666,
              "#ed7953"
             ],
             [
              0.7777777777777778,
              "#fb9f3a"
             ],
             [
              0.8888888888888888,
              "#fdca26"
             ],
             [
              1,
              "#f0f921"
             ]
            ],
            "type": "heatmap"
           }
          ],
          "heatmapgl": [
           {
            "colorbar": {
             "outlinewidth": 0,
             "ticks": ""
            },
            "colorscale": [
             [
              0,
              "#0d0887"
             ],
             [
              0.1111111111111111,
              "#46039f"
             ],
             [
              0.2222222222222222,
              "#7201a8"
             ],
             [
              0.3333333333333333,
              "#9c179e"
             ],
             [
              0.4444444444444444,
              "#bd3786"
             ],
             [
              0.5555555555555556,
              "#d8576b"
             ],
             [
              0.6666666666666666,
              "#ed7953"
             ],
             [
              0.7777777777777778,
              "#fb9f3a"
             ],
             [
              0.8888888888888888,
              "#fdca26"
             ],
             [
              1,
              "#f0f921"
             ]
            ],
            "type": "heatmapgl"
           }
          ],
          "histogram": [
           {
            "marker": {
             "pattern": {
              "fillmode": "overlay",
              "size": 10,
              "solidity": 0.2
             }
            },
            "type": "histogram"
           }
          ],
          "histogram2d": [
           {
            "colorbar": {
             "outlinewidth": 0,
             "ticks": ""
            },
            "colorscale": [
             [
              0,
              "#0d0887"
             ],
             [
              0.1111111111111111,
              "#46039f"
             ],
             [
              0.2222222222222222,
              "#7201a8"
             ],
             [
              0.3333333333333333,
              "#9c179e"
             ],
             [
              0.4444444444444444,
              "#bd3786"
             ],
             [
              0.5555555555555556,
              "#d8576b"
             ],
             [
              0.6666666666666666,
              "#ed7953"
             ],
             [
              0.7777777777777778,
              "#fb9f3a"
             ],
             [
              0.8888888888888888,
              "#fdca26"
             ],
             [
              1,
              "#f0f921"
             ]
            ],
            "type": "histogram2d"
           }
          ],
          "histogram2dcontour": [
           {
            "colorbar": {
             "outlinewidth": 0,
             "ticks": ""
            },
            "colorscale": [
             [
              0,
              "#0d0887"
             ],
             [
              0.1111111111111111,
              "#46039f"
             ],
             [
              0.2222222222222222,
              "#7201a8"
             ],
             [
              0.3333333333333333,
              "#9c179e"
             ],
             [
              0.4444444444444444,
              "#bd3786"
             ],
             [
              0.5555555555555556,
              "#d8576b"
             ],
             [
              0.6666666666666666,
              "#ed7953"
             ],
             [
              0.7777777777777778,
              "#fb9f3a"
             ],
             [
              0.8888888888888888,
              "#fdca26"
             ],
             [
              1,
              "#f0f921"
             ]
            ],
            "type": "histogram2dcontour"
           }
          ],
          "mesh3d": [
           {
            "colorbar": {
             "outlinewidth": 0,
             "ticks": ""
            },
            "type": "mesh3d"
           }
          ],
          "parcoords": [
           {
            "line": {
             "colorbar": {
              "outlinewidth": 0,
              "ticks": ""
             }
            },
            "type": "parcoords"
           }
          ],
          "pie": [
           {
            "automargin": true,
            "type": "pie"
           }
          ],
          "scatter": [
           {
            "marker": {
             "colorbar": {
              "outlinewidth": 0,
              "ticks": ""
             }
            },
            "type": "scatter"
           }
          ],
          "scatter3d": [
           {
            "line": {
             "colorbar": {
              "outlinewidth": 0,
              "ticks": ""
             }
            },
            "marker": {
             "colorbar": {
              "outlinewidth": 0,
              "ticks": ""
             }
            },
            "type": "scatter3d"
           }
          ],
          "scattercarpet": [
           {
            "marker": {
             "colorbar": {
              "outlinewidth": 0,
              "ticks": ""
             }
            },
            "type": "scattercarpet"
           }
          ],
          "scattergeo": [
           {
            "marker": {
             "colorbar": {
              "outlinewidth": 0,
              "ticks": ""
             }
            },
            "type": "scattergeo"
           }
          ],
          "scattergl": [
           {
            "marker": {
             "colorbar": {
              "outlinewidth": 0,
              "ticks": ""
             }
            },
            "type": "scattergl"
           }
          ],
          "scattermapbox": [
           {
            "marker": {
             "colorbar": {
              "outlinewidth": 0,
              "ticks": ""
             }
            },
            "type": "scattermapbox"
           }
          ],
          "scatterpolar": [
           {
            "marker": {
             "colorbar": {
              "outlinewidth": 0,
              "ticks": ""
             }
            },
            "type": "scatterpolar"
           }
          ],
          "scatterpolargl": [
           {
            "marker": {
             "colorbar": {
              "outlinewidth": 0,
              "ticks": ""
             }
            },
            "type": "scatterpolargl"
           }
          ],
          "scatterternary": [
           {
            "marker": {
             "colorbar": {
              "outlinewidth": 0,
              "ticks": ""
             }
            },
            "type": "scatterternary"
           }
          ],
          "surface": [
           {
            "colorbar": {
             "outlinewidth": 0,
             "ticks": ""
            },
            "colorscale": [
             [
              0,
              "#0d0887"
             ],
             [
              0.1111111111111111,
              "#46039f"
             ],
             [
              0.2222222222222222,
              "#7201a8"
             ],
             [
              0.3333333333333333,
              "#9c179e"
             ],
             [
              0.4444444444444444,
              "#bd3786"
             ],
             [
              0.5555555555555556,
              "#d8576b"
             ],
             [
              0.6666666666666666,
              "#ed7953"
             ],
             [
              0.7777777777777778,
              "#fb9f3a"
             ],
             [
              0.8888888888888888,
              "#fdca26"
             ],
             [
              1,
              "#f0f921"
             ]
            ],
            "type": "surface"
           }
          ],
          "table": [
           {
            "cells": {
             "fill": {
              "color": "#EBF0F8"
             },
             "line": {
              "color": "white"
             }
            },
            "header": {
             "fill": {
              "color": "#C8D4E3"
             },
             "line": {
              "color": "white"
             }
            },
            "type": "table"
           }
          ]
         },
         "layout": {
          "annotationdefaults": {
           "arrowcolor": "#2a3f5f",
           "arrowhead": 0,
           "arrowwidth": 1
          },
          "autotypenumbers": "strict",
          "coloraxis": {
           "colorbar": {
            "outlinewidth": 0,
            "ticks": ""
           }
          },
          "colorscale": {
           "diverging": [
            [
             0,
             "#8e0152"
            ],
            [
             0.1,
             "#c51b7d"
            ],
            [
             0.2,
             "#de77ae"
            ],
            [
             0.3,
             "#f1b6da"
            ],
            [
             0.4,
             "#fde0ef"
            ],
            [
             0.5,
             "#f7f7f7"
            ],
            [
             0.6,
             "#e6f5d0"
            ],
            [
             0.7,
             "#b8e186"
            ],
            [
             0.8,
             "#7fbc41"
            ],
            [
             0.9,
             "#4d9221"
            ],
            [
             1,
             "#276419"
            ]
           ],
           "sequential": [
            [
             0,
             "#0d0887"
            ],
            [
             0.1111111111111111,
             "#46039f"
            ],
            [
             0.2222222222222222,
             "#7201a8"
            ],
            [
             0.3333333333333333,
             "#9c179e"
            ],
            [
             0.4444444444444444,
             "#bd3786"
            ],
            [
             0.5555555555555556,
             "#d8576b"
            ],
            [
             0.6666666666666666,
             "#ed7953"
            ],
            [
             0.7777777777777778,
             "#fb9f3a"
            ],
            [
             0.8888888888888888,
             "#fdca26"
            ],
            [
             1,
             "#f0f921"
            ]
           ],
           "sequentialminus": [
            [
             0,
             "#0d0887"
            ],
            [
             0.1111111111111111,
             "#46039f"
            ],
            [
             0.2222222222222222,
             "#7201a8"
            ],
            [
             0.3333333333333333,
             "#9c179e"
            ],
            [
             0.4444444444444444,
             "#bd3786"
            ],
            [
             0.5555555555555556,
             "#d8576b"
            ],
            [
             0.6666666666666666,
             "#ed7953"
            ],
            [
             0.7777777777777778,
             "#fb9f3a"
            ],
            [
             0.8888888888888888,
             "#fdca26"
            ],
            [
             1,
             "#f0f921"
            ]
           ]
          },
          "colorway": [
           "#636efa",
           "#EF553B",
           "#00cc96",
           "#ab63fa",
           "#FFA15A",
           "#19d3f3",
           "#FF6692",
           "#B6E880",
           "#FF97FF",
           "#FECB52"
          ],
          "font": {
           "color": "#2a3f5f"
          },
          "geo": {
           "bgcolor": "white",
           "lakecolor": "white",
           "landcolor": "#E5ECF6",
           "showlakes": true,
           "showland": true,
           "subunitcolor": "white"
          },
          "hoverlabel": {
           "align": "left"
          },
          "hovermode": "closest",
          "mapbox": {
           "style": "light"
          },
          "paper_bgcolor": "white",
          "plot_bgcolor": "#E5ECF6",
          "polar": {
           "angularaxis": {
            "gridcolor": "white",
            "linecolor": "white",
            "ticks": ""
           },
           "bgcolor": "#E5ECF6",
           "radialaxis": {
            "gridcolor": "white",
            "linecolor": "white",
            "ticks": ""
           }
          },
          "scene": {
           "xaxis": {
            "backgroundcolor": "#E5ECF6",
            "gridcolor": "white",
            "gridwidth": 2,
            "linecolor": "white",
            "showbackground": true,
            "ticks": "",
            "zerolinecolor": "white"
           },
           "yaxis": {
            "backgroundcolor": "#E5ECF6",
            "gridcolor": "white",
            "gridwidth": 2,
            "linecolor": "white",
            "showbackground": true,
            "ticks": "",
            "zerolinecolor": "white"
           },
           "zaxis": {
            "backgroundcolor": "#E5ECF6",
            "gridcolor": "white",
            "gridwidth": 2,
            "linecolor": "white",
            "showbackground": true,
            "ticks": "",
            "zerolinecolor": "white"
           }
          },
          "shapedefaults": {
           "line": {
            "color": "#2a3f5f"
           }
          },
          "ternary": {
           "aaxis": {
            "gridcolor": "white",
            "linecolor": "white",
            "ticks": ""
           },
           "baxis": {
            "gridcolor": "white",
            "linecolor": "white",
            "ticks": ""
           },
           "bgcolor": "#E5ECF6",
           "caxis": {
            "gridcolor": "white",
            "linecolor": "white",
            "ticks": ""
           }
          },
          "title": {
           "x": 0.05
          },
          "xaxis": {
           "automargin": true,
           "gridcolor": "white",
           "linecolor": "white",
           "ticks": "",
           "title": {
            "standoff": 15
           },
           "zerolinecolor": "white",
           "zerolinewidth": 2
          },
          "yaxis": {
           "automargin": true,
           "gridcolor": "white",
           "linecolor": "white",
           "ticks": "",
           "title": {
            "standoff": 15
           },
           "zerolinecolor": "white",
           "zerolinewidth": 2
          }
         }
        },
        "xaxis": {
         "anchor": "y",
         "autorange": true,
         "domain": [
          0,
          1
         ],
         "range": [
          -13.447902324305703,
          4.0092411044764695
         ],
         "title": {
          "text": "x"
         },
         "type": "linear"
        },
        "yaxis": {
         "anchor": "x",
         "autorange": true,
         "domain": [
          0,
          1
         ],
         "range": [
          3.338708147993528,
          13.202044245717179
         ],
         "title": {
          "text": "y"
         },
         "type": "linear"
        }
       }
      },
      "image/png": "[encoded data removed]",
      "text/html": [
       "<div>                            <div id=\"94dbe44d-629e-4dab-bc3e-8e9d446d6786\" class=\"plotly-graph-div\" style=\"height:525px; width:100%;\"></div>            <script type=\"text/javascript\">                require([\"plotly\"], function(Plotly) {                    window.PLOTLYENV=window.PLOTLYENV || {};                                    if (document.getElementById(\"94dbe44d-629e-4dab-bc3e-8e9d446d6786\")) {                    Plotly.newPlot(                        \"94dbe44d-629e-4dab-bc3e-8e9d446d6786\",                        [{\"hovertemplate\":\"x=%{x}<br>y=%{y}<br>size=%{marker.size}<extra></extra>\",\"legendgroup\":\"\",\"marker\":{\"color\":\"#636efa\",\"size\":[4],\"sizemode\":\"area\",\"sizeref\":0.01,\"symbol\":\"circle\"},\"mode\":\"markers\",\"name\":\"\",\"orientation\":\"v\",\"showlegend\":false,\"type\":\"scatter\",\"x\":[-12],\"xaxis\":\"x\",\"y\":[12],\"yaxis\":\"y\"},{\"mode\":\"markers\",\"name\":\"base station\",\"type\":\"scatter\",\"x\":[3],\"y\":[4]}],                        {\"legend\":{\"itemsizing\":\"constant\",\"tracegroupgap\":0},\"margin\":{\"t\":60},\"template\":{\"data\":{\"bar\":[{\"error_x\":{\"color\":\"#2a3f5f\"},\"error_y\":{\"color\":\"#2a3f5f\"},\"marker\":{\"line\":{\"color\":\"#E5ECF6\",\"width\":0.5},\"pattern\":{\"fillmode\":\"overlay\",\"size\":10,\"solidity\":0.2}},\"type\":\"bar\"}],\"barpolar\":[{\"marker\":{\"line\":{\"color\":\"#E5ECF6\",\"width\":0.5},\"pattern\":{\"fillmode\":\"overlay\",\"size\":10,\"solidity\":0.2}},\"type\":\"barpolar\"}],\"carpet\":[{\"aaxis\":{\"endlinecolor\":\"#2a3f5f\",\"gridcolor\":\"white\",\"linecolor\":\"white\",\"minorgridcolor\":\"white\",\"startlinecolor\":\"#2a3f5f\"},\"baxis\":{\"endlinecolor\":\"#2a3f5f\",\"gridcolor\":\"white\",\"linecolor\":\"white\",\"minorgridcolor\":\"white\",\"startlinecolor\":\"#2a3f5f\"},\"type\":\"carpet\"}],\"choropleth\":[{\"colorbar\":{\"outlinewidth\":0,\"ticks\":\"\"},\"type\":\"choropleth\"}],\"contour\":[{\"colorbar\":{\"outlinewidth\":0,\"ticks\":\"\"},\"colorscale\":[[0.0,\"#0d0887\"],[0.1111111111111111,\"#46039f\"],[0.2222222222222222,\"#7201a8\"],[0.3333333333333333,\"#9c179e\"],[0.4444444444444444,\"#bd3786\"],[0.5555555555555556,\"#d8576b\"],[0.6666666666666666,\"#ed7953\"],[0.7777777777777778,\"#fb9f3a\"],[0.8888888888888888,\"#fdca26\"],[1.0,\"#f0f921\"]],\"type\":\"contour\"}],\"contourcarpet\":[{\"colorbar\":{\"outlinewidth\":0,\"ticks\":\"\"},\"type\":\"contourcarpet\"}],\"heatmap\":[{\"colorbar\":{\"outlinewidth\":0,\"ticks\":\"\"},\"colorscale\":[[0.0,\"#0d0887\"],[0.1111111111111111,\"#46039f\"],[0.2222222222222222,\"#7201a8\"],[0.3333333333333333,\"#9c179e\"],[0.4444444444444444,\"#bd3786\"],[0.5555555555555556,\"#d8576b\"],[0.6666666666666666,\"#ed7953\"],[0.7777777777777778,\"#fb9f3a\"],[0.8888888888888888,\"#fdca26\"],[1.0,\"#f0f921\"]],\"type\":\"heatmap\"}],\"heatmapgl\":[{\"colorbar\":{\"outlinewidth\":0,\"ticks\":\"\"},\"colorscale\":[[0.0,\"#0d0887\"],[0.1111111111111111,\"#46039f\"],[0.2222222222222222,\"#7201a8\"],[0.3333333333333333,\"#9c179e\"],[0.4444444444444444,\"#bd3786\"],[0.5555555555555556,\"#d8576b\"],[0.6666666666666666,\"#ed7953\"],[0.7777777777777778,\"#fb9f3a\"],[0.8888888888888888,\"#fdca26\"],[1.0,\"#f0f921\"]],\"type\":\"heatmapgl\"}],\"histogram\":[{\"marker\":{\"pattern\":{\"fillmode\":\"overlay\",\"size\":10,\"solidity\":0.2}},\"type\":\"histogram\"}],\"histogram2d\":[{\"colorbar\":{\"outlinewidth\":0,\"ticks\":\"\"},\"colorscale\":[[0.0,\"#0d0887\"],[0.1111111111111111,\"#46039f\"],[0.2222222222222222,\"#7201a8\"],[0.3333333333333333,\"#9c179e\"],[0.4444444444444444,\"#bd3786\"],[0.5555555555555556,\"#d8576b\"],[0.6666666666666666,\"#ed7953\"],[0.7777777777777778,\"#fb9f3a\"],[0.8888888888888888,\"#fdca26\"],[1.0,\"#f0f921\"]],\"type\":\"histogram2d\"}],\"histogram2dcontour\":[{\"colorbar\":{\"outlinewidth\":0,\"ticks\":\"\"},\"colorscale\":[[0.0,\"#0d0887\"],[0.1111111111111111,\"#46039f\"],[0.2222222222222222,\"#7201a8\"],[0.3333333333333333,\"#9c179e\"],[0.4444444444444444,\"#bd3786\"],[0.5555555555555556,\"#d8576b\"],[0.6666666666666666,\"#ed7953\"],[0.7777777777777778,\"#fb9f3a\"],[0.8888888888888888,\"#fdca26\"],[1.0,\"#f0f921\"]],\"type\":\"histogram2dcontour\"}],\"mesh3d\":[{\"colorbar\":{\"outlinewidth\":0,\"ticks\":\"\"},\"type\":\"mesh3d\"}],\"parcoords\":[{\"line\":{\"colorbar\":{\"outlinewidth\":0,\"ticks\":\"\"}},\"type\":\"parcoords\"}],\"pie\":[{\"automargin\":true,\"type\":\"pie\"}],\"scatter\":[{\"marker\":{\"colorbar\":{\"outlinewidth\":0,\"ticks\":\"\"}},\"type\":\"scatter\"}],\"scatter3d\":[{\"line\":{\"colorbar\":{\"outlinewidth\":0,\"ticks\":\"\"}},\"marker\":{\"colorbar\":{\"outlinewidth\":0,\"ticks\":\"\"}},\"type\":\"scatter3d\"}],\"scattercarpet\":[{\"marker\":{\"colorbar\":{\"outlinewidth\":0,\"ticks\":\"\"}},\"type\":\"scattercarpet\"}],\"scattergeo\":[{\"marker\":{\"colorbar\":{\"outlinewidth\":0,\"ticks\":\"\"}},\"type\":\"scattergeo\"}],\"scattergl\":[{\"marker\":{\"colorbar\":{\"outlinewidth\":0,\"ticks\":\"\"}},\"type\":\"scattergl\"}],\"scattermapbox\":[{\"marker\":{\"colorbar\":{\"outlinewidth\":0,\"ticks\":\"\"}},\"type\":\"scattermapbox\"}],\"scatterpolar\":[{\"marker\":{\"colorbar\":{\"outlinewidth\":0,\"ticks\":\"\"}},\"type\":\"scatterpolar\"}],\"scatterpolargl\":[{\"marker\":{\"colorbar\":{\"outlinewidth\":0,\"ticks\":\"\"}},\"type\":\"scatterpolargl\"}],\"scatterternary\":[{\"marker\":{\"colorbar\":{\"outlinewidth\":0,\"ticks\":\"\"}},\"type\":\"scatterternary\"}],\"surface\":[{\"colorbar\":{\"outlinewidth\":0,\"ticks\":\"\"},\"colorscale\":[[0.0,\"#0d0887\"],[0.1111111111111111,\"#46039f\"],[0.2222222222222222,\"#7201a8\"],[0.3333333333333333,\"#9c179e\"],[0.4444444444444444,\"#bd3786\"],[0.5555555555555556,\"#d8576b\"],[0.6666666666666666,\"#ed7953\"],[0.7777777777777778,\"#fb9f3a\"],[0.8888888888888888,\"#fdca26\"],[1.0,\"#f0f921\"]],\"type\":\"surface\"}],\"table\":[{\"cells\":{\"fill\":{\"color\":\"#EBF0F8\"},\"line\":{\"color\":\"white\"}},\"header\":{\"fill\":{\"color\":\"#C8D4E3\"},\"line\":{\"color\":\"white\"}},\"type\":\"table\"}]},\"layout\":{\"annotationdefaults\":{\"arrowcolor\":\"#2a3f5f\",\"arrowhead\":0,\"arrowwidth\":1},\"autotypenumbers\":\"strict\",\"coloraxis\":{\"colorbar\":{\"outlinewidth\":0,\"ticks\":\"\"}},\"colorscale\":{\"diverging\":[[0,\"#8e0152\"],[0.1,\"#c51b7d\"],[0.2,\"#de77ae\"],[0.3,\"#f1b6da\"],[0.4,\"#fde0ef\"],[0.5,\"#f7f7f7\"],[0.6,\"#e6f5d0\"],[0.7,\"#b8e186\"],[0.8,\"#7fbc41\"],[0.9,\"#4d9221\"],[1,\"#276419\"]],\"sequential\":[[0.0,\"#0d0887\"],[0.1111111111111111,\"#46039f\"],[0.2222222222222222,\"#7201a8\"],[0.3333333333333333,\"#9c179e\"],[0.4444444444444444,\"#bd3786\"],[0.5555555555555556,\"#d8576b\"],[0.6666666666666666,\"#ed7953\"],[0.7777777777777778,\"#fb9f3a\"],[0.8888888888888888,\"#fdca26\"],[1.0,\"#f0f921\"]],\"sequentialminus\":[[0.0,\"#0d0887\"],[0.1111111111111111,\"#46039f\"],[0.2222222222222222,\"#7201a8\"],[0.3333333333333333,\"#9c179e\"],[0.4444444444444444,\"#bd3786\"],[0.5555555555555556,\"#d8576b\"],[0.6666666666666666,\"#ed7953\"],[0.7777777777777778,\"#fb9f3a\"],[0.8888888888888888,\"#fdca26\"],[1.0,\"#f0f921\"]]},\"colorway\":[\"#636efa\",\"#EF553B\",\"#00cc96\",\"#ab63fa\",\"#FFA15A\",\"#19d3f3\",\"#FF6692\",\"#B6E880\",\"#FF97FF\",\"#FECB52\"],\"font\":{\"color\":\"#2a3f5f\"},\"geo\":{\"bgcolor\":\"white\",\"lakecolor\":\"white\",\"landcolor\":\"#E5ECF6\",\"showlakes\":true,\"showland\":true,\"subunitcolor\":\"white\"},\"hoverlabel\":{\"align\":\"left\"},\"hovermode\":\"closest\",\"mapbox\":{\"style\":\"light\"},\"paper_bgcolor\":\"white\",\"plot_bgcolor\":\"#E5ECF6\",\"polar\":{\"angularaxis\":{\"gridcolor\":\"white\",\"linecolor\":\"white\",\"ticks\":\"\"},\"bgcolor\":\"#E5ECF6\",\"radialaxis\":{\"gridcolor\":\"white\",\"linecolor\":\"white\",\"ticks\":\"\"}},\"scene\":{\"xaxis\":{\"backgroundcolor\":\"#E5ECF6\",\"gridcolor\":\"white\",\"gridwidth\":2,\"linecolor\":\"white\",\"showbackground\":true,\"ticks\":\"\",\"zerolinecolor\":\"white\"},\"yaxis\":{\"backgroundcolor\":\"#E5ECF6\",\"gridcolor\":\"white\",\"gridwidth\":2,\"linecolor\":\"white\",\"showbackground\":true,\"ticks\":\"\",\"zerolinecolor\":\"white\"},\"zaxis\":{\"backgroundcolor\":\"#E5ECF6\",\"gridcolor\":\"white\",\"gridwidth\":2,\"linecolor\":\"white\",\"showbackground\":true,\"ticks\":\"\",\"zerolinecolor\":\"white\"}},\"shapedefaults\":{\"line\":{\"color\":\"#2a3f5f\"}},\"ternary\":{\"aaxis\":{\"gridcolor\":\"white\",\"linecolor\":\"white\",\"ticks\":\"\"},\"baxis\":{\"gridcolor\":\"white\",\"linecolor\":\"white\",\"ticks\":\"\"},\"bgcolor\":\"#E5ECF6\",\"caxis\":{\"gridcolor\":\"white\",\"linecolor\":\"white\",\"ticks\":\"\"}},\"title\":{\"x\":0.05},\"xaxis\":{\"automargin\":true,\"gridcolor\":\"white\",\"linecolor\":\"white\",\"ticks\":\"\",\"title\":{\"standoff\":15},\"zerolinecolor\":\"white\",\"zerolinewidth\":2},\"yaxis\":{\"automargin\":true,\"gridcolor\":\"white\",\"linecolor\":\"white\",\"ticks\":\"\",\"title\":{\"standoff\":15},\"zerolinecolor\":\"white\",\"zerolinewidth\":2}}},\"xaxis\":{\"anchor\":\"y\",\"domain\":[0.0,1.0],\"title\":{\"text\":\"x\"}},\"yaxis\":{\"anchor\":\"x\",\"domain\":[0.0,1.0],\"title\":{\"text\":\"y\"}}},                        {\"responsive\": true}                    ).then(function(){\n",
       "                            \n",
       "var gd = document.getElementById('94dbe44d-629e-4dab-bc3e-8e9d446d6786');\n",
       "var x = new MutationObserver(function (mutations, observer) {{\n",
       "        var display = window.getComputedStyle(gd).display;\n",
       "        if (!display || display === 'none') {{\n",
       "            console.log([gd, 'removed!']);\n",
       "            Plotly.purge(gd);\n",
       "            observer.disconnect();\n",
       "        }}\n",
       "}});\n",
       "\n",
       "// Listen for the removal of the full notebook cells\n",
       "var notebookContainer = gd.closest('#notebook-container');\n",
       "if (notebookContainer) {{\n",
       "    x.observe(notebookContainer, {childList: true});\n",
       "}}\n",
       "\n",
       "// Listen for the clearing of the current output cell\n",
       "var outputEl = gd.closest('.output');\n",
       "if (outputEl) {{\n",
       "    x.observe(outputEl, {childList: true});\n",
       "}}\n",
       "\n",
       "                        })                };                });            </script>        </div>"
      ]
     },
     "metadata": {},
     "output_type": "display_data"
    }
   ],
   "source": [
    "fig = px.scatter(\n",
    "    x = [o[\"x\"] for o in objects],\n",
    "    y = [o[\"y\"] for o in objects],\n",
    "    size = [o[\"r\"] for o in objects],\n",
    ")\n",
    "fig.add_scatter(x=[radar_x], y=[radar_y], mode=\"markers\", name=\"base station\")\n",
    "fig.show()"
   ]
  },
  {
   "cell_type": "code",
   "execution_count": 24,
   "id": "7646e0b9-3745-4cf7-a865-bc8ff4008c21",
   "metadata": {},
   "outputs": [
    {
     "name": "stderr",
     "output_type": "stream",
     "text": [
      "/tmp/ipykernel_50808/2649850973.py:20: RuntimeWarning:\n",
      "\n",
      "invalid value encountered in sqrt\n",
      "\n"
     ]
    }
   ],
   "source": [
    "num_angles = 2000\n",
    "point_xs = []\n",
    "point_ys = []\n",
    "point_vs = []\n",
    "point_angles = []\n",
    "\n",
    "for angle in np.linspace(0, 2*np.pi, num_angles):\n",
    "    Dx = np.cos(angle)\n",
    "    Dy = np.sin(angle)\n",
    "    hit = None\n",
    "    min_t = float(\"inf\")\n",
    "    for obj in objects:\n",
    "        Lx = obj[\"x\"] - radar_x\n",
    "        Ly = obj[\"y\"] - radar_y\n",
    "        tca = Dx*Lx + Dy*Ly\n",
    "        if tca < 0:\n",
    "            continue\n",
    "        try:\n",
    "            d = np.sqrt(Lx*Lx+Ly*Ly - tca*tca)\n",
    "            thc = np.sqrt(obj[\"r\"]*obj[\"r\"] - d*d)\n",
    "        except:\n",
    "            # imaginary root\n",
    "            continue\n",
    "        \n",
    "        t = min(tca+thc, tca-thc)\n",
    "        if t < min_t:\n",
    "            hx = radar_x + Dx * t\n",
    "            hy = radar_y + Dy * t\n",
    "            # Calculate velocity in the direction of the radar\n",
    "            hit_angle = np.arctan2(hx - obj[\"x\"], hy-obj[\"y\"])\n",
    "            incident_angle = np.arctan2(radar_x - obj[\"x\"], radar_y - obj[\"y\"])\n",
    "            d_angle = np.arctan2(\n",
    "                np.sin(hit_angle - incident_angle), \n",
    "                np.cos(hit_angle - incident_angle)\n",
    "            )\n",
    "            velo = obj[\"spin\"] * np.sin(d_angle)\n",
    "            \n",
    "            hx_noise = hx + np.random.normal(scale=0.2)\n",
    "            hy_noise = hy + np.random.normal(scale=0.2)\n",
    "            hit = (hx_noise, hy_noise, velo, angle)\n",
    "            min_t = t\n",
    "    if hit is not None:\n",
    "        point_xs.append(hit[0])\n",
    "        point_ys.append(hit[1])\n",
    "        point_vs.append(hit[2])\n",
    "        point_angles.append(hit[3])\n",
    "\n",
    "point_xs = np.array(point_xs)\n",
    "point_ys = np.array(point_ys)\n",
    "point_vs = np.array(point_vs)\n",
    "point_angles = np.array(point_angles)"
   ]
  },
  {
   "cell_type": "code",
   "execution_count": 26,
   "id": "31e33fb4-b914-4471-8fdd-f7c1c3f00956",
   "metadata": {
    "slideshow": {
     "slide_type": "skip"
    },
    "tags": []
   },
   "outputs": [
    {
     "data": {
      "application/vnd.plotly.v1+json": {
       "config": {
        "plotlyServerURL": "https://plot.ly"
       },
       "data": [
        {
         "hovertemplate": "x=%{x}<br>y=%{y}<extra></extra>",
         "legendgroup": "",
         "line": {
          "color": "#636efa",
          "dash": "solid"
         },
         "marker": {
          "symbol": "circle"
         },
         "mode": "lines",
         "name": "",
         "orientation": "v",
         "showlegend": false,
         "type": "scatter",
         "x": [
          2.4170932972591803,
          2.420236461494888,
          2.423379625730596,
          2.4265227899663033,
          2.429665954202011,
          2.4328091184377185,
          2.4359522826734263,
          2.439095446909134,
          2.4422386111448415,
          2.4453817753805493,
          2.448524939616257,
          2.4516681038519645,
          2.4548112680876724,
          2.4579544323233797,
          2.4610975965590876,
          2.4642407607947954,
          2.4673839250305027,
          2.4705270892662106,
          2.473670253501918,
          2.4768134177376258,
          2.4799565819733336,
          2.483099746209041,
          2.4862429104447488,
          2.489386074680456,
          2.492529238916164,
          2.4956724031518718,
          2.498815567387579,
          2.501958731623287,
          2.505101895858995,
          2.508245060094702,
          2.51138822433041,
          2.5145313885661174,
          2.517674552801825,
          2.520817717037533,
          2.5239608812732404,
          2.527104045508948,
          2.5302472097446556,
          2.5333903739803634,
          2.536533538216071,
          2.5396767024517786,
          2.5428198666874864,
          2.545963030923194,
          2.5491061951589016,
          2.5522493593946094,
          2.5553925236303168,
          2.5585356878660246,
          2.5616788521017324,
          2.56482201633744,
          2.5679651805731476,
          2.571108344808855,
          2.574251509044563,
          2.5773946732802706,
          2.580537837515978,
          2.583681001751686,
          2.5868241659873936,
          2.589967330223101,
          2.593110494458809,
          2.596253658694516,
          2.599396822930224,
          2.602539987165932,
          2.605683151401639,
          2.608826315637347,
          2.6119694798730544,
          2.615112644108762,
          2.61825580834447,
          2.6213989725801774,
          2.624542136815885,
          2.627685301051593,
          2.6308284652873004,
          2.6339716295230082,
          2.6371147937587156,
          2.6402579579944234,
          2.6434011222301312,
          2.6465442864658386,
          2.6496874507015464,
          2.652830614937254,
          2.6559737791729616,
          2.6591169434086694,
          2.662260107644377,
          2.6654032718800846,
          2.6685464361157925,
          2.6716896003515,
          2.6748327645872076,
          2.677975928822915,
          2.681119093058623,
          2.6842622572943307,
          2.687405421530038,
          2.690548585765746,
          2.6936917500014532,
          2.696834914237161,
          2.699978078472869,
          2.7031212427085762,
          2.706264406944284,
          2.7094075711799914,
          2.7125507354156992,
          2.715693899651407,
          2.7188370638871144,
          2.7219802281228223,
          2.72512339235853,
          2.7282665565942374,
          2.7314097208299453,
          2.7345528850656526,
          2.7376960493013605,
          2.7408392135370683,
          2.7439823777727756,
          2.7471255420084835,
          2.750268706244191,
          2.7534118704798987,
          2.7565550347156065,
          2.759698198951314,
          2.7628413631870217,
          2.7659845274227295,
          2.769127691658437,
          2.7722708558941447,
          2.775414020129852,
          2.77855718436556,
          2.7817003486012677,
          2.784843512836975,
          2.787986677072683,
          2.7911298413083903,
          2.794273005544098,
          2.797416169779806,
          2.8005593340155133,
          2.803702498251221,
          2.806845662486929,
          2.8099888267226363,
          2.813131990958344,
          2.8162751551940515,
          2.8194183194297593,
          2.822561483665467,
          2.8257046479011745,
          2.8288478121368823,
          2.8319909763725897,
          2.8351341406082975,
          2.8382773048440053,
          2.8414204690797127,
          2.8445636333154205,
          2.8477067975511283,
          2.8508499617868357,
          2.8539931260225435,
          2.857136290258251,
          2.8602794544939587,
          2.8634226187296665,
          2.866565782965374,
          2.8697089472010817,
          2.872852111436789,
          2.875995275672497,
          2.8791384399082047,
          2.882281604143912,
          2.88542476837962,
          2.8885679326153277
         ],
         "xaxis": "x",
         "y": [
          -7.394357180374262,
          -7.179552787985297,
          -6.997643258662105,
          -6.833081766869358,
          -6.679876957615398,
          -6.53493690124412,
          -6.396406436861954,
          -6.263062607078204,
          -6.134045166966321,
          -6.008719500468982,
          -5.886600041287933,
          -5.76730437608083,
          -5.650524183276028,
          -5.536006000697188,
          -5.423538026578749,
          -5.312940781062762,
          -5.204060325621338,
          -5.096763228644413,
          -4.990932754169763,
          -4.886465926896309,
          -4.783271237558839,
          -4.681266824574239,
          -4.580379015538002,
          -4.4805411444864784,
          -4.3816925832115565,
          -4.283777940670894,
          -4.186746395813343,
          -4.090551137330158,
          -3.9951488898726475,
          -3.9004995107722524,
          -3.8065656446865925,
          -3.71331242617871,
          -3.6207072222217453,
          -3.528719408166153,
          -3.4373201719128526,
          -3.3464823419907903,
          -3.2561802359960303,
          -3.166389526456091,
          -3.077087121674444,
          -2.988251059506317,
          -2.8998604123421474,
          -2.8118952018405667,
          -2.724336322172343,
          -2.63716547071893,
          -2.5503650853207454,
          -2.463918287296713,
          -2.377808829563621,
          -2.2920210492734125,
          -2.206539824462703,
          -2.1213505342734487,
          -2.03643902235889,
          -1.9517915631361498,
          -1.8673948305869899,
          -1.7832358693437182,
          -1.6993020678268458,
          -1.6155811332271852,
          -1.5320610681479114,
          -1.448730148741659,
          -1.3655769041944539,
          -1.2825900974240283,
          -1.199758706872138,
          -1.1170719092826964,
          -1.0345190633672157,
          -0.9520896942675912,
          -0.8697734787345335,
          -0.7875602309460296,
          -0.7054398888964214,
          -0.623402501291968,
          -0.5414382148928106,
          -0.45953726224539776,
          -0.3776899497528668,
          -0.29588664603325443,
          -0.21411777051843603,
          -0.13237378224802746,
          -0.05064516881448869,
          0.03107756458315674,
          0.1128039060189892,
          0.19454334769433587,
          0.2763053968075454,
          0.3580995864806313,
          0.4399354867842191,
          0.521822715903507,
          0.603770951488673,
          0.6857899422346163,
          0.7678895197374088,
          0.8500796106760928,
          0.9323702493723611,
          1.014771590782822,
          1.0972939239829265,
          1.1799476862057785,
          1.2627434775038253,
          1.3456920761075035,
          1.428804454561089,
          1.5120917967234042,
          1.5955655157300268,
          1.6792372730225698,
          1.7631189985623363,
          1.84722291235796,
          1.9315615474510133,
          2.0161477745203755,
          2.100994828285018,
          2.1861163359066653,
          2.2715263476190852,
          2.3572393698395855,
          2.4432704010523123,
          2.529634970791653,
          2.6163491820997176,
          2.703429757884928,
          2.7908940916709657,
          2.87876030329864,
          2.9670473002292774,
          3.0557748452005837,
          3.1449636311077858,
          3.234635364127433,
          3.324812856275796,
          3.415520128803435,
          3.5067825280811635,
          3.598626855942596,
          3.691081516825766,
          3.784176684522589,
          3.877944491921847,
          3.9724192478495497,
          4.0676376860137475,
          4.163639252201243,
          4.260466437327683,
          4.358165165811681,
          4.456785251165896,
          4.556380933870312,
          4.657011520790186,
          4.7587421510146894,
          4.8616447205952715,
          4.965799009095648,
          5.071294065386959,
          5.178229930661251,
          5.286719806191229,
          5.3968928167205705,
          5.508897585345294,
          5.622906935477793,
          5.739124192758182,
          5.857791815496339,
          5.979203512922738,
          6.103721766117969,
          6.231804057199055,
          6.36404382283943,
          6.501237812419534,
          6.644504444326365,
          6.79551069527298,
          6.95696290647681,
          7.133879847818186,
          7.33812149265738,
          7.626729470112748
         ],
         "yaxis": "y"
        }
       ],
       "layout": {
        "autosize": true,
        "legend": {
         "tracegroupgap": 0
        },
        "margin": {
         "t": 60
        },
        "template": {
         "data": {
          "bar": [
           {
            "error_x": {
             "color": "#2a3f5f"
            },
            "error_y": {
             "color": "#2a3f5f"
            },
            "marker": {
             "line": {
              "color": "#E5ECF6",
              "width": 0.5
             },
             "pattern": {
              "fillmode": "overlay",
              "size": 10,
              "solidity": 0.2
             }
            },
            "type": "bar"
           }
          ],
          "barpolar": [
           {
            "marker": {
             "line": {
              "color": "#E5ECF6",
              "width": 0.5
             },
             "pattern": {
              "fillmode": "overlay",
              "size": 10,
              "solidity": 0.2
             }
            },
            "type": "barpolar"
           }
          ],
          "carpet": [
           {
            "aaxis": {
             "endlinecolor": "#2a3f5f",
             "gridcolor": "white",
             "linecolor": "white",
             "minorgridcolor": "white",
             "startlinecolor": "#2a3f5f"
            },
            "baxis": {
             "endlinecolor": "#2a3f5f",
             "gridcolor": "white",
             "linecolor": "white",
             "minorgridcolor": "white",
             "startlinecolor": "#2a3f5f"
            },
            "type": "carpet"
           }
          ],
          "choropleth": [
           {
            "colorbar": {
             "outlinewidth": 0,
             "ticks": ""
            },
            "type": "choropleth"
           }
          ],
          "contour": [
           {
            "colorbar": {
             "outlinewidth": 0,
             "ticks": ""
            },
            "colorscale": [
             [
              0,
              "#0d0887"
             ],
             [
              0.1111111111111111,
              "#46039f"
             ],
             [
              0.2222222222222222,
              "#7201a8"
             ],
             [
              0.3333333333333333,
              "#9c179e"
             ],
             [
              0.4444444444444444,
              "#bd3786"
             ],
             [
              0.5555555555555556,
              "#d8576b"
             ],
             [
              0.6666666666666666,
              "#ed7953"
             ],
             [
              0.7777777777777778,
              "#fb9f3a"
             ],
             [
              0.8888888888888888,
              "#fdca26"
             ],
             [
              1,
              "#f0f921"
             ]
            ],
            "type": "contour"
           }
          ],
          "contourcarpet": [
           {
            "colorbar": {
             "outlinewidth": 0,
             "ticks": ""
            },
            "type": "contourcarpet"
           }
          ],
          "heatmap": [
           {
            "colorbar": {
             "outlinewidth": 0,
             "ticks": ""
            },
            "colorscale": [
             [
              0,
              "#0d0887"
             ],
             [
              0.1111111111111111,
              "#46039f"
             ],
             [
              0.2222222222222222,
              "#7201a8"
             ],
             [
              0.3333333333333333,
              "#9c179e"
             ],
             [
              0.4444444444444444,
              "#bd3786"
             ],
             [
              0.5555555555555556,
              "#d8576b"
             ],
             [
              0.6666666666666666,
              "#ed7953"
             ],
             [
              0.7777777777777778,
              "#fb9f3a"
             ],
             [
              0.8888888888888888,
              "#fdca26"
             ],
             [
              1,
              "#f0f921"
             ]
            ],
            "type": "heatmap"
           }
          ],
          "heatmapgl": [
           {
            "colorbar": {
             "outlinewidth": 0,
             "ticks": ""
            },
            "colorscale": [
             [
              0,
              "#0d0887"
             ],
             [
              0.1111111111111111,
              "#46039f"
             ],
             [
              0.2222222222222222,
              "#7201a8"
             ],
             [
              0.3333333333333333,
              "#9c179e"
             ],
             [
              0.4444444444444444,
              "#bd3786"
             ],
             [
              0.5555555555555556,
              "#d8576b"
             ],
             [
              0.6666666666666666,
              "#ed7953"
             ],
             [
              0.7777777777777778,
              "#fb9f3a"
             ],
             [
              0.8888888888888888,
              "#fdca26"
             ],
             [
              1,
              "#f0f921"
             ]
            ],
            "type": "heatmapgl"
           }
          ],
          "histogram": [
           {
            "marker": {
             "pattern": {
              "fillmode": "overlay",
              "size": 10,
              "solidity": 0.2
             }
            },
            "type": "histogram"
           }
          ],
          "histogram2d": [
           {
            "colorbar": {
             "outlinewidth": 0,
             "ticks": ""
            },
            "colorscale": [
             [
              0,
              "#0d0887"
             ],
             [
              0.1111111111111111,
              "#46039f"
             ],
             [
              0.2222222222222222,
              "#7201a8"
             ],
             [
              0.3333333333333333,
              "#9c179e"
             ],
             [
              0.4444444444444444,
              "#bd3786"
             ],
             [
              0.5555555555555556,
              "#d8576b"
             ],
             [
              0.6666666666666666,
              "#ed7953"
             ],
             [
              0.7777777777777778,
              "#fb9f3a"
             ],
             [
              0.8888888888888888,
              "#fdca26"
             ],
             [
              1,
              "#f0f921"
             ]
            ],
            "type": "histogram2d"
           }
          ],
          "histogram2dcontour": [
           {
            "colorbar": {
             "outlinewidth": 0,
             "ticks": ""
            },
            "colorscale": [
             [
              0,
              "#0d0887"
             ],
             [
              0.1111111111111111,
              "#46039f"
             ],
             [
              0.2222222222222222,
              "#7201a8"
             ],
             [
              0.3333333333333333,
              "#9c179e"
             ],
             [
              0.4444444444444444,
              "#bd3786"
             ],
             [
              0.5555555555555556,
              "#d8576b"
             ],
             [
              0.6666666666666666,
              "#ed7953"
             ],
             [
              0.7777777777777778,
              "#fb9f3a"
             ],
             [
              0.8888888888888888,
              "#fdca26"
             ],
             [
              1,
              "#f0f921"
             ]
            ],
            "type": "histogram2dcontour"
           }
          ],
          "mesh3d": [
           {
            "colorbar": {
             "outlinewidth": 0,
             "ticks": ""
            },
            "type": "mesh3d"
           }
          ],
          "parcoords": [
           {
            "line": {
             "colorbar": {
              "outlinewidth": 0,
              "ticks": ""
             }
            },
            "type": "parcoords"
           }
          ],
          "pie": [
           {
            "automargin": true,
            "type": "pie"
           }
          ],
          "scatter": [
           {
            "marker": {
             "colorbar": {
              "outlinewidth": 0,
              "ticks": ""
             }
            },
            "type": "scatter"
           }
          ],
          "scatter3d": [
           {
            "line": {
             "colorbar": {
              "outlinewidth": 0,
              "ticks": ""
             }
            },
            "marker": {
             "colorbar": {
              "outlinewidth": 0,
              "ticks": ""
             }
            },
            "type": "scatter3d"
           }
          ],
          "scattercarpet": [
           {
            "marker": {
             "colorbar": {
              "outlinewidth": 0,
              "ticks": ""
             }
            },
            "type": "scattercarpet"
           }
          ],
          "scattergeo": [
           {
            "marker": {
             "colorbar": {
              "outlinewidth": 0,
              "ticks": ""
             }
            },
            "type": "scattergeo"
           }
          ],
          "scattergl": [
           {
            "marker": {
             "colorbar": {
              "outlinewidth": 0,
              "ticks": ""
             }
            },
            "type": "scattergl"
           }
          ],
          "scattermapbox": [
           {
            "marker": {
             "colorbar": {
              "outlinewidth": 0,
              "ticks": ""
             }
            },
            "type": "scattermapbox"
           }
          ],
          "scatterpolar": [
           {
            "marker": {
             "colorbar": {
              "outlinewidth": 0,
              "ticks": ""
             }
            },
            "type": "scatterpolar"
           }
          ],
          "scatterpolargl": [
           {
            "marker": {
             "colorbar": {
              "outlinewidth": 0,
              "ticks": ""
             }
            },
            "type": "scatterpolargl"
           }
          ],
          "scatterternary": [
           {
            "marker": {
             "colorbar": {
              "outlinewidth": 0,
              "ticks": ""
             }
            },
            "type": "scatterternary"
           }
          ],
          "surface": [
           {
            "colorbar": {
             "outlinewidth": 0,
             "ticks": ""
            },
            "colorscale": [
             [
              0,
              "#0d0887"
             ],
             [
              0.1111111111111111,
              "#46039f"
             ],
             [
              0.2222222222222222,
              "#7201a8"
             ],
             [
              0.3333333333333333,
              "#9c179e"
             ],
             [
              0.4444444444444444,
              "#bd3786"
             ],
             [
              0.5555555555555556,
              "#d8576b"
             ],
             [
              0.6666666666666666,
              "#ed7953"
             ],
             [
              0.7777777777777778,
              "#fb9f3a"
             ],
             [
              0.8888888888888888,
              "#fdca26"
             ],
             [
              1,
              "#f0f921"
             ]
            ],
            "type": "surface"
           }
          ],
          "table": [
           {
            "cells": {
             "fill": {
              "color": "#EBF0F8"
             },
             "line": {
              "color": "white"
             }
            },
            "header": {
             "fill": {
              "color": "#C8D4E3"
             },
             "line": {
              "color": "white"
             }
            },
            "type": "table"
           }
          ]
         },
         "layout": {
          "annotationdefaults": {
           "arrowcolor": "#2a3f5f",
           "arrowhead": 0,
           "arrowwidth": 1
          },
          "autotypenumbers": "strict",
          "coloraxis": {
           "colorbar": {
            "outlinewidth": 0,
            "ticks": ""
           }
          },
          "colorscale": {
           "diverging": [
            [
             0,
             "#8e0152"
            ],
            [
             0.1,
             "#c51b7d"
            ],
            [
             0.2,
             "#de77ae"
            ],
            [
             0.3,
             "#f1b6da"
            ],
            [
             0.4,
             "#fde0ef"
            ],
            [
             0.5,
             "#f7f7f7"
            ],
            [
             0.6,
             "#e6f5d0"
            ],
            [
             0.7,
             "#b8e186"
            ],
            [
             0.8,
             "#7fbc41"
            ],
            [
             0.9,
             "#4d9221"
            ],
            [
             1,
             "#276419"
            ]
           ],
           "sequential": [
            [
             0,
             "#0d0887"
            ],
            [
             0.1111111111111111,
             "#46039f"
            ],
            [
             0.2222222222222222,
             "#7201a8"
            ],
            [
             0.3333333333333333,
             "#9c179e"
            ],
            [
             0.4444444444444444,
             "#bd3786"
            ],
            [
             0.5555555555555556,
             "#d8576b"
            ],
            [
             0.6666666666666666,
             "#ed7953"
            ],
            [
             0.7777777777777778,
             "#fb9f3a"
            ],
            [
             0.8888888888888888,
             "#fdca26"
            ],
            [
             1,
             "#f0f921"
            ]
           ],
           "sequentialminus": [
            [
             0,
             "#0d0887"
            ],
            [
             0.1111111111111111,
             "#46039f"
            ],
            [
             0.2222222222222222,
             "#7201a8"
            ],
            [
             0.3333333333333333,
             "#9c179e"
            ],
            [
             0.4444444444444444,
             "#bd3786"
            ],
            [
             0.5555555555555556,
             "#d8576b"
            ],
            [
             0.6666666666666666,
             "#ed7953"
            ],
            [
             0.7777777777777778,
             "#fb9f3a"
            ],
            [
             0.8888888888888888,
             "#fdca26"
            ],
            [
             1,
             "#f0f921"
            ]
           ]
          },
          "colorway": [
           "#636efa",
           "#EF553B",
           "#00cc96",
           "#ab63fa",
           "#FFA15A",
           "#19d3f3",
           "#FF6692",
           "#B6E880",
           "#FF97FF",
           "#FECB52"
          ],
          "font": {
           "color": "#2a3f5f"
          },
          "geo": {
           "bgcolor": "white",
           "lakecolor": "white",
           "landcolor": "#E5ECF6",
           "showlakes": true,
           "showland": true,
           "subunitcolor": "white"
          },
          "hoverlabel": {
           "align": "left"
          },
          "hovermode": "closest",
          "mapbox": {
           "style": "light"
          },
          "paper_bgcolor": "white",
          "plot_bgcolor": "#E5ECF6",
          "polar": {
           "angularaxis": {
            "gridcolor": "white",
            "linecolor": "white",
            "ticks": ""
           },
           "bgcolor": "#E5ECF6",
           "radialaxis": {
            "gridcolor": "white",
            "linecolor": "white",
            "ticks": ""
           }
          },
          "scene": {
           "xaxis": {
            "backgroundcolor": "#E5ECF6",
            "gridcolor": "white",
            "gridwidth": 2,
            "linecolor": "white",
            "showbackground": true,
            "ticks": "",
            "zerolinecolor": "white"
           },
           "yaxis": {
            "backgroundcolor": "#E5ECF6",
            "gridcolor": "white",
            "gridwidth": 2,
            "linecolor": "white",
            "showbackground": true,
            "ticks": "",
            "zerolinecolor": "white"
           },
           "zaxis": {
            "backgroundcolor": "#E5ECF6",
            "gridcolor": "white",
            "gridwidth": 2,
            "linecolor": "white",
            "showbackground": true,
            "ticks": "",
            "zerolinecolor": "white"
           }
          },
          "shapedefaults": {
           "line": {
            "color": "#2a3f5f"
           }
          },
          "ternary": {
           "aaxis": {
            "gridcolor": "white",
            "linecolor": "white",
            "ticks": ""
           },
           "baxis": {
            "gridcolor": "white",
            "linecolor": "white",
            "ticks": ""
           },
           "bgcolor": "#E5ECF6",
           "caxis": {
            "gridcolor": "white",
            "linecolor": "white",
            "ticks": ""
           }
          },
          "title": {
           "x": 0.05
          },
          "xaxis": {
           "automargin": true,
           "gridcolor": "white",
           "linecolor": "white",
           "ticks": "",
           "title": {
            "standoff": 15
           },
           "zerolinecolor": "white",
           "zerolinewidth": 2
          },
          "yaxis": {
           "automargin": true,
           "gridcolor": "white",
           "linecolor": "white",
           "ticks": "",
           "title": {
            "standoff": 15
           },
           "zerolinecolor": "white",
           "zerolinewidth": 2
          }
         }
        },
        "xaxis": {
         "anchor": "y",
         "autorange": true,
         "domain": [
          0,
          1
         ],
         "range": [
          2.4170932972591803,
          2.8885679326153277
         ],
         "title": {
          "text": "x"
         },
         "type": "linear"
        },
        "yaxis": {
         "anchor": "x",
         "autorange": true,
         "domain": [
          0,
          1
         ],
         "range": [
          -8.228861994290206,
          8.461234284028693
         ],
         "title": {
          "text": "y"
         },
         "type": "linear"
        }
       }
      },
      "image/png": "[encoded data removed]",
      "text/html": [
       "<div>                            <div id=\"e25b4a86-c36f-4804-a66e-fd901d764f36\" class=\"plotly-graph-div\" style=\"height:525px; width:100%;\"></div>            <script type=\"text/javascript\">                require([\"plotly\"], function(Plotly) {                    window.PLOTLYENV=window.PLOTLYENV || {};                                    if (document.getElementById(\"e25b4a86-c36f-4804-a66e-fd901d764f36\")) {                    Plotly.newPlot(                        \"e25b4a86-c36f-4804-a66e-fd901d764f36\",                        [{\"hovertemplate\":\"x=%{x}<br>y=%{y}<extra></extra>\",\"legendgroup\":\"\",\"line\":{\"color\":\"#636efa\",\"dash\":\"solid\"},\"marker\":{\"symbol\":\"circle\"},\"mode\":\"lines\",\"name\":\"\",\"orientation\":\"v\",\"showlegend\":false,\"type\":\"scatter\",\"x\":[2.4170932972591803,2.420236461494888,2.423379625730596,2.4265227899663033,2.429665954202011,2.4328091184377185,2.4359522826734263,2.439095446909134,2.4422386111448415,2.4453817753805493,2.448524939616257,2.4516681038519645,2.4548112680876724,2.4579544323233797,2.4610975965590876,2.4642407607947954,2.4673839250305027,2.4705270892662106,2.473670253501918,2.4768134177376258,2.4799565819733336,2.483099746209041,2.4862429104447488,2.489386074680456,2.492529238916164,2.4956724031518718,2.498815567387579,2.501958731623287,2.505101895858995,2.508245060094702,2.51138822433041,2.5145313885661174,2.517674552801825,2.520817717037533,2.5239608812732404,2.527104045508948,2.5302472097446556,2.5333903739803634,2.536533538216071,2.5396767024517786,2.5428198666874864,2.545963030923194,2.5491061951589016,2.5522493593946094,2.5553925236303168,2.5585356878660246,2.5616788521017324,2.56482201633744,2.5679651805731476,2.571108344808855,2.574251509044563,2.5773946732802706,2.580537837515978,2.583681001751686,2.5868241659873936,2.589967330223101,2.593110494458809,2.596253658694516,2.599396822930224,2.602539987165932,2.605683151401639,2.608826315637347,2.6119694798730544,2.615112644108762,2.61825580834447,2.6213989725801774,2.624542136815885,2.627685301051593,2.6308284652873004,2.6339716295230082,2.6371147937587156,2.6402579579944234,2.6434011222301312,2.6465442864658386,2.6496874507015464,2.652830614937254,2.6559737791729616,2.6591169434086694,2.662260107644377,2.6654032718800846,2.6685464361157925,2.6716896003515,2.6748327645872076,2.677975928822915,2.681119093058623,2.6842622572943307,2.687405421530038,2.690548585765746,2.6936917500014532,2.696834914237161,2.699978078472869,2.7031212427085762,2.706264406944284,2.7094075711799914,2.7125507354156992,2.715693899651407,2.7188370638871144,2.7219802281228223,2.72512339235853,2.7282665565942374,2.7314097208299453,2.7345528850656526,2.7376960493013605,2.7408392135370683,2.7439823777727756,2.7471255420084835,2.750268706244191,2.7534118704798987,2.7565550347156065,2.759698198951314,2.7628413631870217,2.7659845274227295,2.769127691658437,2.7722708558941447,2.775414020129852,2.77855718436556,2.7817003486012677,2.784843512836975,2.787986677072683,2.7911298413083903,2.794273005544098,2.797416169779806,2.8005593340155133,2.803702498251221,2.806845662486929,2.8099888267226363,2.813131990958344,2.8162751551940515,2.8194183194297593,2.822561483665467,2.8257046479011745,2.8288478121368823,2.8319909763725897,2.8351341406082975,2.8382773048440053,2.8414204690797127,2.8445636333154205,2.8477067975511283,2.8508499617868357,2.8539931260225435,2.857136290258251,2.8602794544939587,2.8634226187296665,2.866565782965374,2.8697089472010817,2.872852111436789,2.875995275672497,2.8791384399082047,2.882281604143912,2.88542476837962,2.8885679326153277],\"xaxis\":\"x\",\"y\":[-7.394357180374262,-7.179552787985297,-6.997643258662105,-6.833081766869358,-6.679876957615398,-6.53493690124412,-6.396406436861954,-6.263062607078204,-6.134045166966321,-6.008719500468982,-5.886600041287933,-5.76730437608083,-5.650524183276028,-5.536006000697188,-5.423538026578749,-5.312940781062762,-5.204060325621338,-5.096763228644413,-4.990932754169763,-4.886465926896309,-4.783271237558839,-4.681266824574239,-4.580379015538002,-4.4805411444864784,-4.3816925832115565,-4.283777940670894,-4.186746395813343,-4.090551137330158,-3.9951488898726475,-3.9004995107722524,-3.8065656446865925,-3.71331242617871,-3.6207072222217453,-3.528719408166153,-3.4373201719128526,-3.3464823419907903,-3.2561802359960303,-3.166389526456091,-3.077087121674444,-2.988251059506317,-2.8998604123421474,-2.8118952018405667,-2.724336322172343,-2.63716547071893,-2.5503650853207454,-2.463918287296713,-2.377808829563621,-2.2920210492734125,-2.206539824462703,-2.1213505342734487,-2.03643902235889,-1.9517915631361498,-1.8673948305869899,-1.7832358693437182,-1.6993020678268458,-1.6155811332271852,-1.5320610681479114,-1.448730148741659,-1.3655769041944539,-1.2825900974240283,-1.199758706872138,-1.1170719092826964,-1.0345190633672157,-0.9520896942675912,-0.8697734787345335,-0.7875602309460296,-0.7054398888964214,-0.623402501291968,-0.5414382148928106,-0.45953726224539776,-0.3776899497528668,-0.29588664603325443,-0.21411777051843603,-0.13237378224802746,-0.05064516881448869,0.03107756458315674,0.1128039060189892,0.19454334769433587,0.2763053968075454,0.3580995864806313,0.4399354867842191,0.521822715903507,0.603770951488673,0.6857899422346163,0.7678895197374088,0.8500796106760928,0.9323702493723611,1.014771590782822,1.0972939239829265,1.1799476862057785,1.2627434775038253,1.3456920761075035,1.428804454561089,1.5120917967234042,1.5955655157300268,1.6792372730225698,1.7631189985623363,1.84722291235796,1.9315615474510133,2.0161477745203755,2.100994828285018,2.1861163359066653,2.2715263476190852,2.3572393698395855,2.4432704010523123,2.529634970791653,2.6163491820997176,2.703429757884928,2.7908940916709657,2.87876030329864,2.9670473002292774,3.0557748452005837,3.1449636311077858,3.234635364127433,3.324812856275796,3.415520128803435,3.5067825280811635,3.598626855942596,3.691081516825766,3.784176684522589,3.877944491921847,3.9724192478495497,4.0676376860137475,4.163639252201243,4.260466437327683,4.358165165811681,4.456785251165896,4.556380933870312,4.657011520790186,4.7587421510146894,4.8616447205952715,4.965799009095648,5.071294065386959,5.178229930661251,5.286719806191229,5.3968928167205705,5.508897585345294,5.622906935477793,5.739124192758182,5.857791815496339,5.979203512922738,6.103721766117969,6.231804057199055,6.36404382283943,6.501237812419534,6.644504444326365,6.79551069527298,6.95696290647681,7.133879847818186,7.33812149265738,7.626729470112748],\"yaxis\":\"y\"}],                        {\"legend\":{\"tracegroupgap\":0},\"margin\":{\"t\":60},\"template\":{\"data\":{\"bar\":[{\"error_x\":{\"color\":\"#2a3f5f\"},\"error_y\":{\"color\":\"#2a3f5f\"},\"marker\":{\"line\":{\"color\":\"#E5ECF6\",\"width\":0.5},\"pattern\":{\"fillmode\":\"overlay\",\"size\":10,\"solidity\":0.2}},\"type\":\"bar\"}],\"barpolar\":[{\"marker\":{\"line\":{\"color\":\"#E5ECF6\",\"width\":0.5},\"pattern\":{\"fillmode\":\"overlay\",\"size\":10,\"solidity\":0.2}},\"type\":\"barpolar\"}],\"carpet\":[{\"aaxis\":{\"endlinecolor\":\"#2a3f5f\",\"gridcolor\":\"white\",\"linecolor\":\"white\",\"minorgridcolor\":\"white\",\"startlinecolor\":\"#2a3f5f\"},\"baxis\":{\"endlinecolor\":\"#2a3f5f\",\"gridcolor\":\"white\",\"linecolor\":\"white\",\"minorgridcolor\":\"white\",\"startlinecolor\":\"#2a3f5f\"},\"type\":\"carpet\"}],\"choropleth\":[{\"colorbar\":{\"outlinewidth\":0,\"ticks\":\"\"},\"type\":\"choropleth\"}],\"contour\":[{\"colorbar\":{\"outlinewidth\":0,\"ticks\":\"\"},\"colorscale\":[[0.0,\"#0d0887\"],[0.1111111111111111,\"#46039f\"],[0.2222222222222222,\"#7201a8\"],[0.3333333333333333,\"#9c179e\"],[0.4444444444444444,\"#bd3786\"],[0.5555555555555556,\"#d8576b\"],[0.6666666666666666,\"#ed7953\"],[0.7777777777777778,\"#fb9f3a\"],[0.8888888888888888,\"#fdca26\"],[1.0,\"#f0f921\"]],\"type\":\"contour\"}],\"contourcarpet\":[{\"colorbar\":{\"outlinewidth\":0,\"ticks\":\"\"},\"type\":\"contourcarpet\"}],\"heatmap\":[{\"colorbar\":{\"outlinewidth\":0,\"ticks\":\"\"},\"colorscale\":[[0.0,\"#0d0887\"],[0.1111111111111111,\"#46039f\"],[0.2222222222222222,\"#7201a8\"],[0.3333333333333333,\"#9c179e\"],[0.4444444444444444,\"#bd3786\"],[0.5555555555555556,\"#d8576b\"],[0.6666666666666666,\"#ed7953\"],[0.7777777777777778,\"#fb9f3a\"],[0.8888888888888888,\"#fdca26\"],[1.0,\"#f0f921\"]],\"type\":\"heatmap\"}],\"heatmapgl\":[{\"colorbar\":{\"outlinewidth\":0,\"ticks\":\"\"},\"colorscale\":[[0.0,\"#0d0887\"],[0.1111111111111111,\"#46039f\"],[0.2222222222222222,\"#7201a8\"],[0.3333333333333333,\"#9c179e\"],[0.4444444444444444,\"#bd3786\"],[0.5555555555555556,\"#d8576b\"],[0.6666666666666666,\"#ed7953\"],[0.7777777777777778,\"#fb9f3a\"],[0.8888888888888888,\"#fdca26\"],[1.0,\"#f0f921\"]],\"type\":\"heatmapgl\"}],\"histogram\":[{\"marker\":{\"pattern\":{\"fillmode\":\"overlay\",\"size\":10,\"solidity\":0.2}},\"type\":\"histogram\"}],\"histogram2d\":[{\"colorbar\":{\"outlinewidth\":0,\"ticks\":\"\"},\"colorscale\":[[0.0,\"#0d0887\"],[0.1111111111111111,\"#46039f\"],[0.2222222222222222,\"#7201a8\"],[0.3333333333333333,\"#9c179e\"],[0.4444444444444444,\"#bd3786\"],[0.5555555555555556,\"#d8576b\"],[0.6666666666666666,\"#ed7953\"],[0.7777777777777778,\"#fb9f3a\"],[0.8888888888888888,\"#fdca26\"],[1.0,\"#f0f921\"]],\"type\":\"histogram2d\"}],\"histogram2dcontour\":[{\"colorbar\":{\"outlinewidth\":0,\"ticks\":\"\"},\"colorscale\":[[0.0,\"#0d0887\"],[0.1111111111111111,\"#46039f\"],[0.2222222222222222,\"#7201a8\"],[0.3333333333333333,\"#9c179e\"],[0.4444444444444444,\"#bd3786\"],[0.5555555555555556,\"#d8576b\"],[0.6666666666666666,\"#ed7953\"],[0.7777777777777778,\"#fb9f3a\"],[0.8888888888888888,\"#fdca26\"],[1.0,\"#f0f921\"]],\"type\":\"histogram2dcontour\"}],\"mesh3d\":[{\"colorbar\":{\"outlinewidth\":0,\"ticks\":\"\"},\"type\":\"mesh3d\"}],\"parcoords\":[{\"line\":{\"colorbar\":{\"outlinewidth\":0,\"ticks\":\"\"}},\"type\":\"parcoords\"}],\"pie\":[{\"automargin\":true,\"type\":\"pie\"}],\"scatter\":[{\"marker\":{\"colorbar\":{\"outlinewidth\":0,\"ticks\":\"\"}},\"type\":\"scatter\"}],\"scatter3d\":[{\"line\":{\"colorbar\":{\"outlinewidth\":0,\"ticks\":\"\"}},\"marker\":{\"colorbar\":{\"outlinewidth\":0,\"ticks\":\"\"}},\"type\":\"scatter3d\"}],\"scattercarpet\":[{\"marker\":{\"colorbar\":{\"outlinewidth\":0,\"ticks\":\"\"}},\"type\":\"scattercarpet\"}],\"scattergeo\":[{\"marker\":{\"colorbar\":{\"outlinewidth\":0,\"ticks\":\"\"}},\"type\":\"scattergeo\"}],\"scattergl\":[{\"marker\":{\"colorbar\":{\"outlinewidth\":0,\"ticks\":\"\"}},\"type\":\"scattergl\"}],\"scattermapbox\":[{\"marker\":{\"colorbar\":{\"outlinewidth\":0,\"ticks\":\"\"}},\"type\":\"scattermapbox\"}],\"scatterpolar\":[{\"marker\":{\"colorbar\":{\"outlinewidth\":0,\"ticks\":\"\"}},\"type\":\"scatterpolar\"}],\"scatterpolargl\":[{\"marker\":{\"colorbar\":{\"outlinewidth\":0,\"ticks\":\"\"}},\"type\":\"scatterpolargl\"}],\"scatterternary\":[{\"marker\":{\"colorbar\":{\"outlinewidth\":0,\"ticks\":\"\"}},\"type\":\"scatterternary\"}],\"surface\":[{\"colorbar\":{\"outlinewidth\":0,\"ticks\":\"\"},\"colorscale\":[[0.0,\"#0d0887\"],[0.1111111111111111,\"#46039f\"],[0.2222222222222222,\"#7201a8\"],[0.3333333333333333,\"#9c179e\"],[0.4444444444444444,\"#bd3786\"],[0.5555555555555556,\"#d8576b\"],[0.6666666666666666,\"#ed7953\"],[0.7777777777777778,\"#fb9f3a\"],[0.8888888888888888,\"#fdca26\"],[1.0,\"#f0f921\"]],\"type\":\"surface\"}],\"table\":[{\"cells\":{\"fill\":{\"color\":\"#EBF0F8\"},\"line\":{\"color\":\"white\"}},\"header\":{\"fill\":{\"color\":\"#C8D4E3\"},\"line\":{\"color\":\"white\"}},\"type\":\"table\"}]},\"layout\":{\"annotationdefaults\":{\"arrowcolor\":\"#2a3f5f\",\"arrowhead\":0,\"arrowwidth\":1},\"autotypenumbers\":\"strict\",\"coloraxis\":{\"colorbar\":{\"outlinewidth\":0,\"ticks\":\"\"}},\"colorscale\":{\"diverging\":[[0,\"#8e0152\"],[0.1,\"#c51b7d\"],[0.2,\"#de77ae\"],[0.3,\"#f1b6da\"],[0.4,\"#fde0ef\"],[0.5,\"#f7f7f7\"],[0.6,\"#e6f5d0\"],[0.7,\"#b8e186\"],[0.8,\"#7fbc41\"],[0.9,\"#4d9221\"],[1,\"#276419\"]],\"sequential\":[[0.0,\"#0d0887\"],[0.1111111111111111,\"#46039f\"],[0.2222222222222222,\"#7201a8\"],[0.3333333333333333,\"#9c179e\"],[0.4444444444444444,\"#bd3786\"],[0.5555555555555556,\"#d8576b\"],[0.6666666666666666,\"#ed7953\"],[0.7777777777777778,\"#fb9f3a\"],[0.8888888888888888,\"#fdca26\"],[1.0,\"#f0f921\"]],\"sequentialminus\":[[0.0,\"#0d0887\"],[0.1111111111111111,\"#46039f\"],[0.2222222222222222,\"#7201a8\"],[0.3333333333333333,\"#9c179e\"],[0.4444444444444444,\"#bd3786\"],[0.5555555555555556,\"#d8576b\"],[0.6666666666666666,\"#ed7953\"],[0.7777777777777778,\"#fb9f3a\"],[0.8888888888888888,\"#fdca26\"],[1.0,\"#f0f921\"]]},\"colorway\":[\"#636efa\",\"#EF553B\",\"#00cc96\",\"#ab63fa\",\"#FFA15A\",\"#19d3f3\",\"#FF6692\",\"#B6E880\",\"#FF97FF\",\"#FECB52\"],\"font\":{\"color\":\"#2a3f5f\"},\"geo\":{\"bgcolor\":\"white\",\"lakecolor\":\"white\",\"landcolor\":\"#E5ECF6\",\"showlakes\":true,\"showland\":true,\"subunitcolor\":\"white\"},\"hoverlabel\":{\"align\":\"left\"},\"hovermode\":\"closest\",\"mapbox\":{\"style\":\"light\"},\"paper_bgcolor\":\"white\",\"plot_bgcolor\":\"#E5ECF6\",\"polar\":{\"angularaxis\":{\"gridcolor\":\"white\",\"linecolor\":\"white\",\"ticks\":\"\"},\"bgcolor\":\"#E5ECF6\",\"radialaxis\":{\"gridcolor\":\"white\",\"linecolor\":\"white\",\"ticks\":\"\"}},\"scene\":{\"xaxis\":{\"backgroundcolor\":\"#E5ECF6\",\"gridcolor\":\"white\",\"gridwidth\":2,\"linecolor\":\"white\",\"showbackground\":true,\"ticks\":\"\",\"zerolinecolor\":\"white\"},\"yaxis\":{\"backgroundcolor\":\"#E5ECF6\",\"gridcolor\":\"white\",\"gridwidth\":2,\"linecolor\":\"white\",\"showbackground\":true,\"ticks\":\"\",\"zerolinecolor\":\"white\"},\"zaxis\":{\"backgroundcolor\":\"#E5ECF6\",\"gridcolor\":\"white\",\"gridwidth\":2,\"linecolor\":\"white\",\"showbackground\":true,\"ticks\":\"\",\"zerolinecolor\":\"white\"}},\"shapedefaults\":{\"line\":{\"color\":\"#2a3f5f\"}},\"ternary\":{\"aaxis\":{\"gridcolor\":\"white\",\"linecolor\":\"white\",\"ticks\":\"\"},\"baxis\":{\"gridcolor\":\"white\",\"linecolor\":\"white\",\"ticks\":\"\"},\"bgcolor\":\"#E5ECF6\",\"caxis\":{\"gridcolor\":\"white\",\"linecolor\":\"white\",\"ticks\":\"\"}},\"title\":{\"x\":0.05},\"xaxis\":{\"automargin\":true,\"gridcolor\":\"white\",\"linecolor\":\"white\",\"ticks\":\"\",\"title\":{\"standoff\":15},\"zerolinecolor\":\"white\",\"zerolinewidth\":2},\"yaxis\":{\"automargin\":true,\"gridcolor\":\"white\",\"linecolor\":\"white\",\"ticks\":\"\",\"title\":{\"standoff\":15},\"zerolinecolor\":\"white\",\"zerolinewidth\":2}}},\"xaxis\":{\"anchor\":\"y\",\"domain\":[0.0,1.0],\"title\":{\"text\":\"x\"}},\"yaxis\":{\"anchor\":\"x\",\"domain\":[0.0,1.0],\"title\":{\"text\":\"y\"}}},                        {\"responsive\": true}                    ).then(function(){\n",
       "                            \n",
       "var gd = document.getElementById('e25b4a86-c36f-4804-a66e-fd901d764f36');\n",
       "var x = new MutationObserver(function (mutations, observer) {{\n",
       "        var display = window.getComputedStyle(gd).display;\n",
       "        if (!display || display === 'none') {{\n",
       "            console.log([gd, 'removed!']);\n",
       "            Plotly.purge(gd);\n",
       "            observer.disconnect();\n",
       "        }}\n",
       "}});\n",
       "\n",
       "// Listen for the removal of the full notebook cells\n",
       "var notebookContainer = gd.closest('#notebook-container');\n",
       "if (notebookContainer) {{\n",
       "    x.observe(notebookContainer, {childList: true});\n",
       "}}\n",
       "\n",
       "// Listen for the clearing of the current output cell\n",
       "var outputEl = gd.closest('.output');\n",
       "if (outputEl) {{\n",
       "    x.observe(outputEl, {childList: true});\n",
       "}}\n",
       "\n",
       "                        })                };                });            </script>        </div>"
      ]
     },
     "metadata": {},
     "output_type": "display_data"
    }
   ],
   "source": [
    "fig = px.line(x=point_angles, y=point_vs)\n",
    "fig.show()"
   ]
  },
  {
   "cell_type": "code",
   "execution_count": 30,
   "id": "39538f54-29f1-42c1-be88-2a89e04aa950",
   "metadata": {},
   "outputs": [
    {
     "data": {
      "application/vnd.plotly.v1+json": {
       "config": {
        "plotlyServerURL": "https://plot.ly"
       },
       "data": [
        {
         "hovertemplate": "x=%{x}<br>y=%{y}<br>color=%{marker.color}<extra></extra>",
         "legendgroup": "",
         "marker": {
          "color": [
           -7.394357180374262,
           -7.179552787985297,
           -6.997643258662105,
           -6.833081766869358,
           -6.679876957615398,
           -6.53493690124412,
           -6.396406436861954,
           -6.263062607078204,
           -6.134045166966321,
           -6.008719500468982,
           -5.886600041287933,
           -5.76730437608083,
           -5.650524183276028,
           -5.536006000697188,
           -5.423538026578749,
           -5.312940781062762,
           -5.204060325621338,
           -5.096763228644413,
           -4.990932754169763,
           -4.886465926896309,
           -4.783271237558839,
           -4.681266824574239,
           -4.580379015538002,
           -4.4805411444864784,
           -4.3816925832115565,
           -4.283777940670894,
           -4.186746395813343,
           -4.090551137330158,
           -3.9951488898726475,
           -3.9004995107722524,
           -3.8065656446865925,
           -3.71331242617871,
           -3.6207072222217453,
           -3.528719408166153,
           -3.4373201719128526,
           -3.3464823419907903,
           -3.2561802359960303,
           -3.166389526456091,
           -3.077087121674444,
           -2.988251059506317,
           -2.8998604123421474,
           -2.8118952018405667,
           -2.724336322172343,
           -2.63716547071893,
           -2.5503650853207454,
           -2.463918287296713,
           -2.377808829563621,
           -2.2920210492734125,
           -2.206539824462703,
           -2.1213505342734487,
           -2.03643902235889,
           -1.9517915631361498,
           -1.8673948305869899,
           -1.7832358693437182,
           -1.6993020678268458,
           -1.6155811332271852,
           -1.5320610681479114,
           -1.448730148741659,
           -1.3655769041944539,
           -1.2825900974240283,
           -1.199758706872138,
           -1.1170719092826964,
           -1.0345190633672157,
           -0.9520896942675912,
           -0.8697734787345335,
           -0.7875602309460296,
           -0.7054398888964214,
           -0.623402501291968,
           -0.5414382148928106,
           -0.45953726224539776,
           -0.3776899497528668,
           -0.29588664603325443,
           -0.21411777051843603,
           -0.13237378224802746,
           -0.05064516881448869,
           0.03107756458315674,
           0.1128039060189892,
           0.19454334769433587,
           0.2763053968075454,
           0.3580995864806313,
           0.4399354867842191,
           0.521822715903507,
           0.603770951488673,
           0.6857899422346163,
           0.7678895197374088,
           0.8500796106760928,
           0.9323702493723611,
           1.014771590782822,
           1.0972939239829265,
           1.1799476862057785,
           1.2627434775038253,
           1.3456920761075035,
           1.428804454561089,
           1.5120917967234042,
           1.5955655157300268,
           1.6792372730225698,
           1.7631189985623363,
           1.84722291235796,
           1.9315615474510133,
           2.0161477745203755,
           2.100994828285018,
           2.1861163359066653,
           2.2715263476190852,
           2.3572393698395855,
           2.4432704010523123,
           2.529634970791653,
           2.6163491820997176,
           2.703429757884928,
           2.7908940916709657,
           2.87876030329864,
           2.9670473002292774,
           3.0557748452005837,
           3.1449636311077858,
           3.234635364127433,
           3.324812856275796,
           3.415520128803435,
           3.5067825280811635,
           3.598626855942596,
           3.691081516825766,
           3.784176684522589,
           3.877944491921847,
           3.9724192478495497,
           4.0676376860137475,
           4.163639252201243,
           4.260466437327683,
           4.358165165811681,
           4.456785251165896,
           4.556380933870312,
           4.657011520790186,
           4.7587421510146894,
           4.8616447205952715,
           4.965799009095648,
           5.071294065386959,
           5.178229930661251,
           5.286719806191229,
           5.3968928167205705,
           5.508897585345294,
           5.622906935477793,
           5.739124192758182,
           5.857791815496339,
           5.979203512922738,
           6.103721766117969,
           6.231804057199055,
           6.36404382283943,
           6.501237812419534,
           6.644504444326365,
           6.79551069527298,
           6.95696290647681,
           7.133879847818186,
           7.33812149265738,
           7.626729470112748
          ],
          "coloraxis": "coloraxis",
          "symbol": "circle"
         },
         "mode": "markers",
         "name": "",
         "orientation": "v",
         "showlegend": false,
         "type": "scatter",
         "x": [
          -8.733517631592298,
          -8.748878307623517,
          -8.580711477874589,
          -8.629384590769961,
          -8.413615283677995,
          -8.263414478770825,
          -8.34703578634766,
          -8.16116714548851,
          -7.874776929748307,
          -7.968587162308949,
          -8.304506840081634,
          -8.219459133955448,
          -8.07540462581608,
          -8.294336959281587,
          -8.003590536014062,
          -8.660611000611205,
          -8.103811445527786,
          -7.788124632608225,
          -8.145804086584889,
          -8.066154553007612,
          -7.853447037663707,
          -7.7504450139474095,
          -7.6304692920642605,
          -7.85036347084292,
          -8.026100064366068,
          -8.047344988803616,
          -8.210211852380173,
          -7.7325918881676525,
          -7.9069093640954335,
          -8.025586675140419,
          -7.9301770784887,
          -8.135020178694765,
          -8.005665971923442,
          -7.754246273272377,
          -7.993203680198385,
          -8.04427441481383,
          -7.822751548457944,
          -7.959052225360089,
          -7.880141120628325,
          -7.941559697564976,
          -7.842660112958709,
          -8.252167582873907,
          -8.10407652241677,
          -8.190631572176413,
          -7.9685456705182816,
          -8.242728765037524,
          -8.271151822473582,
          -8.233926088124166,
          -7.904609643235675,
          -8.068241860422665,
          -8.079822435727978,
          -8.34452263812693,
          -7.907553925990019,
          -8.101391049884594,
          -8.377126767156001,
          -8.339725344593433,
          -8.229870579855193,
          -8.5985425327304,
          -8.08966039992612,
          -8.338446048746407,
          -8.309043337978128,
          -7.98236603715621,
          -8.400481275519546,
          -8.050050331209262,
          -8.293335478088315,
          -8.193712739440558,
          -8.248701380550584,
          -8.356643889128735,
          -8.352561012512487,
          -8.648769550003589,
          -8.356669357867842,
          -8.317287066502718,
          -8.37849823893967,
          -8.350907861865801,
          -8.550275238986854,
          -8.510338272476002,
          -8.510442800932527,
          -8.45073335190601,
          -8.312890687180694,
          -8.94099901234712,
          -8.626864208705806,
          -8.620417547959516,
          -8.528448037305928,
          -8.686764131514504,
          -8.717206007906357,
          -8.66903831302684,
          -9.075477567246155,
          -8.776376381421398,
          -8.353025871738595,
          -8.689916436121615,
          -8.848402717883635,
          -8.932553333519486,
          -8.62635670739004,
          -9.037880812198024,
          -9.165008371759724,
          -9.032360654757701,
          -8.885381418541849,
          -9.017572391497435,
          -9.132285887657691,
          -9.128014388217746,
          -9.188254846369343,
          -9.362910873627255,
          -9.146569406009721,
          -9.230648329506643,
          -9.124651813281366,
          -9.46067619289496,
          -9.253615503159375,
          -9.11507221403843,
          -9.204780228136304,
          -9.143381520770088,
          -9.700596595606388,
          -9.327541635545634,
          -9.497346145210908,
          -9.4946263359393,
          -9.769342687774786,
          -9.724722744085426,
          -9.73267545312823,
          -9.705913840969169,
          -9.515433563572063,
          -9.914312607714058,
          -10.204096404284162,
          -9.802785924207932,
          -9.880501077339732,
          -9.87524094464747,
          -10.372525068540849,
          -10.397779363648397,
          -10.282825771405143,
          -10.19090073530091,
          -9.8638395018561,
          -10.331618998272265,
          -10.385073750734124,
          -10.395837770520707,
          -10.559125805311231,
          -10.219074037671838,
          -10.649804456372404,
          -10.741305732764935,
          -10.812911869919315,
          -10.436924188182093,
          -11.05742757775067,
          -11.253441705620446,
          -10.954119173716775,
          -11.341782144582968,
          -11.279731203315805,
          -11.354517065936156,
          -11.446606418341336,
          -11.526338327321934,
          -11.788043407050976,
          -11.883401152759848,
          -11.872412117251317,
          -12.11587484043451,
          -13.037422652493591
         ],
         "xaxis": "x",
         "y": [
          14.630257730247862,
          14.23750325351388,
          14.165387413099932,
          13.980057615250155,
          13.776920030627986,
          13.818019067531285,
          13.570148949559067,
          13.72272294179561,
          13.400211056388684,
          12.932117730977376,
          13.431177860715028,
          13.264347080579828,
          13.215444606394898,
          13.45241652639516,
          13.04732092568529,
          12.713286103241902,
          12.927220628846843,
          13.18529551521143,
          12.920410230931799,
          12.636888883107641,
          12.139663662904379,
          12.522266251393674,
          12.191967195522848,
          12.575026275860301,
          12.285144845269137,
          12.241491598618563,
          12.361526043241703,
          11.891271305441007,
          12.041851253154547,
          12.042636678973794,
          12.067709327113619,
          11.904880080148487,
          12.037519493369233,
          11.650935813181832,
          11.927841560910863,
          12.062870471847944,
          11.704362090636948,
          11.615751484559121,
          11.725961059648538,
          11.458746382917516,
          11.504592735720388,
          11.710607747832801,
          11.295679554291317,
          11.459682256747072,
          11.547723228118548,
          11.40810737860061,
          11.460676920425296,
          11.40664241470275,
          10.871975260045897,
          10.681772925277919,
          10.771352245231434,
          10.964439505837454,
          11.135184450713146,
          11.077643766037692,
          10.547843509593287,
          10.97108262336453,
          10.550105312901177,
          10.75290265563826,
          10.650290248753143,
          10.799563816603257,
          10.777713434380455,
          10.748493984908094,
          10.888957637700578,
          10.808418854085803,
          10.633393509951349,
          10.374109887086622,
          10.61794692164081,
          10.374252798435036,
          10.270687273738671,
          10.355708988756728,
          10.104147720291175,
          10.170372363007496,
          10.05296447595155,
          10.285670992667054,
          10.218857179167031,
          9.799273072514545,
          9.952648569539011,
          9.979481914846376,
          9.881814928777723,
          9.62593995049487,
          9.695656461540008,
          9.978416356169136,
          9.958018645809489,
          9.985568420005537,
          10.125721189164622,
          9.358721912336625,
          9.537558670067021,
          9.64577705380363,
          9.619194134593387,
          9.572391652965203,
          9.400082342744938,
          9.508638253510258,
          9.676524183242499,
          9.699572183165444,
          9.526311134242869,
          9.62276060621995,
          9.30177154222594,
          9.645492254215812,
          9.50583387073755,
          9.237606508570046,
          9.101012962177569,
          9.332559101299069,
          9.191388234106887,
          9.14334886919235,
          9.091766095853519,
          9.090550413315656,
          9.103826738130053,
          9.001217008480044,
          9.03092785901673,
          9.15276380555422,
          9.134828024622953,
          8.793439548574321,
          8.97694910633489,
          8.801699766153076,
          8.948418008562351,
          8.878555749239485,
          8.790466767036573,
          9.190381989620754,
          8.999682729668708,
          8.54382333260524,
          8.923862527700665,
          8.957160860793921,
          8.46240945356568,
          8.608810593741035,
          8.43771292969297,
          8.611023232040242,
          8.451794152806176,
          8.302583423071859,
          8.406638886250551,
          8.359323453176986,
          8.392494113020863,
          8.18243257659736,
          8.14519244197216,
          8.17824025793957,
          8.388539037698473,
          8.104353729522993,
          8.21716058394733,
          8.178850847839035,
          8.218000181100484,
          8.310800964485967,
          8.143358574702235,
          8.30987619690397,
          7.7681276537782775,
          8.41793560229446,
          7.689179902235376,
          8.029943311524121,
          8.268429904676184,
          8.299699347500475,
          7.715911349290162,
          8.210663551662295,
          7.783608048373162
         ],
         "yaxis": "y"
        },
        {
         "mode": "markers",
         "name": "base station",
         "type": "scatter",
         "x": [
          3
         ],
         "y": [
          4
         ]
        }
       ],
       "layout": {
        "autosize": true,
        "coloraxis": {
         "colorbar": {
          "title": {
           "text": "color"
          }
         },
         "colorscale": [
          [
           0,
           "rgb(0,0,131)"
          ],
          [
           0.2,
           "rgb(0,60,170)"
          ],
          [
           0.4,
           "rgb(5,255,255)"
          ],
          [
           0.6,
           "rgb(255,255,0)"
          ],
          [
           0.8,
           "rgb(250,0,0)"
          ],
          [
           1,
           "rgb(128,0,0)"
          ]
         ]
        },
        "legend": {
         "tracegroupgap": 0
        },
        "margin": {
         "t": 60
        },
        "template": {
         "data": {
          "bar": [
           {
            "error_x": {
             "color": "#2a3f5f"
            },
            "error_y": {
             "color": "#2a3f5f"
            },
            "marker": {
             "line": {
              "color": "#E5ECF6",
              "width": 0.5
             },
             "pattern": {
              "fillmode": "overlay",
              "size": 10,
              "solidity": 0.2
             }
            },
            "type": "bar"
           }
          ],
          "barpolar": [
           {
            "marker": {
             "line": {
              "color": "#E5ECF6",
              "width": 0.5
             },
             "pattern": {
              "fillmode": "overlay",
              "size": 10,
              "solidity": 0.2
             }
            },
            "type": "barpolar"
           }
          ],
          "carpet": [
           {
            "aaxis": {
             "endlinecolor": "#2a3f5f",
             "gridcolor": "white",
             "linecolor": "white",
             "minorgridcolor": "white",
             "startlinecolor": "#2a3f5f"
            },
            "baxis": {
             "endlinecolor": "#2a3f5f",
             "gridcolor": "white",
             "linecolor": "white",
             "minorgridcolor": "white",
             "startlinecolor": "#2a3f5f"
            },
            "type": "carpet"
           }
          ],
          "choropleth": [
           {
            "colorbar": {
             "outlinewidth": 0,
             "ticks": ""
            },
            "type": "choropleth"
           }
          ],
          "contour": [
           {
            "colorbar": {
             "outlinewidth": 0,
             "ticks": ""
            },
            "colorscale": [
             [
              0,
              "#0d0887"
             ],
             [
              0.1111111111111111,
              "#46039f"
             ],
             [
              0.2222222222222222,
              "#7201a8"
             ],
             [
              0.3333333333333333,
              "#9c179e"
             ],
             [
              0.4444444444444444,
              "#bd3786"
             ],
             [
              0.5555555555555556,
              "#d8576b"
             ],
             [
              0.6666666666666666,
              "#ed7953"
             ],
             [
              0.7777777777777778,
              "#fb9f3a"
             ],
             [
              0.8888888888888888,
              "#fdca26"
             ],
             [
              1,
              "#f0f921"
             ]
            ],
            "type": "contour"
           }
          ],
          "contourcarpet": [
           {
            "colorbar": {
             "outlinewidth": 0,
             "ticks": ""
            },
            "type": "contourcarpet"
           }
          ],
          "heatmap": [
           {
            "colorbar": {
             "outlinewidth": 0,
             "ticks": ""
            },
            "colorscale": [
             [
              0,
              "#0d0887"
             ],
             [
              0.1111111111111111,
              "#46039f"
             ],
             [
              0.2222222222222222,
              "#7201a8"
             ],
             [
              0.3333333333333333,
              "#9c179e"
             ],
             [
              0.4444444444444444,
              "#bd3786"
             ],
             [
              0.5555555555555556,
              "#d8576b"
             ],
             [
              0.6666666666666666,
              "#ed7953"
             ],
             [
              0.7777777777777778,
              "#fb9f3a"
             ],
             [
              0.8888888888888888,
              "#fdca26"
             ],
             [
              1,
              "#f0f921"
             ]
            ],
            "type": "heatmap"
           }
          ],
          "heatmapgl": [
           {
            "colorbar": {
             "outlinewidth": 0,
             "ticks": ""
            },
            "colorscale": [
             [
              0,
              "#0d0887"
             ],
             [
              0.1111111111111111,
              "#46039f"
             ],
             [
              0.2222222222222222,
              "#7201a8"
             ],
             [
              0.3333333333333333,
              "#9c179e"
             ],
             [
              0.4444444444444444,
              "#bd3786"
             ],
             [
              0.5555555555555556,
              "#d8576b"
             ],
             [
              0.6666666666666666,
              "#ed7953"
             ],
             [
              0.7777777777777778,
              "#fb9f3a"
             ],
             [
              0.8888888888888888,
              "#fdca26"
             ],
             [
              1,
              "#f0f921"
             ]
            ],
            "type": "heatmapgl"
           }
          ],
          "histogram": [
           {
            "marker": {
             "pattern": {
              "fillmode": "overlay",
              "size": 10,
              "solidity": 0.2
             }
            },
            "type": "histogram"
           }
          ],
          "histogram2d": [
           {
            "colorbar": {
             "outlinewidth": 0,
             "ticks": ""
            },
            "colorscale": [
             [
              0,
              "#0d0887"
             ],
             [
              0.1111111111111111,
              "#46039f"
             ],
             [
              0.2222222222222222,
              "#7201a8"
             ],
             [
              0.3333333333333333,
              "#9c179e"
             ],
             [
              0.4444444444444444,
              "#bd3786"
             ],
             [
              0.5555555555555556,
              "#d8576b"
             ],
             [
              0.6666666666666666,
              "#ed7953"
             ],
             [
              0.7777777777777778,
              "#fb9f3a"
             ],
             [
              0.8888888888888888,
              "#fdca26"
             ],
             [
              1,
              "#f0f921"
             ]
            ],
            "type": "histogram2d"
           }
          ],
          "histogram2dcontour": [
           {
            "colorbar": {
             "outlinewidth": 0,
             "ticks": ""
            },
            "colorscale": [
             [
              0,
              "#0d0887"
             ],
             [
              0.1111111111111111,
              "#46039f"
             ],
             [
              0.2222222222222222,
              "#7201a8"
             ],
             [
              0.3333333333333333,
              "#9c179e"
             ],
             [
              0.4444444444444444,
              "#bd3786"
             ],
             [
              0.5555555555555556,
              "#d8576b"
             ],
             [
              0.6666666666666666,
              "#ed7953"
             ],
             [
              0.7777777777777778,
              "#fb9f3a"
             ],
             [
              0.8888888888888888,
              "#fdca26"
             ],
             [
              1,
              "#f0f921"
             ]
            ],
            "type": "histogram2dcontour"
           }
          ],
          "mesh3d": [
           {
            "colorbar": {
             "outlinewidth": 0,
             "ticks": ""
            },
            "type": "mesh3d"
           }
          ],
          "parcoords": [
           {
            "line": {
             "colorbar": {
              "outlinewidth": 0,
              "ticks": ""
             }
            },
            "type": "parcoords"
           }
          ],
          "pie": [
           {
            "automargin": true,
            "type": "pie"
           }
          ],
          "scatter": [
           {
            "marker": {
             "colorbar": {
              "outlinewidth": 0,
              "ticks": ""
             }
            },
            "type": "scatter"
           }
          ],
          "scatter3d": [
           {
            "line": {
             "colorbar": {
              "outlinewidth": 0,
              "ticks": ""
             }
            },
            "marker": {
             "colorbar": {
              "outlinewidth": 0,
              "ticks": ""
             }
            },
            "type": "scatter3d"
           }
          ],
          "scattercarpet": [
           {
            "marker": {
             "colorbar": {
              "outlinewidth": 0,
              "ticks": ""
             }
            },
            "type": "scattercarpet"
           }
          ],
          "scattergeo": [
           {
            "marker": {
             "colorbar": {
              "outlinewidth": 0,
              "ticks": ""
             }
            },
            "type": "scattergeo"
           }
          ],
          "scattergl": [
           {
            "marker": {
             "colorbar": {
              "outlinewidth": 0,
              "ticks": ""
             }
            },
            "type": "scattergl"
           }
          ],
          "scattermapbox": [
           {
            "marker": {
             "colorbar": {
              "outlinewidth": 0,
              "ticks": ""
             }
            },
            "type": "scattermapbox"
           }
          ],
          "scatterpolar": [
           {
            "marker": {
             "colorbar": {
              "outlinewidth": 0,
              "ticks": ""
             }
            },
            "type": "scatterpolar"
           }
          ],
          "scatterpolargl": [
           {
            "marker": {
             "colorbar": {
              "outlinewidth": 0,
              "ticks": ""
             }
            },
            "type": "scatterpolargl"
           }
          ],
          "scatterternary": [
           {
            "marker": {
             "colorbar": {
              "outlinewidth": 0,
              "ticks": ""
             }
            },
            "type": "scatterternary"
           }
          ],
          "surface": [
           {
            "colorbar": {
             "outlinewidth": 0,
             "ticks": ""
            },
            "colorscale": [
             [
              0,
              "#0d0887"
             ],
             [
              0.1111111111111111,
              "#46039f"
             ],
             [
              0.2222222222222222,
              "#7201a8"
             ],
             [
              0.3333333333333333,
              "#9c179e"
             ],
             [
              0.4444444444444444,
              "#bd3786"
             ],
             [
              0.5555555555555556,
              "#d8576b"
             ],
             [
              0.6666666666666666,
              "#ed7953"
             ],
             [
              0.7777777777777778,
              "#fb9f3a"
             ],
             [
              0.8888888888888888,
              "#fdca26"
             ],
             [
              1,
              "#f0f921"
             ]
            ],
            "type": "surface"
           }
          ],
          "table": [
           {
            "cells": {
             "fill": {
              "color": "#EBF0F8"
             },
             "line": {
              "color": "white"
             }
            },
            "header": {
             "fill": {
              "color": "#C8D4E3"
             },
             "line": {
              "color": "white"
             }
            },
            "type": "table"
           }
          ]
         },
         "layout": {
          "annotationdefaults": {
           "arrowcolor": "#2a3f5f",
           "arrowhead": 0,
           "arrowwidth": 1
          },
          "autotypenumbers": "strict",
          "coloraxis": {
           "colorbar": {
            "outlinewidth": 0,
            "ticks": ""
           }
          },
          "colorscale": {
           "diverging": [
            [
             0,
             "#8e0152"
            ],
            [
             0.1,
             "#c51b7d"
            ],
            [
             0.2,
             "#de77ae"
            ],
            [
             0.3,
             "#f1b6da"
            ],
            [
             0.4,
             "#fde0ef"
            ],
            [
             0.5,
             "#f7f7f7"
            ],
            [
             0.6,
             "#e6f5d0"
            ],
            [
             0.7,
             "#b8e186"
            ],
            [
             0.8,
             "#7fbc41"
            ],
            [
             0.9,
             "#4d9221"
            ],
            [
             1,
             "#276419"
            ]
           ],
           "sequential": [
            [
             0,
             "#0d0887"
            ],
            [
             0.1111111111111111,
             "#46039f"
            ],
            [
             0.2222222222222222,
             "#7201a8"
            ],
            [
             0.3333333333333333,
             "#9c179e"
            ],
            [
             0.4444444444444444,
             "#bd3786"
            ],
            [
             0.5555555555555556,
             "#d8576b"
            ],
            [
             0.6666666666666666,
             "#ed7953"
            ],
            [
             0.7777777777777778,
             "#fb9f3a"
            ],
            [
             0.8888888888888888,
             "#fdca26"
            ],
            [
             1,
             "#f0f921"
            ]
           ],
           "sequentialminus": [
            [
             0,
             "#0d0887"
            ],
            [
             0.1111111111111111,
             "#46039f"
            ],
            [
             0.2222222222222222,
             "#7201a8"
            ],
            [
             0.3333333333333333,
             "#9c179e"
            ],
            [
             0.4444444444444444,
             "#bd3786"
            ],
            [
             0.5555555555555556,
             "#d8576b"
            ],
            [
             0.6666666666666666,
             "#ed7953"
            ],
            [
             0.7777777777777778,
             "#fb9f3a"
            ],
            [
             0.8888888888888888,
             "#fdca26"
            ],
            [
             1,
             "#f0f921"
            ]
           ]
          },
          "colorway": [
           "#636efa",
           "#EF553B",
           "#00cc96",
           "#ab63fa",
           "#FFA15A",
           "#19d3f3",
           "#FF6692",
           "#B6E880",
           "#FF97FF",
           "#FECB52"
          ],
          "font": {
           "color": "#2a3f5f"
          },
          "geo": {
           "bgcolor": "white",
           "lakecolor": "white",
           "landcolor": "#E5ECF6",
           "showlakes": true,
           "showland": true,
           "subunitcolor": "white"
          },
          "hoverlabel": {
           "align": "left"
          },
          "hovermode": "closest",
          "mapbox": {
           "style": "light"
          },
          "paper_bgcolor": "white",
          "plot_bgcolor": "#E5ECF6",
          "polar": {
           "angularaxis": {
            "gridcolor": "white",
            "linecolor": "white",
            "ticks": ""
           },
           "bgcolor": "#E5ECF6",
           "radialaxis": {
            "gridcolor": "white",
            "linecolor": "white",
            "ticks": ""
           }
          },
          "scene": {
           "xaxis": {
            "backgroundcolor": "#E5ECF6",
            "gridcolor": "white",
            "gridwidth": 2,
            "linecolor": "white",
            "showbackground": true,
            "ticks": "",
            "zerolinecolor": "white"
           },
           "yaxis": {
            "backgroundcolor": "#E5ECF6",
            "gridcolor": "white",
            "gridwidth": 2,
            "linecolor": "white",
            "showbackground": true,
            "ticks": "",
            "zerolinecolor": "white"
           },
           "zaxis": {
            "backgroundcolor": "#E5ECF6",
            "gridcolor": "white",
            "gridwidth": 2,
            "linecolor": "white",
            "showbackground": true,
            "ticks": "",
            "zerolinecolor": "white"
           }
          },
          "shapedefaults": {
           "line": {
            "color": "#2a3f5f"
           }
          },
          "ternary": {
           "aaxis": {
            "gridcolor": "white",
            "linecolor": "white",
            "ticks": ""
           },
           "baxis": {
            "gridcolor": "white",
            "linecolor": "white",
            "ticks": ""
           },
           "bgcolor": "#E5ECF6",
           "caxis": {
            "gridcolor": "white",
            "linecolor": "white",
            "ticks": ""
           }
          },
          "title": {
           "x": 0.05
          },
          "xaxis": {
           "automargin": true,
           "gridcolor": "white",
           "linecolor": "white",
           "ticks": "",
           "title": {
            "standoff": 15
           },
           "zerolinecolor": "white",
           "zerolinewidth": 2
          },
          "yaxis": {
           "automargin": true,
           "gridcolor": "white",
           "linecolor": "white",
           "ticks": "",
           "title": {
            "standoff": 15
           },
           "zerolinecolor": "white",
           "zerolinewidth": 2
          }
         }
        },
        "xaxis": {
         "anchor": "y",
         "autorange": true,
         "domain": [
          0,
          1
         ],
         "range": [
          -14.085805405395115,
          4.048382752901524
         ],
         "title": {
          "text": "x"
         },
         "type": "linear"
        },
        "yaxis": {
         "anchor": "x",
         "autorange": true,
         "domain": [
          0,
          1
         ],
         "range": [
          3.1769223017262154,
          15.453335428521648
         ],
         "title": {
          "text": "y"
         },
         "type": "linear"
        }
       }
      },
      "image/png": "[encoded data removed]",
      "text/html": [
       "<div>                            <div id=\"66eb0b67-6a80-45c9-af42-d15692b52e15\" class=\"plotly-graph-div\" style=\"height:525px; width:100%;\"></div>            <script type=\"text/javascript\">                require([\"plotly\"], function(Plotly) {                    window.PLOTLYENV=window.PLOTLYENV || {};                                    if (document.getElementById(\"66eb0b67-6a80-45c9-af42-d15692b52e15\")) {                    Plotly.newPlot(                        \"66eb0b67-6a80-45c9-af42-d15692b52e15\",                        [{\"hovertemplate\":\"x=%{x}<br>y=%{y}<br>color=%{marker.color}<extra></extra>\",\"legendgroup\":\"\",\"marker\":{\"color\":[-7.394357180374262,-7.179552787985297,-6.997643258662105,-6.833081766869358,-6.679876957615398,-6.53493690124412,-6.396406436861954,-6.263062607078204,-6.134045166966321,-6.008719500468982,-5.886600041287933,-5.76730437608083,-5.650524183276028,-5.536006000697188,-5.423538026578749,-5.312940781062762,-5.204060325621338,-5.096763228644413,-4.990932754169763,-4.886465926896309,-4.783271237558839,-4.681266824574239,-4.580379015538002,-4.4805411444864784,-4.3816925832115565,-4.283777940670894,-4.186746395813343,-4.090551137330158,-3.9951488898726475,-3.9004995107722524,-3.8065656446865925,-3.71331242617871,-3.6207072222217453,-3.528719408166153,-3.4373201719128526,-3.3464823419907903,-3.2561802359960303,-3.166389526456091,-3.077087121674444,-2.988251059506317,-2.8998604123421474,-2.8118952018405667,-2.724336322172343,-2.63716547071893,-2.5503650853207454,-2.463918287296713,-2.377808829563621,-2.2920210492734125,-2.206539824462703,-2.1213505342734487,-2.03643902235889,-1.9517915631361498,-1.8673948305869899,-1.7832358693437182,-1.6993020678268458,-1.6155811332271852,-1.5320610681479114,-1.448730148741659,-1.3655769041944539,-1.2825900974240283,-1.199758706872138,-1.1170719092826964,-1.0345190633672157,-0.9520896942675912,-0.8697734787345335,-0.7875602309460296,-0.7054398888964214,-0.623402501291968,-0.5414382148928106,-0.45953726224539776,-0.3776899497528668,-0.29588664603325443,-0.21411777051843603,-0.13237378224802746,-0.05064516881448869,0.03107756458315674,0.1128039060189892,0.19454334769433587,0.2763053968075454,0.3580995864806313,0.4399354867842191,0.521822715903507,0.603770951488673,0.6857899422346163,0.7678895197374088,0.8500796106760928,0.9323702493723611,1.014771590782822,1.0972939239829265,1.1799476862057785,1.2627434775038253,1.3456920761075035,1.428804454561089,1.5120917967234042,1.5955655157300268,1.6792372730225698,1.7631189985623363,1.84722291235796,1.9315615474510133,2.0161477745203755,2.100994828285018,2.1861163359066653,2.2715263476190852,2.3572393698395855,2.4432704010523123,2.529634970791653,2.6163491820997176,2.703429757884928,2.7908940916709657,2.87876030329864,2.9670473002292774,3.0557748452005837,3.1449636311077858,3.234635364127433,3.324812856275796,3.415520128803435,3.5067825280811635,3.598626855942596,3.691081516825766,3.784176684522589,3.877944491921847,3.9724192478495497,4.0676376860137475,4.163639252201243,4.260466437327683,4.358165165811681,4.456785251165896,4.556380933870312,4.657011520790186,4.7587421510146894,4.8616447205952715,4.965799009095648,5.071294065386959,5.178229930661251,5.286719806191229,5.3968928167205705,5.508897585345294,5.622906935477793,5.739124192758182,5.857791815496339,5.979203512922738,6.103721766117969,6.231804057199055,6.36404382283943,6.501237812419534,6.644504444326365,6.79551069527298,6.95696290647681,7.133879847818186,7.33812149265738,7.626729470112748],\"coloraxis\":\"coloraxis\",\"symbol\":\"circle\"},\"mode\":\"markers\",\"name\":\"\",\"orientation\":\"v\",\"showlegend\":false,\"type\":\"scatter\",\"x\":[-8.733517631592298,-8.748878307623517,-8.580711477874589,-8.629384590769961,-8.413615283677995,-8.263414478770825,-8.34703578634766,-8.16116714548851,-7.874776929748307,-7.968587162308949,-8.304506840081634,-8.219459133955448,-8.07540462581608,-8.294336959281587,-8.003590536014062,-8.660611000611205,-8.103811445527786,-7.788124632608225,-8.145804086584889,-8.066154553007612,-7.853447037663707,-7.7504450139474095,-7.6304692920642605,-7.85036347084292,-8.026100064366068,-8.047344988803616,-8.210211852380173,-7.7325918881676525,-7.9069093640954335,-8.025586675140419,-7.9301770784887,-8.135020178694765,-8.005665971923442,-7.754246273272377,-7.993203680198385,-8.04427441481383,-7.822751548457944,-7.959052225360089,-7.880141120628325,-7.941559697564976,-7.842660112958709,-8.252167582873907,-8.10407652241677,-8.190631572176413,-7.9685456705182816,-8.242728765037524,-8.271151822473582,-8.233926088124166,-7.904609643235675,-8.068241860422665,-8.079822435727978,-8.34452263812693,-7.907553925990019,-8.101391049884594,-8.377126767156001,-8.339725344593433,-8.229870579855193,-8.5985425327304,-8.08966039992612,-8.338446048746407,-8.309043337978128,-7.98236603715621,-8.400481275519546,-8.050050331209262,-8.293335478088315,-8.193712739440558,-8.248701380550584,-8.356643889128735,-8.352561012512487,-8.648769550003589,-8.356669357867842,-8.317287066502718,-8.37849823893967,-8.350907861865801,-8.550275238986854,-8.510338272476002,-8.510442800932527,-8.45073335190601,-8.312890687180694,-8.94099901234712,-8.626864208705806,-8.620417547959516,-8.528448037305928,-8.686764131514504,-8.717206007906357,-8.66903831302684,-9.075477567246155,-8.776376381421398,-8.353025871738595,-8.689916436121615,-8.848402717883635,-8.932553333519486,-8.62635670739004,-9.037880812198024,-9.165008371759724,-9.032360654757701,-8.885381418541849,-9.017572391497435,-9.132285887657691,-9.128014388217746,-9.188254846369343,-9.362910873627255,-9.146569406009721,-9.230648329506643,-9.124651813281366,-9.46067619289496,-9.253615503159375,-9.11507221403843,-9.204780228136304,-9.143381520770088,-9.700596595606388,-9.327541635545634,-9.497346145210908,-9.4946263359393,-9.769342687774786,-9.724722744085426,-9.73267545312823,-9.705913840969169,-9.515433563572063,-9.914312607714058,-10.204096404284162,-9.802785924207932,-9.880501077339732,-9.87524094464747,-10.372525068540849,-10.397779363648397,-10.282825771405143,-10.19090073530091,-9.8638395018561,-10.331618998272265,-10.385073750734124,-10.395837770520707,-10.559125805311231,-10.219074037671838,-10.649804456372404,-10.741305732764935,-10.812911869919315,-10.436924188182093,-11.05742757775067,-11.253441705620446,-10.954119173716775,-11.341782144582968,-11.279731203315805,-11.354517065936156,-11.446606418341336,-11.526338327321934,-11.788043407050976,-11.883401152759848,-11.872412117251317,-12.11587484043451,-13.037422652493591],\"xaxis\":\"x\",\"y\":[14.630257730247862,14.23750325351388,14.165387413099932,13.980057615250155,13.776920030627986,13.818019067531285,13.570148949559067,13.72272294179561,13.400211056388684,12.932117730977376,13.431177860715028,13.264347080579828,13.215444606394898,13.45241652639516,13.04732092568529,12.713286103241902,12.927220628846843,13.18529551521143,12.920410230931799,12.636888883107641,12.139663662904379,12.522266251393674,12.191967195522848,12.575026275860301,12.285144845269137,12.241491598618563,12.361526043241703,11.891271305441007,12.041851253154547,12.042636678973794,12.067709327113619,11.904880080148487,12.037519493369233,11.650935813181832,11.927841560910863,12.062870471847944,11.704362090636948,11.615751484559121,11.725961059648538,11.458746382917516,11.504592735720388,11.710607747832801,11.295679554291317,11.459682256747072,11.547723228118548,11.40810737860061,11.460676920425296,11.40664241470275,10.871975260045897,10.681772925277919,10.771352245231434,10.964439505837454,11.135184450713146,11.077643766037692,10.547843509593287,10.97108262336453,10.550105312901177,10.75290265563826,10.650290248753143,10.799563816603257,10.777713434380455,10.748493984908094,10.888957637700578,10.808418854085803,10.633393509951349,10.374109887086622,10.61794692164081,10.374252798435036,10.270687273738671,10.355708988756728,10.104147720291175,10.170372363007496,10.05296447595155,10.285670992667054,10.218857179167031,9.799273072514545,9.952648569539011,9.979481914846376,9.881814928777723,9.62593995049487,9.695656461540008,9.978416356169136,9.958018645809489,9.985568420005537,10.125721189164622,9.358721912336625,9.537558670067021,9.64577705380363,9.619194134593387,9.572391652965203,9.400082342744938,9.508638253510258,9.676524183242499,9.699572183165444,9.526311134242869,9.62276060621995,9.30177154222594,9.645492254215812,9.50583387073755,9.237606508570046,9.101012962177569,9.332559101299069,9.191388234106887,9.14334886919235,9.091766095853519,9.090550413315656,9.103826738130053,9.001217008480044,9.03092785901673,9.15276380555422,9.134828024622953,8.793439548574321,8.97694910633489,8.801699766153076,8.948418008562351,8.878555749239485,8.790466767036573,9.190381989620754,8.999682729668708,8.54382333260524,8.923862527700665,8.957160860793921,8.46240945356568,8.608810593741035,8.43771292969297,8.611023232040242,8.451794152806176,8.302583423071859,8.406638886250551,8.359323453176986,8.392494113020863,8.18243257659736,8.14519244197216,8.17824025793957,8.388539037698473,8.104353729522993,8.21716058394733,8.178850847839035,8.218000181100484,8.310800964485967,8.143358574702235,8.30987619690397,7.7681276537782775,8.41793560229446,7.689179902235376,8.029943311524121,8.268429904676184,8.299699347500475,7.715911349290162,8.210663551662295,7.783608048373162],\"yaxis\":\"y\"},{\"mode\":\"markers\",\"name\":\"base station\",\"type\":\"scatter\",\"x\":[3],\"y\":[4]}],                        {\"coloraxis\":{\"colorbar\":{\"title\":{\"text\":\"color\"}},\"colorscale\":[[0.0,\"rgb(0,0,131)\"],[0.2,\"rgb(0,60,170)\"],[0.4,\"rgb(5,255,255)\"],[0.6,\"rgb(255,255,0)\"],[0.8,\"rgb(250,0,0)\"],[1.0,\"rgb(128,0,0)\"]]},\"legend\":{\"tracegroupgap\":0},\"margin\":{\"t\":60},\"template\":{\"data\":{\"bar\":[{\"error_x\":{\"color\":\"#2a3f5f\"},\"error_y\":{\"color\":\"#2a3f5f\"},\"marker\":{\"line\":{\"color\":\"#E5ECF6\",\"width\":0.5},\"pattern\":{\"fillmode\":\"overlay\",\"size\":10,\"solidity\":0.2}},\"type\":\"bar\"}],\"barpolar\":[{\"marker\":{\"line\":{\"color\":\"#E5ECF6\",\"width\":0.5},\"pattern\":{\"fillmode\":\"overlay\",\"size\":10,\"solidity\":0.2}},\"type\":\"barpolar\"}],\"carpet\":[{\"aaxis\":{\"endlinecolor\":\"#2a3f5f\",\"gridcolor\":\"white\",\"linecolor\":\"white\",\"minorgridcolor\":\"white\",\"startlinecolor\":\"#2a3f5f\"},\"baxis\":{\"endlinecolor\":\"#2a3f5f\",\"gridcolor\":\"white\",\"linecolor\":\"white\",\"minorgridcolor\":\"white\",\"startlinecolor\":\"#2a3f5f\"},\"type\":\"carpet\"}],\"choropleth\":[{\"colorbar\":{\"outlinewidth\":0,\"ticks\":\"\"},\"type\":\"choropleth\"}],\"contour\":[{\"colorbar\":{\"outlinewidth\":0,\"ticks\":\"\"},\"colorscale\":[[0.0,\"#0d0887\"],[0.1111111111111111,\"#46039f\"],[0.2222222222222222,\"#7201a8\"],[0.3333333333333333,\"#9c179e\"],[0.4444444444444444,\"#bd3786\"],[0.5555555555555556,\"#d8576b\"],[0.6666666666666666,\"#ed7953\"],[0.7777777777777778,\"#fb9f3a\"],[0.8888888888888888,\"#fdca26\"],[1.0,\"#f0f921\"]],\"type\":\"contour\"}],\"contourcarpet\":[{\"colorbar\":{\"outlinewidth\":0,\"ticks\":\"\"},\"type\":\"contourcarpet\"}],\"heatmap\":[{\"colorbar\":{\"outlinewidth\":0,\"ticks\":\"\"},\"colorscale\":[[0.0,\"#0d0887\"],[0.1111111111111111,\"#46039f\"],[0.2222222222222222,\"#7201a8\"],[0.3333333333333333,\"#9c179e\"],[0.4444444444444444,\"#bd3786\"],[0.5555555555555556,\"#d8576b\"],[0.6666666666666666,\"#ed7953\"],[0.7777777777777778,\"#fb9f3a\"],[0.8888888888888888,\"#fdca26\"],[1.0,\"#f0f921\"]],\"type\":\"heatmap\"}],\"heatmapgl\":[{\"colorbar\":{\"outlinewidth\":0,\"ticks\":\"\"},\"colorscale\":[[0.0,\"#0d0887\"],[0.1111111111111111,\"#46039f\"],[0.2222222222222222,\"#7201a8\"],[0.3333333333333333,\"#9c179e\"],[0.4444444444444444,\"#bd3786\"],[0.5555555555555556,\"#d8576b\"],[0.6666666666666666,\"#ed7953\"],[0.7777777777777778,\"#fb9f3a\"],[0.8888888888888888,\"#fdca26\"],[1.0,\"#f0f921\"]],\"type\":\"heatmapgl\"}],\"histogram\":[{\"marker\":{\"pattern\":{\"fillmode\":\"overlay\",\"size\":10,\"solidity\":0.2}},\"type\":\"histogram\"}],\"histogram2d\":[{\"colorbar\":{\"outlinewidth\":0,\"ticks\":\"\"},\"colorscale\":[[0.0,\"#0d0887\"],[0.1111111111111111,\"#46039f\"],[0.2222222222222222,\"#7201a8\"],[0.3333333333333333,\"#9c179e\"],[0.4444444444444444,\"#bd3786\"],[0.5555555555555556,\"#d8576b\"],[0.6666666666666666,\"#ed7953\"],[0.7777777777777778,\"#fb9f3a\"],[0.8888888888888888,\"#fdca26\"],[1.0,\"#f0f921\"]],\"type\":\"histogram2d\"}],\"histogram2dcontour\":[{\"colorbar\":{\"outlinewidth\":0,\"ticks\":\"\"},\"colorscale\":[[0.0,\"#0d0887\"],[0.1111111111111111,\"#46039f\"],[0.2222222222222222,\"#7201a8\"],[0.3333333333333333,\"#9c179e\"],[0.4444444444444444,\"#bd3786\"],[0.5555555555555556,\"#d8576b\"],[0.6666666666666666,\"#ed7953\"],[0.7777777777777778,\"#fb9f3a\"],[0.8888888888888888,\"#fdca26\"],[1.0,\"#f0f921\"]],\"type\":\"histogram2dcontour\"}],\"mesh3d\":[{\"colorbar\":{\"outlinewidth\":0,\"ticks\":\"\"},\"type\":\"mesh3d\"}],\"parcoords\":[{\"line\":{\"colorbar\":{\"outlinewidth\":0,\"ticks\":\"\"}},\"type\":\"parcoords\"}],\"pie\":[{\"automargin\":true,\"type\":\"pie\"}],\"scatter\":[{\"marker\":{\"colorbar\":{\"outlinewidth\":0,\"ticks\":\"\"}},\"type\":\"scatter\"}],\"scatter3d\":[{\"line\":{\"colorbar\":{\"outlinewidth\":0,\"ticks\":\"\"}},\"marker\":{\"colorbar\":{\"outlinewidth\":0,\"ticks\":\"\"}},\"type\":\"scatter3d\"}],\"scattercarpet\":[{\"marker\":{\"colorbar\":{\"outlinewidth\":0,\"ticks\":\"\"}},\"type\":\"scattercarpet\"}],\"scattergeo\":[{\"marker\":{\"colorbar\":{\"outlinewidth\":0,\"ticks\":\"\"}},\"type\":\"scattergeo\"}],\"scattergl\":[{\"marker\":{\"colorbar\":{\"outlinewidth\":0,\"ticks\":\"\"}},\"type\":\"scattergl\"}],\"scattermapbox\":[{\"marker\":{\"colorbar\":{\"outlinewidth\":0,\"ticks\":\"\"}},\"type\":\"scattermapbox\"}],\"scatterpolar\":[{\"marker\":{\"colorbar\":{\"outlinewidth\":0,\"ticks\":\"\"}},\"type\":\"scatterpolar\"}],\"scatterpolargl\":[{\"marker\":{\"colorbar\":{\"outlinewidth\":0,\"ticks\":\"\"}},\"type\":\"scatterpolargl\"}],\"scatterternary\":[{\"marker\":{\"colorbar\":{\"outlinewidth\":0,\"ticks\":\"\"}},\"type\":\"scatterternary\"}],\"surface\":[{\"colorbar\":{\"outlinewidth\":0,\"ticks\":\"\"},\"colorscale\":[[0.0,\"#0d0887\"],[0.1111111111111111,\"#46039f\"],[0.2222222222222222,\"#7201a8\"],[0.3333333333333333,\"#9c179e\"],[0.4444444444444444,\"#bd3786\"],[0.5555555555555556,\"#d8576b\"],[0.6666666666666666,\"#ed7953\"],[0.7777777777777778,\"#fb9f3a\"],[0.8888888888888888,\"#fdca26\"],[1.0,\"#f0f921\"]],\"type\":\"surface\"}],\"table\":[{\"cells\":{\"fill\":{\"color\":\"#EBF0F8\"},\"line\":{\"color\":\"white\"}},\"header\":{\"fill\":{\"color\":\"#C8D4E3\"},\"line\":{\"color\":\"white\"}},\"type\":\"table\"}]},\"layout\":{\"annotationdefaults\":{\"arrowcolor\":\"#2a3f5f\",\"arrowhead\":0,\"arrowwidth\":1},\"autotypenumbers\":\"strict\",\"coloraxis\":{\"colorbar\":{\"outlinewidth\":0,\"ticks\":\"\"}},\"colorscale\":{\"diverging\":[[0,\"#8e0152\"],[0.1,\"#c51b7d\"],[0.2,\"#de77ae\"],[0.3,\"#f1b6da\"],[0.4,\"#fde0ef\"],[0.5,\"#f7f7f7\"],[0.6,\"#e6f5d0\"],[0.7,\"#b8e186\"],[0.8,\"#7fbc41\"],[0.9,\"#4d9221\"],[1,\"#276419\"]],\"sequential\":[[0.0,\"#0d0887\"],[0.1111111111111111,\"#46039f\"],[0.2222222222222222,\"#7201a8\"],[0.3333333333333333,\"#9c179e\"],[0.4444444444444444,\"#bd3786\"],[0.5555555555555556,\"#d8576b\"],[0.6666666666666666,\"#ed7953\"],[0.7777777777777778,\"#fb9f3a\"],[0.8888888888888888,\"#fdca26\"],[1.0,\"#f0f921\"]],\"sequentialminus\":[[0.0,\"#0d0887\"],[0.1111111111111111,\"#46039f\"],[0.2222222222222222,\"#7201a8\"],[0.3333333333333333,\"#9c179e\"],[0.4444444444444444,\"#bd3786\"],[0.5555555555555556,\"#d8576b\"],[0.6666666666666666,\"#ed7953\"],[0.7777777777777778,\"#fb9f3a\"],[0.8888888888888888,\"#fdca26\"],[1.0,\"#f0f921\"]]},\"colorway\":[\"#636efa\",\"#EF553B\",\"#00cc96\",\"#ab63fa\",\"#FFA15A\",\"#19d3f3\",\"#FF6692\",\"#B6E880\",\"#FF97FF\",\"#FECB52\"],\"font\":{\"color\":\"#2a3f5f\"},\"geo\":{\"bgcolor\":\"white\",\"lakecolor\":\"white\",\"landcolor\":\"#E5ECF6\",\"showlakes\":true,\"showland\":true,\"subunitcolor\":\"white\"},\"hoverlabel\":{\"align\":\"left\"},\"hovermode\":\"closest\",\"mapbox\":{\"style\":\"light\"},\"paper_bgcolor\":\"white\",\"plot_bgcolor\":\"#E5ECF6\",\"polar\":{\"angularaxis\":{\"gridcolor\":\"white\",\"linecolor\":\"white\",\"ticks\":\"\"},\"bgcolor\":\"#E5ECF6\",\"radialaxis\":{\"gridcolor\":\"white\",\"linecolor\":\"white\",\"ticks\":\"\"}},\"scene\":{\"xaxis\":{\"backgroundcolor\":\"#E5ECF6\",\"gridcolor\":\"white\",\"gridwidth\":2,\"linecolor\":\"white\",\"showbackground\":true,\"ticks\":\"\",\"zerolinecolor\":\"white\"},\"yaxis\":{\"backgroundcolor\":\"#E5ECF6\",\"gridcolor\":\"white\",\"gridwidth\":2,\"linecolor\":\"white\",\"showbackground\":true,\"ticks\":\"\",\"zerolinecolor\":\"white\"},\"zaxis\":{\"backgroundcolor\":\"#E5ECF6\",\"gridcolor\":\"white\",\"gridwidth\":2,\"linecolor\":\"white\",\"showbackground\":true,\"ticks\":\"\",\"zerolinecolor\":\"white\"}},\"shapedefaults\":{\"line\":{\"color\":\"#2a3f5f\"}},\"ternary\":{\"aaxis\":{\"gridcolor\":\"white\",\"linecolor\":\"white\",\"ticks\":\"\"},\"baxis\":{\"gridcolor\":\"white\",\"linecolor\":\"white\",\"ticks\":\"\"},\"bgcolor\":\"#E5ECF6\",\"caxis\":{\"gridcolor\":\"white\",\"linecolor\":\"white\",\"ticks\":\"\"}},\"title\":{\"x\":0.05},\"xaxis\":{\"automargin\":true,\"gridcolor\":\"white\",\"linecolor\":\"white\",\"ticks\":\"\",\"title\":{\"standoff\":15},\"zerolinecolor\":\"white\",\"zerolinewidth\":2},\"yaxis\":{\"automargin\":true,\"gridcolor\":\"white\",\"linecolor\":\"white\",\"ticks\":\"\",\"title\":{\"standoff\":15},\"zerolinecolor\":\"white\",\"zerolinewidth\":2}}},\"xaxis\":{\"anchor\":\"y\",\"domain\":[0.0,1.0],\"title\":{\"text\":\"x\"}},\"yaxis\":{\"anchor\":\"x\",\"domain\":[0.0,1.0],\"title\":{\"text\":\"y\"}}},                        {\"responsive\": true}                    ).then(function(){\n",
       "                            \n",
       "var gd = document.getElementById('66eb0b67-6a80-45c9-af42-d15692b52e15');\n",
       "var x = new MutationObserver(function (mutations, observer) {{\n",
       "        var display = window.getComputedStyle(gd).display;\n",
       "        if (!display || display === 'none') {{\n",
       "            console.log([gd, 'removed!']);\n",
       "            Plotly.purge(gd);\n",
       "            observer.disconnect();\n",
       "        }}\n",
       "}});\n",
       "\n",
       "// Listen for the removal of the full notebook cells\n",
       "var notebookContainer = gd.closest('#notebook-container');\n",
       "if (notebookContainer) {{\n",
       "    x.observe(notebookContainer, {childList: true});\n",
       "}}\n",
       "\n",
       "// Listen for the clearing of the current output cell\n",
       "var outputEl = gd.closest('.output');\n",
       "if (outputEl) {{\n",
       "    x.observe(outputEl, {childList: true});\n",
       "}}\n",
       "\n",
       "                        })                };                });            </script>        </div>"
      ]
     },
     "metadata": {},
     "output_type": "display_data"
    }
   ],
   "source": [
    "fig = px.scatter(x=point_xs, y=point_ys, color=point_vs, color_continuous_scale=\"Jet\")\n",
    "fig.add_scatter(x=[radar_x], y=[radar_y], mode=\"markers\", name=\"base station\")\n",
    "\n",
    "fig.show()"
   ]
  },
  {
   "cell_type": "markdown",
   "id": "12d97ab2-c30d-44d6-a9cd-e2b3c56bd22e",
   "metadata": {},
   "source": [
    "## estimation of circle parameters\n",
    "See: [construction shit](https://www.iaarc.org/publications/fulltext/S17-2.pdf)\n",
    "\n",
    "it converges for suitably close initial guesses, but fucks out with other ones (local minimum?)"
   ]
  },
  {
   "cell_type": "code",
   "execution_count": 60,
   "id": "52a6a1f5-f35b-4dfa-a841-953f0924f160",
   "metadata": {},
   "outputs": [],
   "source": [
    "def generate_likelihood_fn_1(xs, ys):\n",
    "    def likelihood_fn(params):\n",
    "        a, b = params[0], params[1]\n",
    "        r = 1\n",
    "        \n",
    "        s = 0\n",
    "        for xa, ya in zip(xs, ys):\n",
    "            num = np.square(xa*xa + ya*ya - 2*a*xa - 2*b*ya + a*a + b*b - r*r)\n",
    "            den = xa*xa + ya*ya - 2*a*xa - 2*b*ya + a*a + b*b\n",
    "            s += num / den\n",
    "        return s\n",
    "    return likelihood_fn"
   ]
  },
  {
   "cell_type": "code",
   "execution_count": 61,
   "id": "81666660-64e7-4f5e-91ff-0c93eb126111",
   "metadata": {},
   "outputs": [
    {
     "name": "stdout",
     "output_type": "stream",
     "text": [
      "Optimization terminated successfully.\n",
      "         Current function value: 123.602007\n",
      "         Iterations: 13\n",
      "         Function evaluations: 51\n",
      "         Gradient evaluations: 17\n"
     ]
    }
   ],
   "source": [
    "# guess = np.array([0, 0])\n",
    "opt_res = optimize.minimize(\n",
    "    generate_likelihood_fn_1(point_xs, point_ys),\n",
    "    guess,\n",
    "    options={\"disp\": True, \"maxiter\": 100}\n",
    ")"
   ]
  },
  {
   "cell_type": "code",
   "execution_count": 62,
   "id": "a07ef4d6-3e11-42ed-9342-16ce83fa6eea",
   "metadata": {},
   "outputs": [
    {
     "data": {
      "text/plain": [
       "      fun: 123.60200660608156\n",
       " hess_inv: array([[ 0.00124558, -0.001341  ],\n",
       "       [-0.001341  ,  0.00320729]])\n",
       "      jac: array([-2.86102295e-06, -2.86102295e-06])\n",
       "  message: 'Optimization terminated successfully.'\n",
       "     nfev: 51\n",
       "      nit: 13\n",
       "     njev: 17\n",
       "   status: 0\n",
       "  success: True\n",
       "        x: array([3.62068653, 4.2986378 ])"
      ]
     },
     "execution_count": 62,
     "metadata": {},
     "output_type": "execute_result"
    }
   ],
   "source": [
    "opt_res"
   ]
  },
  {
   "cell_type": "markdown",
   "id": "e15e76f7-c791-4ca0-9c66-2c9c05c78f0a",
   "metadata": {},
   "source": [
    "## Circle parameter estimation v2\n",
    "See [deep state paper](https://ieeexplore-ieee-org.ezproxy.canterbury.ac.nz/stamp/stamp.jsp?tp=&arnumber=1608136)"
   ]
  },
  {
   "cell_type": "markdown",
   "id": "8db3f57c-a02c-4a3d-bd3c-a5fac160a663",
   "metadata": {},
   "source": [
    "### Why cirlce parameter estimation is bad\n",
    "- Log-liklihood function contains many local minima\n",
    "- LL function contains plateaus of low gradient -> slow conergence\n",
    "- See [Least squares fitting of circles and lines](https://people.cas.uab.edu/~mosya/papers/cl1.pdf) for why its hard"
   ]
  },
  {
   "cell_type": "code",
   "execution_count": 122,
   "id": "c69d2069-22a7-410b-b597-1dea48a53021",
   "metadata": {},
   "outputs": [],
   "source": [
    "def gen_log_likelihood(x_values, y_values):\n",
    "    def likelihood_fn(params):\n",
    "        cx, cy, r = params[0], params[1], params[2]\n",
    "        \n",
    "        norm = np.sqrt(np.square(x_values - cx) + np.square(y_values - cy))\n",
    "        return np.sum(np.square(norm - r))\n",
    "    return likelihood_fn"
   ]
  },
  {
   "cell_type": "code",
   "execution_count": 123,
   "id": "cf1f1ec2-a2a6-4780-b36d-47aee19f392c",
   "metadata": {},
   "outputs": [],
   "source": [
    "closest_idx = np.argmin(\n",
    "    np.sqrt(\n",
    "        np.square(point_xs - radar_x) +\n",
    "        np.square(point_ys - radar_y)\n",
    "    )\n",
    ")\n",
    "guess = np.array([point_xs[closest_idx], point_ys[closest_idx], 1.0])"
   ]
  },
  {
   "cell_type": "code",
   "execution_count": 124,
   "id": "b71fc7ed-ff58-48b1-9b94-8ca2ea1df87e",
   "metadata": {},
   "outputs": [
    {
     "data": {
      "text/plain": [
       "array([-8.97547945, 10.37422981,  1.        ])"
      ]
     },
     "execution_count": 124,
     "metadata": {},
     "output_type": "execute_result"
    }
   ],
   "source": [
    "guess_x = np.mean(point_xs)\n",
    "guess_y = np.mean(point_ys)\n",
    "guess = np.array([guess_x, guess_y, 1.0])\n",
    "guess"
   ]
  },
  {
   "cell_type": "code",
   "execution_count": 125,
   "id": "9d036a17-d9a2-4d50-8b64-537c42dda569",
   "metadata": {},
   "outputs": [
    {
     "name": "stdout",
     "output_type": "stream",
     "text": [
      "Optimization terminated successfully.\n",
      "         Current function value: 3.210200\n",
      "         Iterations: 14\n",
      "         Function evaluations: 72\n",
      "         Gradient evaluations: 18\n"
     ]
    },
    {
     "data": {
      "text/plain": [
       "      fun: 3.210200189545908\n",
       " hess_inv: array([[ 0.18765616, -0.08228818, -0.17427514],\n",
       "       [-0.08228818,  0.07024505,  0.09000532],\n",
       "       [-0.17427514,  0.09000532,  0.17398394]])\n",
       "      jac: array([1.31130219e-06, 8.64267349e-07, 4.55975533e-06])\n",
       "  message: 'Optimization terminated successfully.'\n",
       "     nfev: 72\n",
       "      nit: 14\n",
       "     njev: 18\n",
       "   status: 0\n",
       "  success: True\n",
       "        x: array([-12.02272778,  11.98778844,   4.02000347])"
      ]
     },
     "execution_count": 125,
     "metadata": {},
     "output_type": "execute_result"
    }
   ],
   "source": [
    "opt_res = optimize.minimize(\n",
    "    gen_log_likelihood(point_xs, point_ys),\n",
    "    guess,\n",
    "    options={\"disp\": True}\n",
    ")\n",
    "opt_res"
   ]
  },
  {
   "cell_type": "markdown",
   "id": "33e74e0a-d4f5-47c8-9399-00dba8efb7ee",
   "metadata": {},
   "source": [
    "## Better circle fitting algos\n",
    "[paper](https://people.cas.uab.edu/~mosya/papers/cl1.pdf)"
   ]
  },
  {
   "cell_type": "code",
   "execution_count": null,
   "id": "4239f0c2-cae7-406d-b2b0-bad65f0f44a2",
   "metadata": {},
   "outputs": [],
   "source": []
  }
 ],
 "metadata": {
  "kernelspec": {
   "display_name": "Python 3 (ipykernel)",
   "language": "python",
   "name": "python3"
  },
  "language_info": {
   "codemirror_mode": {
    "name": "ipython",
    "version": 3
   },
   "file_extension": ".py",
   "mimetype": "text/x-python",
   "name": "python",
   "nbconvert_exporter": "python",
   "pygments_lexer": "ipython3",
   "version": "3.9.7"
  }
 },
 "nbformat": 4,
 "nbformat_minor": 5
}
