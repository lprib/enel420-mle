{
 "cells": [
  {
   "cell_type": "code",
   "execution_count": 2,
   "id": "71144f65-cb37-47f9-962e-feb77e39c259",
   "metadata": {},
   "outputs": [],
   "source": [
    "import numpy as np\n",
    "import plotly.express as px\n",
    "from scipy import stats, optimize"
   ]
  },
  {
   "cell_type": "code",
   "execution_count": 31,
   "id": "0b058568-1433-4554-8cb7-5571c5afdd99",
   "metadata": {},
   "outputs": [],
   "source": [
    "objects = [\n",
    "    {\"x\": -12, \"y\": 12, \"r\": 4, \"spin\": 20}\n",
    "]\n",
    "\n",
    "radar_x = 3\n",
    "radar_y = 4"
   ]
  },
  {
   "cell_type": "code",
   "execution_count": 32,
   "id": "526754f1-8f33-4da8-935a-8df571d955ed",
   "metadata": {},
   "outputs": [
    {
     "data": {
      "application/vnd.plotly.v1+json": {
       "config": {
        "plotlyServerURL": "https://plot.ly"
       },
       "data": [
        {
         "hovertemplate": "x=%{x}<br>y=%{y}<br>size=%{marker.size}<extra></extra>",
         "legendgroup": "",
         "marker": {
          "color": "#636efa",
          "size": [
           4
          ],
          "sizemode": "area",
          "sizeref": 0.01,
          "symbol": "circle"
         },
         "mode": "markers",
         "name": "",
         "orientation": "v",
         "showlegend": false,
         "type": "scatter",
         "x": [
          -12
         ],
         "xaxis": "x",
         "y": [
          12
         ],
         "yaxis": "y"
        },
        {
         "mode": "markers",
         "name": "base station",
         "type": "scatter",
         "x": [
          3
         ],
         "y": [
          4
         ]
        }
       ],
       "layout": {
        "autosize": true,
        "legend": {
         "itemsizing": "constant",
         "tracegroupgap": 0
        },
        "margin": {
         "t": 60
        },
        "template": {
         "data": {
          "bar": [
           {
            "error_x": {
             "color": "#2a3f5f"
            },
            "error_y": {
             "color": "#2a3f5f"
            },
            "marker": {
             "line": {
              "color": "#E5ECF6",
              "width": 0.5
             },
             "pattern": {
              "fillmode": "overlay",
              "size": 10,
              "solidity": 0.2
             }
            },
            "type": "bar"
           }
          ],
          "barpolar": [
           {
            "marker": {
             "line": {
              "color": "#E5ECF6",
              "width": 0.5
             },
             "pattern": {
              "fillmode": "overlay",
              "size": 10,
              "solidity": 0.2
             }
            },
            "type": "barpolar"
           }
          ],
          "carpet": [
           {
            "aaxis": {
             "endlinecolor": "#2a3f5f",
             "gridcolor": "white",
             "linecolor": "white",
             "minorgridcolor": "white",
             "startlinecolor": "#2a3f5f"
            },
            "baxis": {
             "endlinecolor": "#2a3f5f",
             "gridcolor": "white",
             "linecolor": "white",
             "minorgridcolor": "white",
             "startlinecolor": "#2a3f5f"
            },
            "type": "carpet"
           }
          ],
          "choropleth": [
           {
            "colorbar": {
             "outlinewidth": 0,
             "ticks": ""
            },
            "type": "choropleth"
           }
          ],
          "contour": [
           {
            "colorbar": {
             "outlinewidth": 0,
             "ticks": ""
            },
            "colorscale": [
             [
              0,
              "#0d0887"
             ],
             [
              0.1111111111111111,
              "#46039f"
             ],
             [
              0.2222222222222222,
              "#7201a8"
             ],
             [
              0.3333333333333333,
              "#9c179e"
             ],
             [
              0.4444444444444444,
              "#bd3786"
             ],
             [
              0.5555555555555556,
              "#d8576b"
             ],
             [
              0.6666666666666666,
              "#ed7953"
             ],
             [
              0.7777777777777778,
              "#fb9f3a"
             ],
             [
              0.8888888888888888,
              "#fdca26"
             ],
             [
              1,
              "#f0f921"
             ]
            ],
            "type": "contour"
           }
          ],
          "contourcarpet": [
           {
            "colorbar": {
             "outlinewidth": 0,
             "ticks": ""
            },
            "type": "contourcarpet"
           }
          ],
          "heatmap": [
           {
            "colorbar": {
             "outlinewidth": 0,
             "ticks": ""
            },
            "colorscale": [
             [
              0,
              "#0d0887"
             ],
             [
              0.1111111111111111,
              "#46039f"
             ],
             [
              0.2222222222222222,
              "#7201a8"
             ],
             [
              0.3333333333333333,
              "#9c179e"
             ],
             [
              0.4444444444444444,
              "#bd3786"
             ],
             [
              0.5555555555555556,
              "#d8576b"
             ],
             [
              0.6666666666666666,
              "#ed7953"
             ],
             [
              0.7777777777777778,
              "#fb9f3a"
             ],
             [
              0.8888888888888888,
              "#fdca26"
             ],
             [
              1,
              "#f0f921"
             ]
            ],
            "type": "heatmap"
           }
          ],
          "heatmapgl": [
           {
            "colorbar": {
             "outlinewidth": 0,
             "ticks": ""
            },
            "colorscale": [
             [
              0,
              "#0d0887"
             ],
             [
              0.1111111111111111,
              "#46039f"
             ],
             [
              0.2222222222222222,
              "#7201a8"
             ],
             [
              0.3333333333333333,
              "#9c179e"
             ],
             [
              0.4444444444444444,
              "#bd3786"
             ],
             [
              0.5555555555555556,
              "#d8576b"
             ],
             [
              0.6666666666666666,
              "#ed7953"
             ],
             [
              0.7777777777777778,
              "#fb9f3a"
             ],
             [
              0.8888888888888888,
              "#fdca26"
             ],
             [
              1,
              "#f0f921"
             ]
            ],
            "type": "heatmapgl"
           }
          ],
          "histogram": [
           {
            "marker": {
             "pattern": {
              "fillmode": "overlay",
              "size": 10,
              "solidity": 0.2
             }
            },
            "type": "histogram"
           }
          ],
          "histogram2d": [
           {
            "colorbar": {
             "outlinewidth": 0,
             "ticks": ""
            },
            "colorscale": [
             [
              0,
              "#0d0887"
             ],
             [
              0.1111111111111111,
              "#46039f"
             ],
             [
              0.2222222222222222,
              "#7201a8"
             ],
             [
              0.3333333333333333,
              "#9c179e"
             ],
             [
              0.4444444444444444,
              "#bd3786"
             ],
             [
              0.5555555555555556,
              "#d8576b"
             ],
             [
              0.6666666666666666,
              "#ed7953"
             ],
             [
              0.7777777777777778,
              "#fb9f3a"
             ],
             [
              0.8888888888888888,
              "#fdca26"
             ],
             [
              1,
              "#f0f921"
             ]
            ],
            "type": "histogram2d"
           }
          ],
          "histogram2dcontour": [
           {
            "colorbar": {
             "outlinewidth": 0,
             "ticks": ""
            },
            "colorscale": [
             [
              0,
              "#0d0887"
             ],
             [
              0.1111111111111111,
              "#46039f"
             ],
             [
              0.2222222222222222,
              "#7201a8"
             ],
             [
              0.3333333333333333,
              "#9c179e"
             ],
             [
              0.4444444444444444,
              "#bd3786"
             ],
             [
              0.5555555555555556,
              "#d8576b"
             ],
             [
              0.6666666666666666,
              "#ed7953"
             ],
             [
              0.7777777777777778,
              "#fb9f3a"
             ],
             [
              0.8888888888888888,
              "#fdca26"
             ],
             [
              1,
              "#f0f921"
             ]
            ],
            "type": "histogram2dcontour"
           }
          ],
          "mesh3d": [
           {
            "colorbar": {
             "outlinewidth": 0,
             "ticks": ""
            },
            "type": "mesh3d"
           }
          ],
          "parcoords": [
           {
            "line": {
             "colorbar": {
              "outlinewidth": 0,
              "ticks": ""
             }
            },
            "type": "parcoords"
           }
          ],
          "pie": [
           {
            "automargin": true,
            "type": "pie"
           }
          ],
          "scatter": [
           {
            "marker": {
             "colorbar": {
              "outlinewidth": 0,
              "ticks": ""
             }
            },
            "type": "scatter"
           }
          ],
          "scatter3d": [
           {
            "line": {
             "colorbar": {
              "outlinewidth": 0,
              "ticks": ""
             }
            },
            "marker": {
             "colorbar": {
              "outlinewidth": 0,
              "ticks": ""
             }
            },
            "type": "scatter3d"
           }
          ],
          "scattercarpet": [
           {
            "marker": {
             "colorbar": {
              "outlinewidth": 0,
              "ticks": ""
             }
            },
            "type": "scattercarpet"
           }
          ],
          "scattergeo": [
           {
            "marker": {
             "colorbar": {
              "outlinewidth": 0,
              "ticks": ""
             }
            },
            "type": "scattergeo"
           }
          ],
          "scattergl": [
           {
            "marker": {
             "colorbar": {
              "outlinewidth": 0,
              "ticks": ""
             }
            },
            "type": "scattergl"
           }
          ],
          "scattermapbox": [
           {
            "marker": {
             "colorbar": {
              "outlinewidth": 0,
              "ticks": ""
             }
            },
            "type": "scattermapbox"
           }
          ],
          "scatterpolar": [
           {
            "marker": {
             "colorbar": {
              "outlinewidth": 0,
              "ticks": ""
             }
            },
            "type": "scatterpolar"
           }
          ],
          "scatterpolargl": [
           {
            "marker": {
             "colorbar": {
              "outlinewidth": 0,
              "ticks": ""
             }
            },
            "type": "scatterpolargl"
           }
          ],
          "scatterternary": [
           {
            "marker": {
             "colorbar": {
              "outlinewidth": 0,
              "ticks": ""
             }
            },
            "type": "scatterternary"
           }
          ],
          "surface": [
           {
            "colorbar": {
             "outlinewidth": 0,
             "ticks": ""
            },
            "colorscale": [
             [
              0,
              "#0d0887"
             ],
             [
              0.1111111111111111,
              "#46039f"
             ],
             [
              0.2222222222222222,
              "#7201a8"
             ],
             [
              0.3333333333333333,
              "#9c179e"
             ],
             [
              0.4444444444444444,
              "#bd3786"
             ],
             [
              0.5555555555555556,
              "#d8576b"
             ],
             [
              0.6666666666666666,
              "#ed7953"
             ],
             [
              0.7777777777777778,
              "#fb9f3a"
             ],
             [
              0.8888888888888888,
              "#fdca26"
             ],
             [
              1,
              "#f0f921"
             ]
            ],
            "type": "surface"
           }
          ],
          "table": [
           {
            "cells": {
             "fill": {
              "color": "#EBF0F8"
             },
             "line": {
              "color": "white"
             }
            },
            "header": {
             "fill": {
              "color": "#C8D4E3"
             },
             "line": {
              "color": "white"
             }
            },
            "type": "table"
           }
          ]
         },
         "layout": {
          "annotationdefaults": {
           "arrowcolor": "#2a3f5f",
           "arrowhead": 0,
           "arrowwidth": 1
          },
          "autotypenumbers": "strict",
          "coloraxis": {
           "colorbar": {
            "outlinewidth": 0,
            "ticks": ""
           }
          },
          "colorscale": {
           "diverging": [
            [
             0,
             "#8e0152"
            ],
            [
             0.1,
             "#c51b7d"
            ],
            [
             0.2,
             "#de77ae"
            ],
            [
             0.3,
             "#f1b6da"
            ],
            [
             0.4,
             "#fde0ef"
            ],
            [
             0.5,
             "#f7f7f7"
            ],
            [
             0.6,
             "#e6f5d0"
            ],
            [
             0.7,
             "#b8e186"
            ],
            [
             0.8,
             "#7fbc41"
            ],
            [
             0.9,
             "#4d9221"
            ],
            [
             1,
             "#276419"
            ]
           ],
           "sequential": [
            [
             0,
             "#0d0887"
            ],
            [
             0.1111111111111111,
             "#46039f"
            ],
            [
             0.2222222222222222,
             "#7201a8"
            ],
            [
             0.3333333333333333,
             "#9c179e"
            ],
            [
             0.4444444444444444,
             "#bd3786"
            ],
            [
             0.5555555555555556,
             "#d8576b"
            ],
            [
             0.6666666666666666,
             "#ed7953"
            ],
            [
             0.7777777777777778,
             "#fb9f3a"
            ],
            [
             0.8888888888888888,
             "#fdca26"
            ],
            [
             1,
             "#f0f921"
            ]
           ],
           "sequentialminus": [
            [
             0,
             "#0d0887"
            ],
            [
             0.1111111111111111,
             "#46039f"
            ],
            [
             0.2222222222222222,
             "#7201a8"
            ],
            [
             0.3333333333333333,
             "#9c179e"
            ],
            [
             0.4444444444444444,
             "#bd3786"
            ],
            [
             0.5555555555555556,
             "#d8576b"
            ],
            [
             0.6666666666666666,
             "#ed7953"
            ],
            [
             0.7777777777777778,
             "#fb9f3a"
            ],
            [
             0.8888888888888888,
             "#fdca26"
            ],
            [
             1,
             "#f0f921"
            ]
           ]
          },
          "colorway": [
           "#636efa",
           "#EF553B",
           "#00cc96",
           "#ab63fa",
           "#FFA15A",
           "#19d3f3",
           "#FF6692",
           "#B6E880",
           "#FF97FF",
           "#FECB52"
          ],
          "font": {
           "color": "#2a3f5f"
          },
          "geo": {
           "bgcolor": "white",
           "lakecolor": "white",
           "landcolor": "#E5ECF6",
           "showlakes": true,
           "showland": true,
           "subunitcolor": "white"
          },
          "hoverlabel": {
           "align": "left"
          },
          "hovermode": "closest",
          "mapbox": {
           "style": "light"
          },
          "paper_bgcolor": "white",
          "plot_bgcolor": "#E5ECF6",
          "polar": {
           "angularaxis": {
            "gridcolor": "white",
            "linecolor": "white",
            "ticks": ""
           },
           "bgcolor": "#E5ECF6",
           "radialaxis": {
            "gridcolor": "white",
            "linecolor": "white",
            "ticks": ""
           }
          },
          "scene": {
           "xaxis": {
            "backgroundcolor": "#E5ECF6",
            "gridcolor": "white",
            "gridwidth": 2,
            "linecolor": "white",
            "showbackground": true,
            "ticks": "",
            "zerolinecolor": "white"
           },
           "yaxis": {
            "backgroundcolor": "#E5ECF6",
            "gridcolor": "white",
            "gridwidth": 2,
            "linecolor": "white",
            "showbackground": true,
            "ticks": "",
            "zerolinecolor": "white"
           },
           "zaxis": {
            "backgroundcolor": "#E5ECF6",
            "gridcolor": "white",
            "gridwidth": 2,
            "linecolor": "white",
            "showbackground": true,
            "ticks": "",
            "zerolinecolor": "white"
           }
          },
          "shapedefaults": {
           "line": {
            "color": "#2a3f5f"
           }
          },
          "ternary": {
           "aaxis": {
            "gridcolor": "white",
            "linecolor": "white",
            "ticks": ""
           },
           "baxis": {
            "gridcolor": "white",
            "linecolor": "white",
            "ticks": ""
           },
           "bgcolor": "#E5ECF6",
           "caxis": {
            "gridcolor": "white",
            "linecolor": "white",
            "ticks": ""
           }
          },
          "title": {
           "x": 0.05
          },
          "xaxis": {
           "automargin": true,
           "gridcolor": "white",
           "linecolor": "white",
           "ticks": "",
           "title": {
            "standoff": 15
           },
           "zerolinecolor": "white",
           "zerolinewidth": 2
          },
          "yaxis": {
           "automargin": true,
           "gridcolor": "white",
           "linecolor": "white",
           "ticks": "",
           "title": {
            "standoff": 15
           },
           "zerolinecolor": "white",
           "zerolinewidth": 2
          }
         }
        },
        "xaxis": {
         "anchor": "y",
         "autorange": true,
         "domain": [
          0,
          1
         ],
         "range": [
          -13.05733981336796,
          3.897450594704046
         ],
         "title": {
          "text": "x"
         },
         "type": "linear"
        },
        "yaxis": {
         "anchor": "x",
         "autorange": true,
         "domain": [
          0,
          1
         ],
         "range": [
          3.338708147993528,
          13.202044245717179
         ],
         "title": {
          "text": "y"
         },
         "type": "linear"
        }
       }
      },
      "image/png": "[encoded data removed]",
      "text/html": [
       "<div>                            <div id=\"02610604-e6af-47ab-81a7-956ec3c82781\" class=\"plotly-graph-div\" style=\"height:525px; width:100%;\"></div>            <script type=\"text/javascript\">                require([\"plotly\"], function(Plotly) {                    window.PLOTLYENV=window.PLOTLYENV || {};                                    if (document.getElementById(\"02610604-e6af-47ab-81a7-956ec3c82781\")) {                    Plotly.newPlot(                        \"02610604-e6af-47ab-81a7-956ec3c82781\",                        [{\"hovertemplate\":\"x=%{x}<br>y=%{y}<br>size=%{marker.size}<extra></extra>\",\"legendgroup\":\"\",\"marker\":{\"color\":\"#636efa\",\"size\":[4],\"sizemode\":\"area\",\"sizeref\":0.01,\"symbol\":\"circle\"},\"mode\":\"markers\",\"name\":\"\",\"orientation\":\"v\",\"showlegend\":false,\"type\":\"scatter\",\"x\":[-12],\"xaxis\":\"x\",\"y\":[12],\"yaxis\":\"y\"},{\"mode\":\"markers\",\"name\":\"base station\",\"type\":\"scatter\",\"x\":[3],\"y\":[4]}],                        {\"legend\":{\"itemsizing\":\"constant\",\"tracegroupgap\":0},\"margin\":{\"t\":60},\"template\":{\"data\":{\"bar\":[{\"error_x\":{\"color\":\"#2a3f5f\"},\"error_y\":{\"color\":\"#2a3f5f\"},\"marker\":{\"line\":{\"color\":\"#E5ECF6\",\"width\":0.5},\"pattern\":{\"fillmode\":\"overlay\",\"size\":10,\"solidity\":0.2}},\"type\":\"bar\"}],\"barpolar\":[{\"marker\":{\"line\":{\"color\":\"#E5ECF6\",\"width\":0.5},\"pattern\":{\"fillmode\":\"overlay\",\"size\":10,\"solidity\":0.2}},\"type\":\"barpolar\"}],\"carpet\":[{\"aaxis\":{\"endlinecolor\":\"#2a3f5f\",\"gridcolor\":\"white\",\"linecolor\":\"white\",\"minorgridcolor\":\"white\",\"startlinecolor\":\"#2a3f5f\"},\"baxis\":{\"endlinecolor\":\"#2a3f5f\",\"gridcolor\":\"white\",\"linecolor\":\"white\",\"minorgridcolor\":\"white\",\"startlinecolor\":\"#2a3f5f\"},\"type\":\"carpet\"}],\"choropleth\":[{\"colorbar\":{\"outlinewidth\":0,\"ticks\":\"\"},\"type\":\"choropleth\"}],\"contour\":[{\"colorbar\":{\"outlinewidth\":0,\"ticks\":\"\"},\"colorscale\":[[0.0,\"#0d0887\"],[0.1111111111111111,\"#46039f\"],[0.2222222222222222,\"#7201a8\"],[0.3333333333333333,\"#9c179e\"],[0.4444444444444444,\"#bd3786\"],[0.5555555555555556,\"#d8576b\"],[0.6666666666666666,\"#ed7953\"],[0.7777777777777778,\"#fb9f3a\"],[0.8888888888888888,\"#fdca26\"],[1.0,\"#f0f921\"]],\"type\":\"contour\"}],\"contourcarpet\":[{\"colorbar\":{\"outlinewidth\":0,\"ticks\":\"\"},\"type\":\"contourcarpet\"}],\"heatmap\":[{\"colorbar\":{\"outlinewidth\":0,\"ticks\":\"\"},\"colorscale\":[[0.0,\"#0d0887\"],[0.1111111111111111,\"#46039f\"],[0.2222222222222222,\"#7201a8\"],[0.3333333333333333,\"#9c179e\"],[0.4444444444444444,\"#bd3786\"],[0.5555555555555556,\"#d8576b\"],[0.6666666666666666,\"#ed7953\"],[0.7777777777777778,\"#fb9f3a\"],[0.8888888888888888,\"#fdca26\"],[1.0,\"#f0f921\"]],\"type\":\"heatmap\"}],\"heatmapgl\":[{\"colorbar\":{\"outlinewidth\":0,\"ticks\":\"\"},\"colorscale\":[[0.0,\"#0d0887\"],[0.1111111111111111,\"#46039f\"],[0.2222222222222222,\"#7201a8\"],[0.3333333333333333,\"#9c179e\"],[0.4444444444444444,\"#bd3786\"],[0.5555555555555556,\"#d8576b\"],[0.6666666666666666,\"#ed7953\"],[0.7777777777777778,\"#fb9f3a\"],[0.8888888888888888,\"#fdca26\"],[1.0,\"#f0f921\"]],\"type\":\"heatmapgl\"}],\"histogram\":[{\"marker\":{\"pattern\":{\"fillmode\":\"overlay\",\"size\":10,\"solidity\":0.2}},\"type\":\"histogram\"}],\"histogram2d\":[{\"colorbar\":{\"outlinewidth\":0,\"ticks\":\"\"},\"colorscale\":[[0.0,\"#0d0887\"],[0.1111111111111111,\"#46039f\"],[0.2222222222222222,\"#7201a8\"],[0.3333333333333333,\"#9c179e\"],[0.4444444444444444,\"#bd3786\"],[0.5555555555555556,\"#d8576b\"],[0.6666666666666666,\"#ed7953\"],[0.7777777777777778,\"#fb9f3a\"],[0.8888888888888888,\"#fdca26\"],[1.0,\"#f0f921\"]],\"type\":\"histogram2d\"}],\"histogram2dcontour\":[{\"colorbar\":{\"outlinewidth\":0,\"ticks\":\"\"},\"colorscale\":[[0.0,\"#0d0887\"],[0.1111111111111111,\"#46039f\"],[0.2222222222222222,\"#7201a8\"],[0.3333333333333333,\"#9c179e\"],[0.4444444444444444,\"#bd3786\"],[0.5555555555555556,\"#d8576b\"],[0.6666666666666666,\"#ed7953\"],[0.7777777777777778,\"#fb9f3a\"],[0.8888888888888888,\"#fdca26\"],[1.0,\"#f0f921\"]],\"type\":\"histogram2dcontour\"}],\"mesh3d\":[{\"colorbar\":{\"outlinewidth\":0,\"ticks\":\"\"},\"type\":\"mesh3d\"}],\"parcoords\":[{\"line\":{\"colorbar\":{\"outlinewidth\":0,\"ticks\":\"\"}},\"type\":\"parcoords\"}],\"pie\":[{\"automargin\":true,\"type\":\"pie\"}],\"scatter\":[{\"marker\":{\"colorbar\":{\"outlinewidth\":0,\"ticks\":\"\"}},\"type\":\"scatter\"}],\"scatter3d\":[{\"line\":{\"colorbar\":{\"outlinewidth\":0,\"ticks\":\"\"}},\"marker\":{\"colorbar\":{\"outlinewidth\":0,\"ticks\":\"\"}},\"type\":\"scatter3d\"}],\"scattercarpet\":[{\"marker\":{\"colorbar\":{\"outlinewidth\":0,\"ticks\":\"\"}},\"type\":\"scattercarpet\"}],\"scattergeo\":[{\"marker\":{\"colorbar\":{\"outlinewidth\":0,\"ticks\":\"\"}},\"type\":\"scattergeo\"}],\"scattergl\":[{\"marker\":{\"colorbar\":{\"outlinewidth\":0,\"ticks\":\"\"}},\"type\":\"scattergl\"}],\"scattermapbox\":[{\"marker\":{\"colorbar\":{\"outlinewidth\":0,\"ticks\":\"\"}},\"type\":\"scattermapbox\"}],\"scatterpolar\":[{\"marker\":{\"colorbar\":{\"outlinewidth\":0,\"ticks\":\"\"}},\"type\":\"scatterpolar\"}],\"scatterpolargl\":[{\"marker\":{\"colorbar\":{\"outlinewidth\":0,\"ticks\":\"\"}},\"type\":\"scatterpolargl\"}],\"scatterternary\":[{\"marker\":{\"colorbar\":{\"outlinewidth\":0,\"ticks\":\"\"}},\"type\":\"scatterternary\"}],\"surface\":[{\"colorbar\":{\"outlinewidth\":0,\"ticks\":\"\"},\"colorscale\":[[0.0,\"#0d0887\"],[0.1111111111111111,\"#46039f\"],[0.2222222222222222,\"#7201a8\"],[0.3333333333333333,\"#9c179e\"],[0.4444444444444444,\"#bd3786\"],[0.5555555555555556,\"#d8576b\"],[0.6666666666666666,\"#ed7953\"],[0.7777777777777778,\"#fb9f3a\"],[0.8888888888888888,\"#fdca26\"],[1.0,\"#f0f921\"]],\"type\":\"surface\"}],\"table\":[{\"cells\":{\"fill\":{\"color\":\"#EBF0F8\"},\"line\":{\"color\":\"white\"}},\"header\":{\"fill\":{\"color\":\"#C8D4E3\"},\"line\":{\"color\":\"white\"}},\"type\":\"table\"}]},\"layout\":{\"annotationdefaults\":{\"arrowcolor\":\"#2a3f5f\",\"arrowhead\":0,\"arrowwidth\":1},\"autotypenumbers\":\"strict\",\"coloraxis\":{\"colorbar\":{\"outlinewidth\":0,\"ticks\":\"\"}},\"colorscale\":{\"diverging\":[[0,\"#8e0152\"],[0.1,\"#c51b7d\"],[0.2,\"#de77ae\"],[0.3,\"#f1b6da\"],[0.4,\"#fde0ef\"],[0.5,\"#f7f7f7\"],[0.6,\"#e6f5d0\"],[0.7,\"#b8e186\"],[0.8,\"#7fbc41\"],[0.9,\"#4d9221\"],[1,\"#276419\"]],\"sequential\":[[0.0,\"#0d0887\"],[0.1111111111111111,\"#46039f\"],[0.2222222222222222,\"#7201a8\"],[0.3333333333333333,\"#9c179e\"],[0.4444444444444444,\"#bd3786\"],[0.5555555555555556,\"#d8576b\"],[0.6666666666666666,\"#ed7953\"],[0.7777777777777778,\"#fb9f3a\"],[0.8888888888888888,\"#fdca26\"],[1.0,\"#f0f921\"]],\"sequentialminus\":[[0.0,\"#0d0887\"],[0.1111111111111111,\"#46039f\"],[0.2222222222222222,\"#7201a8\"],[0.3333333333333333,\"#9c179e\"],[0.4444444444444444,\"#bd3786\"],[0.5555555555555556,\"#d8576b\"],[0.6666666666666666,\"#ed7953\"],[0.7777777777777778,\"#fb9f3a\"],[0.8888888888888888,\"#fdca26\"],[1.0,\"#f0f921\"]]},\"colorway\":[\"#636efa\",\"#EF553B\",\"#00cc96\",\"#ab63fa\",\"#FFA15A\",\"#19d3f3\",\"#FF6692\",\"#B6E880\",\"#FF97FF\",\"#FECB52\"],\"font\":{\"color\":\"#2a3f5f\"},\"geo\":{\"bgcolor\":\"white\",\"lakecolor\":\"white\",\"landcolor\":\"#E5ECF6\",\"showlakes\":true,\"showland\":true,\"subunitcolor\":\"white\"},\"hoverlabel\":{\"align\":\"left\"},\"hovermode\":\"closest\",\"mapbox\":{\"style\":\"light\"},\"paper_bgcolor\":\"white\",\"plot_bgcolor\":\"#E5ECF6\",\"polar\":{\"angularaxis\":{\"gridcolor\":\"white\",\"linecolor\":\"white\",\"ticks\":\"\"},\"bgcolor\":\"#E5ECF6\",\"radialaxis\":{\"gridcolor\":\"white\",\"linecolor\":\"white\",\"ticks\":\"\"}},\"scene\":{\"xaxis\":{\"backgroundcolor\":\"#E5ECF6\",\"gridcolor\":\"white\",\"gridwidth\":2,\"linecolor\":\"white\",\"showbackground\":true,\"ticks\":\"\",\"zerolinecolor\":\"white\"},\"yaxis\":{\"backgroundcolor\":\"#E5ECF6\",\"gridcolor\":\"white\",\"gridwidth\":2,\"linecolor\":\"white\",\"showbackground\":true,\"ticks\":\"\",\"zerolinecolor\":\"white\"},\"zaxis\":{\"backgroundcolor\":\"#E5ECF6\",\"gridcolor\":\"white\",\"gridwidth\":2,\"linecolor\":\"white\",\"showbackground\":true,\"ticks\":\"\",\"zerolinecolor\":\"white\"}},\"shapedefaults\":{\"line\":{\"color\":\"#2a3f5f\"}},\"ternary\":{\"aaxis\":{\"gridcolor\":\"white\",\"linecolor\":\"white\",\"ticks\":\"\"},\"baxis\":{\"gridcolor\":\"white\",\"linecolor\":\"white\",\"ticks\":\"\"},\"bgcolor\":\"#E5ECF6\",\"caxis\":{\"gridcolor\":\"white\",\"linecolor\":\"white\",\"ticks\":\"\"}},\"title\":{\"x\":0.05},\"xaxis\":{\"automargin\":true,\"gridcolor\":\"white\",\"linecolor\":\"white\",\"ticks\":\"\",\"title\":{\"standoff\":15},\"zerolinecolor\":\"white\",\"zerolinewidth\":2},\"yaxis\":{\"automargin\":true,\"gridcolor\":\"white\",\"linecolor\":\"white\",\"ticks\":\"\",\"title\":{\"standoff\":15},\"zerolinecolor\":\"white\",\"zerolinewidth\":2}}},\"xaxis\":{\"anchor\":\"y\",\"domain\":[0.0,1.0],\"title\":{\"text\":\"x\"}},\"yaxis\":{\"anchor\":\"x\",\"domain\":[0.0,1.0],\"title\":{\"text\":\"y\"}}},                        {\"responsive\": true}                    ).then(function(){\n",
       "                            \n",
       "var gd = document.getElementById('02610604-e6af-47ab-81a7-956ec3c82781');\n",
       "var x = new MutationObserver(function (mutations, observer) {{\n",
       "        var display = window.getComputedStyle(gd).display;\n",
       "        if (!display || display === 'none') {{\n",
       "            console.log([gd, 'removed!']);\n",
       "            Plotly.purge(gd);\n",
       "            observer.disconnect();\n",
       "        }}\n",
       "}});\n",
       "\n",
       "// Listen for the removal of the full notebook cells\n",
       "var notebookContainer = gd.closest('#notebook-container');\n",
       "if (notebookContainer) {{\n",
       "    x.observe(notebookContainer, {childList: true});\n",
       "}}\n",
       "\n",
       "// Listen for the clearing of the current output cell\n",
       "var outputEl = gd.closest('.output');\n",
       "if (outputEl) {{\n",
       "    x.observe(outputEl, {childList: true});\n",
       "}}\n",
       "\n",
       "                        })                };                });            </script>        </div>"
      ]
     },
     "metadata": {},
     "output_type": "display_data"
    }
   ],
   "source": [
    "fig = px.scatter(\n",
    "    x = [o[\"x\"] for o in objects],\n",
    "    y = [o[\"y\"] for o in objects],\n",
    "    size = [o[\"r\"] for o in objects],\n",
    ")\n",
    "fig.add_scatter(x=[radar_x], y=[radar_y], mode=\"markers\", name=\"base station\")\n",
    "fig.show()"
   ]
  },
  {
   "cell_type": "code",
   "execution_count": 35,
   "id": "7646e0b9-3745-4cf7-a865-bc8ff4008c21",
   "metadata": {},
   "outputs": [
    {
     "name": "stderr",
     "output_type": "stream",
     "text": [
      "/tmp/ipykernel_50808/4176878701.py:21: RuntimeWarning:\n",
      "\n",
      "invalid value encountered in sqrt\n",
      "\n"
     ]
    }
   ],
   "source": [
    "num_angles = 2000\n",
    "point_xs = []\n",
    "point_ys = []\n",
    "point_vs = []\n",
    "point_angles = []\n",
    "\n",
    "for angle in np.linspace(0, 2*np.pi, num_angles):\n",
    "    Dx = np.cos(angle)\n",
    "    Dy = np.sin(angle)\n",
    "    hit = None\n",
    "    min_t = float(\"inf\")\n",
    "    for obj in objects:\n",
    "        # Look ray from radar to object\n",
    "        Lx = obj[\"x\"] - radar_x\n",
    "        Ly = obj[\"y\"] - radar_y\n",
    "        tca = Dx*Lx + Dy*Ly\n",
    "        if tca < 0:\n",
    "            continue\n",
    "        try:\n",
    "            d = np.sqrt(Lx*Lx+Ly*Ly - tca*tca)\n",
    "            thc = np.sqrt(obj[\"r\"]*obj[\"r\"] - d*d)\n",
    "        except:\n",
    "            # imaginary root\n",
    "            continue\n",
    "        \n",
    "        # ray hit distance\n",
    "        t = min(tca+thc, tca-thc)\n",
    "        \n",
    "        # if hit distance is the smallest so far (ie. forward object shadows rear object)\n",
    "        if t < min_t:\n",
    "            # hit pos\n",
    "            hx = radar_x + Dx * t\n",
    "            hy = radar_y + Dy * t\n",
    "            \n",
    "            # Calculate velocity in the direction of the radar (TODO maybe wrong)\n",
    "            hit_angle = np.arctan2(hx - obj[\"x\"], hy-obj[\"y\"])\n",
    "            incident_angle = np.arctan2(radar_x - obj[\"x\"], radar_y - obj[\"y\"])\n",
    "            # Find difference between incident angle and hit angle (without wrapping artifacts)\n",
    "            # functionally same as d_angle = hit_angle - incident_angle\n",
    "            d_angle = np.arctan2(\n",
    "                np.sin(hit_angle - incident_angle), \n",
    "                np.cos(hit_angle - incident_angle)\n",
    "            )\n",
    "            velo = obj[\"spin\"] * np.sin(d_angle)\n",
    "            \n",
    "            # add noise to hit pos\n",
    "            hx_noise = hx + np.random.normal(scale=0.2)\n",
    "            hy_noise = hy + np.random.normal(scale=0.2)\n",
    "            # store hit\n",
    "            hit = (hx_noise, hy_noise, velo, angle)\n",
    "            # store min hit distance at this angle\n",
    "            min_t = t\n",
    "    if hit is not None:\n",
    "        point_xs.append(hit[0])\n",
    "        point_ys.append(hit[1])\n",
    "        point_vs.append(hit[2])\n",
    "        point_angles.append(hit[3])\n",
    "\n",
    "# x pos\n",
    "point_xs = np.array(point_xs)\n",
    "# y pos\n",
    "point_ys = np.array(point_ys)\n",
    "# velocity in direction of radar (proportional to doppler shift)\n",
    "point_vs = np.array(point_vs)\n",
    "# angle that the radar is facing when it collected this point\n",
    "point_angles = np.array(point_angles)"
   ]
  },
  {
   "cell_type": "code",
   "execution_count": 36,
   "id": "31e33fb4-b914-4471-8fdd-f7c1c3f00956",
   "metadata": {
    "slideshow": {
     "slide_type": "skip"
    },
    "tags": []
   },
   "outputs": [
    {
     "data": {
      "application/vnd.plotly.v1+json": {
       "config": {
        "plotlyServerURL": "https://plot.ly"
       },
       "data": [
        {
         "hovertemplate": "x=%{x}<br>y=%{y}<extra></extra>",
         "legendgroup": "",
         "line": {
          "color": "#636efa",
          "dash": "solid"
         },
         "marker": {
          "symbol": "circle"
         },
         "mode": "lines",
         "name": "",
         "orientation": "v",
         "showlegend": false,
         "type": "scatter",
         "x": [
          2.4170932972591803,
          2.420236461494888,
          2.423379625730596,
          2.4265227899663033,
          2.429665954202011,
          2.4328091184377185,
          2.4359522826734263,
          2.439095446909134,
          2.4422386111448415,
          2.4453817753805493,
          2.448524939616257,
          2.4516681038519645,
          2.4548112680876724,
          2.4579544323233797,
          2.4610975965590876,
          2.4642407607947954,
          2.4673839250305027,
          2.4705270892662106,
          2.473670253501918,
          2.4768134177376258,
          2.4799565819733336,
          2.483099746209041,
          2.4862429104447488,
          2.489386074680456,
          2.492529238916164,
          2.4956724031518718,
          2.498815567387579,
          2.501958731623287,
          2.505101895858995,
          2.508245060094702,
          2.51138822433041,
          2.5145313885661174,
          2.517674552801825,
          2.520817717037533,
          2.5239608812732404,
          2.527104045508948,
          2.5302472097446556,
          2.5333903739803634,
          2.536533538216071,
          2.5396767024517786,
          2.5428198666874864,
          2.545963030923194,
          2.5491061951589016,
          2.5522493593946094,
          2.5553925236303168,
          2.5585356878660246,
          2.5616788521017324,
          2.56482201633744,
          2.5679651805731476,
          2.571108344808855,
          2.574251509044563,
          2.5773946732802706,
          2.580537837515978,
          2.583681001751686,
          2.5868241659873936,
          2.589967330223101,
          2.593110494458809,
          2.596253658694516,
          2.599396822930224,
          2.602539987165932,
          2.605683151401639,
          2.608826315637347,
          2.6119694798730544,
          2.615112644108762,
          2.61825580834447,
          2.6213989725801774,
          2.624542136815885,
          2.627685301051593,
          2.6308284652873004,
          2.6339716295230082,
          2.6371147937587156,
          2.6402579579944234,
          2.6434011222301312,
          2.6465442864658386,
          2.6496874507015464,
          2.652830614937254,
          2.6559737791729616,
          2.6591169434086694,
          2.662260107644377,
          2.6654032718800846,
          2.6685464361157925,
          2.6716896003515,
          2.6748327645872076,
          2.677975928822915,
          2.681119093058623,
          2.6842622572943307,
          2.687405421530038,
          2.690548585765746,
          2.6936917500014532,
          2.696834914237161,
          2.699978078472869,
          2.7031212427085762,
          2.706264406944284,
          2.7094075711799914,
          2.7125507354156992,
          2.715693899651407,
          2.7188370638871144,
          2.7219802281228223,
          2.72512339235853,
          2.7282665565942374,
          2.7314097208299453,
          2.7345528850656526,
          2.7376960493013605,
          2.7408392135370683,
          2.7439823777727756,
          2.7471255420084835,
          2.750268706244191,
          2.7534118704798987,
          2.7565550347156065,
          2.759698198951314,
          2.7628413631870217,
          2.7659845274227295,
          2.769127691658437,
          2.7722708558941447,
          2.775414020129852,
          2.77855718436556,
          2.7817003486012677,
          2.784843512836975,
          2.787986677072683,
          2.7911298413083903,
          2.794273005544098,
          2.797416169779806,
          2.8005593340155133,
          2.803702498251221,
          2.806845662486929,
          2.8099888267226363,
          2.813131990958344,
          2.8162751551940515,
          2.8194183194297593,
          2.822561483665467,
          2.8257046479011745,
          2.8288478121368823,
          2.8319909763725897,
          2.8351341406082975,
          2.8382773048440053,
          2.8414204690797127,
          2.8445636333154205,
          2.8477067975511283,
          2.8508499617868357,
          2.8539931260225435,
          2.857136290258251,
          2.8602794544939587,
          2.8634226187296665,
          2.866565782965374,
          2.8697089472010817,
          2.872852111436789,
          2.875995275672497,
          2.8791384399082047,
          2.882281604143912,
          2.88542476837962,
          2.8885679326153277
         ],
         "xaxis": "x",
         "y": [
          -18.485892950935654,
          -17.948881969963242,
          -17.494108146655265,
          -17.082704417173396,
          -16.699692394038493,
          -16.3373422531103,
          -15.991016092154887,
          -15.65765651769551,
          -15.335112917415803,
          -15.021798751172454,
          -14.716500103219833,
          -14.418260940202074,
          -14.12631045819007,
          -13.84001500174297,
          -13.558845066446871,
          -13.282351952656906,
          -13.010150814053345,
          -12.741908071611032,
          -12.477331885424407,
          -12.216164817240774,
          -11.958178093897098,
          -11.703167061435597,
          -11.450947538845003,
          -11.201352861216197,
          -10.954231458028891,
          -10.709444851677235,
          -10.466865989533359,
          -10.226377843325396,
          -9.987872224681619,
          -9.75124877693063,
          -9.51641411171648,
          -9.283281065446774,
          -9.051768055554364,
          -8.821798520415383,
          -8.593300429782131,
          -8.366205854976975,
          -8.140450589990076,
          -7.915973816140227,
          -7.69271780418611,
          -7.470627648765793,
          -7.249651030855368,
          -7.029738004601417,
          -6.810840805430858,
          -6.592913676797325,
          -6.375912713301863,
          -6.159795718241783,
          -5.944522073909052,
          -5.730052623183531,
          -5.516349561156757,
          -5.303376335683621,
          -5.091097555897225,
          -4.879478907840374,
          -4.668487076467475,
          -4.458089673359296,
          -4.2482551695671145,
          -4.038952833067963,
          -3.8301526703697784,
          -3.6218253718541478,
          -3.4139422604861345,
          -3.206475243560071,
          -2.999396767180345,
          -2.792679773206741,
          -2.5862976584180393,
          -2.380224235668978,
          -2.1744336968363336,
          -1.9689005773650738,
          -1.7635997222410535,
          -1.5585062532299199,
          -1.3535955372320265,
          -1.1488431556134944,
          -0.944224874382167,
          -0.739716615083136,
          -0.53529442629609,
          -0.3309344556200686,
          -0.1266129220362217,
          0.07769391145789185,
          0.282009765047473,
          0.4863583692358397,
          0.6907634920188634,
          0.8952489662015782,
          1.099838716960548,
          1.3045567897587675,
          1.5094273787216825,
          1.7144748555865408,
          1.919723799343522,
          2.125199026690232,
          2.330925623430903,
          2.5369289769570553,
          2.743234809957316,
          2.9498692155144464,
          3.1568586937595633,
          3.364230190268759,
          3.5720111364027223,
          3.7802294918085106,
          3.988913789325067,
          4.198093182556424,
          4.407797496405841,
          4.6180572808949,
          4.828903868627533,
          5.040369436300939,
          5.252487070712545,
          5.465290839766663,
          5.678815869047713,
          5.893098424598964,
          6.108176002630781,
          6.3240874269791325,
          6.540872955249294,
          6.75857439471232,
          6.977235229177414,
          7.196900758246601,
          7.417618250573193,
          7.63943711300146,
          7.862409077769464,
          8.086588410318583,
          8.31203214068949,
          8.538800322008587,
          8.766956320202908,
          8.99656713985649,
          9.227703792064414,
          9.460441711306473,
          9.694861229804618,
          9.931048119623874,
          10.169094215034368,
          10.409098130503107,
          10.651166093319206,
          10.895412914529203,
          11.14196312791474,
          11.390952334675779,
          11.642528801975464,
          11.896855377536724,
          12.15411180148818,
          12.41449752273912,
          12.678235163467397,
          12.945574826653129,
          13.216799515478073,
          13.492232041801426,
          13.772243963363236,
          14.057267338694484,
          14.347810481895456,
          14.644479538740846,
          14.948008782306845,
          15.259304415294924,
          15.579510142997638,
          15.910109557098576,
          16.253094531048834,
          16.61126111081591,
          16.988776738182448,
          17.392407266192023,
          17.834699619545464,
          18.34530373164345,
          19.06682367528187
         ],
         "yaxis": "y"
        }
       ],
       "layout": {
        "autosize": true,
        "legend": {
         "tracegroupgap": 0
        },
        "margin": {
         "t": 60
        },
        "template": {
         "data": {
          "bar": [
           {
            "error_x": {
             "color": "#2a3f5f"
            },
            "error_y": {
             "color": "#2a3f5f"
            },
            "marker": {
             "line": {
              "color": "#E5ECF6",
              "width": 0.5
             },
             "pattern": {
              "fillmode": "overlay",
              "size": 10,
              "solidity": 0.2
             }
            },
            "type": "bar"
           }
          ],
          "barpolar": [
           {
            "marker": {
             "line": {
              "color": "#E5ECF6",
              "width": 0.5
             },
             "pattern": {
              "fillmode": "overlay",
              "size": 10,
              "solidity": 0.2
             }
            },
            "type": "barpolar"
           }
          ],
          "carpet": [
           {
            "aaxis": {
             "endlinecolor": "#2a3f5f",
             "gridcolor": "white",
             "linecolor": "white",
             "minorgridcolor": "white",
             "startlinecolor": "#2a3f5f"
            },
            "baxis": {
             "endlinecolor": "#2a3f5f",
             "gridcolor": "white",
             "linecolor": "white",
             "minorgridcolor": "white",
             "startlinecolor": "#2a3f5f"
            },
            "type": "carpet"
           }
          ],
          "choropleth": [
           {
            "colorbar": {
             "outlinewidth": 0,
             "ticks": ""
            },
            "type": "choropleth"
           }
          ],
          "contour": [
           {
            "colorbar": {
             "outlinewidth": 0,
             "ticks": ""
            },
            "colorscale": [
             [
              0,
              "#0d0887"
             ],
             [
              0.1111111111111111,
              "#46039f"
             ],
             [
              0.2222222222222222,
              "#7201a8"
             ],
             [
              0.3333333333333333,
              "#9c179e"
             ],
             [
              0.4444444444444444,
              "#bd3786"
             ],
             [
              0.5555555555555556,
              "#d8576b"
             ],
             [
              0.6666666666666666,
              "#ed7953"
             ],
             [
              0.7777777777777778,
              "#fb9f3a"
             ],
             [
              0.8888888888888888,
              "#fdca26"
             ],
             [
              1,
              "#f0f921"
             ]
            ],
            "type": "contour"
           }
          ],
          "contourcarpet": [
           {
            "colorbar": {
             "outlinewidth": 0,
             "ticks": ""
            },
            "type": "contourcarpet"
           }
          ],
          "heatmap": [
           {
            "colorbar": {
             "outlinewidth": 0,
             "ticks": ""
            },
            "colorscale": [
             [
              0,
              "#0d0887"
             ],
             [
              0.1111111111111111,
              "#46039f"
             ],
             [
              0.2222222222222222,
              "#7201a8"
             ],
             [
              0.3333333333333333,
              "#9c179e"
             ],
             [
              0.4444444444444444,
              "#bd3786"
             ],
             [
              0.5555555555555556,
              "#d8576b"
             ],
             [
              0.6666666666666666,
              "#ed7953"
             ],
             [
              0.7777777777777778,
              "#fb9f3a"
             ],
             [
              0.8888888888888888,
              "#fdca26"
             ],
             [
              1,
              "#f0f921"
             ]
            ],
            "type": "heatmap"
           }
          ],
          "heatmapgl": [
           {
            "colorbar": {
             "outlinewidth": 0,
             "ticks": ""
            },
            "colorscale": [
             [
              0,
              "#0d0887"
             ],
             [
              0.1111111111111111,
              "#46039f"
             ],
             [
              0.2222222222222222,
              "#7201a8"
             ],
             [
              0.3333333333333333,
              "#9c179e"
             ],
             [
              0.4444444444444444,
              "#bd3786"
             ],
             [
              0.5555555555555556,
              "#d8576b"
             ],
             [
              0.6666666666666666,
              "#ed7953"
             ],
             [
              0.7777777777777778,
              "#fb9f3a"
             ],
             [
              0.8888888888888888,
              "#fdca26"
             ],
             [
              1,
              "#f0f921"
             ]
            ],
            "type": "heatmapgl"
           }
          ],
          "histogram": [
           {
            "marker": {
             "pattern": {
              "fillmode": "overlay",
              "size": 10,
              "solidity": 0.2
             }
            },
            "type": "histogram"
           }
          ],
          "histogram2d": [
           {
            "colorbar": {
             "outlinewidth": 0,
             "ticks": ""
            },
            "colorscale": [
             [
              0,
              "#0d0887"
             ],
             [
              0.1111111111111111,
              "#46039f"
             ],
             [
              0.2222222222222222,
              "#7201a8"
             ],
             [
              0.3333333333333333,
              "#9c179e"
             ],
             [
              0.4444444444444444,
              "#bd3786"
             ],
             [
              0.5555555555555556,
              "#d8576b"
             ],
             [
              0.6666666666666666,
              "#ed7953"
             ],
             [
              0.7777777777777778,
              "#fb9f3a"
             ],
             [
              0.8888888888888888,
              "#fdca26"
             ],
             [
              1,
              "#f0f921"
             ]
            ],
            "type": "histogram2d"
           }
          ],
          "histogram2dcontour": [
           {
            "colorbar": {
             "outlinewidth": 0,
             "ticks": ""
            },
            "colorscale": [
             [
              0,
              "#0d0887"
             ],
             [
              0.1111111111111111,
              "#46039f"
             ],
             [
              0.2222222222222222,
              "#7201a8"
             ],
             [
              0.3333333333333333,
              "#9c179e"
             ],
             [
              0.4444444444444444,
              "#bd3786"
             ],
             [
              0.5555555555555556,
              "#d8576b"
             ],
             [
              0.6666666666666666,
              "#ed7953"
             ],
             [
              0.7777777777777778,
              "#fb9f3a"
             ],
             [
              0.8888888888888888,
              "#fdca26"
             ],
             [
              1,
              "#f0f921"
             ]
            ],
            "type": "histogram2dcontour"
           }
          ],
          "mesh3d": [
           {
            "colorbar": {
             "outlinewidth": 0,
             "ticks": ""
            },
            "type": "mesh3d"
           }
          ],
          "parcoords": [
           {
            "line": {
             "colorbar": {
              "outlinewidth": 0,
              "ticks": ""
             }
            },
            "type": "parcoords"
           }
          ],
          "pie": [
           {
            "automargin": true,
            "type": "pie"
           }
          ],
          "scatter": [
           {
            "marker": {
             "colorbar": {
              "outlinewidth": 0,
              "ticks": ""
             }
            },
            "type": "scatter"
           }
          ],
          "scatter3d": [
           {
            "line": {
             "colorbar": {
              "outlinewidth": 0,
              "ticks": ""
             }
            },
            "marker": {
             "colorbar": {
              "outlinewidth": 0,
              "ticks": ""
             }
            },
            "type": "scatter3d"
           }
          ],
          "scattercarpet": [
           {
            "marker": {
             "colorbar": {
              "outlinewidth": 0,
              "ticks": ""
             }
            },
            "type": "scattercarpet"
           }
          ],
          "scattergeo": [
           {
            "marker": {
             "colorbar": {
              "outlinewidth": 0,
              "ticks": ""
             }
            },
            "type": "scattergeo"
           }
          ],
          "scattergl": [
           {
            "marker": {
             "colorbar": {
              "outlinewidth": 0,
              "ticks": ""
             }
            },
            "type": "scattergl"
           }
          ],
          "scattermapbox": [
           {
            "marker": {
             "colorbar": {
              "outlinewidth": 0,
              "ticks": ""
             }
            },
            "type": "scattermapbox"
           }
          ],
          "scatterpolar": [
           {
            "marker": {
             "colorbar": {
              "outlinewidth": 0,
              "ticks": ""
             }
            },
            "type": "scatterpolar"
           }
          ],
          "scatterpolargl": [
           {
            "marker": {
             "colorbar": {
              "outlinewidth": 0,
              "ticks": ""
             }
            },
            "type": "scatterpolargl"
           }
          ],
          "scatterternary": [
           {
            "marker": {
             "colorbar": {
              "outlinewidth": 0,
              "ticks": ""
             }
            },
            "type": "scatterternary"
           }
          ],
          "surface": [
           {
            "colorbar": {
             "outlinewidth": 0,
             "ticks": ""
            },
            "colorscale": [
             [
              0,
              "#0d0887"
             ],
             [
              0.1111111111111111,
              "#46039f"
             ],
             [
              0.2222222222222222,
              "#7201a8"
             ],
             [
              0.3333333333333333,
              "#9c179e"
             ],
             [
              0.4444444444444444,
              "#bd3786"
             ],
             [
              0.5555555555555556,
              "#d8576b"
             ],
             [
              0.6666666666666666,
              "#ed7953"
             ],
             [
              0.7777777777777778,
              "#fb9f3a"
             ],
             [
              0.8888888888888888,
              "#fdca26"
             ],
             [
              1,
              "#f0f921"
             ]
            ],
            "type": "surface"
           }
          ],
          "table": [
           {
            "cells": {
             "fill": {
              "color": "#EBF0F8"
             },
             "line": {
              "color": "white"
             }
            },
            "header": {
             "fill": {
              "color": "#C8D4E3"
             },
             "line": {
              "color": "white"
             }
            },
            "type": "table"
           }
          ]
         },
         "layout": {
          "annotationdefaults": {
           "arrowcolor": "#2a3f5f",
           "arrowhead": 0,
           "arrowwidth": 1
          },
          "autotypenumbers": "strict",
          "coloraxis": {
           "colorbar": {
            "outlinewidth": 0,
            "ticks": ""
           }
          },
          "colorscale": {
           "diverging": [
            [
             0,
             "#8e0152"
            ],
            [
             0.1,
             "#c51b7d"
            ],
            [
             0.2,
             "#de77ae"
            ],
            [
             0.3,
             "#f1b6da"
            ],
            [
             0.4,
             "#fde0ef"
            ],
            [
             0.5,
             "#f7f7f7"
            ],
            [
             0.6,
             "#e6f5d0"
            ],
            [
             0.7,
             "#b8e186"
            ],
            [
             0.8,
             "#7fbc41"
            ],
            [
             0.9,
             "#4d9221"
            ],
            [
             1,
             "#276419"
            ]
           ],
           "sequential": [
            [
             0,
             "#0d0887"
            ],
            [
             0.1111111111111111,
             "#46039f"
            ],
            [
             0.2222222222222222,
             "#7201a8"
            ],
            [
             0.3333333333333333,
             "#9c179e"
            ],
            [
             0.4444444444444444,
             "#bd3786"
            ],
            [
             0.5555555555555556,
             "#d8576b"
            ],
            [
             0.6666666666666666,
             "#ed7953"
            ],
            [
             0.7777777777777778,
             "#fb9f3a"
            ],
            [
             0.8888888888888888,
             "#fdca26"
            ],
            [
             1,
             "#f0f921"
            ]
           ],
           "sequentialminus": [
            [
             0,
             "#0d0887"
            ],
            [
             0.1111111111111111,
             "#46039f"
            ],
            [
             0.2222222222222222,
             "#7201a8"
            ],
            [
             0.3333333333333333,
             "#9c179e"
            ],
            [
             0.4444444444444444,
             "#bd3786"
            ],
            [
             0.5555555555555556,
             "#d8576b"
            ],
            [
             0.6666666666666666,
             "#ed7953"
            ],
            [
             0.7777777777777778,
             "#fb9f3a"
            ],
            [
             0.8888888888888888,
             "#fdca26"
            ],
            [
             1,
             "#f0f921"
            ]
           ]
          },
          "colorway": [
           "#636efa",
           "#EF553B",
           "#00cc96",
           "#ab63fa",
           "#FFA15A",
           "#19d3f3",
           "#FF6692",
           "#B6E880",
           "#FF97FF",
           "#FECB52"
          ],
          "font": {
           "color": "#2a3f5f"
          },
          "geo": {
           "bgcolor": "white",
           "lakecolor": "white",
           "landcolor": "#E5ECF6",
           "showlakes": true,
           "showland": true,
           "subunitcolor": "white"
          },
          "hoverlabel": {
           "align": "left"
          },
          "hovermode": "closest",
          "mapbox": {
           "style": "light"
          },
          "paper_bgcolor": "white",
          "plot_bgcolor": "#E5ECF6",
          "polar": {
           "angularaxis": {
            "gridcolor": "white",
            "linecolor": "white",
            "ticks": ""
           },
           "bgcolor": "#E5ECF6",
           "radialaxis": {
            "gridcolor": "white",
            "linecolor": "white",
            "ticks": ""
           }
          },
          "scene": {
           "xaxis": {
            "backgroundcolor": "#E5ECF6",
            "gridcolor": "white",
            "gridwidth": 2,
            "linecolor": "white",
            "showbackground": true,
            "ticks": "",
            "zerolinecolor": "white"
           },
           "yaxis": {
            "backgroundcolor": "#E5ECF6",
            "gridcolor": "white",
            "gridwidth": 2,
            "linecolor": "white",
            "showbackground": true,
            "ticks": "",
            "zerolinecolor": "white"
           },
           "zaxis": {
            "backgroundcolor": "#E5ECF6",
            "gridcolor": "white",
            "gridwidth": 2,
            "linecolor": "white",
            "showbackground": true,
            "ticks": "",
            "zerolinecolor": "white"
           }
          },
          "shapedefaults": {
           "line": {
            "color": "#2a3f5f"
           }
          },
          "ternary": {
           "aaxis": {
            "gridcolor": "white",
            "linecolor": "white",
            "ticks": ""
           },
           "baxis": {
            "gridcolor": "white",
            "linecolor": "white",
            "ticks": ""
           },
           "bgcolor": "#E5ECF6",
           "caxis": {
            "gridcolor": "white",
            "linecolor": "white",
            "ticks": ""
           }
          },
          "title": {
           "x": 0.05
          },
          "xaxis": {
           "automargin": true,
           "gridcolor": "white",
           "linecolor": "white",
           "ticks": "",
           "title": {
            "standoff": 15
           },
           "zerolinecolor": "white",
           "zerolinewidth": 2
          },
          "yaxis": {
           "automargin": true,
           "gridcolor": "white",
           "linecolor": "white",
           "ticks": "",
           "title": {
            "standoff": 15
           },
           "zerolinecolor": "white",
           "zerolinewidth": 2
          }
         }
        },
        "xaxis": {
         "anchor": "y",
         "autorange": true,
         "domain": [
          0,
          1
         ],
         "range": [
          2.4170932972591803,
          2.8885679326153277
         ],
         "title": {
          "text": "x"
         },
         "type": "linear"
        },
        "yaxis": {
         "anchor": "x",
         "autorange": true,
         "domain": [
          0,
          1
         ],
         "range": [
          -20.572154985725515,
          21.153085710071732
         ],
         "title": {
          "text": "y"
         },
         "type": "linear"
        }
       }
      },
      "image/png": "[encoded data removed]",
      "text/html": [
       "<div>                            <div id=\"fe5ddf7a-c9e2-4147-bbc5-fece4fd86fe8\" class=\"plotly-graph-div\" style=\"height:525px; width:100%;\"></div>            <script type=\"text/javascript\">                require([\"plotly\"], function(Plotly) {                    window.PLOTLYENV=window.PLOTLYENV || {};                                    if (document.getElementById(\"fe5ddf7a-c9e2-4147-bbc5-fece4fd86fe8\")) {                    Plotly.newPlot(                        \"fe5ddf7a-c9e2-4147-bbc5-fece4fd86fe8\",                        [{\"hovertemplate\":\"x=%{x}<br>y=%{y}<extra></extra>\",\"legendgroup\":\"\",\"line\":{\"color\":\"#636efa\",\"dash\":\"solid\"},\"marker\":{\"symbol\":\"circle\"},\"mode\":\"lines\",\"name\":\"\",\"orientation\":\"v\",\"showlegend\":false,\"type\":\"scatter\",\"x\":[2.4170932972591803,2.420236461494888,2.423379625730596,2.4265227899663033,2.429665954202011,2.4328091184377185,2.4359522826734263,2.439095446909134,2.4422386111448415,2.4453817753805493,2.448524939616257,2.4516681038519645,2.4548112680876724,2.4579544323233797,2.4610975965590876,2.4642407607947954,2.4673839250305027,2.4705270892662106,2.473670253501918,2.4768134177376258,2.4799565819733336,2.483099746209041,2.4862429104447488,2.489386074680456,2.492529238916164,2.4956724031518718,2.498815567387579,2.501958731623287,2.505101895858995,2.508245060094702,2.51138822433041,2.5145313885661174,2.517674552801825,2.520817717037533,2.5239608812732404,2.527104045508948,2.5302472097446556,2.5333903739803634,2.536533538216071,2.5396767024517786,2.5428198666874864,2.545963030923194,2.5491061951589016,2.5522493593946094,2.5553925236303168,2.5585356878660246,2.5616788521017324,2.56482201633744,2.5679651805731476,2.571108344808855,2.574251509044563,2.5773946732802706,2.580537837515978,2.583681001751686,2.5868241659873936,2.589967330223101,2.593110494458809,2.596253658694516,2.599396822930224,2.602539987165932,2.605683151401639,2.608826315637347,2.6119694798730544,2.615112644108762,2.61825580834447,2.6213989725801774,2.624542136815885,2.627685301051593,2.6308284652873004,2.6339716295230082,2.6371147937587156,2.6402579579944234,2.6434011222301312,2.6465442864658386,2.6496874507015464,2.652830614937254,2.6559737791729616,2.6591169434086694,2.662260107644377,2.6654032718800846,2.6685464361157925,2.6716896003515,2.6748327645872076,2.677975928822915,2.681119093058623,2.6842622572943307,2.687405421530038,2.690548585765746,2.6936917500014532,2.696834914237161,2.699978078472869,2.7031212427085762,2.706264406944284,2.7094075711799914,2.7125507354156992,2.715693899651407,2.7188370638871144,2.7219802281228223,2.72512339235853,2.7282665565942374,2.7314097208299453,2.7345528850656526,2.7376960493013605,2.7408392135370683,2.7439823777727756,2.7471255420084835,2.750268706244191,2.7534118704798987,2.7565550347156065,2.759698198951314,2.7628413631870217,2.7659845274227295,2.769127691658437,2.7722708558941447,2.775414020129852,2.77855718436556,2.7817003486012677,2.784843512836975,2.787986677072683,2.7911298413083903,2.794273005544098,2.797416169779806,2.8005593340155133,2.803702498251221,2.806845662486929,2.8099888267226363,2.813131990958344,2.8162751551940515,2.8194183194297593,2.822561483665467,2.8257046479011745,2.8288478121368823,2.8319909763725897,2.8351341406082975,2.8382773048440053,2.8414204690797127,2.8445636333154205,2.8477067975511283,2.8508499617868357,2.8539931260225435,2.857136290258251,2.8602794544939587,2.8634226187296665,2.866565782965374,2.8697089472010817,2.872852111436789,2.875995275672497,2.8791384399082047,2.882281604143912,2.88542476837962,2.8885679326153277],\"xaxis\":\"x\",\"y\":[-18.485892950935654,-17.948881969963242,-17.494108146655265,-17.082704417173396,-16.699692394038493,-16.3373422531103,-15.991016092154887,-15.65765651769551,-15.335112917415803,-15.021798751172454,-14.716500103219833,-14.418260940202074,-14.12631045819007,-13.84001500174297,-13.558845066446871,-13.282351952656906,-13.010150814053345,-12.741908071611032,-12.477331885424407,-12.216164817240774,-11.958178093897098,-11.703167061435597,-11.450947538845003,-11.201352861216197,-10.954231458028891,-10.709444851677235,-10.466865989533359,-10.226377843325396,-9.987872224681619,-9.75124877693063,-9.51641411171648,-9.283281065446774,-9.051768055554364,-8.821798520415383,-8.593300429782131,-8.366205854976975,-8.140450589990076,-7.915973816140227,-7.69271780418611,-7.470627648765793,-7.249651030855368,-7.029738004601417,-6.810840805430858,-6.592913676797325,-6.375912713301863,-6.159795718241783,-5.944522073909052,-5.730052623183531,-5.516349561156757,-5.303376335683621,-5.091097555897225,-4.879478907840374,-4.668487076467475,-4.458089673359296,-4.2482551695671145,-4.038952833067963,-3.8301526703697784,-3.6218253718541478,-3.4139422604861345,-3.206475243560071,-2.999396767180345,-2.792679773206741,-2.5862976584180393,-2.380224235668978,-2.1744336968363336,-1.9689005773650738,-1.7635997222410535,-1.5585062532299199,-1.3535955372320265,-1.1488431556134944,-0.944224874382167,-0.739716615083136,-0.53529442629609,-0.3309344556200686,-0.1266129220362217,0.07769391145789185,0.282009765047473,0.4863583692358397,0.6907634920188634,0.8952489662015782,1.099838716960548,1.3045567897587675,1.5094273787216825,1.7144748555865408,1.919723799343522,2.125199026690232,2.330925623430903,2.5369289769570553,2.743234809957316,2.9498692155144464,3.1568586937595633,3.364230190268759,3.5720111364027223,3.7802294918085106,3.988913789325067,4.198093182556424,4.407797496405841,4.6180572808949,4.828903868627533,5.040369436300939,5.252487070712545,5.465290839766663,5.678815869047713,5.893098424598964,6.108176002630781,6.3240874269791325,6.540872955249294,6.75857439471232,6.977235229177414,7.196900758246601,7.417618250573193,7.63943711300146,7.862409077769464,8.086588410318583,8.31203214068949,8.538800322008587,8.766956320202908,8.99656713985649,9.227703792064414,9.460441711306473,9.694861229804618,9.931048119623874,10.169094215034368,10.409098130503107,10.651166093319206,10.895412914529203,11.14196312791474,11.390952334675779,11.642528801975464,11.896855377536724,12.15411180148818,12.41449752273912,12.678235163467397,12.945574826653129,13.216799515478073,13.492232041801426,13.772243963363236,14.057267338694484,14.347810481895456,14.644479538740846,14.948008782306845,15.259304415294924,15.579510142997638,15.910109557098576,16.253094531048834,16.61126111081591,16.988776738182448,17.392407266192023,17.834699619545464,18.34530373164345,19.06682367528187],\"yaxis\":\"y\"}],                        {\"legend\":{\"tracegroupgap\":0},\"margin\":{\"t\":60},\"template\":{\"data\":{\"bar\":[{\"error_x\":{\"color\":\"#2a3f5f\"},\"error_y\":{\"color\":\"#2a3f5f\"},\"marker\":{\"line\":{\"color\":\"#E5ECF6\",\"width\":0.5},\"pattern\":{\"fillmode\":\"overlay\",\"size\":10,\"solidity\":0.2}},\"type\":\"bar\"}],\"barpolar\":[{\"marker\":{\"line\":{\"color\":\"#E5ECF6\",\"width\":0.5},\"pattern\":{\"fillmode\":\"overlay\",\"size\":10,\"solidity\":0.2}},\"type\":\"barpolar\"}],\"carpet\":[{\"aaxis\":{\"endlinecolor\":\"#2a3f5f\",\"gridcolor\":\"white\",\"linecolor\":\"white\",\"minorgridcolor\":\"white\",\"startlinecolor\":\"#2a3f5f\"},\"baxis\":{\"endlinecolor\":\"#2a3f5f\",\"gridcolor\":\"white\",\"linecolor\":\"white\",\"minorgridcolor\":\"white\",\"startlinecolor\":\"#2a3f5f\"},\"type\":\"carpet\"}],\"choropleth\":[{\"colorbar\":{\"outlinewidth\":0,\"ticks\":\"\"},\"type\":\"choropleth\"}],\"contour\":[{\"colorbar\":{\"outlinewidth\":0,\"ticks\":\"\"},\"colorscale\":[[0.0,\"#0d0887\"],[0.1111111111111111,\"#46039f\"],[0.2222222222222222,\"#7201a8\"],[0.3333333333333333,\"#9c179e\"],[0.4444444444444444,\"#bd3786\"],[0.5555555555555556,\"#d8576b\"],[0.6666666666666666,\"#ed7953\"],[0.7777777777777778,\"#fb9f3a\"],[0.8888888888888888,\"#fdca26\"],[1.0,\"#f0f921\"]],\"type\":\"contour\"}],\"contourcarpet\":[{\"colorbar\":{\"outlinewidth\":0,\"ticks\":\"\"},\"type\":\"contourcarpet\"}],\"heatmap\":[{\"colorbar\":{\"outlinewidth\":0,\"ticks\":\"\"},\"colorscale\":[[0.0,\"#0d0887\"],[0.1111111111111111,\"#46039f\"],[0.2222222222222222,\"#7201a8\"],[0.3333333333333333,\"#9c179e\"],[0.4444444444444444,\"#bd3786\"],[0.5555555555555556,\"#d8576b\"],[0.6666666666666666,\"#ed7953\"],[0.7777777777777778,\"#fb9f3a\"],[0.8888888888888888,\"#fdca26\"],[1.0,\"#f0f921\"]],\"type\":\"heatmap\"}],\"heatmapgl\":[{\"colorbar\":{\"outlinewidth\":0,\"ticks\":\"\"},\"colorscale\":[[0.0,\"#0d0887\"],[0.1111111111111111,\"#46039f\"],[0.2222222222222222,\"#7201a8\"],[0.3333333333333333,\"#9c179e\"],[0.4444444444444444,\"#bd3786\"],[0.5555555555555556,\"#d8576b\"],[0.6666666666666666,\"#ed7953\"],[0.7777777777777778,\"#fb9f3a\"],[0.8888888888888888,\"#fdca26\"],[1.0,\"#f0f921\"]],\"type\":\"heatmapgl\"}],\"histogram\":[{\"marker\":{\"pattern\":{\"fillmode\":\"overlay\",\"size\":10,\"solidity\":0.2}},\"type\":\"histogram\"}],\"histogram2d\":[{\"colorbar\":{\"outlinewidth\":0,\"ticks\":\"\"},\"colorscale\":[[0.0,\"#0d0887\"],[0.1111111111111111,\"#46039f\"],[0.2222222222222222,\"#7201a8\"],[0.3333333333333333,\"#9c179e\"],[0.4444444444444444,\"#bd3786\"],[0.5555555555555556,\"#d8576b\"],[0.6666666666666666,\"#ed7953\"],[0.7777777777777778,\"#fb9f3a\"],[0.8888888888888888,\"#fdca26\"],[1.0,\"#f0f921\"]],\"type\":\"histogram2d\"}],\"histogram2dcontour\":[{\"colorbar\":{\"outlinewidth\":0,\"ticks\":\"\"},\"colorscale\":[[0.0,\"#0d0887\"],[0.1111111111111111,\"#46039f\"],[0.2222222222222222,\"#7201a8\"],[0.3333333333333333,\"#9c179e\"],[0.4444444444444444,\"#bd3786\"],[0.5555555555555556,\"#d8576b\"],[0.6666666666666666,\"#ed7953\"],[0.7777777777777778,\"#fb9f3a\"],[0.8888888888888888,\"#fdca26\"],[1.0,\"#f0f921\"]],\"type\":\"histogram2dcontour\"}],\"mesh3d\":[{\"colorbar\":{\"outlinewidth\":0,\"ticks\":\"\"},\"type\":\"mesh3d\"}],\"parcoords\":[{\"line\":{\"colorbar\":{\"outlinewidth\":0,\"ticks\":\"\"}},\"type\":\"parcoords\"}],\"pie\":[{\"automargin\":true,\"type\":\"pie\"}],\"scatter\":[{\"marker\":{\"colorbar\":{\"outlinewidth\":0,\"ticks\":\"\"}},\"type\":\"scatter\"}],\"scatter3d\":[{\"line\":{\"colorbar\":{\"outlinewidth\":0,\"ticks\":\"\"}},\"marker\":{\"colorbar\":{\"outlinewidth\":0,\"ticks\":\"\"}},\"type\":\"scatter3d\"}],\"scattercarpet\":[{\"marker\":{\"colorbar\":{\"outlinewidth\":0,\"ticks\":\"\"}},\"type\":\"scattercarpet\"}],\"scattergeo\":[{\"marker\":{\"colorbar\":{\"outlinewidth\":0,\"ticks\":\"\"}},\"type\":\"scattergeo\"}],\"scattergl\":[{\"marker\":{\"colorbar\":{\"outlinewidth\":0,\"ticks\":\"\"}},\"type\":\"scattergl\"}],\"scattermapbox\":[{\"marker\":{\"colorbar\":{\"outlinewidth\":0,\"ticks\":\"\"}},\"type\":\"scattermapbox\"}],\"scatterpolar\":[{\"marker\":{\"colorbar\":{\"outlinewidth\":0,\"ticks\":\"\"}},\"type\":\"scatterpolar\"}],\"scatterpolargl\":[{\"marker\":{\"colorbar\":{\"outlinewidth\":0,\"ticks\":\"\"}},\"type\":\"scatterpolargl\"}],\"scatterternary\":[{\"marker\":{\"colorbar\":{\"outlinewidth\":0,\"ticks\":\"\"}},\"type\":\"scatterternary\"}],\"surface\":[{\"colorbar\":{\"outlinewidth\":0,\"ticks\":\"\"},\"colorscale\":[[0.0,\"#0d0887\"],[0.1111111111111111,\"#46039f\"],[0.2222222222222222,\"#7201a8\"],[0.3333333333333333,\"#9c179e\"],[0.4444444444444444,\"#bd3786\"],[0.5555555555555556,\"#d8576b\"],[0.6666666666666666,\"#ed7953\"],[0.7777777777777778,\"#fb9f3a\"],[0.8888888888888888,\"#fdca26\"],[1.0,\"#f0f921\"]],\"type\":\"surface\"}],\"table\":[{\"cells\":{\"fill\":{\"color\":\"#EBF0F8\"},\"line\":{\"color\":\"white\"}},\"header\":{\"fill\":{\"color\":\"#C8D4E3\"},\"line\":{\"color\":\"white\"}},\"type\":\"table\"}]},\"layout\":{\"annotationdefaults\":{\"arrowcolor\":\"#2a3f5f\",\"arrowhead\":0,\"arrowwidth\":1},\"autotypenumbers\":\"strict\",\"coloraxis\":{\"colorbar\":{\"outlinewidth\":0,\"ticks\":\"\"}},\"colorscale\":{\"diverging\":[[0,\"#8e0152\"],[0.1,\"#c51b7d\"],[0.2,\"#de77ae\"],[0.3,\"#f1b6da\"],[0.4,\"#fde0ef\"],[0.5,\"#f7f7f7\"],[0.6,\"#e6f5d0\"],[0.7,\"#b8e186\"],[0.8,\"#7fbc41\"],[0.9,\"#4d9221\"],[1,\"#276419\"]],\"sequential\":[[0.0,\"#0d0887\"],[0.1111111111111111,\"#46039f\"],[0.2222222222222222,\"#7201a8\"],[0.3333333333333333,\"#9c179e\"],[0.4444444444444444,\"#bd3786\"],[0.5555555555555556,\"#d8576b\"],[0.6666666666666666,\"#ed7953\"],[0.7777777777777778,\"#fb9f3a\"],[0.8888888888888888,\"#fdca26\"],[1.0,\"#f0f921\"]],\"sequentialminus\":[[0.0,\"#0d0887\"],[0.1111111111111111,\"#46039f\"],[0.2222222222222222,\"#7201a8\"],[0.3333333333333333,\"#9c179e\"],[0.4444444444444444,\"#bd3786\"],[0.5555555555555556,\"#d8576b\"],[0.6666666666666666,\"#ed7953\"],[0.7777777777777778,\"#fb9f3a\"],[0.8888888888888888,\"#fdca26\"],[1.0,\"#f0f921\"]]},\"colorway\":[\"#636efa\",\"#EF553B\",\"#00cc96\",\"#ab63fa\",\"#FFA15A\",\"#19d3f3\",\"#FF6692\",\"#B6E880\",\"#FF97FF\",\"#FECB52\"],\"font\":{\"color\":\"#2a3f5f\"},\"geo\":{\"bgcolor\":\"white\",\"lakecolor\":\"white\",\"landcolor\":\"#E5ECF6\",\"showlakes\":true,\"showland\":true,\"subunitcolor\":\"white\"},\"hoverlabel\":{\"align\":\"left\"},\"hovermode\":\"closest\",\"mapbox\":{\"style\":\"light\"},\"paper_bgcolor\":\"white\",\"plot_bgcolor\":\"#E5ECF6\",\"polar\":{\"angularaxis\":{\"gridcolor\":\"white\",\"linecolor\":\"white\",\"ticks\":\"\"},\"bgcolor\":\"#E5ECF6\",\"radialaxis\":{\"gridcolor\":\"white\",\"linecolor\":\"white\",\"ticks\":\"\"}},\"scene\":{\"xaxis\":{\"backgroundcolor\":\"#E5ECF6\",\"gridcolor\":\"white\",\"gridwidth\":2,\"linecolor\":\"white\",\"showbackground\":true,\"ticks\":\"\",\"zerolinecolor\":\"white\"},\"yaxis\":{\"backgroundcolor\":\"#E5ECF6\",\"gridcolor\":\"white\",\"gridwidth\":2,\"linecolor\":\"white\",\"showbackground\":true,\"ticks\":\"\",\"zerolinecolor\":\"white\"},\"zaxis\":{\"backgroundcolor\":\"#E5ECF6\",\"gridcolor\":\"white\",\"gridwidth\":2,\"linecolor\":\"white\",\"showbackground\":true,\"ticks\":\"\",\"zerolinecolor\":\"white\"}},\"shapedefaults\":{\"line\":{\"color\":\"#2a3f5f\"}},\"ternary\":{\"aaxis\":{\"gridcolor\":\"white\",\"linecolor\":\"white\",\"ticks\":\"\"},\"baxis\":{\"gridcolor\":\"white\",\"linecolor\":\"white\",\"ticks\":\"\"},\"bgcolor\":\"#E5ECF6\",\"caxis\":{\"gridcolor\":\"white\",\"linecolor\":\"white\",\"ticks\":\"\"}},\"title\":{\"x\":0.05},\"xaxis\":{\"automargin\":true,\"gridcolor\":\"white\",\"linecolor\":\"white\",\"ticks\":\"\",\"title\":{\"standoff\":15},\"zerolinecolor\":\"white\",\"zerolinewidth\":2},\"yaxis\":{\"automargin\":true,\"gridcolor\":\"white\",\"linecolor\":\"white\",\"ticks\":\"\",\"title\":{\"standoff\":15},\"zerolinecolor\":\"white\",\"zerolinewidth\":2}}},\"xaxis\":{\"anchor\":\"y\",\"domain\":[0.0,1.0],\"title\":{\"text\":\"x\"}},\"yaxis\":{\"anchor\":\"x\",\"domain\":[0.0,1.0],\"title\":{\"text\":\"y\"}}},                        {\"responsive\": true}                    ).then(function(){\n",
       "                            \n",
       "var gd = document.getElementById('fe5ddf7a-c9e2-4147-bbc5-fece4fd86fe8');\n",
       "var x = new MutationObserver(function (mutations, observer) {{\n",
       "        var display = window.getComputedStyle(gd).display;\n",
       "        if (!display || display === 'none') {{\n",
       "            console.log([gd, 'removed!']);\n",
       "            Plotly.purge(gd);\n",
       "            observer.disconnect();\n",
       "        }}\n",
       "}});\n",
       "\n",
       "// Listen for the removal of the full notebook cells\n",
       "var notebookContainer = gd.closest('#notebook-container');\n",
       "if (notebookContainer) {{\n",
       "    x.observe(notebookContainer, {childList: true});\n",
       "}}\n",
       "\n",
       "// Listen for the clearing of the current output cell\n",
       "var outputEl = gd.closest('.output');\n",
       "if (outputEl) {{\n",
       "    x.observe(outputEl, {childList: true});\n",
       "}}\n",
       "\n",
       "                        })                };                });            </script>        </div>"
      ]
     },
     "metadata": {},
     "output_type": "display_data"
    }
   ],
   "source": [
    "fig = px.line(x=point_angles, y=point_vs)\n",
    "fig.show()"
   ]
  },
  {
   "cell_type": "code",
   "execution_count": 37,
   "id": "39538f54-29f1-42c1-be88-2a89e04aa950",
   "metadata": {},
   "outputs": [
    {
     "data": {
      "application/vnd.plotly.v1+json": {
       "config": {
        "plotlyServerURL": "https://plot.ly"
       },
       "data": [
        {
         "hovertemplate": "x=%{x}<br>y=%{y}<br>color=%{marker.color}<extra></extra>",
         "legendgroup": "",
         "marker": {
          "color": [
           -18.485892950935654,
           -17.948881969963242,
           -17.494108146655265,
           -17.082704417173396,
           -16.699692394038493,
           -16.3373422531103,
           -15.991016092154887,
           -15.65765651769551,
           -15.335112917415803,
           -15.021798751172454,
           -14.716500103219833,
           -14.418260940202074,
           -14.12631045819007,
           -13.84001500174297,
           -13.558845066446871,
           -13.282351952656906,
           -13.010150814053345,
           -12.741908071611032,
           -12.477331885424407,
           -12.216164817240774,
           -11.958178093897098,
           -11.703167061435597,
           -11.450947538845003,
           -11.201352861216197,
           -10.954231458028891,
           -10.709444851677235,
           -10.466865989533359,
           -10.226377843325396,
           -9.987872224681619,
           -9.75124877693063,
           -9.51641411171648,
           -9.283281065446774,
           -9.051768055554364,
           -8.821798520415383,
           -8.593300429782131,
           -8.366205854976975,
           -8.140450589990076,
           -7.915973816140227,
           -7.69271780418611,
           -7.470627648765793,
           -7.249651030855368,
           -7.029738004601417,
           -6.810840805430858,
           -6.592913676797325,
           -6.375912713301863,
           -6.159795718241783,
           -5.944522073909052,
           -5.730052623183531,
           -5.516349561156757,
           -5.303376335683621,
           -5.091097555897225,
           -4.879478907840374,
           -4.668487076467475,
           -4.458089673359296,
           -4.2482551695671145,
           -4.038952833067963,
           -3.8301526703697784,
           -3.6218253718541478,
           -3.4139422604861345,
           -3.206475243560071,
           -2.999396767180345,
           -2.792679773206741,
           -2.5862976584180393,
           -2.380224235668978,
           -2.1744336968363336,
           -1.9689005773650738,
           -1.7635997222410535,
           -1.5585062532299199,
           -1.3535955372320265,
           -1.1488431556134944,
           -0.944224874382167,
           -0.739716615083136,
           -0.53529442629609,
           -0.3309344556200686,
           -0.1266129220362217,
           0.07769391145789185,
           0.282009765047473,
           0.4863583692358397,
           0.6907634920188634,
           0.8952489662015782,
           1.099838716960548,
           1.3045567897587675,
           1.5094273787216825,
           1.7144748555865408,
           1.919723799343522,
           2.125199026690232,
           2.330925623430903,
           2.5369289769570553,
           2.743234809957316,
           2.9498692155144464,
           3.1568586937595633,
           3.364230190268759,
           3.5720111364027223,
           3.7802294918085106,
           3.988913789325067,
           4.198093182556424,
           4.407797496405841,
           4.6180572808949,
           4.828903868627533,
           5.040369436300939,
           5.252487070712545,
           5.465290839766663,
           5.678815869047713,
           5.893098424598964,
           6.108176002630781,
           6.3240874269791325,
           6.540872955249294,
           6.75857439471232,
           6.977235229177414,
           7.196900758246601,
           7.417618250573193,
           7.63943711300146,
           7.862409077769464,
           8.086588410318583,
           8.31203214068949,
           8.538800322008587,
           8.766956320202908,
           8.99656713985649,
           9.227703792064414,
           9.460441711306473,
           9.694861229804618,
           9.931048119623874,
           10.169094215034368,
           10.409098130503107,
           10.651166093319206,
           10.895412914529203,
           11.14196312791474,
           11.390952334675779,
           11.642528801975464,
           11.896855377536724,
           12.15411180148818,
           12.41449752273912,
           12.678235163467397,
           12.945574826653129,
           13.216799515478073,
           13.492232041801426,
           13.772243963363236,
           14.057267338694484,
           14.347810481895456,
           14.644479538740846,
           14.948008782306845,
           15.259304415294924,
           15.579510142997638,
           15.910109557098576,
           16.253094531048834,
           16.61126111081591,
           16.988776738182448,
           17.392407266192023,
           17.834699619545464,
           18.34530373164345,
           19.06682367528187
          ],
          "coloraxis": "coloraxis",
          "symbol": "circle"
         },
         "mode": "markers",
         "name": "",
         "orientation": "v",
         "showlegend": false,
         "type": "scatter",
         "x": [
          -9.167987677210052,
          -8.397685956215508,
          -8.77528481102067,
          -8.45985810840832,
          -8.718360893693449,
          -8.467966669798209,
          -8.190640953634578,
          -8.079985233572854,
          -8.29433118863232,
          -8.575795962811952,
          -8.03248678262447,
          -8.209761753025964,
          -8.184142836850038,
          -8.22938779714806,
          -8.107295507357206,
          -8.066653889528233,
          -8.114150437222744,
          -8.001770213404228,
          -8.081408671321547,
          -7.940715029957503,
          -7.7030722626904105,
          -8.010701061545545,
          -7.858213161334861,
          -8.213500878139747,
          -7.813044017073678,
          -8.215051040526703,
          -8.091173189064905,
          -7.909193562839277,
          -7.8977747644870435,
          -8.161038033850927,
          -8.153510912171221,
          -8.101228610653228,
          -7.880549285262555,
          -8.346309701680408,
          -8.351530945964097,
          -8.197921033086429,
          -8.259088673809758,
          -7.975602656206352,
          -8.227183408617964,
          -8.462992685816138,
          -8.249857826972,
          -8.51342494481192,
          -7.911240942502721,
          -7.934701433616435,
          -7.737699512695789,
          -8.316041179852997,
          -8.207699971424354,
          -8.015765261830305,
          -7.656795735025353,
          -8.10109574363919,
          -8.211557324116267,
          -8.065799641941716,
          -7.8733358609041195,
          -8.341560610695444,
          -8.042270770859657,
          -8.244376723331083,
          -8.079374138770067,
          -7.946508267696757,
          -8.300068558246409,
          -8.389689230794753,
          -8.010459311886908,
          -8.336173922144843,
          -8.327969901154384,
          -8.44509136254234,
          -8.334565723337803,
          -8.052701447641203,
          -8.176817054893649,
          -8.342914509922737,
          -8.5863318365607,
          -8.404098684264095,
          -8.487962723518928,
          -8.187928003028283,
          -8.415836091324058,
          -8.518413159228395,
          -8.83451245250825,
          -8.37547182673699,
          -8.203627707759898,
          -8.55693045878588,
          -8.440731261051543,
          -8.532293723614634,
          -8.914473125877112,
          -8.812843289133282,
          -8.36676439376955,
          -8.725774576192658,
          -8.497824573641182,
          -8.589772233603256,
          -8.716657978266554,
          -8.545858270625855,
          -8.747209368987754,
          -8.567092863913055,
          -9.050530690398563,
          -9.121091677517533,
          -8.942872834319953,
          -8.730716539428188,
          -8.818567392541034,
          -8.909978210817773,
          -9.105803710141728,
          -9.026710544035518,
          -9.26777411789583,
          -9.307280415406911,
          -8.928071643471608,
          -8.785419806543098,
          -9.337680862432693,
          -8.95330601121297,
          -9.425138220760049,
          -9.035476393335525,
          -9.181782020147134,
          -9.653175451653722,
          -9.636138822933514,
          -9.359421205539448,
          -9.511366278875018,
          -9.51191682069244,
          -9.600367788373818,
          -9.708692903656376,
          -9.594678253875959,
          -9.820984570374764,
          -9.755259091333393,
          -9.664994278325567,
          -9.628642782167628,
          -9.792461723213998,
          -10.000229541158905,
          -9.807596728840803,
          -10.049942386261899,
          -9.620360599740641,
          -10.010118788770425,
          -9.924307197065174,
          -10.138253499687393,
          -10.57257122699932,
          -10.128320795046827,
          -10.108221636134072,
          -10.586133536736632,
          -10.69417150448173,
          -10.698678345763831,
          -10.82206996225804,
          -10.465356523579068,
          -10.657338257611437,
          -10.696428878163054,
          -10.944427449918962,
          -10.630083533437126,
          -11.125402488885689,
          -11.415910415458535,
          -11.178969172697098,
          -11.27584683430668,
          -11.158887522234311,
          -11.648857069315783,
          -11.4336539172677,
          -11.626616009289467,
          -11.817946688679548,
          -12.126349680828449,
          -12.109238911571937,
          -12.84086415788307
         ],
         "xaxis": "x",
         "y": [
          14.603905290737456,
          14.271828524059543,
          14.220753150695925,
          14.129248898194483,
          13.857893285040628,
          13.853415549726794,
          13.8877365985153,
          13.571928484896445,
          13.297386796192958,
          13.06892961585416,
          13.541158299732434,
          13.292281562690636,
          13.246947828402606,
          13.493314432492001,
          13.066510168681946,
          12.523263660847867,
          12.466918161491185,
          12.956798219202508,
          12.804086060097292,
          12.303995212860848,
          12.677162530635128,
          12.614380906764467,
          12.183633419417275,
          12.144936327947844,
          12.492894216716726,
          12.445882618259002,
          11.92956493263989,
          12.221235348945472,
          11.952379152714704,
          12.131616669386776,
          12.050681059899897,
          11.970485909552556,
          11.879383584045335,
          12.175641991369767,
          11.494957324448047,
          11.74046106499734,
          11.55027815428053,
          11.8876916156643,
          11.750925776088003,
          11.61036742810009,
          11.651830110795714,
          11.668888085027023,
          11.6761949344635,
          11.167919151080405,
          11.640483681397845,
          11.102055664853577,
          11.101482469944123,
          11.071410960600268,
          11.036692116983694,
          11.312458016474837,
          10.782910865786784,
          11.042734872769499,
          10.668725165754793,
          10.88068251143314,
          10.948065260373449,
          10.575281038082815,
          10.811228867517357,
          10.789357733482335,
          10.600794859150497,
          10.722349223505311,
          10.927827935386214,
          10.425313261708922,
          10.442654090638001,
          10.536630406182438,
          10.534543860894113,
          9.926852224159932,
          10.435064764003172,
          10.339267313713831,
          10.782419775721248,
          10.529128078784428,
          9.832087197296744,
          10.052061549149569,
          9.99471243955259,
          10.181022849107945,
          10.299555424904376,
          10.259107251225707,
          10.266501456757437,
          10.364795074662247,
          9.823526813489522,
          10.119362140975596,
          10.039080975732892,
          9.621856051322927,
          9.707789708008772,
          9.90732401963871,
          9.844144310707255,
          9.529935799172199,
          9.554073588522403,
          9.60792003473029,
          9.393791922051182,
          9.58255816847873,
          9.79987561506414,
          9.667931354909719,
          9.639693432205588,
          9.409658249003519,
          9.575420900303165,
          9.507051795561393,
          9.41923487839877,
          9.187984194564088,
          9.301368886785628,
          9.665395620292848,
          8.822068306107749,
          9.337611952257982,
          9.023009703194292,
          9.250680817058843,
          8.957844384410599,
          9.031055452047688,
          9.010474635446505,
          8.873078407276774,
          9.076903202380107,
          9.204392057391184,
          8.920993144101484,
          8.964864399755376,
          9.04048857911828,
          9.057063693078893,
          9.014476677375066,
          9.078547377876927,
          8.848718456303148,
          8.370511630497116,
          8.093272213029953,
          8.705695780078447,
          8.567092807349207,
          8.813015337458316,
          8.576115003991799,
          8.184900182017497,
          8.524710646740212,
          8.244501362253507,
          8.590139491412137,
          8.735083217891807,
          8.417428152350364,
          8.621859853309656,
          8.018531282117998,
          8.352027268624935,
          8.433127819132551,
          8.712030143254834,
          8.200480014663261,
          8.479281376395347,
          8.158244512013143,
          8.088744907049993,
          7.905953059642801,
          7.672897786272971,
          8.110008713721694,
          8.170785549017323,
          8.699720830744742,
          7.804551044281519,
          7.790032009589393,
          8.128795301877792,
          7.920157079049868,
          7.81422131843722,
          8.174304288694248,
          8.049147105262628,
          7.807182380255245
         ],
         "yaxis": "y"
        },
        {
         "mode": "markers",
         "name": "base station",
         "type": "scatter",
         "x": [
          3
         ],
         "y": [
          4
         ]
        }
       ],
       "layout": {
        "autosize": true,
        "coloraxis": {
         "colorbar": {
          "title": {
           "text": "color"
          }
         },
         "colorscale": [
          [
           0,
           "rgb(0,0,131)"
          ],
          [
           0.2,
           "rgb(0,60,170)"
          ],
          [
           0.4,
           "rgb(5,255,255)"
          ],
          [
           0.6,
           "rgb(255,255,0)"
          ],
          [
           0.8,
           "rgb(250,0,0)"
          ],
          [
           1,
           "rgb(128,0,0)"
          ]
         ]
        },
        "legend": {
         "tracegroupgap": 0
        },
        "margin": {
         "t": 60
        },
        "template": {
         "data": {
          "bar": [
           {
            "error_x": {
             "color": "#2a3f5f"
            },
            "error_y": {
             "color": "#2a3f5f"
            },
            "marker": {
             "line": {
              "color": "#E5ECF6",
              "width": 0.5
             },
             "pattern": {
              "fillmode": "overlay",
              "size": 10,
              "solidity": 0.2
             }
            },
            "type": "bar"
           }
          ],
          "barpolar": [
           {
            "marker": {
             "line": {
              "color": "#E5ECF6",
              "width": 0.5
             },
             "pattern": {
              "fillmode": "overlay",
              "size": 10,
              "solidity": 0.2
             }
            },
            "type": "barpolar"
           }
          ],
          "carpet": [
           {
            "aaxis": {
             "endlinecolor": "#2a3f5f",
             "gridcolor": "white",
             "linecolor": "white",
             "minorgridcolor": "white",
             "startlinecolor": "#2a3f5f"
            },
            "baxis": {
             "endlinecolor": "#2a3f5f",
             "gridcolor": "white",
             "linecolor": "white",
             "minorgridcolor": "white",
             "startlinecolor": "#2a3f5f"
            },
            "type": "carpet"
           }
          ],
          "choropleth": [
           {
            "colorbar": {
             "outlinewidth": 0,
             "ticks": ""
            },
            "type": "choropleth"
           }
          ],
          "contour": [
           {
            "colorbar": {
             "outlinewidth": 0,
             "ticks": ""
            },
            "colorscale": [
             [
              0,
              "#0d0887"
             ],
             [
              0.1111111111111111,
              "#46039f"
             ],
             [
              0.2222222222222222,
              "#7201a8"
             ],
             [
              0.3333333333333333,
              "#9c179e"
             ],
             [
              0.4444444444444444,
              "#bd3786"
             ],
             [
              0.5555555555555556,
              "#d8576b"
             ],
             [
              0.6666666666666666,
              "#ed7953"
             ],
             [
              0.7777777777777778,
              "#fb9f3a"
             ],
             [
              0.8888888888888888,
              "#fdca26"
             ],
             [
              1,
              "#f0f921"
             ]
            ],
            "type": "contour"
           }
          ],
          "contourcarpet": [
           {
            "colorbar": {
             "outlinewidth": 0,
             "ticks": ""
            },
            "type": "contourcarpet"
           }
          ],
          "heatmap": [
           {
            "colorbar": {
             "outlinewidth": 0,
             "ticks": ""
            },
            "colorscale": [
             [
              0,
              "#0d0887"
             ],
             [
              0.1111111111111111,
              "#46039f"
             ],
             [
              0.2222222222222222,
              "#7201a8"
             ],
             [
              0.3333333333333333,
              "#9c179e"
             ],
             [
              0.4444444444444444,
              "#bd3786"
             ],
             [
              0.5555555555555556,
              "#d8576b"
             ],
             [
              0.6666666666666666,
              "#ed7953"
             ],
             [
              0.7777777777777778,
              "#fb9f3a"
             ],
             [
              0.8888888888888888,
              "#fdca26"
             ],
             [
              1,
              "#f0f921"
             ]
            ],
            "type": "heatmap"
           }
          ],
          "heatmapgl": [
           {
            "colorbar": {
             "outlinewidth": 0,
             "ticks": ""
            },
            "colorscale": [
             [
              0,
              "#0d0887"
             ],
             [
              0.1111111111111111,
              "#46039f"
             ],
             [
              0.2222222222222222,
              "#7201a8"
             ],
             [
              0.3333333333333333,
              "#9c179e"
             ],
             [
              0.4444444444444444,
              "#bd3786"
             ],
             [
              0.5555555555555556,
              "#d8576b"
             ],
             [
              0.6666666666666666,
              "#ed7953"
             ],
             [
              0.7777777777777778,
              "#fb9f3a"
             ],
             [
              0.8888888888888888,
              "#fdca26"
             ],
             [
              1,
              "#f0f921"
             ]
            ],
            "type": "heatmapgl"
           }
          ],
          "histogram": [
           {
            "marker": {
             "pattern": {
              "fillmode": "overlay",
              "size": 10,
              "solidity": 0.2
             }
            },
            "type": "histogram"
           }
          ],
          "histogram2d": [
           {
            "colorbar": {
             "outlinewidth": 0,
             "ticks": ""
            },
            "colorscale": [
             [
              0,
              "#0d0887"
             ],
             [
              0.1111111111111111,
              "#46039f"
             ],
             [
              0.2222222222222222,
              "#7201a8"
             ],
             [
              0.3333333333333333,
              "#9c179e"
             ],
             [
              0.4444444444444444,
              "#bd3786"
             ],
             [
              0.5555555555555556,
              "#d8576b"
             ],
             [
              0.6666666666666666,
              "#ed7953"
             ],
             [
              0.7777777777777778,
              "#fb9f3a"
             ],
             [
              0.8888888888888888,
              "#fdca26"
             ],
             [
              1,
              "#f0f921"
             ]
            ],
            "type": "histogram2d"
           }
          ],
          "histogram2dcontour": [
           {
            "colorbar": {
             "outlinewidth": 0,
             "ticks": ""
            },
            "colorscale": [
             [
              0,
              "#0d0887"
             ],
             [
              0.1111111111111111,
              "#46039f"
             ],
             [
              0.2222222222222222,
              "#7201a8"
             ],
             [
              0.3333333333333333,
              "#9c179e"
             ],
             [
              0.4444444444444444,
              "#bd3786"
             ],
             [
              0.5555555555555556,
              "#d8576b"
             ],
             [
              0.6666666666666666,
              "#ed7953"
             ],
             [
              0.7777777777777778,
              "#fb9f3a"
             ],
             [
              0.8888888888888888,
              "#fdca26"
             ],
             [
              1,
              "#f0f921"
             ]
            ],
            "type": "histogram2dcontour"
           }
          ],
          "mesh3d": [
           {
            "colorbar": {
             "outlinewidth": 0,
             "ticks": ""
            },
            "type": "mesh3d"
           }
          ],
          "parcoords": [
           {
            "line": {
             "colorbar": {
              "outlinewidth": 0,
              "ticks": ""
             }
            },
            "type": "parcoords"
           }
          ],
          "pie": [
           {
            "automargin": true,
            "type": "pie"
           }
          ],
          "scatter": [
           {
            "marker": {
             "colorbar": {
              "outlinewidth": 0,
              "ticks": ""
             }
            },
            "type": "scatter"
           }
          ],
          "scatter3d": [
           {
            "line": {
             "colorbar": {
              "outlinewidth": 0,
              "ticks": ""
             }
            },
            "marker": {
             "colorbar": {
              "outlinewidth": 0,
              "ticks": ""
             }
            },
            "type": "scatter3d"
           }
          ],
          "scattercarpet": [
           {
            "marker": {
             "colorbar": {
              "outlinewidth": 0,
              "ticks": ""
             }
            },
            "type": "scattercarpet"
           }
          ],
          "scattergeo": [
           {
            "marker": {
             "colorbar": {
              "outlinewidth": 0,
              "ticks": ""
             }
            },
            "type": "scattergeo"
           }
          ],
          "scattergl": [
           {
            "marker": {
             "colorbar": {
              "outlinewidth": 0,
              "ticks": ""
             }
            },
            "type": "scattergl"
           }
          ],
          "scattermapbox": [
           {
            "marker": {
             "colorbar": {
              "outlinewidth": 0,
              "ticks": ""
             }
            },
            "type": "scattermapbox"
           }
          ],
          "scatterpolar": [
           {
            "marker": {
             "colorbar": {
              "outlinewidth": 0,
              "ticks": ""
             }
            },
            "type": "scatterpolar"
           }
          ],
          "scatterpolargl": [
           {
            "marker": {
             "colorbar": {
              "outlinewidth": 0,
              "ticks": ""
             }
            },
            "type": "scatterpolargl"
           }
          ],
          "scatterternary": [
           {
            "marker": {
             "colorbar": {
              "outlinewidth": 0,
              "ticks": ""
             }
            },
            "type": "scatterternary"
           }
          ],
          "surface": [
           {
            "colorbar": {
             "outlinewidth": 0,
             "ticks": ""
            },
            "colorscale": [
             [
              0,
              "#0d0887"
             ],
             [
              0.1111111111111111,
              "#46039f"
             ],
             [
              0.2222222222222222,
              "#7201a8"
             ],
             [
              0.3333333333333333,
              "#9c179e"
             ],
             [
              0.4444444444444444,
              "#bd3786"
             ],
             [
              0.5555555555555556,
              "#d8576b"
             ],
             [
              0.6666666666666666,
              "#ed7953"
             ],
             [
              0.7777777777777778,
              "#fb9f3a"
             ],
             [
              0.8888888888888888,
              "#fdca26"
             ],
             [
              1,
              "#f0f921"
             ]
            ],
            "type": "surface"
           }
          ],
          "table": [
           {
            "cells": {
             "fill": {
              "color": "#EBF0F8"
             },
             "line": {
              "color": "white"
             }
            },
            "header": {
             "fill": {
              "color": "#C8D4E3"
             },
             "line": {
              "color": "white"
             }
            },
            "type": "table"
           }
          ]
         },
         "layout": {
          "annotationdefaults": {
           "arrowcolor": "#2a3f5f",
           "arrowhead": 0,
           "arrowwidth": 1
          },
          "autotypenumbers": "strict",
          "coloraxis": {
           "colorbar": {
            "outlinewidth": 0,
            "ticks": ""
           }
          },
          "colorscale": {
           "diverging": [
            [
             0,
             "#8e0152"
            ],
            [
             0.1,
             "#c51b7d"
            ],
            [
             0.2,
             "#de77ae"
            ],
            [
             0.3,
             "#f1b6da"
            ],
            [
             0.4,
             "#fde0ef"
            ],
            [
             0.5,
             "#f7f7f7"
            ],
            [
             0.6,
             "#e6f5d0"
            ],
            [
             0.7,
             "#b8e186"
            ],
            [
             0.8,
             "#7fbc41"
            ],
            [
             0.9,
             "#4d9221"
            ],
            [
             1,
             "#276419"
            ]
           ],
           "sequential": [
            [
             0,
             "#0d0887"
            ],
            [
             0.1111111111111111,
             "#46039f"
            ],
            [
             0.2222222222222222,
             "#7201a8"
            ],
            [
             0.3333333333333333,
             "#9c179e"
            ],
            [
             0.4444444444444444,
             "#bd3786"
            ],
            [
             0.5555555555555556,
             "#d8576b"
            ],
            [
             0.6666666666666666,
             "#ed7953"
            ],
            [
             0.7777777777777778,
             "#fb9f3a"
            ],
            [
             0.8888888888888888,
             "#fdca26"
            ],
            [
             1,
             "#f0f921"
            ]
           ],
           "sequentialminus": [
            [
             0,
             "#0d0887"
            ],
            [
             0.1111111111111111,
             "#46039f"
            ],
            [
             0.2222222222222222,
             "#7201a8"
            ],
            [
             0.3333333333333333,
             "#9c179e"
            ],
            [
             0.4444444444444444,
             "#bd3786"
            ],
            [
             0.5555555555555556,
             "#d8576b"
            ],
            [
             0.6666666666666666,
             "#ed7953"
            ],
            [
             0.7777777777777778,
             "#fb9f3a"
            ],
            [
             0.8888888888888888,
             "#fdca26"
            ],
            [
             1,
             "#f0f921"
            ]
           ]
          },
          "colorway": [
           "#636efa",
           "#EF553B",
           "#00cc96",
           "#ab63fa",
           "#FFA15A",
           "#19d3f3",
           "#FF6692",
           "#B6E880",
           "#FF97FF",
           "#FECB52"
          ],
          "font": {
           "color": "#2a3f5f"
          },
          "geo": {
           "bgcolor": "white",
           "lakecolor": "white",
           "landcolor": "#E5ECF6",
           "showlakes": true,
           "showland": true,
           "subunitcolor": "white"
          },
          "hoverlabel": {
           "align": "left"
          },
          "hovermode": "closest",
          "mapbox": {
           "style": "light"
          },
          "paper_bgcolor": "white",
          "plot_bgcolor": "#E5ECF6",
          "polar": {
           "angularaxis": {
            "gridcolor": "white",
            "linecolor": "white",
            "ticks": ""
           },
           "bgcolor": "#E5ECF6",
           "radialaxis": {
            "gridcolor": "white",
            "linecolor": "white",
            "ticks": ""
           }
          },
          "scene": {
           "xaxis": {
            "backgroundcolor": "#E5ECF6",
            "gridcolor": "white",
            "gridwidth": 2,
            "linecolor": "white",
            "showbackground": true,
            "ticks": "",
            "zerolinecolor": "white"
           },
           "yaxis": {
            "backgroundcolor": "#E5ECF6",
            "gridcolor": "white",
            "gridwidth": 2,
            "linecolor": "white",
            "showbackground": true,
            "ticks": "",
            "zerolinecolor": "white"
           },
           "zaxis": {
            "backgroundcolor": "#E5ECF6",
            "gridcolor": "white",
            "gridwidth": 2,
            "linecolor": "white",
            "showbackground": true,
            "ticks": "",
            "zerolinecolor": "white"
           }
          },
          "shapedefaults": {
           "line": {
            "color": "#2a3f5f"
           }
          },
          "ternary": {
           "aaxis": {
            "gridcolor": "white",
            "linecolor": "white",
            "ticks": ""
           },
           "baxis": {
            "gridcolor": "white",
            "linecolor": "white",
            "ticks": ""
           },
           "bgcolor": "#E5ECF6",
           "caxis": {
            "gridcolor": "white",
            "linecolor": "white",
            "ticks": ""
           }
          },
          "title": {
           "x": 0.05
          },
          "xaxis": {
           "automargin": true,
           "gridcolor": "white",
           "linecolor": "white",
           "ticks": "",
           "title": {
            "standoff": 15
           },
           "zerolinecolor": "white",
           "zerolinewidth": 2
          },
          "yaxis": {
           "automargin": true,
           "gridcolor": "white",
           "linecolor": "white",
           "ticks": "",
           "title": {
            "standoff": 15
           },
           "zerolinecolor": "white",
           "zerolinewidth": 2
          }
         }
        },
        "xaxis": {
         "anchor": "y",
         "autorange": true,
         "domain": [
          0,
          1
         ],
         "range": [
          -13.77862780206695,
          3.937763644183879
         ],
         "title": {
          "text": "x"
         },
         "type": "linear"
        },
        "yaxis": {
         "anchor": "x",
         "autorange": true,
         "domain": [
          0,
          1
         ],
         "range": [
          3.1789627137093044,
          15.424942577028151
         ],
         "title": {
          "text": "y"
         },
         "type": "linear"
        }
       }
      },
      "image/png": "[encoded data removed]",
      "text/html": [
       "<div>                            <div id=\"2ce88588-2bf3-4f0e-8da6-06905cc0486a\" class=\"plotly-graph-div\" style=\"height:525px; width:100%;\"></div>            <script type=\"text/javascript\">                require([\"plotly\"], function(Plotly) {                    window.PLOTLYENV=window.PLOTLYENV || {};                                    if (document.getElementById(\"2ce88588-2bf3-4f0e-8da6-06905cc0486a\")) {                    Plotly.newPlot(                        \"2ce88588-2bf3-4f0e-8da6-06905cc0486a\",                        [{\"hovertemplate\":\"x=%{x}<br>y=%{y}<br>color=%{marker.color}<extra></extra>\",\"legendgroup\":\"\",\"marker\":{\"color\":[-18.485892950935654,-17.948881969963242,-17.494108146655265,-17.082704417173396,-16.699692394038493,-16.3373422531103,-15.991016092154887,-15.65765651769551,-15.335112917415803,-15.021798751172454,-14.716500103219833,-14.418260940202074,-14.12631045819007,-13.84001500174297,-13.558845066446871,-13.282351952656906,-13.010150814053345,-12.741908071611032,-12.477331885424407,-12.216164817240774,-11.958178093897098,-11.703167061435597,-11.450947538845003,-11.201352861216197,-10.954231458028891,-10.709444851677235,-10.466865989533359,-10.226377843325396,-9.987872224681619,-9.75124877693063,-9.51641411171648,-9.283281065446774,-9.051768055554364,-8.821798520415383,-8.593300429782131,-8.366205854976975,-8.140450589990076,-7.915973816140227,-7.69271780418611,-7.470627648765793,-7.249651030855368,-7.029738004601417,-6.810840805430858,-6.592913676797325,-6.375912713301863,-6.159795718241783,-5.944522073909052,-5.730052623183531,-5.516349561156757,-5.303376335683621,-5.091097555897225,-4.879478907840374,-4.668487076467475,-4.458089673359296,-4.2482551695671145,-4.038952833067963,-3.8301526703697784,-3.6218253718541478,-3.4139422604861345,-3.206475243560071,-2.999396767180345,-2.792679773206741,-2.5862976584180393,-2.380224235668978,-2.1744336968363336,-1.9689005773650738,-1.7635997222410535,-1.5585062532299199,-1.3535955372320265,-1.1488431556134944,-0.944224874382167,-0.739716615083136,-0.53529442629609,-0.3309344556200686,-0.1266129220362217,0.07769391145789185,0.282009765047473,0.4863583692358397,0.6907634920188634,0.8952489662015782,1.099838716960548,1.3045567897587675,1.5094273787216825,1.7144748555865408,1.919723799343522,2.125199026690232,2.330925623430903,2.5369289769570553,2.743234809957316,2.9498692155144464,3.1568586937595633,3.364230190268759,3.5720111364027223,3.7802294918085106,3.988913789325067,4.198093182556424,4.407797496405841,4.6180572808949,4.828903868627533,5.040369436300939,5.252487070712545,5.465290839766663,5.678815869047713,5.893098424598964,6.108176002630781,6.3240874269791325,6.540872955249294,6.75857439471232,6.977235229177414,7.196900758246601,7.417618250573193,7.63943711300146,7.862409077769464,8.086588410318583,8.31203214068949,8.538800322008587,8.766956320202908,8.99656713985649,9.227703792064414,9.460441711306473,9.694861229804618,9.931048119623874,10.169094215034368,10.409098130503107,10.651166093319206,10.895412914529203,11.14196312791474,11.390952334675779,11.642528801975464,11.896855377536724,12.15411180148818,12.41449752273912,12.678235163467397,12.945574826653129,13.216799515478073,13.492232041801426,13.772243963363236,14.057267338694484,14.347810481895456,14.644479538740846,14.948008782306845,15.259304415294924,15.579510142997638,15.910109557098576,16.253094531048834,16.61126111081591,16.988776738182448,17.392407266192023,17.834699619545464,18.34530373164345,19.06682367528187],\"coloraxis\":\"coloraxis\",\"symbol\":\"circle\"},\"mode\":\"markers\",\"name\":\"\",\"orientation\":\"v\",\"showlegend\":false,\"type\":\"scatter\",\"x\":[-9.167987677210052,-8.397685956215508,-8.77528481102067,-8.45985810840832,-8.718360893693449,-8.467966669798209,-8.190640953634578,-8.079985233572854,-8.29433118863232,-8.575795962811952,-8.03248678262447,-8.209761753025964,-8.184142836850038,-8.22938779714806,-8.107295507357206,-8.066653889528233,-8.114150437222744,-8.001770213404228,-8.081408671321547,-7.940715029957503,-7.7030722626904105,-8.010701061545545,-7.858213161334861,-8.213500878139747,-7.813044017073678,-8.215051040526703,-8.091173189064905,-7.909193562839277,-7.8977747644870435,-8.161038033850927,-8.153510912171221,-8.101228610653228,-7.880549285262555,-8.346309701680408,-8.351530945964097,-8.197921033086429,-8.259088673809758,-7.975602656206352,-8.227183408617964,-8.462992685816138,-8.249857826972,-8.51342494481192,-7.911240942502721,-7.934701433616435,-7.737699512695789,-8.316041179852997,-8.207699971424354,-8.015765261830305,-7.656795735025353,-8.10109574363919,-8.211557324116267,-8.065799641941716,-7.8733358609041195,-8.341560610695444,-8.042270770859657,-8.244376723331083,-8.079374138770067,-7.946508267696757,-8.300068558246409,-8.389689230794753,-8.010459311886908,-8.336173922144843,-8.327969901154384,-8.44509136254234,-8.334565723337803,-8.052701447641203,-8.176817054893649,-8.342914509922737,-8.5863318365607,-8.404098684264095,-8.487962723518928,-8.187928003028283,-8.415836091324058,-8.518413159228395,-8.83451245250825,-8.37547182673699,-8.203627707759898,-8.55693045878588,-8.440731261051543,-8.532293723614634,-8.914473125877112,-8.812843289133282,-8.36676439376955,-8.725774576192658,-8.497824573641182,-8.589772233603256,-8.716657978266554,-8.545858270625855,-8.747209368987754,-8.567092863913055,-9.050530690398563,-9.121091677517533,-8.942872834319953,-8.730716539428188,-8.818567392541034,-8.909978210817773,-9.105803710141728,-9.026710544035518,-9.26777411789583,-9.307280415406911,-8.928071643471608,-8.785419806543098,-9.337680862432693,-8.95330601121297,-9.425138220760049,-9.035476393335525,-9.181782020147134,-9.653175451653722,-9.636138822933514,-9.359421205539448,-9.511366278875018,-9.51191682069244,-9.600367788373818,-9.708692903656376,-9.594678253875959,-9.820984570374764,-9.755259091333393,-9.664994278325567,-9.628642782167628,-9.792461723213998,-10.000229541158905,-9.807596728840803,-10.049942386261899,-9.620360599740641,-10.010118788770425,-9.924307197065174,-10.138253499687393,-10.57257122699932,-10.128320795046827,-10.108221636134072,-10.586133536736632,-10.69417150448173,-10.698678345763831,-10.82206996225804,-10.465356523579068,-10.657338257611437,-10.696428878163054,-10.944427449918962,-10.630083533437126,-11.125402488885689,-11.415910415458535,-11.178969172697098,-11.27584683430668,-11.158887522234311,-11.648857069315783,-11.4336539172677,-11.626616009289467,-11.817946688679548,-12.126349680828449,-12.109238911571937,-12.84086415788307],\"xaxis\":\"x\",\"y\":[14.603905290737456,14.271828524059543,14.220753150695925,14.129248898194483,13.857893285040628,13.853415549726794,13.8877365985153,13.571928484896445,13.297386796192958,13.06892961585416,13.541158299732434,13.292281562690636,13.246947828402606,13.493314432492001,13.066510168681946,12.523263660847867,12.466918161491185,12.956798219202508,12.804086060097292,12.303995212860848,12.677162530635128,12.614380906764467,12.183633419417275,12.144936327947844,12.492894216716726,12.445882618259002,11.92956493263989,12.221235348945472,11.952379152714704,12.131616669386776,12.050681059899897,11.970485909552556,11.879383584045335,12.175641991369767,11.494957324448047,11.74046106499734,11.55027815428053,11.8876916156643,11.750925776088003,11.61036742810009,11.651830110795714,11.668888085027023,11.6761949344635,11.167919151080405,11.640483681397845,11.102055664853577,11.101482469944123,11.071410960600268,11.036692116983694,11.312458016474837,10.782910865786784,11.042734872769499,10.668725165754793,10.88068251143314,10.948065260373449,10.575281038082815,10.811228867517357,10.789357733482335,10.600794859150497,10.722349223505311,10.927827935386214,10.425313261708922,10.442654090638001,10.536630406182438,10.534543860894113,9.926852224159932,10.435064764003172,10.339267313713831,10.782419775721248,10.529128078784428,9.832087197296744,10.052061549149569,9.99471243955259,10.181022849107945,10.299555424904376,10.259107251225707,10.266501456757437,10.364795074662247,9.823526813489522,10.119362140975596,10.039080975732892,9.621856051322927,9.707789708008772,9.90732401963871,9.844144310707255,9.529935799172199,9.554073588522403,9.60792003473029,9.393791922051182,9.58255816847873,9.79987561506414,9.667931354909719,9.639693432205588,9.409658249003519,9.575420900303165,9.507051795561393,9.41923487839877,9.187984194564088,9.301368886785628,9.665395620292848,8.822068306107749,9.337611952257982,9.023009703194292,9.250680817058843,8.957844384410599,9.031055452047688,9.010474635446505,8.873078407276774,9.076903202380107,9.204392057391184,8.920993144101484,8.964864399755376,9.04048857911828,9.057063693078893,9.014476677375066,9.078547377876927,8.848718456303148,8.370511630497116,8.093272213029953,8.705695780078447,8.567092807349207,8.813015337458316,8.576115003991799,8.184900182017497,8.524710646740212,8.244501362253507,8.590139491412137,8.735083217891807,8.417428152350364,8.621859853309656,8.018531282117998,8.352027268624935,8.433127819132551,8.712030143254834,8.200480014663261,8.479281376395347,8.158244512013143,8.088744907049993,7.905953059642801,7.672897786272971,8.110008713721694,8.170785549017323,8.699720830744742,7.804551044281519,7.790032009589393,8.128795301877792,7.920157079049868,7.81422131843722,8.174304288694248,8.049147105262628,7.807182380255245],\"yaxis\":\"y\"},{\"mode\":\"markers\",\"name\":\"base station\",\"type\":\"scatter\",\"x\":[3],\"y\":[4]}],                        {\"coloraxis\":{\"colorbar\":{\"title\":{\"text\":\"color\"}},\"colorscale\":[[0.0,\"rgb(0,0,131)\"],[0.2,\"rgb(0,60,170)\"],[0.4,\"rgb(5,255,255)\"],[0.6,\"rgb(255,255,0)\"],[0.8,\"rgb(250,0,0)\"],[1.0,\"rgb(128,0,0)\"]]},\"legend\":{\"tracegroupgap\":0},\"margin\":{\"t\":60},\"template\":{\"data\":{\"bar\":[{\"error_x\":{\"color\":\"#2a3f5f\"},\"error_y\":{\"color\":\"#2a3f5f\"},\"marker\":{\"line\":{\"color\":\"#E5ECF6\",\"width\":0.5},\"pattern\":{\"fillmode\":\"overlay\",\"size\":10,\"solidity\":0.2}},\"type\":\"bar\"}],\"barpolar\":[{\"marker\":{\"line\":{\"color\":\"#E5ECF6\",\"width\":0.5},\"pattern\":{\"fillmode\":\"overlay\",\"size\":10,\"solidity\":0.2}},\"type\":\"barpolar\"}],\"carpet\":[{\"aaxis\":{\"endlinecolor\":\"#2a3f5f\",\"gridcolor\":\"white\",\"linecolor\":\"white\",\"minorgridcolor\":\"white\",\"startlinecolor\":\"#2a3f5f\"},\"baxis\":{\"endlinecolor\":\"#2a3f5f\",\"gridcolor\":\"white\",\"linecolor\":\"white\",\"minorgridcolor\":\"white\",\"startlinecolor\":\"#2a3f5f\"},\"type\":\"carpet\"}],\"choropleth\":[{\"colorbar\":{\"outlinewidth\":0,\"ticks\":\"\"},\"type\":\"choropleth\"}],\"contour\":[{\"colorbar\":{\"outlinewidth\":0,\"ticks\":\"\"},\"colorscale\":[[0.0,\"#0d0887\"],[0.1111111111111111,\"#46039f\"],[0.2222222222222222,\"#7201a8\"],[0.3333333333333333,\"#9c179e\"],[0.4444444444444444,\"#bd3786\"],[0.5555555555555556,\"#d8576b\"],[0.6666666666666666,\"#ed7953\"],[0.7777777777777778,\"#fb9f3a\"],[0.8888888888888888,\"#fdca26\"],[1.0,\"#f0f921\"]],\"type\":\"contour\"}],\"contourcarpet\":[{\"colorbar\":{\"outlinewidth\":0,\"ticks\":\"\"},\"type\":\"contourcarpet\"}],\"heatmap\":[{\"colorbar\":{\"outlinewidth\":0,\"ticks\":\"\"},\"colorscale\":[[0.0,\"#0d0887\"],[0.1111111111111111,\"#46039f\"],[0.2222222222222222,\"#7201a8\"],[0.3333333333333333,\"#9c179e\"],[0.4444444444444444,\"#bd3786\"],[0.5555555555555556,\"#d8576b\"],[0.6666666666666666,\"#ed7953\"],[0.7777777777777778,\"#fb9f3a\"],[0.8888888888888888,\"#fdca26\"],[1.0,\"#f0f921\"]],\"type\":\"heatmap\"}],\"heatmapgl\":[{\"colorbar\":{\"outlinewidth\":0,\"ticks\":\"\"},\"colorscale\":[[0.0,\"#0d0887\"],[0.1111111111111111,\"#46039f\"],[0.2222222222222222,\"#7201a8\"],[0.3333333333333333,\"#9c179e\"],[0.4444444444444444,\"#bd3786\"],[0.5555555555555556,\"#d8576b\"],[0.6666666666666666,\"#ed7953\"],[0.7777777777777778,\"#fb9f3a\"],[0.8888888888888888,\"#fdca26\"],[1.0,\"#f0f921\"]],\"type\":\"heatmapgl\"}],\"histogram\":[{\"marker\":{\"pattern\":{\"fillmode\":\"overlay\",\"size\":10,\"solidity\":0.2}},\"type\":\"histogram\"}],\"histogram2d\":[{\"colorbar\":{\"outlinewidth\":0,\"ticks\":\"\"},\"colorscale\":[[0.0,\"#0d0887\"],[0.1111111111111111,\"#46039f\"],[0.2222222222222222,\"#7201a8\"],[0.3333333333333333,\"#9c179e\"],[0.4444444444444444,\"#bd3786\"],[0.5555555555555556,\"#d8576b\"],[0.6666666666666666,\"#ed7953\"],[0.7777777777777778,\"#fb9f3a\"],[0.8888888888888888,\"#fdca26\"],[1.0,\"#f0f921\"]],\"type\":\"histogram2d\"}],\"histogram2dcontour\":[{\"colorbar\":{\"outlinewidth\":0,\"ticks\":\"\"},\"colorscale\":[[0.0,\"#0d0887\"],[0.1111111111111111,\"#46039f\"],[0.2222222222222222,\"#7201a8\"],[0.3333333333333333,\"#9c179e\"],[0.4444444444444444,\"#bd3786\"],[0.5555555555555556,\"#d8576b\"],[0.6666666666666666,\"#ed7953\"],[0.7777777777777778,\"#fb9f3a\"],[0.8888888888888888,\"#fdca26\"],[1.0,\"#f0f921\"]],\"type\":\"histogram2dcontour\"}],\"mesh3d\":[{\"colorbar\":{\"outlinewidth\":0,\"ticks\":\"\"},\"type\":\"mesh3d\"}],\"parcoords\":[{\"line\":{\"colorbar\":{\"outlinewidth\":0,\"ticks\":\"\"}},\"type\":\"parcoords\"}],\"pie\":[{\"automargin\":true,\"type\":\"pie\"}],\"scatter\":[{\"marker\":{\"colorbar\":{\"outlinewidth\":0,\"ticks\":\"\"}},\"type\":\"scatter\"}],\"scatter3d\":[{\"line\":{\"colorbar\":{\"outlinewidth\":0,\"ticks\":\"\"}},\"marker\":{\"colorbar\":{\"outlinewidth\":0,\"ticks\":\"\"}},\"type\":\"scatter3d\"}],\"scattercarpet\":[{\"marker\":{\"colorbar\":{\"outlinewidth\":0,\"ticks\":\"\"}},\"type\":\"scattercarpet\"}],\"scattergeo\":[{\"marker\":{\"colorbar\":{\"outlinewidth\":0,\"ticks\":\"\"}},\"type\":\"scattergeo\"}],\"scattergl\":[{\"marker\":{\"colorbar\":{\"outlinewidth\":0,\"ticks\":\"\"}},\"type\":\"scattergl\"}],\"scattermapbox\":[{\"marker\":{\"colorbar\":{\"outlinewidth\":0,\"ticks\":\"\"}},\"type\":\"scattermapbox\"}],\"scatterpolar\":[{\"marker\":{\"colorbar\":{\"outlinewidth\":0,\"ticks\":\"\"}},\"type\":\"scatterpolar\"}],\"scatterpolargl\":[{\"marker\":{\"colorbar\":{\"outlinewidth\":0,\"ticks\":\"\"}},\"type\":\"scatterpolargl\"}],\"scatterternary\":[{\"marker\":{\"colorbar\":{\"outlinewidth\":0,\"ticks\":\"\"}},\"type\":\"scatterternary\"}],\"surface\":[{\"colorbar\":{\"outlinewidth\":0,\"ticks\":\"\"},\"colorscale\":[[0.0,\"#0d0887\"],[0.1111111111111111,\"#46039f\"],[0.2222222222222222,\"#7201a8\"],[0.3333333333333333,\"#9c179e\"],[0.4444444444444444,\"#bd3786\"],[0.5555555555555556,\"#d8576b\"],[0.6666666666666666,\"#ed7953\"],[0.7777777777777778,\"#fb9f3a\"],[0.8888888888888888,\"#fdca26\"],[1.0,\"#f0f921\"]],\"type\":\"surface\"}],\"table\":[{\"cells\":{\"fill\":{\"color\":\"#EBF0F8\"},\"line\":{\"color\":\"white\"}},\"header\":{\"fill\":{\"color\":\"#C8D4E3\"},\"line\":{\"color\":\"white\"}},\"type\":\"table\"}]},\"layout\":{\"annotationdefaults\":{\"arrowcolor\":\"#2a3f5f\",\"arrowhead\":0,\"arrowwidth\":1},\"autotypenumbers\":\"strict\",\"coloraxis\":{\"colorbar\":{\"outlinewidth\":0,\"ticks\":\"\"}},\"colorscale\":{\"diverging\":[[0,\"#8e0152\"],[0.1,\"#c51b7d\"],[0.2,\"#de77ae\"],[0.3,\"#f1b6da\"],[0.4,\"#fde0ef\"],[0.5,\"#f7f7f7\"],[0.6,\"#e6f5d0\"],[0.7,\"#b8e186\"],[0.8,\"#7fbc41\"],[0.9,\"#4d9221\"],[1,\"#276419\"]],\"sequential\":[[0.0,\"#0d0887\"],[0.1111111111111111,\"#46039f\"],[0.2222222222222222,\"#7201a8\"],[0.3333333333333333,\"#9c179e\"],[0.4444444444444444,\"#bd3786\"],[0.5555555555555556,\"#d8576b\"],[0.6666666666666666,\"#ed7953\"],[0.7777777777777778,\"#fb9f3a\"],[0.8888888888888888,\"#fdca26\"],[1.0,\"#f0f921\"]],\"sequentialminus\":[[0.0,\"#0d0887\"],[0.1111111111111111,\"#46039f\"],[0.2222222222222222,\"#7201a8\"],[0.3333333333333333,\"#9c179e\"],[0.4444444444444444,\"#bd3786\"],[0.5555555555555556,\"#d8576b\"],[0.6666666666666666,\"#ed7953\"],[0.7777777777777778,\"#fb9f3a\"],[0.8888888888888888,\"#fdca26\"],[1.0,\"#f0f921\"]]},\"colorway\":[\"#636efa\",\"#EF553B\",\"#00cc96\",\"#ab63fa\",\"#FFA15A\",\"#19d3f3\",\"#FF6692\",\"#B6E880\",\"#FF97FF\",\"#FECB52\"],\"font\":{\"color\":\"#2a3f5f\"},\"geo\":{\"bgcolor\":\"white\",\"lakecolor\":\"white\",\"landcolor\":\"#E5ECF6\",\"showlakes\":true,\"showland\":true,\"subunitcolor\":\"white\"},\"hoverlabel\":{\"align\":\"left\"},\"hovermode\":\"closest\",\"mapbox\":{\"style\":\"light\"},\"paper_bgcolor\":\"white\",\"plot_bgcolor\":\"#E5ECF6\",\"polar\":{\"angularaxis\":{\"gridcolor\":\"white\",\"linecolor\":\"white\",\"ticks\":\"\"},\"bgcolor\":\"#E5ECF6\",\"radialaxis\":{\"gridcolor\":\"white\",\"linecolor\":\"white\",\"ticks\":\"\"}},\"scene\":{\"xaxis\":{\"backgroundcolor\":\"#E5ECF6\",\"gridcolor\":\"white\",\"gridwidth\":2,\"linecolor\":\"white\",\"showbackground\":true,\"ticks\":\"\",\"zerolinecolor\":\"white\"},\"yaxis\":{\"backgroundcolor\":\"#E5ECF6\",\"gridcolor\":\"white\",\"gridwidth\":2,\"linecolor\":\"white\",\"showbackground\":true,\"ticks\":\"\",\"zerolinecolor\":\"white\"},\"zaxis\":{\"backgroundcolor\":\"#E5ECF6\",\"gridcolor\":\"white\",\"gridwidth\":2,\"linecolor\":\"white\",\"showbackground\":true,\"ticks\":\"\",\"zerolinecolor\":\"white\"}},\"shapedefaults\":{\"line\":{\"color\":\"#2a3f5f\"}},\"ternary\":{\"aaxis\":{\"gridcolor\":\"white\",\"linecolor\":\"white\",\"ticks\":\"\"},\"baxis\":{\"gridcolor\":\"white\",\"linecolor\":\"white\",\"ticks\":\"\"},\"bgcolor\":\"#E5ECF6\",\"caxis\":{\"gridcolor\":\"white\",\"linecolor\":\"white\",\"ticks\":\"\"}},\"title\":{\"x\":0.05},\"xaxis\":{\"automargin\":true,\"gridcolor\":\"white\",\"linecolor\":\"white\",\"ticks\":\"\",\"title\":{\"standoff\":15},\"zerolinecolor\":\"white\",\"zerolinewidth\":2},\"yaxis\":{\"automargin\":true,\"gridcolor\":\"white\",\"linecolor\":\"white\",\"ticks\":\"\",\"title\":{\"standoff\":15},\"zerolinecolor\":\"white\",\"zerolinewidth\":2}}},\"xaxis\":{\"anchor\":\"y\",\"domain\":[0.0,1.0],\"title\":{\"text\":\"x\"}},\"yaxis\":{\"anchor\":\"x\",\"domain\":[0.0,1.0],\"title\":{\"text\":\"y\"}}},                        {\"responsive\": true}                    ).then(function(){\n",
       "                            \n",
       "var gd = document.getElementById('2ce88588-2bf3-4f0e-8da6-06905cc0486a');\n",
       "var x = new MutationObserver(function (mutations, observer) {{\n",
       "        var display = window.getComputedStyle(gd).display;\n",
       "        if (!display || display === 'none') {{\n",
       "            console.log([gd, 'removed!']);\n",
       "            Plotly.purge(gd);\n",
       "            observer.disconnect();\n",
       "        }}\n",
       "}});\n",
       "\n",
       "// Listen for the removal of the full notebook cells\n",
       "var notebookContainer = gd.closest('#notebook-container');\n",
       "if (notebookContainer) {{\n",
       "    x.observe(notebookContainer, {childList: true});\n",
       "}}\n",
       "\n",
       "// Listen for the clearing of the current output cell\n",
       "var outputEl = gd.closest('.output');\n",
       "if (outputEl) {{\n",
       "    x.observe(outputEl, {childList: true});\n",
       "}}\n",
       "\n",
       "                        })                };                });            </script>        </div>"
      ]
     },
     "metadata": {},
     "output_type": "display_data"
    }
   ],
   "source": [
    "fig = px.scatter(x=point_xs, y=point_ys, color=point_vs, color_continuous_scale=\"Jet\")\n",
    "fig.add_scatter(x=[radar_x], y=[radar_y], mode=\"markers\", name=\"base station\")\n",
    "\n",
    "fig.show()"
   ]
  },
  {
   "cell_type": "markdown",
   "id": "12d97ab2-c30d-44d6-a9cd-e2b3c56bd22e",
   "metadata": {},
   "source": [
    "## estimation of circle parameters\n",
    "See: [construction shit](https://www.iaarc.org/publications/fulltext/S17-2.pdf)\n",
    "\n",
    "it converges for suitably close initial guesses, but fucks out with other ones (local minimum?)"
   ]
  },
  {
   "cell_type": "code",
   "execution_count": 60,
   "id": "52a6a1f5-f35b-4dfa-a841-953f0924f160",
   "metadata": {},
   "outputs": [],
   "source": [
    "def generate_likelihood_fn_1(xs, ys):\n",
    "    def likelihood_fn(params):\n",
    "        a, b = params[0], params[1]\n",
    "        r = 1\n",
    "        \n",
    "        s = 0\n",
    "        for xa, ya in zip(xs, ys):\n",
    "            num = np.square(xa*xa + ya*ya - 2*a*xa - 2*b*ya + a*a + b*b - r*r)\n",
    "            den = xa*xa + ya*ya - 2*a*xa - 2*b*ya + a*a + b*b\n",
    "            s += num / den\n",
    "        return s\n",
    "    return likelihood_fn"
   ]
  },
  {
   "cell_type": "code",
   "execution_count": 61,
   "id": "81666660-64e7-4f5e-91ff-0c93eb126111",
   "metadata": {},
   "outputs": [
    {
     "name": "stdout",
     "output_type": "stream",
     "text": [
      "Optimization terminated successfully.\n",
      "         Current function value: 123.602007\n",
      "         Iterations: 13\n",
      "         Function evaluations: 51\n",
      "         Gradient evaluations: 17\n"
     ]
    }
   ],
   "source": [
    "# guess = np.array([0, 0])\n",
    "opt_res = optimize.minimize(\n",
    "    generate_likelihood_fn_1(point_xs, point_ys),\n",
    "    guess,\n",
    "    options={\"disp\": True, \"maxiter\": 100}\n",
    ")"
   ]
  },
  {
   "cell_type": "code",
   "execution_count": 62,
   "id": "a07ef4d6-3e11-42ed-9342-16ce83fa6eea",
   "metadata": {},
   "outputs": [
    {
     "data": {
      "text/plain": [
       "      fun: 123.60200660608156\n",
       " hess_inv: array([[ 0.00124558, -0.001341  ],\n",
       "       [-0.001341  ,  0.00320729]])\n",
       "      jac: array([-2.86102295e-06, -2.86102295e-06])\n",
       "  message: 'Optimization terminated successfully.'\n",
       "     nfev: 51\n",
       "      nit: 13\n",
       "     njev: 17\n",
       "   status: 0\n",
       "  success: True\n",
       "        x: array([3.62068653, 4.2986378 ])"
      ]
     },
     "execution_count": 62,
     "metadata": {},
     "output_type": "execute_result"
    }
   ],
   "source": [
    "opt_res"
   ]
  },
  {
   "cell_type": "markdown",
   "id": "e15e76f7-c791-4ca0-9c66-2c9c05c78f0a",
   "metadata": {},
   "source": [
    "## Circle parameter estimation v2\n",
    "See [deep state paper](https://ieeexplore-ieee-org.ezproxy.canterbury.ac.nz/stamp/stamp.jsp?tp=&arnumber=1608136)"
   ]
  },
  {
   "cell_type": "markdown",
   "id": "8db3f57c-a02c-4a3d-bd3c-a5fac160a663",
   "metadata": {},
   "source": [
    "### Why cirlce parameter estimation is bad\n",
    "- Log-liklihood function contains many local minima\n",
    "- LL function contains plateaus of low gradient -> slow conergence\n",
    "- See [Least squares fitting of circles and lines](https://people.cas.uab.edu/~mosya/papers/cl1.pdf) for why its hard"
   ]
  },
  {
   "cell_type": "code",
   "execution_count": 122,
   "id": "c69d2069-22a7-410b-b597-1dea48a53021",
   "metadata": {},
   "outputs": [],
   "source": [
    "def gen_log_likelihood(x_values, y_values):\n",
    "    def likelihood_fn(params):\n",
    "        cx, cy, r = params[0], params[1], params[2]\n",
    "        \n",
    "        norm = np.sqrt(np.square(x_values - cx) + np.square(y_values - cy))\n",
    "        return np.sum(np.square(norm - r))\n",
    "    return likelihood_fn"
   ]
  },
  {
   "cell_type": "code",
   "execution_count": 123,
   "id": "cf1f1ec2-a2a6-4780-b36d-47aee19f392c",
   "metadata": {},
   "outputs": [],
   "source": [
    "closest_idx = np.argmin(\n",
    "    np.sqrt(\n",
    "        np.square(point_xs - radar_x) +\n",
    "        np.square(point_ys - radar_y)\n",
    "    )\n",
    ")\n",
    "guess = np.array([point_xs[closest_idx], point_ys[closest_idx], 1.0])"
   ]
  },
  {
   "cell_type": "code",
   "execution_count": 124,
   "id": "b71fc7ed-ff58-48b1-9b94-8ca2ea1df87e",
   "metadata": {},
   "outputs": [
    {
     "data": {
      "text/plain": [
       "array([-8.97547945, 10.37422981,  1.        ])"
      ]
     },
     "execution_count": 124,
     "metadata": {},
     "output_type": "execute_result"
    }
   ],
   "source": [
    "guess_x = np.mean(point_xs)\n",
    "guess_y = np.mean(point_ys)\n",
    "guess = np.array([guess_x, guess_y, 1.0])\n",
    "guess"
   ]
  },
  {
   "cell_type": "code",
   "execution_count": 125,
   "id": "9d036a17-d9a2-4d50-8b64-537c42dda569",
   "metadata": {},
   "outputs": [
    {
     "name": "stdout",
     "output_type": "stream",
     "text": [
      "Optimization terminated successfully.\n",
      "         Current function value: 3.210200\n",
      "         Iterations: 14\n",
      "         Function evaluations: 72\n",
      "         Gradient evaluations: 18\n"
     ]
    },
    {
     "data": {
      "text/plain": [
       "      fun: 3.210200189545908\n",
       " hess_inv: array([[ 0.18765616, -0.08228818, -0.17427514],\n",
       "       [-0.08228818,  0.07024505,  0.09000532],\n",
       "       [-0.17427514,  0.09000532,  0.17398394]])\n",
       "      jac: array([1.31130219e-06, 8.64267349e-07, 4.55975533e-06])\n",
       "  message: 'Optimization terminated successfully.'\n",
       "     nfev: 72\n",
       "      nit: 14\n",
       "     njev: 18\n",
       "   status: 0\n",
       "  success: True\n",
       "        x: array([-12.02272778,  11.98778844,   4.02000347])"
      ]
     },
     "execution_count": 125,
     "metadata": {},
     "output_type": "execute_result"
    }
   ],
   "source": [
    "opt_res = optimize.minimize(\n",
    "    gen_log_likelihood(point_xs, point_ys),\n",
    "    guess,\n",
    "    options={\"disp\": True}\n",
    ")\n",
    "opt_res"
   ]
  },
  {
   "cell_type": "markdown",
   "id": "33e74e0a-d4f5-47c8-9399-00dba8efb7ee",
   "metadata": {},
   "source": [
    "## Better circle fitting algos\n",
    "[paper](https://people.cas.uab.edu/~mosya/papers/cl1.pdf)"
   ]
  },
  {
   "cell_type": "code",
   "execution_count": null,
   "id": "4239f0c2-cae7-406d-b2b0-bad65f0f44a2",
   "metadata": {},
   "outputs": [],
   "source": []
  }
 ],
 "metadata": {
  "kernelspec": {
   "display_name": "Python 3 (ipykernel)",
   "language": "python",
   "name": "python3"
  },
  "language_info": {
   "codemirror_mode": {
    "name": "ipython",
    "version": 3
   },
   "file_extension": ".py",
   "mimetype": "text/x-python",
   "name": "python",
   "nbconvert_exporter": "python",
   "pygments_lexer": "ipython3",
   "version": "3.9.7"
  }
 },
 "nbformat": 4,
 "nbformat_minor": 5
}
